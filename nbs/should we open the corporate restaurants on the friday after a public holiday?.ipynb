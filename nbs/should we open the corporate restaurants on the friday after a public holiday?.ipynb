{
 "cells": [
  {
   "cell_type": "markdown",
   "id": "5df18cab",
   "metadata": {},
   "source": [
    "# Should we open the corporate restaurant the Friday after a public holiday?"
   ]
  },
  {
   "cell_type": "code",
   "execution_count": null,
   "id": "38d39982",
   "metadata": {},
   "outputs": [],
   "source": [
    "import foodcosts.core as core\n",
    "import pandas as pd"
   ]
  },
  {
   "cell_type": "code",
   "execution_count": null,
   "id": "4efc91f6",
   "metadata": {},
   "outputs": [
    {
     "name": "stdout",
     "output_type": "stream",
     "text": [
      "config.ini file available... using that\n"
     ]
    }
   ],
   "source": [
    "restos = core.get_corporate_restaurants()"
   ]
  },
  {
   "cell_type": "code",
   "execution_count": null,
   "id": "840663d8",
   "metadata": {},
   "outputs": [
    {
     "name": "stdout",
     "output_type": "stream",
     "text": [
      "config.ini file available... using that\n",
      "config.ini file available... using that\n",
      "config.ini file available... using that\n",
      "config.ini file available... using that\n",
      "config.ini file available... using that\n",
      "config.ini file available... using that\n",
      "config.ini file available... using that\n",
      "config.ini file available... using that\n",
      "config.ini file available... using that\n",
      "config.ini file available... using that\n",
      "config.ini file available... using that\n",
      "config.ini file available... using that\n",
      "config.ini file available... using that\n",
      "config.ini file available... using that\n",
      "config.ini file available... using that\n",
      "config.ini file available... using that\n",
      "config.ini file available... using that\n"
     ]
    }
   ],
   "source": [
    "sales_all_restos_2022 = { resto : core.get_sales_for_period_for_corporate_restaurant_per_day('2022-05-27','2022-05-28',resto) for resto in restos }\n",
    "# for resto in restos:\n",
    "#     friday_2022_after = core.get_sales_for_period_for_corporate_restaurant_per_day('2022-05-27','2022-05-28',resto)"
   ]
  },
  {
   "cell_type": "code",
   "execution_count": null,
   "id": "86971bfb",
   "metadata": {},
   "outputs": [
    {
     "name": "stdout",
     "output_type": "stream",
     "text": [
      "            shop_name         day  total_sales\n",
      "0  R.E. ALLEN & OVERY  2022-05-27      106.858\n",
      "             shop_name         day  total_sales\n",
      "0  R.E. LHOIST CORBAIS  2022-05-27        39.05\n",
      "             shop_name         day  total_sales\n",
      "0  R.E LHOIST NIVELLES  2022-05-27        37.26\n",
      "              shop_name         day  total_sales\n",
      "0  R.E LHOIST LIMELETTE  2022-05-27         54.8\n"
     ]
    }
   ],
   "source": [
    "for resto in restos:\n",
    "    if len(sales_all_restos_2022[resto].index) != 0:\n",
    "        print(sales_all_restos_2022[resto])"
   ]
  },
  {
   "cell_type": "code",
   "execution_count": null,
   "id": "4bf963a8",
   "metadata": {},
   "outputs": [],
   "source": []
  },
  {
   "cell_type": "code",
   "execution_count": null,
   "id": "9c51e43c",
   "metadata": {},
   "outputs": [],
   "source": []
  },
  {
   "cell_type": "code",
   "execution_count": null,
   "id": "9eff144b",
   "metadata": {},
   "outputs": [],
   "source": []
  }
 ],
 "metadata": {
  "kernelspec": {
   "display_name": "python3",
   "language": "python",
   "name": "python3"
  }
 },
 "nbformat": 4,
 "nbformat_minor": 5
}
