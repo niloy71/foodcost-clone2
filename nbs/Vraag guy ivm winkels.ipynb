{
 "cells": [
  {
   "cell_type": "code",
   "execution_count": null,
   "id": "3a11b912",
   "metadata": {},
   "outputs": [],
   "source": [
    "import sys\n",
    "sys.path.append(\"..\")\n",
    "import foodcosts.core as core\n",
    "import requests\n",
    "import json\n",
    "import calendar\n",
    "import pandas as pd\n",
    "from datetime import date"
   ]
  },
  {
   "cell_type": "code",
   "execution_count": null,
   "id": "074ce41b",
   "metadata": {},
   "outputs": [],
   "source": [
    "# fetch hours worked for a shop\n",
    "# use the API formation.fthek.be/api/hours_worked with body\n",
    "# {\n",
    "#\t\"warehouse_id\": 2,\n",
    "#\t\"yyyy_mm_dd\": \"2023-03-15\"\n",
    "# }\n",
    "def get_hours_worked_for_a_shop_for_a_day(warehouse_id, yyyy_mm_dd):\n",
    "    url = \"https://formation.fthek.be/api/v2/hours_worked/period\"\n",
    "    body = {\n",
    "        \"warehouse_id\": warehouse_id,\n",
    "        \"start_yyyy_mm_dd\": yyyy_mm_dd,\n",
    "        \"end_yyyy_mm_dd\": yyyy_mm_dd,\n",
    "    }\n",
    "    response = requests.get(url, json=body)\n",
    "    print(response.status_code)\n",
    "    if response.status_code == 200:\n",
    "        return response.json()\n",
    "    else:\n",
    "        return None\n",
    "\n",
    "def get_hours_worked_for_a_shop_for_a_month_per_employee(warehouse_id, yyyy_mm):\n",
    "    prod = 'https://formation.fthek.be'\n",
    "    test = 'http://localhost:3000'\n",
    "    url = prod + \"/api/v2/hours_worked/period\"\n",
    "    start_yyyy_mm_dd = yyyy_mm + '-01';\n",
    "    end_yyyy_mm_dd = yyyy_mm + '-' + str(calendar.monthrange(int(yyyy_mm[:4]), int(yyyy_mm[5:]))[1])\n",
    "    body = {\n",
    "        \"warehouse_id\": warehouse_id,\n",
    "        \"start_yyyy_mm_dd\": start_yyyy_mm_dd,\n",
    "        \"end_yyyy_mm_dd\": end_yyyy_mm_dd\n",
    "    }\n",
    "    response = requests.get(url, json=body)\n",
    "    print(response.status_code)\n",
    "    print(response.text)\n",
    "    if response.status_code == 200:\n",
    "        return response.json()\n",
    "    else:\n",
    "        return None"
   ]
  },
  {
   "cell_type": "code",
   "execution_count": null,
   "id": "224cae60",
   "metadata": {},
   "outputs": [
    {
     "name": "stdout",
     "output_type": "stream",
     "text": [
      "config.ini file available... using that\n",
      "200\n",
      "[{'hoursWorked': 10.5, 'employee': 'Kevin BETTE', 'date': '2023-03-15T23:00:00.000Z', 'warehouseId': 2}, {'hoursWorked': 3.716666666666667, 'employee': 'Léa VAN DEN HOUTE', 'date': '2023-03-15T23:00:00.000Z', 'warehouseId': 2}]\n"
     ]
    }
   ],
   "source": [
    "# call the API for a shop and a day\n",
    "# return the hours worked\n",
    "answer = get_hours_worked_for_a_shop_for_a_day(core.get_shop_id('La Hulpe'), \"2023-03-15\")\n",
    "print(answer)"
   ]
  },
  {
   "cell_type": "code",
   "execution_count": null,
   "id": "60fc38af",
   "metadata": {},
   "outputs": [],
   "source": [
    "# sums the hours worked for a shop\n",
    "# input: [{'hours': 10.5, 'name': 'Kevin BETTE ', 'id': 2628104}, {'hours': 6.466666666666667, 'name': 'Massimo OLIVO ', 'id': 2786566}]\n",
    "\n",
    "def sum_hours_worked_for_a_shop_and_day(warehouse_id, yyyy_mm_dd):\n",
    "    hours_worked = get_hours_worked_for_a_shop_for_a_day(warehouse_id, yyyy_mm_dd)\n",
    "    if hours_worked is None:\n",
    "        return 0\n",
    "    else:\n",
    "        return sum([h['hoursWorked'] for h in hours_worked])"
   ]
  },
  {
   "cell_type": "code",
   "execution_count": null,
   "id": "4f7f6363",
   "metadata": {},
   "outputs": [
    {
     "name": "stdout",
     "output_type": "stream",
     "text": [
      "config.ini file available... using that\n",
      "200\n"
     ]
    },
    {
     "data": {
      "text/plain": [
       "26.566666666666663"
      ]
     },
     "execution_count": null,
     "metadata": {},
     "output_type": "execute_result"
    }
   ],
   "source": [
    "# example\n",
    "sum_hours_worked_for_a_shop_and_day(core.get_shop_id('Woluwe'), \"2023-03-15\")"
   ]
  },
  {
   "cell_type": "code",
   "execution_count": null,
   "id": "31bfb26d",
   "metadata": {},
   "outputs": [
    {
     "data": {
      "text/plain": [
       "['2023-03-01',\n",
       " '2023-03-02',\n",
       " '2023-03-03',\n",
       " '2023-03-04',\n",
       " '2023-03-05',\n",
       " '2023-03-06',\n",
       " '2023-03-07',\n",
       " '2023-03-08',\n",
       " '2023-03-09',\n",
       " '2023-03-10',\n",
       " '2023-03-11',\n",
       " '2023-03-12',\n",
       " '2023-03-13',\n",
       " '2023-03-14',\n",
       " '2023-03-15']"
      ]
     },
     "execution_count": null,
     "metadata": {},
     "output_type": "execute_result"
    }
   ],
   "source": [
    "# returns a list of days in format yyyy-mm-dd for a given month\n",
    "# input: 2023-03\n",
    "def get_days_in_month(yyyy_mm):\n",
    "    # Split the input string into year and month\n",
    "    year, month = map(int, yyyy_mm.split('-'))\n",
    "\n",
    "    # Get the number of days in the given month and year\n",
    "    num_days = calendar.monthrange(year, month)[1]\n",
    "\n",
    "    # Generate a list of days in the given month and year\n",
    "    days = [date(year, month, day).strftime(\"%Y-%m-%d\") for day in range(1, num_days + 1)]\n",
    "\n",
    "    return days\n",
    "\n",
    "# returns the list of strings (format YYYY-MM-DD) in a period (start and end dates included)\n",
    "# start and end are in format YYYY-MM-DD\n",
    "def get_days_in_period(start,end):\n",
    "    start = date.fromisoformat(start)\n",
    "    end = date.fromisoformat(end)\n",
    "    delta = end - start\n",
    "    dates = [start + pd.DateOffset(days=i) for i in range(delta.days + 1)]\n",
    "    return [d.strftime(\"%Y-%m-%d\") for d in dates]\n",
    "\n",
    "#example\n",
    "get_days_in_period(\"2023-03-01\", \"2023-03-15\")"
   ]
  },
  {
   "cell_type": "code",
   "execution_count": null,
   "id": "329c892d",
   "metadata": {},
   "outputs": [],
   "source": [
    "# returns the total hours worked for a shop in a given month\n",
    "# input: 2023-03\n",
    "def get_hours_worked_for_a_shop_in_a_month(warehouse_id, yyyy_mm):\n",
    "    hours_worked = get_hours_worked_for_a_shop_for_a_month_per_employee(warehouse_id, yyyy_mm)\n",
    "    if hours_worked is None:\n",
    "        return 0\n",
    "    return sum([e['hoursWorked'] for e in hours_worked])\n",
    "\n",
    "def get_hours_worked_for_a_shop_in_a_period(warehouse_id, start, end):\n",
    "    hours_worked = get_hours_worked_for_a_shop_in_a_period(warehouse_id, start, end)\n",
    "    return sum([e['hoursWorked'] for e in hours_worked])"
   ]
  },
  {
   "cell_type": "code",
   "execution_count": null,
   "id": "4f61c9cf",
   "metadata": {},
   "outputs": [
    {
     "name": "stdout",
     "output_type": "stream",
     "text": [
      "config.ini file available... using that\n",
      "200\n",
      "[{\"hoursWorked\":7.55,\"employee\":\"Diana ARBELAEZ CORREA\",\"date\":\"2023-03-01T23:00:00.000Z\",\"warehouseId\":4},{\"hoursWorked\":8.033333333333333,\"employee\":\"Diana ARBELAEZ CORREA\",\"date\":\"2023-03-02T23:00:00.000Z\",\"warehouseId\":4},{\"hoursWorked\":0.3333333333333333,\"employee\":\"Diana ARBELAEZ CORREA\",\"date\":\"2023-03-03T23:00:00.000Z\",\"warehouseId\":4},{\"hoursWorked\":7.5,\"employee\":\"Diana ARBELAEZ CORREA\",\"date\":\"2023-03-05T23:00:00.000Z\",\"warehouseId\":4},{\"hoursWorked\":7.433333333333334,\"employee\":\"Diana ARBELAEZ CORREA\",\"date\":\"2023-03-06T23:00:00.000Z\",\"warehouseId\":4},{\"hoursWorked\":7.5,\"employee\":\"Diana ARBELAEZ CORREA\",\"date\":\"2023-03-07T23:00:00.000Z\",\"warehouseId\":4},{\"hoursWorked\":7.5,\"employee\":\"Diana ARBELAEZ CORREA\",\"date\":\"2023-03-08T23:00:00.000Z\",\"warehouseId\":4},{\"hoursWorked\":9.033333333333333,\"employee\":\"Diana ARBELAEZ CORREA\",\"date\":\"2023-03-09T23:00:00.000Z\",\"warehouseId\":4},{\"hoursWorked\":0.3333333333333333,\"employee\":\"Diana ARBELAEZ CORREA\",\"date\":\"2023-03-10T23:00:00.000Z\",\"warehouseId\":4},{\"hoursWorked\":7.683333333333334,\"employee\":\"Diana ARBELAEZ CORREA\",\"date\":\"2023-03-15T23:00:00.000Z\",\"warehouseId\":4},{\"hoursWorked\":9.133333333333333,\"employee\":\"Diana ARBELAEZ CORREA\",\"date\":\"2023-03-16T23:00:00.000Z\",\"warehouseId\":4},{\"hoursWorked\":0.3333333333333333,\"employee\":\"Diana ARBELAEZ CORREA\",\"date\":\"2023-03-17T23:00:00.000Z\",\"warehouseId\":4},{\"hoursWorked\":7.516666666666667,\"employee\":\"Diana ARBELAEZ CORREA\",\"date\":\"2023-03-19T23:00:00.000Z\",\"warehouseId\":4},{\"hoursWorked\":7.6,\"employee\":\"Diana ARBELAEZ CORREA\",\"date\":\"2023-03-20T23:00:00.000Z\",\"warehouseId\":4},{\"hoursWorked\":7.566666666666666,\"employee\":\"Diana ARBELAEZ CORREA\",\"date\":\"2023-03-21T23:00:00.000Z\",\"warehouseId\":4},{\"hoursWorked\":7.55,\"employee\":\"Diana ARBELAEZ CORREA\",\"date\":\"2023-03-22T23:00:00.000Z\",\"warehouseId\":4},{\"hoursWorked\":9.033333333333333,\"employee\":\"Diana ARBELAEZ CORREA\",\"date\":\"2023-03-23T23:00:00.000Z\",\"warehouseId\":4},{\"hoursWorked\":0.3333333333333333,\"employee\":\"Diana ARBELAEZ CORREA\",\"date\":\"2023-03-24T23:00:00.000Z\",\"warehouseId\":4},{\"hoursWorked\":7.633333333333334,\"employee\":\"Diana ARBELAEZ CORREA\",\"date\":\"2023-03-26T22:00:00.000Z\",\"warehouseId\":4},{\"hoursWorked\":7.616666666666666,\"employee\":\"Diana ARBELAEZ CORREA\",\"date\":\"2023-03-27T22:00:00.000Z\",\"warehouseId\":4},{\"hoursWorked\":7.666666666666667,\"employee\":\"Diana ARBELAEZ CORREA\",\"date\":\"2023-03-28T22:00:00.000Z\",\"warehouseId\":4},{\"hoursWorked\":7.533333333333333,\"employee\":\"Diana ARBELAEZ CORREA\",\"date\":\"2023-03-29T22:00:00.000Z\",\"warehouseId\":4},{\"hoursWorked\":9.2,\"employee\":\"Diana ARBELAEZ CORREA\",\"date\":\"2023-03-30T22:00:00.000Z\",\"warehouseId\":4},{\"hoursWorked\":7.766666666666667,\"employee\":\"Nadine DEBROUX\",\"date\":\"2023-03-01T23:00:00.000Z\",\"warehouseId\":4},{\"hoursWorked\":10.16666666666667,\"employee\":\"Nadine DEBROUX\",\"date\":\"2023-03-02T23:00:00.000Z\",\"warehouseId\":4},{\"hoursWorked\":10.1,\"employee\":\"Nadine DEBROUX\",\"date\":\"2023-03-05T23:00:00.000Z\",\"warehouseId\":4},{\"hoursWorked\":7.716666666666667,\"employee\":\"Nadine DEBROUX\",\"date\":\"2023-03-06T23:00:00.000Z\",\"warehouseId\":4},{\"hoursWorked\":9.75,\"employee\":\"Nadine DEBROUX\",\"date\":\"2023-03-07T23:00:00.000Z\",\"warehouseId\":4},{\"hoursWorked\":8.116666666666667,\"employee\":\"Nadine DEBROUX\",\"date\":\"2023-03-08T23:00:00.000Z\",\"warehouseId\":4},{\"hoursWorked\":10.4,\"employee\":\"Nadine DEBROUX\",\"date\":\"2023-03-09T23:00:00.000Z\",\"warehouseId\":4},{\"hoursWorked\":10.31666666666667,\"employee\":\"Nadine DEBROUX\",\"date\":\"2023-03-12T23:00:00.000Z\",\"warehouseId\":4},{\"hoursWorked\":9.95,\"employee\":\"Nadine DEBROUX\",\"date\":\"2023-03-13T23:00:00.000Z\",\"warehouseId\":4},{\"hoursWorked\":10.25,\"employee\":\"Nadine DEBROUX\",\"date\":\"2023-03-14T23:00:00.000Z\",\"warehouseId\":4},{\"hoursWorked\":7.7,\"employee\":\"Nadine DEBROUX\",\"date\":\"2023-03-15T23:00:00.000Z\",\"warehouseId\":4},{\"hoursWorked\":10.2,\"employee\":\"Nadine DEBROUX\",\"date\":\"2023-03-16T23:00:00.000Z\",\"warehouseId\":4},{\"hoursWorked\":10.08333333333333,\"employee\":\"Nadine DEBROUX\",\"date\":\"2023-03-19T23:00:00.000Z\",\"warehouseId\":4},{\"hoursWorked\":7.633333333333334,\"employee\":\"Nadine DEBROUX\",\"date\":\"2023-03-20T23:00:00.000Z\",\"warehouseId\":4},{\"hoursWorked\":10.15,\"employee\":\"Nadine DEBROUX\",\"date\":\"2023-03-21T23:00:00.000Z\",\"warehouseId\":4},{\"hoursWorked\":7.933333333333334,\"employee\":\"Nadine DEBROUX\",\"date\":\"2023-03-22T23:00:00.000Z\",\"warehouseId\":4},{\"hoursWorked\":10.23333333333333,\"employee\":\"Nadine DEBROUX\",\"date\":\"2023-03-23T23:00:00.000Z\",\"warehouseId\":4},{\"hoursWorked\":10.13333333333333,\"employee\":\"Nadine DEBROUX\",\"date\":\"2023-03-26T22:00:00.000Z\",\"warehouseId\":4},{\"hoursWorked\":7.55,\"employee\":\"Nadine DEBROUX\",\"date\":\"2023-03-27T22:00:00.000Z\",\"warehouseId\":4},{\"hoursWorked\":10.35,\"employee\":\"Nadine DEBROUX\",\"date\":\"2023-03-28T22:00:00.000Z\",\"warehouseId\":4},{\"hoursWorked\":7.583333333333333,\"employee\":\"Nadine DEBROUX\",\"date\":\"2023-03-29T22:00:00.000Z\",\"warehouseId\":4},{\"hoursWorked\":10.16666666666667,\"employee\":\"Nadine DEBROUX\",\"date\":\"2023-03-30T22:00:00.000Z\",\"warehouseId\":4},{\"hoursWorked\":2,\"employee\":\"Anne LIPPENS\",\"date\":\"2023-03-01T23:00:00.000Z\",\"warehouseId\":4},{\"hoursWorked\":0.75,\"employee\":\"Anne LIPPENS\",\"date\":\"2023-03-08T23:00:00.000Z\",\"warehouseId\":4},{\"hoursWorked\":10.53333333333333,\"employee\":\"Anne LIPPENS\",\"date\":\"2023-03-10T23:00:00.000Z\",\"warehouseId\":4},{\"hoursWorked\":10.55,\"employee\":\"Anne LIPPENS\",\"date\":\"2023-03-11T23:00:00.000Z\",\"warehouseId\":4},{\"hoursWorked\":11.36666666666667,\"employee\":\"Anne LIPPENS\",\"date\":\"2023-03-12T23:00:00.000Z\",\"warehouseId\":4},{\"hoursWorked\":10.46666666666667,\"employee\":\"Anne LIPPENS\",\"date\":\"2023-03-23T23:00:00.000Z\",\"warehouseId\":4},{\"hoursWorked\":10.4,\"employee\":\"Anne LIPPENS\",\"date\":\"2023-03-24T23:00:00.000Z\",\"warehouseId\":4},{\"hoursWorked\":10.18333333333333,\"employee\":\"Anne LIPPENS\",\"date\":\"2023-03-25T23:00:00.000Z\",\"warehouseId\":4},{\"hoursWorked\":10.4,\"employee\":\"Anne LIPPENS\",\"date\":\"2023-03-26T22:00:00.000Z\",\"warehouseId\":4},{\"hoursWorked\":1.25,\"employee\":\"Anne LIPPENS\",\"date\":\"2023-03-29T22:00:00.000Z\",\"warehouseId\":4},{\"hoursWorked\":10.15,\"employee\":\"Myriam VANDERHAEGEN\",\"date\":\"2023-03-03T23:00:00.000Z\",\"warehouseId\":4},{\"hoursWorked\":3.833333333333333,\"employee\":\"Myriam VANDERHAEGEN\",\"date\":\"2023-03-04T23:00:00.000Z\",\"warehouseId\":4},{\"hoursWorked\":5.066666666666666,\"employee\":\"Myriam VANDERHAEGEN\",\"date\":\"2023-03-05T23:00:00.000Z\",\"warehouseId\":4},{\"hoursWorked\":5.383333333333334,\"employee\":\"Myriam VANDERHAEGEN\",\"date\":\"2023-03-08T23:00:00.000Z\",\"warehouseId\":4},{\"hoursWorked\":5.15,\"employee\":\"Myriam VANDERHAEGEN\",\"date\":\"2023-03-15T23:00:00.000Z\",\"warehouseId\":4},{\"hoursWorked\":10.41666666666667,\"employee\":\"Myriam VANDERHAEGEN\",\"date\":\"2023-03-17T23:00:00.000Z\",\"warehouseId\":4},{\"hoursWorked\":5.35,\"employee\":\"Myriam VANDERHAEGEN\",\"date\":\"2023-03-18T23:00:00.000Z\",\"warehouseId\":4},{\"hoursWorked\":5.6,\"employee\":\"Myriam VANDERHAEGEN\",\"date\":\"2023-03-19T23:00:00.000Z\",\"warehouseId\":4},{\"hoursWorked\":10.15,\"employee\":\"Myriam VANDERHAEGEN\",\"date\":\"2023-03-21T23:00:00.000Z\",\"warehouseId\":4},{\"hoursWorked\":10.18333333333333,\"employee\":\"Myriam VANDERHAEGEN\",\"date\":\"2023-03-22T23:00:00.000Z\",\"warehouseId\":4},{\"hoursWorked\":6.133333333333334,\"employee\":\"Myriam VANDERHAEGEN\",\"date\":\"2023-03-29T22:00:00.000Z\",\"warehouseId\":4},{\"hoursWorked\":6.083333333333333,\"employee\":\"Armando APARICIO PEREZ\",\"date\":\"2023-03-01T23:00:00.000Z\",\"warehouseId\":4},{\"hoursWorked\":7.95,\"employee\":\"Armando APARICIO PEREZ\",\"date\":\"2023-03-02T23:00:00.000Z\",\"warehouseId\":4},{\"hoursWorked\":8.216666666666667,\"employee\":\"Armando APARICIO PEREZ\",\"date\":\"2023-03-03T23:00:00.000Z\",\"warehouseId\":4},{\"hoursWorked\":5.166666666666667,\"employee\":\"Armando APARICIO PEREZ\",\"date\":\"2023-03-06T23:00:00.000Z\",\"warehouseId\":4},{\"hoursWorked\":6.133333333333334,\"employee\":\"Armando APARICIO PEREZ\",\"date\":\"2023-03-07T23:00:00.000Z\",\"warehouseId\":4},{\"hoursWorked\":6.316666666666666,\"employee\":\"Armando APARICIO PEREZ\",\"date\":\"2023-03-08T23:00:00.000Z\",\"warehouseId\":4},{\"hoursWorked\":8.1,\"employee\":\"Armando APARICIO PEREZ\",\"date\":\"2023-03-09T23:00:00.000Z\",\"warehouseId\":4},{\"hoursWorked\":6.683333333333334,\"employee\":\"Armando APARICIO PEREZ\",\"date\":\"2023-03-10T23:00:00.000Z\",\"warehouseId\":4},{\"hoursWorked\":5.333333333333333,\"employee\":\"Armando APARICIO PEREZ\",\"date\":\"2023-03-13T23:00:00.000Z\",\"warehouseId\":4},{\"hoursWorked\":6.316666666666666,\"employee\":\"Armando APARICIO PEREZ\",\"date\":\"2023-03-14T23:00:00.000Z\",\"warehouseId\":4},{\"hoursWorked\":6.033333333333333,\"employee\":\"Armando APARICIO PEREZ\",\"date\":\"2023-03-15T23:00:00.000Z\",\"warehouseId\":4},{\"hoursWorked\":8.3,\"employee\":\"Armando APARICIO PEREZ\",\"date\":\"2023-03-16T23:00:00.000Z\",\"warehouseId\":4},{\"hoursWorked\":8.083333333333334,\"employee\":\"Armando APARICIO PEREZ\",\"date\":\"2023-03-17T23:00:00.000Z\",\"warehouseId\":4},{\"hoursWorked\":5.433333333333334,\"employee\":\"Armando APARICIO PEREZ\",\"date\":\"2023-03-20T23:00:00.000Z\",\"warehouseId\":4},{\"hoursWorked\":6.183333333333334,\"employee\":\"Armando APARICIO PEREZ\",\"date\":\"2023-03-21T23:00:00.000Z\",\"warehouseId\":4},{\"hoursWorked\":6.4,\"employee\":\"Armando APARICIO PEREZ\",\"date\":\"2023-03-22T23:00:00.000Z\",\"warehouseId\":4},{\"hoursWorked\":8.35,\"employee\":\"Armando APARICIO PEREZ\",\"date\":\"2023-03-23T23:00:00.000Z\",\"warehouseId\":4},{\"hoursWorked\":5.566666666666666,\"employee\":\"Armando APARICIO PEREZ\",\"date\":\"2023-03-27T22:00:00.000Z\",\"warehouseId\":4},{\"hoursWorked\":6.266666666666667,\"employee\":\"Armando APARICIO PEREZ\",\"date\":\"2023-03-28T22:00:00.000Z\",\"warehouseId\":4},{\"hoursWorked\":6.233333333333333,\"employee\":\"Armando APARICIO PEREZ\",\"date\":\"2023-03-29T22:00:00.000Z\",\"warehouseId\":4},{\"hoursWorked\":8.683333333333334,\"employee\":\"Armando APARICIO PEREZ\",\"date\":\"2023-03-30T22:00:00.000Z\",\"warehouseId\":4},{\"hoursWorked\":8.916666666666666,\"employee\":\"Esther ZHU\",\"date\":\"2023-03-03T23:00:00.000Z\",\"warehouseId\":4},{\"hoursWorked\":6.483333333333333,\"employee\":\"Esther ZHU\",\"date\":\"2023-03-04T23:00:00.000Z\",\"warehouseId\":4},{\"hoursWorked\":9.916666666666666,\"employee\":\"Esther ZHU\",\"date\":\"2023-03-10T23:00:00.000Z\",\"warehouseId\":4},{\"hoursWorked\":10,\"employee\":\"Esther ZHU\",\"date\":\"2023-03-11T23:00:00.000Z\",\"warehouseId\":4},{\"hoursWorked\":9.833333333333334,\"employee\":\"Esther ZHU\",\"date\":\"2023-03-17T23:00:00.000Z\",\"warehouseId\":4},{\"hoursWorked\":5.15,\"employee\":\"Esther ZHU\",\"date\":\"2023-03-18T23:00:00.000Z\",\"warehouseId\":4},{\"hoursWorked\":10.21666666666667,\"employee\":\"Esther ZHU\",\"date\":\"2023-03-24T23:00:00.000Z\",\"warehouseId\":4},{\"hoursWorked\":9.933333333333334,\"employee\":\"Esther ZHU\",\"date\":\"2023-03-25T23:00:00.000Z\",\"warehouseId\":4},{\"hoursWorked\":10.73333333333333,\"employee\":\"Charlotte SNEYERS\",\"date\":\"2023-03-01T23:00:00.000Z\",\"warehouseId\":4},{\"hoursWorked\":10.26666666666667,\"employee\":\"Charlotte SNEYERS\",\"date\":\"2023-03-02T23:00:00.000Z\",\"warehouseId\":4},{\"hoursWorked\":9.866666666666667,\"employee\":\"Charlotte SNEYERS\",\"date\":\"2023-03-06T23:00:00.000Z\",\"warehouseId\":4},{\"hoursWorked\":10.13333333333333,\"employee\":\"Charlotte SNEYERS\",\"date\":\"2023-03-07T23:00:00.000Z\",\"warehouseId\":4},{\"hoursWorked\":8.45,\"employee\":\"Charlotte SNEYERS\",\"date\":\"2023-03-08T23:00:00.000Z\",\"warehouseId\":4},{\"hoursWorked\":10.06666666666667,\"employee\":\"Charlotte SNEYERS\",\"date\":\"2023-03-13T23:00:00.000Z\",\"warehouseId\":4},{\"hoursWorked\":10.41666666666667,\"employee\":\"Charlotte SNEYERS\",\"date\":\"2023-03-14T23:00:00.000Z\",\"warehouseId\":4},{\"hoursWorked\":10.21666666666667,\"employee\":\"Charlotte SNEYERS\",\"date\":\"2023-03-16T23:00:00.000Z\",\"warehouseId\":4},{\"hoursWorked\":10.26666666666667,\"employee\":\"Charlotte SNEYERS\",\"date\":\"2023-03-27T22:00:00.000Z\",\"warehouseId\":4},{\"hoursWorked\":10.5,\"employee\":\"Charlotte SNEYERS\",\"date\":\"2023-03-28T22:00:00.000Z\",\"warehouseId\":4},{\"hoursWorked\":10.85,\"employee\":\"Charlotte SNEYERS\",\"date\":\"2023-03-29T22:00:00.000Z\",\"warehouseId\":4},{\"hoursWorked\":10.25,\"employee\":\"Charlotte SNEYERS\",\"date\":\"2023-03-30T22:00:00.000Z\",\"warehouseId\":4},{\"hoursWorked\":5.15,\"employee\":\"Luca BORGO\",\"date\":\"2023-03-05T23:00:00.000Z\",\"warehouseId\":4},{\"hoursWorked\":10.4,\"employee\":\"Luca BORGO\",\"date\":\"2023-03-09T23:00:00.000Z\",\"warehouseId\":4},{\"hoursWorked\":5.333333333333333,\"employee\":\"Luca BORGO\",\"date\":\"2023-03-19T23:00:00.000Z\",\"warehouseId\":4},{\"hoursWorked\":10.2,\"employee\":\"Luca BORGO\",\"date\":\"2023-03-20T23:00:00.000Z\",\"warehouseId\":4},{\"hoursWorked\":10.65,\"employee\":\"Maxime VANHAMME\",\"date\":\"2023-03-03T23:00:00.000Z\",\"warehouseId\":4},{\"hoursWorked\":10.26666666666667,\"employee\":\"Maxime VANHAMME\",\"date\":\"2023-03-04T23:00:00.000Z\",\"warehouseId\":4},{\"hoursWorked\":10.6,\"employee\":\"Maxime VANHAMME\",\"date\":\"2023-03-17T23:00:00.000Z\",\"warehouseId\":4},{\"hoursWorked\":10.3,\"employee\":\"Maxime VANHAMME\",\"date\":\"2023-03-18T23:00:00.000Z\",\"warehouseId\":4},{\"hoursWorked\":6.733333333333333,\"employee\":\"Ronny BERT\",\"date\":\"2023-03-04T23:00:00.000Z\",\"warehouseId\":4},{\"hoursWorked\":8.2,\"employee\":\"Ronny BERT\",\"date\":\"2023-03-10T23:00:00.000Z\",\"warehouseId\":4},{\"hoursWorked\":7.45,\"employee\":\"Ronny BERT\",\"date\":\"2023-03-11T23:00:00.000Z\",\"warehouseId\":4},{\"hoursWorked\":6.666666666666667,\"employee\":\"Ronny BERT\",\"date\":\"2023-03-18T23:00:00.000Z\",\"warehouseId\":4},{\"hoursWorked\":8.683333333333334,\"employee\":\"Ronny BERT\",\"date\":\"2023-03-24T23:00:00.000Z\",\"warehouseId\":4},{\"hoursWorked\":7.1,\"employee\":\"Ronny BERT\",\"date\":\"2023-03-25T23:00:00.000Z\",\"warehouseId\":4},{\"hoursWorked\":5.916666666666667,\"employee\":\"Guy MAWETE\",\"date\":\"2023-03-11T23:00:00.000Z\",\"warehouseId\":4},{\"hoursWorked\":5.616666666666666,\"employee\":\"Guy MAWETE\",\"date\":\"2023-03-18T23:00:00.000Z\",\"warehouseId\":4},{\"hoursWorked\":5.216666666666667,\"employee\":\"Guy MAWETE\",\"date\":\"2023-03-25T23:00:00.000Z\",\"warehouseId\":4},{\"hoursWorked\":8.133333333333333,\"employee\":\"Kris GALOPPIN\",\"date\":\"2023-03-08T23:00:00.000Z\",\"warehouseId\":4},{\"hoursWorked\":8.216666666666667,\"employee\":\"Kris GALOPPIN\",\"date\":\"2023-03-09T23:00:00.000Z\",\"warehouseId\":4},{\"hoursWorked\":10.25,\"employee\":\"Kris GALOPPIN\",\"date\":\"2023-03-10T23:00:00.000Z\",\"warehouseId\":4},{\"hoursWorked\":7.1,\"employee\":\"Kris GALOPPIN\",\"date\":\"2023-03-11T23:00:00.000Z\",\"warehouseId\":4},{\"hoursWorked\":10.03333333333333,\"employee\":\"Kris GALOPPIN\",\"date\":\"2023-03-12T23:00:00.000Z\",\"warehouseId\":4},{\"hoursWorked\":5.133333333333334,\"employee\":\"Kris GALOPPIN\",\"date\":\"2023-03-13T23:00:00.000Z\",\"warehouseId\":4},{\"hoursWorked\":10.2,\"employee\":\"Kris GALOPPIN\",\"date\":\"2023-03-16T23:00:00.000Z\",\"warehouseId\":4},{\"hoursWorked\":10.25,\"employee\":\"Kris GALOPPIN\",\"date\":\"2023-03-17T23:00:00.000Z\",\"warehouseId\":4},{\"hoursWorked\":8.266666666666667,\"employee\":\"Kris GALOPPIN\",\"date\":\"2023-03-18T23:00:00.000Z\",\"warehouseId\":4},{\"hoursWorked\":10.16666666666667,\"employee\":\"Kris GALOPPIN\",\"date\":\"2023-03-23T23:00:00.000Z\",\"warehouseId\":4},{\"hoursWorked\":10.28333333333333,\"employee\":\"Kris GALOPPIN\",\"date\":\"2023-03-24T23:00:00.000Z\",\"warehouseId\":4},{\"hoursWorked\":7.983333333333333,\"employee\":\"Kris GALOPPIN\",\"date\":\"2023-03-25T23:00:00.000Z\",\"warehouseId\":4},{\"hoursWorked\":10.08333333333333,\"employee\":\"Kris GALOPPIN\",\"date\":\"2023-03-26T22:00:00.000Z\",\"warehouseId\":4},{\"hoursWorked\":10.11666666666667,\"employee\":\"Kris GALOPPIN\",\"date\":\"2023-03-30T22:00:00.000Z\",\"warehouseId\":4}]\n",
      "1106.1833333333332\n"
     ]
    }
   ],
   "source": [
    "# example\n",
    "hours_worked_in_la_hulpe = get_hours_worked_for_a_shop_in_a_month(core.get_shop_id('Woluwe'), \"2023-03\")\n",
    "print(hours_worked_in_la_hulpe)"
   ]
  },
  {
   "cell_type": "code",
   "execution_count": null,
   "id": "d77241be",
   "metadata": {},
   "outputs": [
    {
     "name": "stdout",
     "output_type": "stream",
     "text": [
      "config.ini file available... using that\n"
     ]
    }
   ],
   "source": [
    "la_hulpe = core.get_sales_for_period_for_shop_per_day(\"2023-02-01\", \"2023-02-28\", \"La Hulpe\")"
   ]
  },
  {
   "cell_type": "code",
   "execution_count": null,
   "id": "31f64c61",
   "metadata": {},
   "outputs": [
    {
     "data": {
      "text/plain": [
       "66249.88284"
      ]
     },
     "execution_count": null,
     "metadata": {},
     "output_type": "execute_result"
    }
   ],
   "source": [
    "# sum the total sales for a shop\n",
    "la_hulpe['total_sales'].sum()"
   ]
  },
  {
   "cell_type": "code",
   "execution_count": null,
   "id": "db21a2de",
   "metadata": {},
   "outputs": [
    {
     "name": "stdout",
     "output_type": "stream",
     "text": [
      "config.ini file available... using that\n"
     ]
    },
    {
     "data": {
      "text/plain": [
       "['La Hulpe',\n",
       " 'Fort Jaco',\n",
       " 'Woluwe',\n",
       " 'Tongres',\n",
       " 'Wemmel',\n",
       " 'CHATELAIN',\n",
       " 'OVERIJSE',\n",
       " 'LATEM']"
      ]
     },
     "execution_count": null,
     "metadata": {},
     "output_type": "execute_result"
    }
   ],
   "source": [
    "core.get_shop_names()"
   ]
  },
  {
   "cell_type": "code",
   "execution_count": null,
   "id": "7db7f00c",
   "metadata": {},
   "outputs": [
    {
     "name": "stdout",
     "output_type": "stream",
     "text": [
      "config.ini file available... using that\n",
      "config.ini file available... using that\n"
     ]
    }
   ],
   "source": [
    "foodcosts = core.get_food_costs_for_period_for_shop_per_day(\"2023-02-01\", \"2023-02-28\", \"La Hulpe\")"
   ]
  },
  {
   "cell_type": "code",
   "execution_count": null,
   "id": "98cbc580",
   "metadata": {},
   "outputs": [],
   "source": [
    "foodcosts.index = foodcosts['date']\n",
    "foodcosts = foodcosts.drop('date', axis=1)"
   ]
  },
  {
   "cell_type": "code",
   "execution_count": null,
   "id": "e2af70a3",
   "metadata": {},
   "outputs": [
    {
     "data": {
      "text/html": [
       "<div>\n",
       "<style scoped>\n",
       "    .dataframe tbody tr th:only-of-type {\n",
       "        vertical-align: middle;\n",
       "    }\n",
       "\n",
       "    .dataframe tbody tr th {\n",
       "        vertical-align: top;\n",
       "    }\n",
       "\n",
       "    .dataframe thead th {\n",
       "        text-align: right;\n",
       "    }\n",
       "</style>\n",
       "<table border=\"1\" class=\"dataframe\">\n",
       "  <thead>\n",
       "    <tr style=\"text-align: right;\">\n",
       "      <th></th>\n",
       "      <th>atelier</th>\n",
       "      <th>supplier</th>\n",
       "      <th>total</th>\n",
       "    </tr>\n",
       "    <tr>\n",
       "      <th>date</th>\n",
       "      <th></th>\n",
       "      <th></th>\n",
       "      <th></th>\n",
       "    </tr>\n",
       "  </thead>\n",
       "  <tbody>\n",
       "    <tr>\n",
       "      <th>2023-02-01</th>\n",
       "      <td>521.51</td>\n",
       "      <td>363.44</td>\n",
       "      <td>884.95</td>\n",
       "    </tr>\n",
       "    <tr>\n",
       "      <th>2023-02-02</th>\n",
       "      <td>1019.11</td>\n",
       "      <td>289.97</td>\n",
       "      <td>1309.08</td>\n",
       "    </tr>\n",
       "    <tr>\n",
       "      <th>2023-02-03</th>\n",
       "      <td>1244.03</td>\n",
       "      <td>567.64</td>\n",
       "      <td>1811.67</td>\n",
       "    </tr>\n",
       "    <tr>\n",
       "      <th>2023-02-04</th>\n",
       "      <td>1514.06</td>\n",
       "      <td>0</td>\n",
       "      <td>1514.06</td>\n",
       "    </tr>\n",
       "    <tr>\n",
       "      <th>2023-02-05</th>\n",
       "      <td>1810.74</td>\n",
       "      <td>0</td>\n",
       "      <td>1810.74</td>\n",
       "    </tr>\n",
       "    <tr>\n",
       "      <th>2023-02-06</th>\n",
       "      <td>1034.98</td>\n",
       "      <td>306.07</td>\n",
       "      <td>1341.05</td>\n",
       "    </tr>\n",
       "    <tr>\n",
       "      <th>2023-02-07</th>\n",
       "      <td>1167.42</td>\n",
       "      <td>216.49</td>\n",
       "      <td>1383.91</td>\n",
       "    </tr>\n",
       "    <tr>\n",
       "      <th>2023-02-08</th>\n",
       "      <td>603.62</td>\n",
       "      <td>414.54</td>\n",
       "      <td>1018.16</td>\n",
       "    </tr>\n",
       "    <tr>\n",
       "      <th>2023-02-09</th>\n",
       "      <td>1894.81</td>\n",
       "      <td>303.90</td>\n",
       "      <td>2198.71</td>\n",
       "    </tr>\n",
       "    <tr>\n",
       "      <th>2023-02-10</th>\n",
       "      <td>1057.54</td>\n",
       "      <td>334.20</td>\n",
       "      <td>1391.74</td>\n",
       "    </tr>\n",
       "    <tr>\n",
       "      <th>2023-02-11</th>\n",
       "      <td>814.10</td>\n",
       "      <td>0</td>\n",
       "      <td>814.10</td>\n",
       "    </tr>\n",
       "    <tr>\n",
       "      <th>2023-02-12</th>\n",
       "      <td>2209.62</td>\n",
       "      <td>0</td>\n",
       "      <td>2209.62</td>\n",
       "    </tr>\n",
       "    <tr>\n",
       "      <th>2023-02-13</th>\n",
       "      <td>321.12</td>\n",
       "      <td>975.70</td>\n",
       "      <td>1296.82</td>\n",
       "    </tr>\n",
       "    <tr>\n",
       "      <th>2023-02-14</th>\n",
       "      <td>2011.11</td>\n",
       "      <td>323.37</td>\n",
       "      <td>2334.48</td>\n",
       "    </tr>\n",
       "    <tr>\n",
       "      <th>2023-02-15</th>\n",
       "      <td>630.69</td>\n",
       "      <td>115.03</td>\n",
       "      <td>745.72</td>\n",
       "    </tr>\n",
       "    <tr>\n",
       "      <th>2023-02-16</th>\n",
       "      <td>1332.40</td>\n",
       "      <td>127.52</td>\n",
       "      <td>1459.92</td>\n",
       "    </tr>\n",
       "    <tr>\n",
       "      <th>2023-02-17</th>\n",
       "      <td>1313.14</td>\n",
       "      <td>383.03</td>\n",
       "      <td>1696.17</td>\n",
       "    </tr>\n",
       "    <tr>\n",
       "      <th>2023-02-18</th>\n",
       "      <td>637.55</td>\n",
       "      <td>0</td>\n",
       "      <td>637.55</td>\n",
       "    </tr>\n",
       "    <tr>\n",
       "      <th>2023-02-19</th>\n",
       "      <td>2131.71</td>\n",
       "      <td>100.61</td>\n",
       "      <td>2232.32</td>\n",
       "    </tr>\n",
       "    <tr>\n",
       "      <th>2023-02-20</th>\n",
       "      <td>292.98</td>\n",
       "      <td>291.83</td>\n",
       "      <td>584.81</td>\n",
       "    </tr>\n",
       "    <tr>\n",
       "      <th>2023-02-21</th>\n",
       "      <td>2560.01</td>\n",
       "      <td>411.74</td>\n",
       "      <td>2971.75</td>\n",
       "    </tr>\n",
       "    <tr>\n",
       "      <th>2023-02-22</th>\n",
       "      <td>1048.51</td>\n",
       "      <td>127.56</td>\n",
       "      <td>1176.07</td>\n",
       "    </tr>\n",
       "    <tr>\n",
       "      <th>2023-02-23</th>\n",
       "      <td>1593.92</td>\n",
       "      <td>476.99</td>\n",
       "      <td>2070.91</td>\n",
       "    </tr>\n",
       "    <tr>\n",
       "      <th>2023-02-24</th>\n",
       "      <td>1129.05</td>\n",
       "      <td>279.36</td>\n",
       "      <td>1408.41</td>\n",
       "    </tr>\n",
       "    <tr>\n",
       "      <th>2023-02-25</th>\n",
       "      <td>837.11</td>\n",
       "      <td>0</td>\n",
       "      <td>837.11</td>\n",
       "    </tr>\n",
       "    <tr>\n",
       "      <th>2023-02-26</th>\n",
       "      <td>2181.23</td>\n",
       "      <td>0</td>\n",
       "      <td>2181.23</td>\n",
       "    </tr>\n",
       "    <tr>\n",
       "      <th>2023-02-27</th>\n",
       "      <td>842.36</td>\n",
       "      <td>380.00</td>\n",
       "      <td>1222.36</td>\n",
       "    </tr>\n",
       "    <tr>\n",
       "      <th>2023-02-28</th>\n",
       "      <td>1291.01</td>\n",
       "      <td>0</td>\n",
       "      <td>1291.01</td>\n",
       "    </tr>\n",
       "  </tbody>\n",
       "</table>\n",
       "</div>"
      ],
      "text/plain": [
       "            atelier supplier    total\n",
       "date                                 \n",
       "2023-02-01   521.51   363.44   884.95\n",
       "2023-02-02  1019.11   289.97  1309.08\n",
       "2023-02-03  1244.03   567.64  1811.67\n",
       "2023-02-04  1514.06        0  1514.06\n",
       "2023-02-05  1810.74        0  1810.74\n",
       "2023-02-06  1034.98   306.07  1341.05\n",
       "2023-02-07  1167.42   216.49  1383.91\n",
       "2023-02-08   603.62   414.54  1018.16\n",
       "2023-02-09  1894.81   303.90  2198.71\n",
       "2023-02-10  1057.54   334.20  1391.74\n",
       "2023-02-11   814.10        0   814.10\n",
       "2023-02-12  2209.62        0  2209.62\n",
       "2023-02-13   321.12   975.70  1296.82\n",
       "2023-02-14  2011.11   323.37  2334.48\n",
       "2023-02-15   630.69   115.03   745.72\n",
       "2023-02-16  1332.40   127.52  1459.92\n",
       "2023-02-17  1313.14   383.03  1696.17\n",
       "2023-02-18   637.55        0   637.55\n",
       "2023-02-19  2131.71   100.61  2232.32\n",
       "2023-02-20   292.98   291.83   584.81\n",
       "2023-02-21  2560.01   411.74  2971.75\n",
       "2023-02-22  1048.51   127.56  1176.07\n",
       "2023-02-23  1593.92   476.99  2070.91\n",
       "2023-02-24  1129.05   279.36  1408.41\n",
       "2023-02-25   837.11        0   837.11\n",
       "2023-02-26  2181.23        0  2181.23\n",
       "2023-02-27   842.36   380.00  1222.36\n",
       "2023-02-28  1291.01        0  1291.01"
      ]
     },
     "execution_count": null,
     "metadata": {},
     "output_type": "execute_result"
    }
   ],
   "source": [
    "foodcosts"
   ]
  },
  {
   "cell_type": "code",
   "execution_count": null,
   "id": "6b4be3f6",
   "metadata": {},
   "outputs": [
    {
     "data": {
      "text/plain": [
       "atelier     35045.44\n",
       "supplier     6788.99\n",
       "total       41834.43\n",
       "dtype: object"
      ]
     },
     "execution_count": null,
     "metadata": {},
     "output_type": "execute_result"
    }
   ],
   "source": [
    "foodcosts.sum()"
   ]
  },
  {
   "cell_type": "code",
   "execution_count": null,
   "id": "3f558559",
   "metadata": {},
   "outputs": [
    {
     "name": "stdout",
     "output_type": "stream",
     "text": [
      "config.ini file available... using that\n",
      "config.ini file available... using that\n",
      "200\n",
      "[{\"hoursWorked\":3.683333333333333,\"employee\":\"Khalil BOUMESHED\",\"date\":\"2023-03-01T23:00:00.000Z\",\"warehouseId\":2},{\"hoursWorked\":3.783333333333333,\"employee\":\"Khalil BOUMESHED\",\"date\":\"2023-03-23T23:00:00.000Z\",\"warehouseId\":2},{\"hoursWorked\":10.65,\"employee\":\"Maxime VANHAMME\",\"date\":\"2023-03-02T23:00:00.000Z\",\"warehouseId\":2},{\"hoursWorked\":10.58333333333333,\"employee\":\"Maxime VANHAMME\",\"date\":\"2023-03-09T23:00:00.000Z\",\"warehouseId\":2},{\"hoursWorked\":10.53333333333333,\"employee\":\"Maxime VANHAMME\",\"date\":\"2023-03-10T23:00:00.000Z\",\"warehouseId\":2},{\"hoursWorked\":10.18333333333333,\"employee\":\"Maxime VANHAMME\",\"date\":\"2023-03-11T23:00:00.000Z\",\"warehouseId\":2},{\"hoursWorked\":10.38333333333333,\"employee\":\"Maxime VANHAMME\",\"date\":\"2023-03-16T23:00:00.000Z\",\"warehouseId\":2},{\"hoursWorked\":10.51666666666667,\"employee\":\"Maxime VANHAMME\",\"date\":\"2023-03-23T23:00:00.000Z\",\"warehouseId\":2},{\"hoursWorked\":10.65,\"employee\":\"Maxime VANHAMME\",\"date\":\"2023-03-24T23:00:00.000Z\",\"warehouseId\":2},{\"hoursWorked\":10.18333333333333,\"employee\":\"Maxime VANHAMME\",\"date\":\"2023-03-25T23:00:00.000Z\",\"warehouseId\":2},{\"hoursWorked\":10.18333333333333,\"employee\":\"Kevin BETTE\",\"date\":\"2023-03-03T23:00:00.000Z\",\"warehouseId\":2},{\"hoursWorked\":10.08333333333333,\"employee\":\"Kevin BETTE\",\"date\":\"2023-03-04T23:00:00.000Z\",\"warehouseId\":2},{\"hoursWorked\":10.58333333333333,\"employee\":\"Kevin BETTE\",\"date\":\"2023-03-05T23:00:00.000Z\",\"warehouseId\":2},{\"hoursWorked\":11.03333333333333,\"employee\":\"Kevin BETTE\",\"date\":\"2023-03-06T23:00:00.000Z\",\"warehouseId\":2},{\"hoursWorked\":10.28333333333333,\"employee\":\"Kevin BETTE\",\"date\":\"2023-03-07T23:00:00.000Z\",\"warehouseId\":2},{\"hoursWorked\":6.416666666666667,\"employee\":\"Kevin BETTE\",\"date\":\"2023-03-08T23:00:00.000Z\",\"warehouseId\":2},{\"hoursWorked\":10.53333333333333,\"employee\":\"Kevin BETTE\",\"date\":\"2023-03-13T23:00:00.000Z\",\"warehouseId\":2},{\"hoursWorked\":10.5,\"employee\":\"Kevin BETTE\",\"date\":\"2023-03-14T23:00:00.000Z\",\"warehouseId\":2},{\"hoursWorked\":10.5,\"employee\":\"Kevin BETTE\",\"date\":\"2023-03-15T23:00:00.000Z\",\"warehouseId\":2},{\"hoursWorked\":10.51666666666667,\"employee\":\"Kevin BETTE\",\"date\":\"2023-03-16T23:00:00.000Z\",\"warehouseId\":2},{\"hoursWorked\":10.91666666666667,\"employee\":\"Kevin BETTE\",\"date\":\"2023-03-17T23:00:00.000Z\",\"warehouseId\":2},{\"hoursWorked\":10.78333333333333,\"employee\":\"Kevin BETTE\",\"date\":\"2023-03-19T23:00:00.000Z\",\"warehouseId\":2},{\"hoursWorked\":10.75,\"employee\":\"Kevin BETTE\",\"date\":\"2023-03-20T23:00:00.000Z\",\"warehouseId\":2},{\"hoursWorked\":10.75,\"employee\":\"Kevin BETTE\",\"date\":\"2023-03-21T23:00:00.000Z\",\"warehouseId\":2},{\"hoursWorked\":10.73333333333333,\"employee\":\"Kevin BETTE\",\"date\":\"2023-03-22T23:00:00.000Z\",\"warehouseId\":2},{\"hoursWorked\":10.68333333333333,\"employee\":\"Kevin BETTE\",\"date\":\"2023-03-26T22:00:00.000Z\",\"warehouseId\":2},{\"hoursWorked\":10.53333333333333,\"employee\":\"Kevin BETTE\",\"date\":\"2023-03-27T22:00:00.000Z\",\"warehouseId\":2},{\"hoursWorked\":10.65,\"employee\":\"Kevin BETTE\",\"date\":\"2023-03-28T22:00:00.000Z\",\"warehouseId\":2},{\"hoursWorked\":7,\"employee\":\"Léa VAN DEN HOUTE\",\"date\":\"2023-03-04T23:00:00.000Z\",\"warehouseId\":2},{\"hoursWorked\":10,\"employee\":\"Léa VAN DEN HOUTE\",\"date\":\"2023-03-10T23:00:00.000Z\",\"warehouseId\":2},{\"hoursWorked\":3.716666666666667,\"employee\":\"Léa VAN DEN HOUTE\",\"date\":\"2023-03-15T23:00:00.000Z\",\"warehouseId\":2},{\"hoursWorked\":9.916666666666666,\"employee\":\"Léa VAN DEN HOUTE\",\"date\":\"2023-03-17T23:00:00.000Z\",\"warehouseId\":2},{\"hoursWorked\":4.916666666666667,\"employee\":\"Léa VAN DEN HOUTE\",\"date\":\"2023-03-20T23:00:00.000Z\",\"warehouseId\":2},{\"hoursWorked\":3.95,\"employee\":\"Léa VAN DEN HOUTE\",\"date\":\"2023-03-22T23:00:00.000Z\",\"warehouseId\":2},{\"hoursWorked\":10.01666666666667,\"employee\":\"Léa VAN DEN HOUTE\",\"date\":\"2023-03-24T23:00:00.000Z\",\"warehouseId\":2},{\"hoursWorked\":5.033333333333333,\"employee\":\"Léa VAN DEN HOUTE\",\"date\":\"2023-03-29T22:00:00.000Z\",\"warehouseId\":2},{\"hoursWorked\":10.96666666666667,\"employee\":\"Massimo OLIVO\",\"date\":\"2023-03-01T23:00:00.000Z\",\"warehouseId\":2},{\"hoursWorked\":7.95,\"employee\":\"Massimo OLIVO\",\"date\":\"2023-03-02T23:00:00.000Z\",\"warehouseId\":2},{\"hoursWorked\":7.1,\"employee\":\"Massimo OLIVO\",\"date\":\"2023-03-05T23:00:00.000Z\",\"warehouseId\":2},{\"hoursWorked\":6.25,\"employee\":\"Massimo OLIVO\",\"date\":\"2023-03-06T23:00:00.000Z\",\"warehouseId\":2},{\"hoursWorked\":5.5,\"employee\":\"Massimo OLIVO\",\"date\":\"2023-03-07T23:00:00.000Z\",\"warehouseId\":2},{\"hoursWorked\":10.83333333333333,\"employee\":\"Massimo OLIVO\",\"date\":\"2023-03-08T23:00:00.000Z\",\"warehouseId\":2},{\"hoursWorked\":10.58333333333333,\"employee\":\"Massimo OLIVO\",\"date\":\"2023-03-09T23:00:00.000Z\",\"warehouseId\":2},{\"hoursWorked\":11.38333333333333,\"employee\":\"Massimo OLIVO\",\"date\":\"2023-03-12T23:00:00.000Z\",\"warehouseId\":2},{\"hoursWorked\":6.733333333333333,\"employee\":\"Massimo OLIVO\",\"date\":\"2023-03-13T23:00:00.000Z\",\"warehouseId\":2},{\"hoursWorked\":6.466666666666667,\"employee\":\"Massimo OLIVO\",\"date\":\"2023-03-14T23:00:00.000Z\",\"warehouseId\":2},{\"hoursWorked\":10.75,\"employee\":\"Massimo OLIVO\",\"date\":\"2023-03-18T23:00:00.000Z\",\"warehouseId\":2},{\"hoursWorked\":6.666666666666667,\"employee\":\"Massimo OLIVO\",\"date\":\"2023-03-19T23:00:00.000Z\",\"warehouseId\":2},{\"hoursWorked\":6.433333333333334,\"employee\":\"Massimo OLIVO\",\"date\":\"2023-03-27T22:00:00.000Z\",\"warehouseId\":2},{\"hoursWorked\":7.416666666666667,\"employee\":\"Massimo OLIVO\",\"date\":\"2023-03-28T22:00:00.000Z\",\"warehouseId\":2},{\"hoursWorked\":11.3,\"employee\":\"Massimo OLIVO\",\"date\":\"2023-03-29T22:00:00.000Z\",\"warehouseId\":2},{\"hoursWorked\":10.78333333333333,\"employee\":\"Massimo OLIVO\",\"date\":\"2023-03-30T22:00:00.000Z\",\"warehouseId\":2},{\"hoursWorked\":10.05,\"employee\":\"Annabelle GATHY\",\"date\":\"2023-03-03T23:00:00.000Z\",\"warehouseId\":2},{\"hoursWorked\":10.06666666666667,\"employee\":\"Annabelle GATHY\",\"date\":\"2023-03-11T23:00:00.000Z\",\"warehouseId\":2},{\"hoursWorked\":7.4,\"employee\":\"Annabelle GATHY\",\"date\":\"2023-03-12T23:00:00.000Z\",\"warehouseId\":2},{\"hoursWorked\":10.08333333333333,\"employee\":\"Annabelle GATHY\",\"date\":\"2023-03-18T23:00:00.000Z\",\"warehouseId\":2},{\"hoursWorked\":4.616666666666666,\"employee\":\"Annabelle GATHY\",\"date\":\"2023-03-23T23:00:00.000Z\",\"warehouseId\":2},{\"hoursWorked\":10.13333333333333,\"employee\":\"Annabelle GATHY\",\"date\":\"2023-03-25T23:00:00.000Z\",\"warehouseId\":2},{\"hoursWorked\":6.433333333333334,\"employee\":\"Annabelle GATHY\",\"date\":\"2023-03-26T22:00:00.000Z\",\"warehouseId\":2}]\n",
      "shop La Hulpe gross margins:\n",
      "{'total_hours': 528.0333333333332}\n",
      "config.ini file available... using that\n",
      "200\n",
      "[{\"hoursWorked\":9.85,\"employee\":\"Armel KANDJEU\",\"date\":\"2023-03-23T23:00:00.000Z\",\"warehouseId\":3},{\"hoursWorked\":9.85,\"employee\":\"Armel KANDJEU\",\"date\":\"2023-03-24T23:00:00.000Z\",\"warehouseId\":3},{\"hoursWorked\":10.21666666666667,\"employee\":\"Khalil BOUMESHED\",\"date\":\"2023-03-09T23:00:00.000Z\",\"warehouseId\":3},{\"hoursWorked\":10.05,\"employee\":\"Khalil BOUMESHED\",\"date\":\"2023-03-19T23:00:00.000Z\",\"warehouseId\":3},{\"hoursWorked\":10.13333333333333,\"employee\":\"Luca BORGO\",\"date\":\"2023-03-08T23:00:00.000Z\",\"warehouseId\":3},{\"hoursWorked\":10.16666666666667,\"employee\":\"Luca BORGO\",\"date\":\"2023-03-10T23:00:00.000Z\",\"warehouseId\":3},{\"hoursWorked\":5.3,\"employee\":\"Luca BORGO\",\"date\":\"2023-03-11T23:00:00.000Z\",\"warehouseId\":3},{\"hoursWorked\":5.3,\"employee\":\"Luca BORGO\",\"date\":\"2023-03-18T23:00:00.000Z\",\"warehouseId\":3},{\"hoursWorked\":9.25,\"employee\":\"Luca BORGO\",\"date\":\"2023-03-24T23:00:00.000Z\",\"warehouseId\":3},{\"hoursWorked\":5.25,\"employee\":\"Luca BORGO\",\"date\":\"2023-03-25T23:00:00.000Z\",\"warehouseId\":3},{\"hoursWorked\":9.916666666666666,\"employee\":\"Luca BORGO\",\"date\":\"2023-03-26T22:00:00.000Z\",\"warehouseId\":3},{\"hoursWorked\":10.16666666666667,\"employee\":\"Vincenzo LO GATTO\",\"date\":\"2023-03-02T23:00:00.000Z\",\"warehouseId\":3},{\"hoursWorked\":10.16666666666667,\"employee\":\"Vincenzo LO GATTO\",\"date\":\"2023-03-05T23:00:00.000Z\",\"warehouseId\":3},{\"hoursWorked\":10.16666666666667,\"employee\":\"Vincenzo LO GATTO\",\"date\":\"2023-03-06T23:00:00.000Z\",\"warehouseId\":3},{\"hoursWorked\":10.08333333333333,\"employee\":\"Vincenzo LO GATTO\",\"date\":\"2023-03-10T23:00:00.000Z\",\"warehouseId\":3},{\"hoursWorked\":5.266666666666667,\"employee\":\"Vincenzo LO GATTO\",\"date\":\"2023-03-11T23:00:00.000Z\",\"warehouseId\":3},{\"hoursWorked\":10.16666666666667,\"employee\":\"Vincenzo LO GATTO\",\"date\":\"2023-03-12T23:00:00.000Z\",\"warehouseId\":3},{\"hoursWorked\":10.33333333333333,\"employee\":\"Vincenzo LO GATTO\",\"date\":\"2023-03-13T23:00:00.000Z\",\"warehouseId\":3},{\"hoursWorked\":10.08333333333333,\"employee\":\"Vincenzo LO GATTO\",\"date\":\"2023-03-16T23:00:00.000Z\",\"warehouseId\":3},{\"hoursWorked\":10.16666666666667,\"employee\":\"Vincenzo LO GATTO\",\"date\":\"2023-03-24T23:00:00.000Z\",\"warehouseId\":3},{\"hoursWorked\":5.25,\"employee\":\"Vincenzo LO GATTO\",\"date\":\"2023-03-25T23:00:00.000Z\",\"warehouseId\":3},{\"hoursWorked\":10.16666666666667,\"employee\":\"Vincenzo LO GATTO\",\"date\":\"2023-03-26T22:00:00.000Z\",\"warehouseId\":3},{\"hoursWorked\":10,\"employee\":\"Vincenzo LO GATTO\",\"date\":\"2023-03-27T22:00:00.000Z\",\"warehouseId\":3},{\"hoursWorked\":10.08333333333333,\"employee\":\"Vincenzo LO GATTO\",\"date\":\"2023-03-30T22:00:00.000Z\",\"warehouseId\":3},{\"hoursWorked\":10.41666666666667,\"employee\":\"Savina RAJANAH\",\"date\":\"2023-03-01T23:00:00.000Z\",\"warehouseId\":3},{\"hoursWorked\":7,\"employee\":\"Savina RAJANAH\",\"date\":\"2023-03-06T23:00:00.000Z\",\"warehouseId\":3},{\"hoursWorked\":7.116666666666666,\"employee\":\"Savina RAJANAH\",\"date\":\"2023-03-07T23:00:00.000Z\",\"warehouseId\":3},{\"hoursWorked\":9.75,\"employee\":\"Savina RAJANAH\",\"date\":\"2023-03-08T23:00:00.000Z\",\"warehouseId\":3},{\"hoursWorked\":9,\"employee\":\"Savina RAJANAH\",\"date\":\"2023-03-10T23:00:00.000Z\",\"warehouseId\":3},{\"hoursWorked\":5.35,\"employee\":\"Savina RAJANAH\",\"date\":\"2023-03-11T23:00:00.000Z\",\"warehouseId\":3},{\"hoursWorked\":7.066666666666666,\"employee\":\"Savina RAJANAH\",\"date\":\"2023-03-13T23:00:00.000Z\",\"warehouseId\":3},{\"hoursWorked\":7.083333333333333,\"employee\":\"Savina RAJANAH\",\"date\":\"2023-03-14T23:00:00.000Z\",\"warehouseId\":3},{\"hoursWorked\":10.08333333333333,\"employee\":\"Savina RAJANAH\",\"date\":\"2023-03-15T23:00:00.000Z\",\"warehouseId\":3},{\"hoursWorked\":10.15,\"employee\":\"Savina RAJANAH\",\"date\":\"2023-03-17T23:00:00.000Z\",\"warehouseId\":3},{\"hoursWorked\":10.46666666666667,\"employee\":\"Savina RAJANAH\",\"date\":\"2023-03-20T23:00:00.000Z\",\"warehouseId\":3},{\"hoursWorked\":5.616666666666666,\"employee\":\"Savina RAJANAH\",\"date\":\"2023-03-21T23:00:00.000Z\",\"warehouseId\":3},{\"hoursWorked\":10.26666666666667,\"employee\":\"Savina RAJANAH\",\"date\":\"2023-03-22T23:00:00.000Z\",\"warehouseId\":3},{\"hoursWorked\":10.16666666666667,\"employee\":\"Savina RAJANAH\",\"date\":\"2023-03-24T23:00:00.000Z\",\"warehouseId\":3},{\"hoursWorked\":5.25,\"employee\":\"Savina RAJANAH\",\"date\":\"2023-03-25T23:00:00.000Z\",\"warehouseId\":3},{\"hoursWorked\":10,\"employee\":\"Savina RAJANAH\",\"date\":\"2023-03-27T22:00:00.000Z\",\"warehouseId\":3},{\"hoursWorked\":10.45,\"employee\":\"Savina RAJANAH\",\"date\":\"2023-03-28T22:00:00.000Z\",\"warehouseId\":3},{\"hoursWorked\":10.18333333333333,\"employee\":\"Savina RAJANAH\",\"date\":\"2023-03-29T22:00:00.000Z\",\"warehouseId\":3},{\"hoursWorked\":10.21666666666667,\"employee\":\"Maximilien MICHIELS\",\"date\":\"2023-03-02T23:00:00.000Z\",\"warehouseId\":3},{\"hoursWorked\":10.41666666666667,\"employee\":\"Maximilien MICHIELS\",\"date\":\"2023-03-03T23:00:00.000Z\",\"warehouseId\":3},{\"hoursWorked\":5.583333333333333,\"employee\":\"Maximilien MICHIELS\",\"date\":\"2023-03-04T23:00:00.000Z\",\"warehouseId\":3},{\"hoursWorked\":10.25,\"employee\":\"Maximilien MICHIELS\",\"date\":\"2023-03-05T23:00:00.000Z\",\"warehouseId\":3},{\"hoursWorked\":10.25,\"employee\":\"Maximilien MICHIELS\",\"date\":\"2023-03-06T23:00:00.000Z\",\"warehouseId\":3},{\"hoursWorked\":10.5,\"employee\":\"Maximilien MICHIELS\",\"date\":\"2023-03-09T23:00:00.000Z\",\"warehouseId\":3},{\"hoursWorked\":10.16666666666667,\"employee\":\"Maximilien MICHIELS\",\"date\":\"2023-03-12T23:00:00.000Z\",\"warehouseId\":3},{\"hoursWorked\":10.83333333333333,\"employee\":\"Maximilien MICHIELS\",\"date\":\"2023-03-13T23:00:00.000Z\",\"warehouseId\":3},{\"hoursWorked\":10.25,\"employee\":\"Maximilien MICHIELS\",\"date\":\"2023-03-30T22:00:00.000Z\",\"warehouseId\":3},{\"hoursWorked\":5.1,\"employee\":\"Tito RODRIGUEZ AMAYA\",\"date\":\"2023-03-01T23:00:00.000Z\",\"warehouseId\":3},{\"hoursWorked\":10.05,\"employee\":\"Tito RODRIGUEZ AMAYA\",\"date\":\"2023-03-02T23:00:00.000Z\",\"warehouseId\":3},{\"hoursWorked\":10.23333333333333,\"employee\":\"Tito RODRIGUEZ AMAYA\",\"date\":\"2023-03-03T23:00:00.000Z\",\"warehouseId\":3},{\"hoursWorked\":5.266666666666667,\"employee\":\"Tito RODRIGUEZ AMAYA\",\"date\":\"2023-03-04T23:00:00.000Z\",\"warehouseId\":3},{\"hoursWorked\":9.916666666666666,\"employee\":\"Tito RODRIGUEZ AMAYA\",\"date\":\"2023-03-07T23:00:00.000Z\",\"warehouseId\":3},{\"hoursWorked\":5.25,\"employee\":\"Tito RODRIGUEZ AMAYA\",\"date\":\"2023-03-08T23:00:00.000Z\",\"warehouseId\":3},{\"hoursWorked\":6.466666666666667,\"employee\":\"Tito RODRIGUEZ AMAYA\",\"date\":\"2023-03-09T23:00:00.000Z\",\"warehouseId\":3},{\"hoursWorked\":9.916666666666666,\"employee\":\"Tito RODRIGUEZ AMAYA\",\"date\":\"2023-03-10T23:00:00.000Z\",\"warehouseId\":3},{\"hoursWorked\":5.166666666666667,\"employee\":\"Tito RODRIGUEZ AMAYA\",\"date\":\"2023-03-11T23:00:00.000Z\",\"warehouseId\":3},{\"hoursWorked\":10.13333333333333,\"employee\":\"Tito RODRIGUEZ AMAYA\",\"date\":\"2023-03-14T23:00:00.000Z\",\"warehouseId\":3},{\"hoursWorked\":5.166666666666667,\"employee\":\"Tito RODRIGUEZ AMAYA\",\"date\":\"2023-03-15T23:00:00.000Z\",\"warehouseId\":3},{\"hoursWorked\":10,\"employee\":\"Tito RODRIGUEZ AMAYA\",\"date\":\"2023-03-16T23:00:00.000Z\",\"warehouseId\":3},{\"hoursWorked\":10.16666666666667,\"employee\":\"Tito RODRIGUEZ AMAYA\",\"date\":\"2023-03-17T23:00:00.000Z\",\"warehouseId\":3},{\"hoursWorked\":5.333333333333333,\"employee\":\"Tito RODRIGUEZ AMAYA\",\"date\":\"2023-03-18T23:00:00.000Z\",\"warehouseId\":3},{\"hoursWorked\":10.16666666666667,\"employee\":\"Tito RODRIGUEZ AMAYA\",\"date\":\"2023-03-21T23:00:00.000Z\",\"warehouseId\":3},{\"hoursWorked\":5.033333333333333,\"employee\":\"Tito RODRIGUEZ AMAYA\",\"date\":\"2023-03-22T23:00:00.000Z\",\"warehouseId\":3},{\"hoursWorked\":10.1,\"employee\":\"Tito RODRIGUEZ AMAYA\",\"date\":\"2023-03-23T23:00:00.000Z\",\"warehouseId\":3},{\"hoursWorked\":10.28333333333333,\"employee\":\"Tito RODRIGUEZ AMAYA\",\"date\":\"2023-03-28T22:00:00.000Z\",\"warehouseId\":3},{\"hoursWorked\":7.016666666666667,\"employee\":\"Tito RODRIGUEZ AMAYA\",\"date\":\"2023-03-29T22:00:00.000Z\",\"warehouseId\":3},{\"hoursWorked\":10.16666666666667,\"employee\":\"Tito RODRIGUEZ AMAYA\",\"date\":\"2023-03-30T22:00:00.000Z\",\"warehouseId\":3},{\"hoursWorked\":6.416666666666667,\"employee\":\"Ana DE OLIVEIRA CARREIRA\",\"date\":\"2023-03-16T23:00:00.000Z\",\"warehouseId\":3},{\"hoursWorked\":5.95,\"employee\":\"Ana DE OLIVEIRA CARREIRA\",\"date\":\"2023-03-17T23:00:00.000Z\",\"warehouseId\":3},{\"hoursWorked\":9.983333333333333,\"employee\":\"Benjamin MOENECLAEY\",\"date\":\"2023-03-03T23:00:00.000Z\",\"warehouseId\":3},{\"hoursWorked\":5.4,\"employee\":\"Benjamin MOENECLAEY\",\"date\":\"2023-03-04T23:00:00.000Z\",\"warehouseId\":3},{\"hoursWorked\":7.366666666666666,\"employee\":\"Benjamin MOENECLAEY\",\"date\":\"2023-03-07T23:00:00.000Z\",\"warehouseId\":3},{\"hoursWorked\":10.1,\"employee\":\"Benjamin MOENECLAEY\",\"date\":\"2023-03-14T23:00:00.000Z\",\"warehouseId\":3},{\"hoursWorked\":9.933333333333334,\"employee\":\"Benjamin MOENECLAEY\",\"date\":\"2023-03-15T23:00:00.000Z\",\"warehouseId\":3},{\"hoursWorked\":9.433333333333334,\"employee\":\"Benjamin MOENECLAEY\",\"date\":\"2023-03-17T23:00:00.000Z\",\"warehouseId\":3},{\"hoursWorked\":5.316666666666666,\"employee\":\"Benjamin MOENECLAEY\",\"date\":\"2023-03-18T23:00:00.000Z\",\"warehouseId\":3},{\"hoursWorked\":9.933333333333334,\"employee\":\"Benjamin MOENECLAEY\",\"date\":\"2023-03-19T23:00:00.000Z\",\"warehouseId\":3},{\"hoursWorked\":10.18333333333333,\"employee\":\"Benjamin MOENECLAEY\",\"date\":\"2023-03-20T23:00:00.000Z\",\"warehouseId\":3},{\"hoursWorked\":9.95,\"employee\":\"Benjamin MOENECLAEY\",\"date\":\"2023-03-21T23:00:00.000Z\",\"warehouseId\":3},{\"hoursWorked\":9.8,\"employee\":\"Benjamin MOENECLAEY\",\"date\":\"2023-03-22T23:00:00.000Z\",\"warehouseId\":3},{\"hoursWorked\":9.8,\"employee\":\"Benjamin MOENECLAEY\",\"date\":\"2023-03-23T23:00:00.000Z\",\"warehouseId\":3},{\"hoursWorked\":10.26666666666667,\"employee\":\"Benjamin MOENECLAEY\",\"date\":\"2023-03-29T22:00:00.000Z\",\"warehouseId\":3},{\"hoursWorked\":10,\"employee\":\"Carlos AZUCINA RECINA\",\"date\":\"2023-03-01T23:00:00.000Z\",\"warehouseId\":3},{\"hoursWorked\":8.5,\"employee\":\"Carlos AZUCINA RECINA\",\"date\":\"2023-03-03T23:00:00.000Z\",\"warehouseId\":3},{\"hoursWorked\":5.416666666666667,\"employee\":\"Carlos AZUCINA RECINA\",\"date\":\"2023-03-04T23:00:00.000Z\",\"warehouseId\":3},{\"hoursWorked\":5.333333333333333,\"employee\":\"Carlos AZUCINA RECINA\",\"date\":\"2023-03-18T23:00:00.000Z\",\"warehouseId\":3},{\"hoursWorked\":4.75,\"employee\":\"Carlos AZUCINA RECINA\",\"date\":\"2023-03-25T23:00:00.000Z\",\"warehouseId\":3}]\n",
      "shop Fort Jaco gross margins:\n",
      "{'total_hours': 786.033333333333}\n",
      "config.ini file available... using that\n"
     ]
    },
    {
     "name": "stdout",
     "output_type": "stream",
     "text": [
      "200\n",
      "[{\"hoursWorked\":7.55,\"employee\":\"Diana ARBELAEZ CORREA\",\"date\":\"2023-03-01T23:00:00.000Z\",\"warehouseId\":4},{\"hoursWorked\":8.033333333333333,\"employee\":\"Diana ARBELAEZ CORREA\",\"date\":\"2023-03-02T23:00:00.000Z\",\"warehouseId\":4},{\"hoursWorked\":0.3333333333333333,\"employee\":\"Diana ARBELAEZ CORREA\",\"date\":\"2023-03-03T23:00:00.000Z\",\"warehouseId\":4},{\"hoursWorked\":7.5,\"employee\":\"Diana ARBELAEZ CORREA\",\"date\":\"2023-03-05T23:00:00.000Z\",\"warehouseId\":4},{\"hoursWorked\":7.433333333333334,\"employee\":\"Diana ARBELAEZ CORREA\",\"date\":\"2023-03-06T23:00:00.000Z\",\"warehouseId\":4},{\"hoursWorked\":7.5,\"employee\":\"Diana ARBELAEZ CORREA\",\"date\":\"2023-03-07T23:00:00.000Z\",\"warehouseId\":4},{\"hoursWorked\":7.5,\"employee\":\"Diana ARBELAEZ CORREA\",\"date\":\"2023-03-08T23:00:00.000Z\",\"warehouseId\":4},{\"hoursWorked\":9.033333333333333,\"employee\":\"Diana ARBELAEZ CORREA\",\"date\":\"2023-03-09T23:00:00.000Z\",\"warehouseId\":4},{\"hoursWorked\":0.3333333333333333,\"employee\":\"Diana ARBELAEZ CORREA\",\"date\":\"2023-03-10T23:00:00.000Z\",\"warehouseId\":4},{\"hoursWorked\":7.683333333333334,\"employee\":\"Diana ARBELAEZ CORREA\",\"date\":\"2023-03-15T23:00:00.000Z\",\"warehouseId\":4},{\"hoursWorked\":9.133333333333333,\"employee\":\"Diana ARBELAEZ CORREA\",\"date\":\"2023-03-16T23:00:00.000Z\",\"warehouseId\":4},{\"hoursWorked\":0.3333333333333333,\"employee\":\"Diana ARBELAEZ CORREA\",\"date\":\"2023-03-17T23:00:00.000Z\",\"warehouseId\":4},{\"hoursWorked\":7.516666666666667,\"employee\":\"Diana ARBELAEZ CORREA\",\"date\":\"2023-03-19T23:00:00.000Z\",\"warehouseId\":4},{\"hoursWorked\":7.6,\"employee\":\"Diana ARBELAEZ CORREA\",\"date\":\"2023-03-20T23:00:00.000Z\",\"warehouseId\":4},{\"hoursWorked\":7.566666666666666,\"employee\":\"Diana ARBELAEZ CORREA\",\"date\":\"2023-03-21T23:00:00.000Z\",\"warehouseId\":4},{\"hoursWorked\":7.55,\"employee\":\"Diana ARBELAEZ CORREA\",\"date\":\"2023-03-22T23:00:00.000Z\",\"warehouseId\":4},{\"hoursWorked\":9.033333333333333,\"employee\":\"Diana ARBELAEZ CORREA\",\"date\":\"2023-03-23T23:00:00.000Z\",\"warehouseId\":4},{\"hoursWorked\":0.3333333333333333,\"employee\":\"Diana ARBELAEZ CORREA\",\"date\":\"2023-03-24T23:00:00.000Z\",\"warehouseId\":4},{\"hoursWorked\":7.633333333333334,\"employee\":\"Diana ARBELAEZ CORREA\",\"date\":\"2023-03-26T22:00:00.000Z\",\"warehouseId\":4},{\"hoursWorked\":7.616666666666666,\"employee\":\"Diana ARBELAEZ CORREA\",\"date\":\"2023-03-27T22:00:00.000Z\",\"warehouseId\":4},{\"hoursWorked\":7.666666666666667,\"employee\":\"Diana ARBELAEZ CORREA\",\"date\":\"2023-03-28T22:00:00.000Z\",\"warehouseId\":4},{\"hoursWorked\":7.533333333333333,\"employee\":\"Diana ARBELAEZ CORREA\",\"date\":\"2023-03-29T22:00:00.000Z\",\"warehouseId\":4},{\"hoursWorked\":9.2,\"employee\":\"Diana ARBELAEZ CORREA\",\"date\":\"2023-03-30T22:00:00.000Z\",\"warehouseId\":4},{\"hoursWorked\":7.766666666666667,\"employee\":\"Nadine DEBROUX\",\"date\":\"2023-03-01T23:00:00.000Z\",\"warehouseId\":4},{\"hoursWorked\":10.16666666666667,\"employee\":\"Nadine DEBROUX\",\"date\":\"2023-03-02T23:00:00.000Z\",\"warehouseId\":4},{\"hoursWorked\":10.1,\"employee\":\"Nadine DEBROUX\",\"date\":\"2023-03-05T23:00:00.000Z\",\"warehouseId\":4},{\"hoursWorked\":7.716666666666667,\"employee\":\"Nadine DEBROUX\",\"date\":\"2023-03-06T23:00:00.000Z\",\"warehouseId\":4},{\"hoursWorked\":9.75,\"employee\":\"Nadine DEBROUX\",\"date\":\"2023-03-07T23:00:00.000Z\",\"warehouseId\":4},{\"hoursWorked\":8.116666666666667,\"employee\":\"Nadine DEBROUX\",\"date\":\"2023-03-08T23:00:00.000Z\",\"warehouseId\":4},{\"hoursWorked\":10.4,\"employee\":\"Nadine DEBROUX\",\"date\":\"2023-03-09T23:00:00.000Z\",\"warehouseId\":4},{\"hoursWorked\":10.31666666666667,\"employee\":\"Nadine DEBROUX\",\"date\":\"2023-03-12T23:00:00.000Z\",\"warehouseId\":4},{\"hoursWorked\":9.95,\"employee\":\"Nadine DEBROUX\",\"date\":\"2023-03-13T23:00:00.000Z\",\"warehouseId\":4},{\"hoursWorked\":10.25,\"employee\":\"Nadine DEBROUX\",\"date\":\"2023-03-14T23:00:00.000Z\",\"warehouseId\":4},{\"hoursWorked\":7.7,\"employee\":\"Nadine DEBROUX\",\"date\":\"2023-03-15T23:00:00.000Z\",\"warehouseId\":4},{\"hoursWorked\":10.2,\"employee\":\"Nadine DEBROUX\",\"date\":\"2023-03-16T23:00:00.000Z\",\"warehouseId\":4},{\"hoursWorked\":10.08333333333333,\"employee\":\"Nadine DEBROUX\",\"date\":\"2023-03-19T23:00:00.000Z\",\"warehouseId\":4},{\"hoursWorked\":7.633333333333334,\"employee\":\"Nadine DEBROUX\",\"date\":\"2023-03-20T23:00:00.000Z\",\"warehouseId\":4},{\"hoursWorked\":10.15,\"employee\":\"Nadine DEBROUX\",\"date\":\"2023-03-21T23:00:00.000Z\",\"warehouseId\":4},{\"hoursWorked\":7.933333333333334,\"employee\":\"Nadine DEBROUX\",\"date\":\"2023-03-22T23:00:00.000Z\",\"warehouseId\":4},{\"hoursWorked\":10.23333333333333,\"employee\":\"Nadine DEBROUX\",\"date\":\"2023-03-23T23:00:00.000Z\",\"warehouseId\":4},{\"hoursWorked\":10.13333333333333,\"employee\":\"Nadine DEBROUX\",\"date\":\"2023-03-26T22:00:00.000Z\",\"warehouseId\":4},{\"hoursWorked\":7.55,\"employee\":\"Nadine DEBROUX\",\"date\":\"2023-03-27T22:00:00.000Z\",\"warehouseId\":4},{\"hoursWorked\":10.35,\"employee\":\"Nadine DEBROUX\",\"date\":\"2023-03-28T22:00:00.000Z\",\"warehouseId\":4},{\"hoursWorked\":7.583333333333333,\"employee\":\"Nadine DEBROUX\",\"date\":\"2023-03-29T22:00:00.000Z\",\"warehouseId\":4},{\"hoursWorked\":10.16666666666667,\"employee\":\"Nadine DEBROUX\",\"date\":\"2023-03-30T22:00:00.000Z\",\"warehouseId\":4},{\"hoursWorked\":2,\"employee\":\"Anne LIPPENS\",\"date\":\"2023-03-01T23:00:00.000Z\",\"warehouseId\":4},{\"hoursWorked\":0.75,\"employee\":\"Anne LIPPENS\",\"date\":\"2023-03-08T23:00:00.000Z\",\"warehouseId\":4},{\"hoursWorked\":10.53333333333333,\"employee\":\"Anne LIPPENS\",\"date\":\"2023-03-10T23:00:00.000Z\",\"warehouseId\":4},{\"hoursWorked\":10.55,\"employee\":\"Anne LIPPENS\",\"date\":\"2023-03-11T23:00:00.000Z\",\"warehouseId\":4},{\"hoursWorked\":11.36666666666667,\"employee\":\"Anne LIPPENS\",\"date\":\"2023-03-12T23:00:00.000Z\",\"warehouseId\":4},{\"hoursWorked\":10.46666666666667,\"employee\":\"Anne LIPPENS\",\"date\":\"2023-03-23T23:00:00.000Z\",\"warehouseId\":4},{\"hoursWorked\":10.4,\"employee\":\"Anne LIPPENS\",\"date\":\"2023-03-24T23:00:00.000Z\",\"warehouseId\":4},{\"hoursWorked\":10.18333333333333,\"employee\":\"Anne LIPPENS\",\"date\":\"2023-03-25T23:00:00.000Z\",\"warehouseId\":4},{\"hoursWorked\":10.4,\"employee\":\"Anne LIPPENS\",\"date\":\"2023-03-26T22:00:00.000Z\",\"warehouseId\":4},{\"hoursWorked\":1.25,\"employee\":\"Anne LIPPENS\",\"date\":\"2023-03-29T22:00:00.000Z\",\"warehouseId\":4},{\"hoursWorked\":10.15,\"employee\":\"Myriam VANDERHAEGEN\",\"date\":\"2023-03-03T23:00:00.000Z\",\"warehouseId\":4},{\"hoursWorked\":3.833333333333333,\"employee\":\"Myriam VANDERHAEGEN\",\"date\":\"2023-03-04T23:00:00.000Z\",\"warehouseId\":4},{\"hoursWorked\":5.066666666666666,\"employee\":\"Myriam VANDERHAEGEN\",\"date\":\"2023-03-05T23:00:00.000Z\",\"warehouseId\":4},{\"hoursWorked\":5.383333333333334,\"employee\":\"Myriam VANDERHAEGEN\",\"date\":\"2023-03-08T23:00:00.000Z\",\"warehouseId\":4},{\"hoursWorked\":5.15,\"employee\":\"Myriam VANDERHAEGEN\",\"date\":\"2023-03-15T23:00:00.000Z\",\"warehouseId\":4},{\"hoursWorked\":10.41666666666667,\"employee\":\"Myriam VANDERHAEGEN\",\"date\":\"2023-03-17T23:00:00.000Z\",\"warehouseId\":4},{\"hoursWorked\":5.35,\"employee\":\"Myriam VANDERHAEGEN\",\"date\":\"2023-03-18T23:00:00.000Z\",\"warehouseId\":4},{\"hoursWorked\":5.6,\"employee\":\"Myriam VANDERHAEGEN\",\"date\":\"2023-03-19T23:00:00.000Z\",\"warehouseId\":4},{\"hoursWorked\":10.15,\"employee\":\"Myriam VANDERHAEGEN\",\"date\":\"2023-03-21T23:00:00.000Z\",\"warehouseId\":4},{\"hoursWorked\":10.18333333333333,\"employee\":\"Myriam VANDERHAEGEN\",\"date\":\"2023-03-22T23:00:00.000Z\",\"warehouseId\":4},{\"hoursWorked\":6.133333333333334,\"employee\":\"Myriam VANDERHAEGEN\",\"date\":\"2023-03-29T22:00:00.000Z\",\"warehouseId\":4},{\"hoursWorked\":6.083333333333333,\"employee\":\"Armando APARICIO PEREZ\",\"date\":\"2023-03-01T23:00:00.000Z\",\"warehouseId\":4},{\"hoursWorked\":7.95,\"employee\":\"Armando APARICIO PEREZ\",\"date\":\"2023-03-02T23:00:00.000Z\",\"warehouseId\":4},{\"hoursWorked\":8.216666666666667,\"employee\":\"Armando APARICIO PEREZ\",\"date\":\"2023-03-03T23:00:00.000Z\",\"warehouseId\":4},{\"hoursWorked\":5.166666666666667,\"employee\":\"Armando APARICIO PEREZ\",\"date\":\"2023-03-06T23:00:00.000Z\",\"warehouseId\":4},{\"hoursWorked\":6.133333333333334,\"employee\":\"Armando APARICIO PEREZ\",\"date\":\"2023-03-07T23:00:00.000Z\",\"warehouseId\":4},{\"hoursWorked\":6.316666666666666,\"employee\":\"Armando APARICIO PEREZ\",\"date\":\"2023-03-08T23:00:00.000Z\",\"warehouseId\":4},{\"hoursWorked\":8.1,\"employee\":\"Armando APARICIO PEREZ\",\"date\":\"2023-03-09T23:00:00.000Z\",\"warehouseId\":4},{\"hoursWorked\":6.683333333333334,\"employee\":\"Armando APARICIO PEREZ\",\"date\":\"2023-03-10T23:00:00.000Z\",\"warehouseId\":4},{\"hoursWorked\":5.333333333333333,\"employee\":\"Armando APARICIO PEREZ\",\"date\":\"2023-03-13T23:00:00.000Z\",\"warehouseId\":4},{\"hoursWorked\":6.316666666666666,\"employee\":\"Armando APARICIO PEREZ\",\"date\":\"2023-03-14T23:00:00.000Z\",\"warehouseId\":4},{\"hoursWorked\":6.033333333333333,\"employee\":\"Armando APARICIO PEREZ\",\"date\":\"2023-03-15T23:00:00.000Z\",\"warehouseId\":4},{\"hoursWorked\":8.3,\"employee\":\"Armando APARICIO PEREZ\",\"date\":\"2023-03-16T23:00:00.000Z\",\"warehouseId\":4},{\"hoursWorked\":8.083333333333334,\"employee\":\"Armando APARICIO PEREZ\",\"date\":\"2023-03-17T23:00:00.000Z\",\"warehouseId\":4},{\"hoursWorked\":5.433333333333334,\"employee\":\"Armando APARICIO PEREZ\",\"date\":\"2023-03-20T23:00:00.000Z\",\"warehouseId\":4},{\"hoursWorked\":6.183333333333334,\"employee\":\"Armando APARICIO PEREZ\",\"date\":\"2023-03-21T23:00:00.000Z\",\"warehouseId\":4},{\"hoursWorked\":6.4,\"employee\":\"Armando APARICIO PEREZ\",\"date\":\"2023-03-22T23:00:00.000Z\",\"warehouseId\":4},{\"hoursWorked\":8.35,\"employee\":\"Armando APARICIO PEREZ\",\"date\":\"2023-03-23T23:00:00.000Z\",\"warehouseId\":4},{\"hoursWorked\":5.566666666666666,\"employee\":\"Armando APARICIO PEREZ\",\"date\":\"2023-03-27T22:00:00.000Z\",\"warehouseId\":4},{\"hoursWorked\":6.266666666666667,\"employee\":\"Armando APARICIO PEREZ\",\"date\":\"2023-03-28T22:00:00.000Z\",\"warehouseId\":4},{\"hoursWorked\":6.233333333333333,\"employee\":\"Armando APARICIO PEREZ\",\"date\":\"2023-03-29T22:00:00.000Z\",\"warehouseId\":4},{\"hoursWorked\":8.683333333333334,\"employee\":\"Armando APARICIO PEREZ\",\"date\":\"2023-03-30T22:00:00.000Z\",\"warehouseId\":4},{\"hoursWorked\":8.916666666666666,\"employee\":\"Esther ZHU\",\"date\":\"2023-03-03T23:00:00.000Z\",\"warehouseId\":4},{\"hoursWorked\":6.483333333333333,\"employee\":\"Esther ZHU\",\"date\":\"2023-03-04T23:00:00.000Z\",\"warehouseId\":4},{\"hoursWorked\":9.916666666666666,\"employee\":\"Esther ZHU\",\"date\":\"2023-03-10T23:00:00.000Z\",\"warehouseId\":4},{\"hoursWorked\":10,\"employee\":\"Esther ZHU\",\"date\":\"2023-03-11T23:00:00.000Z\",\"warehouseId\":4},{\"hoursWorked\":9.833333333333334,\"employee\":\"Esther ZHU\",\"date\":\"2023-03-17T23:00:00.000Z\",\"warehouseId\":4},{\"hoursWorked\":5.15,\"employee\":\"Esther ZHU\",\"date\":\"2023-03-18T23:00:00.000Z\",\"warehouseId\":4},{\"hoursWorked\":10.21666666666667,\"employee\":\"Esther ZHU\",\"date\":\"2023-03-24T23:00:00.000Z\",\"warehouseId\":4},{\"hoursWorked\":9.933333333333334,\"employee\":\"Esther ZHU\",\"date\":\"2023-03-25T23:00:00.000Z\",\"warehouseId\":4},{\"hoursWorked\":10.73333333333333,\"employee\":\"Charlotte SNEYERS\",\"date\":\"2023-03-01T23:00:00.000Z\",\"warehouseId\":4},{\"hoursWorked\":10.26666666666667,\"employee\":\"Charlotte SNEYERS\",\"date\":\"2023-03-02T23:00:00.000Z\",\"warehouseId\":4},{\"hoursWorked\":9.866666666666667,\"employee\":\"Charlotte SNEYERS\",\"date\":\"2023-03-06T23:00:00.000Z\",\"warehouseId\":4},{\"hoursWorked\":10.13333333333333,\"employee\":\"Charlotte SNEYERS\",\"date\":\"2023-03-07T23:00:00.000Z\",\"warehouseId\":4},{\"hoursWorked\":8.45,\"employee\":\"Charlotte SNEYERS\",\"date\":\"2023-03-08T23:00:00.000Z\",\"warehouseId\":4},{\"hoursWorked\":10.06666666666667,\"employee\":\"Charlotte SNEYERS\",\"date\":\"2023-03-13T23:00:00.000Z\",\"warehouseId\":4},{\"hoursWorked\":10.41666666666667,\"employee\":\"Charlotte SNEYERS\",\"date\":\"2023-03-14T23:00:00.000Z\",\"warehouseId\":4},{\"hoursWorked\":10.21666666666667,\"employee\":\"Charlotte SNEYERS\",\"date\":\"2023-03-16T23:00:00.000Z\",\"warehouseId\":4},{\"hoursWorked\":10.26666666666667,\"employee\":\"Charlotte SNEYERS\",\"date\":\"2023-03-27T22:00:00.000Z\",\"warehouseId\":4},{\"hoursWorked\":10.5,\"employee\":\"Charlotte SNEYERS\",\"date\":\"2023-03-28T22:00:00.000Z\",\"warehouseId\":4},{\"hoursWorked\":10.85,\"employee\":\"Charlotte SNEYERS\",\"date\":\"2023-03-29T22:00:00.000Z\",\"warehouseId\":4},{\"hoursWorked\":10.25,\"employee\":\"Charlotte SNEYERS\",\"date\":\"2023-03-30T22:00:00.000Z\",\"warehouseId\":4},{\"hoursWorked\":5.15,\"employee\":\"Luca BORGO\",\"date\":\"2023-03-05T23:00:00.000Z\",\"warehouseId\":4},{\"hoursWorked\":10.4,\"employee\":\"Luca BORGO\",\"date\":\"2023-03-09T23:00:00.000Z\",\"warehouseId\":4},{\"hoursWorked\":5.333333333333333,\"employee\":\"Luca BORGO\",\"date\":\"2023-03-19T23:00:00.000Z\",\"warehouseId\":4},{\"hoursWorked\":10.2,\"employee\":\"Luca BORGO\",\"date\":\"2023-03-20T23:00:00.000Z\",\"warehouseId\":4},{\"hoursWorked\":10.65,\"employee\":\"Maxime VANHAMME\",\"date\":\"2023-03-03T23:00:00.000Z\",\"warehouseId\":4},{\"hoursWorked\":10.26666666666667,\"employee\":\"Maxime VANHAMME\",\"date\":\"2023-03-04T23:00:00.000Z\",\"warehouseId\":4},{\"hoursWorked\":10.6,\"employee\":\"Maxime VANHAMME\",\"date\":\"2023-03-17T23:00:00.000Z\",\"warehouseId\":4},{\"hoursWorked\":10.3,\"employee\":\"Maxime VANHAMME\",\"date\":\"2023-03-18T23:00:00.000Z\",\"warehouseId\":4},{\"hoursWorked\":6.733333333333333,\"employee\":\"Ronny BERT\",\"date\":\"2023-03-04T23:00:00.000Z\",\"warehouseId\":4},{\"hoursWorked\":8.2,\"employee\":\"Ronny BERT\",\"date\":\"2023-03-10T23:00:00.000Z\",\"warehouseId\":4},{\"hoursWorked\":7.45,\"employee\":\"Ronny BERT\",\"date\":\"2023-03-11T23:00:00.000Z\",\"warehouseId\":4},{\"hoursWorked\":6.666666666666667,\"employee\":\"Ronny BERT\",\"date\":\"2023-03-18T23:00:00.000Z\",\"warehouseId\":4},{\"hoursWorked\":8.683333333333334,\"employee\":\"Ronny BERT\",\"date\":\"2023-03-24T23:00:00.000Z\",\"warehouseId\":4},{\"hoursWorked\":7.1,\"employee\":\"Ronny BERT\",\"date\":\"2023-03-25T23:00:00.000Z\",\"warehouseId\":4},{\"hoursWorked\":5.916666666666667,\"employee\":\"Guy MAWETE\",\"date\":\"2023-03-11T23:00:00.000Z\",\"warehouseId\":4},{\"hoursWorked\":5.616666666666666,\"employee\":\"Guy MAWETE\",\"date\":\"2023-03-18T23:00:00.000Z\",\"warehouseId\":4},{\"hoursWorked\":5.216666666666667,\"employee\":\"Guy MAWETE\",\"date\":\"2023-03-25T23:00:00.000Z\",\"warehouseId\":4},{\"hoursWorked\":8.133333333333333,\"employee\":\"Kris GALOPPIN\",\"date\":\"2023-03-08T23:00:00.000Z\",\"warehouseId\":4},{\"hoursWorked\":8.216666666666667,\"employee\":\"Kris GALOPPIN\",\"date\":\"2023-03-09T23:00:00.000Z\",\"warehouseId\":4},{\"hoursWorked\":10.25,\"employee\":\"Kris GALOPPIN\",\"date\":\"2023-03-10T23:00:00.000Z\",\"warehouseId\":4},{\"hoursWorked\":7.1,\"employee\":\"Kris GALOPPIN\",\"date\":\"2023-03-11T23:00:00.000Z\",\"warehouseId\":4},{\"hoursWorked\":10.03333333333333,\"employee\":\"Kris GALOPPIN\",\"date\":\"2023-03-12T23:00:00.000Z\",\"warehouseId\":4},{\"hoursWorked\":5.133333333333334,\"employee\":\"Kris GALOPPIN\",\"date\":\"2023-03-13T23:00:00.000Z\",\"warehouseId\":4},{\"hoursWorked\":10.2,\"employee\":\"Kris GALOPPIN\",\"date\":\"2023-03-16T23:00:00.000Z\",\"warehouseId\":4},{\"hoursWorked\":10.25,\"employee\":\"Kris GALOPPIN\",\"date\":\"2023-03-17T23:00:00.000Z\",\"warehouseId\":4},{\"hoursWorked\":8.266666666666667,\"employee\":\"Kris GALOPPIN\",\"date\":\"2023-03-18T23:00:00.000Z\",\"warehouseId\":4},{\"hoursWorked\":10.16666666666667,\"employee\":\"Kris GALOPPIN\",\"date\":\"2023-03-23T23:00:00.000Z\",\"warehouseId\":4},{\"hoursWorked\":10.28333333333333,\"employee\":\"Kris GALOPPIN\",\"date\":\"2023-03-24T23:00:00.000Z\",\"warehouseId\":4},{\"hoursWorked\":7.983333333333333,\"employee\":\"Kris GALOPPIN\",\"date\":\"2023-03-25T23:00:00.000Z\",\"warehouseId\":4},{\"hoursWorked\":10.08333333333333,\"employee\":\"Kris GALOPPIN\",\"date\":\"2023-03-26T22:00:00.000Z\",\"warehouseId\":4},{\"hoursWorked\":10.11666666666667,\"employee\":\"Kris GALOPPIN\",\"date\":\"2023-03-30T22:00:00.000Z\",\"warehouseId\":4}]\n",
      "shop Woluwe gross margins:\n",
      "{'total_hours': 1106.1833333333332}\n",
      "config.ini file available... using that\n"
     ]
    },
    {
     "name": "stdout",
     "output_type": "stream",
     "text": [
      "400\n",
      "No match found for warehouse_id or tanda_location_id not set\n",
      "shop Tongres gross margins:\n",
      "{'total_hours': 0}\n",
      "config.ini file available... using that\n",
      "200\n",
      "[{\"hoursWorked\":5.45,\"employee\":\"Armel KANDJEU\",\"date\":\"2023-03-01T23:00:00.000Z\",\"warehouseId\":7},{\"hoursWorked\":4.216666666666667,\"employee\":\"Armel KANDJEU\",\"date\":\"2023-03-14T23:00:00.000Z\",\"warehouseId\":7},{\"hoursWorked\":10.65,\"employee\":\"Aubin KANDJEU\",\"date\":\"2023-03-02T23:00:00.000Z\",\"warehouseId\":7},{\"hoursWorked\":10.76666666666667,\"employee\":\"Aubin KANDJEU\",\"date\":\"2023-03-03T23:00:00.000Z\",\"warehouseId\":7},{\"hoursWorked\":3.65,\"employee\":\"Aubin KANDJEU\",\"date\":\"2023-03-04T23:00:00.000Z\",\"warehouseId\":7},{\"hoursWorked\":5.133333333333334,\"employee\":\"Aubin KANDJEU\",\"date\":\"2023-03-06T23:00:00.000Z\",\"warehouseId\":7},{\"hoursWorked\":5.55,\"employee\":\"Aubin KANDJEU\",\"date\":\"2023-03-09T23:00:00.000Z\",\"warehouseId\":7},{\"hoursWorked\":10.71666666666667,\"employee\":\"Aubin KANDJEU\",\"date\":\"2023-03-10T23:00:00.000Z\",\"warehouseId\":7},{\"hoursWorked\":6.783333333333333,\"employee\":\"Aubin KANDJEU\",\"date\":\"2023-03-11T23:00:00.000Z\",\"warehouseId\":7},{\"hoursWorked\":5.733333333333333,\"employee\":\"Aubin KANDJEU\",\"date\":\"2023-03-13T23:00:00.000Z\",\"warehouseId\":7},{\"hoursWorked\":8.633333333333333,\"employee\":\"Aubin KANDJEU\",\"date\":\"2023-03-15T23:00:00.000Z\",\"warehouseId\":7},{\"hoursWorked\":8.866666666666667,\"employee\":\"Aubin KANDJEU\",\"date\":\"2023-03-16T23:00:00.000Z\",\"warehouseId\":7},{\"hoursWorked\":8.7,\"employee\":\"Aubin KANDJEU\",\"date\":\"2023-03-17T23:00:00.000Z\",\"warehouseId\":7},{\"hoursWorked\":7.083333333333333,\"employee\":\"Aubin KANDJEU\",\"date\":\"2023-03-18T23:00:00.000Z\",\"warehouseId\":7},{\"hoursWorked\":6.133333333333334,\"employee\":\"Aubin KANDJEU\",\"date\":\"2023-03-20T23:00:00.000Z\",\"warehouseId\":7},{\"hoursWorked\":8.033333333333333,\"employee\":\"Aubin KANDJEU\",\"date\":\"2023-03-23T23:00:00.000Z\",\"warehouseId\":7},{\"hoursWorked\":10.73333333333333,\"employee\":\"Aubin KANDJEU\",\"date\":\"2023-03-24T23:00:00.000Z\",\"warehouseId\":7},{\"hoursWorked\":10.71666666666667,\"employee\":\"Aubin KANDJEU\",\"date\":\"2023-03-30T22:00:00.000Z\",\"warehouseId\":7},{\"hoursWorked\":3.95,\"employee\":\"Khalil BOUMESHED\",\"date\":\"2023-03-27T22:00:00.000Z\",\"warehouseId\":7},{\"hoursWorked\":11.73333333333333,\"employee\":\"Nicolas QUERTINMONT\",\"date\":\"2023-03-02T23:00:00.000Z\",\"warehouseId\":7},{\"hoursWorked\":11.16666666666667,\"employee\":\"Nicolas QUERTINMONT\",\"date\":\"2023-03-03T23:00:00.000Z\",\"warehouseId\":7},{\"hoursWorked\":7.333333333333333,\"employee\":\"Nicolas QUERTINMONT\",\"date\":\"2023-03-04T23:00:00.000Z\",\"warehouseId\":7},{\"hoursWorked\":11.98333333333333,\"employee\":\"Nicolas QUERTINMONT\",\"date\":\"2023-03-09T23:00:00.000Z\",\"warehouseId\":7},{\"hoursWorked\":11.28333333333333,\"employee\":\"Nicolas QUERTINMONT\",\"date\":\"2023-03-10T23:00:00.000Z\",\"warehouseId\":7},{\"hoursWorked\":11.13333333333333,\"employee\":\"Nicolas QUERTINMONT\",\"date\":\"2023-03-11T23:00:00.000Z\",\"warehouseId\":7},{\"hoursWorked\":11.83333333333333,\"employee\":\"Nicolas QUERTINMONT\",\"date\":\"2023-03-16T23:00:00.000Z\",\"warehouseId\":7},{\"hoursWorked\":11.3,\"employee\":\"Nicolas QUERTINMONT\",\"date\":\"2023-03-17T23:00:00.000Z\",\"warehouseId\":7},{\"hoursWorked\":11.18333333333333,\"employee\":\"Nicolas QUERTINMONT\",\"date\":\"2023-03-18T23:00:00.000Z\",\"warehouseId\":7},{\"hoursWorked\":11.85,\"employee\":\"Nicolas QUERTINMONT\",\"date\":\"2023-03-23T23:00:00.000Z\",\"warehouseId\":7},{\"hoursWorked\":11.4,\"employee\":\"Nicolas QUERTINMONT\",\"date\":\"2023-03-24T23:00:00.000Z\",\"warehouseId\":7},{\"hoursWorked\":11.1,\"employee\":\"Nicolas QUERTINMONT\",\"date\":\"2023-03-25T23:00:00.000Z\",\"warehouseId\":7},{\"hoursWorked\":10.06666666666667,\"employee\":\"Sanne DE LOOSE\",\"date\":\"2023-03-04T23:00:00.000Z\",\"warehouseId\":7},{\"hoursWorked\":10.43333333333333,\"employee\":\"Sanne DE LOOSE\",\"date\":\"2023-03-05T23:00:00.000Z\",\"warehouseId\":7},{\"hoursWorked\":7.4,\"employee\":\"Sanne DE LOOSE\",\"date\":\"2023-03-06T23:00:00.000Z\",\"warehouseId\":7},{\"hoursWorked\":10.15,\"employee\":\"Sanne DE LOOSE\",\"date\":\"2023-03-07T23:00:00.000Z\",\"warehouseId\":7},{\"hoursWorked\":5.216666666666667,\"employee\":\"Sanne DE LOOSE\",\"date\":\"2023-03-08T23:00:00.000Z\",\"warehouseId\":7},{\"hoursWorked\":10.46666666666667,\"employee\":\"Sanne DE LOOSE\",\"date\":\"2023-03-11T23:00:00.000Z\",\"warehouseId\":7},{\"hoursWorked\":10.48333333333333,\"employee\":\"Sanne DE LOOSE\",\"date\":\"2023-03-12T23:00:00.000Z\",\"warehouseId\":7},{\"hoursWorked\":7.416666666666667,\"employee\":\"Sanne DE LOOSE\",\"date\":\"2023-03-13T23:00:00.000Z\",\"warehouseId\":7},{\"hoursWorked\":10.33333333333333,\"employee\":\"Sanne DE LOOSE\",\"date\":\"2023-03-14T23:00:00.000Z\",\"warehouseId\":7},{\"hoursWorked\":6.7,\"employee\":\"Sanne DE LOOSE\",\"date\":\"2023-03-15T23:00:00.000Z\",\"warehouseId\":7},{\"hoursWorked\":5.466666666666667,\"employee\":\"Sanne DE LOOSE\",\"date\":\"2023-03-22T23:00:00.000Z\",\"warehouseId\":7},{\"hoursWorked\":10.15,\"employee\":\"Sanne DE LOOSE\",\"date\":\"2023-03-25T23:00:00.000Z\",\"warehouseId\":7},{\"hoursWorked\":7.416666666666667,\"employee\":\"Sanne DE LOOSE\",\"date\":\"2023-03-26T22:00:00.000Z\",\"warehouseId\":7},{\"hoursWorked\":0.95,\"employee\":\"Sanne DE LOOSE\",\"date\":\"2023-03-27T22:00:00.000Z\",\"warehouseId\":7},{\"hoursWorked\":10.21666666666667,\"employee\":\"Sanne DE LOOSE\",\"date\":\"2023-03-28T22:00:00.000Z\",\"warehouseId\":7},{\"hoursWorked\":10.4,\"employee\":\"Jelle ERAERTS\",\"date\":\"2023-03-01T23:00:00.000Z\",\"warehouseId\":7},{\"hoursWorked\":5.133333333333334,\"employee\":\"Jelle ERAERTS\",\"date\":\"2023-03-07T23:00:00.000Z\",\"warehouseId\":7},{\"hoursWorked\":10.08333333333333,\"employee\":\"Jelle ERAERTS\",\"date\":\"2023-03-08T23:00:00.000Z\",\"warehouseId\":7},{\"hoursWorked\":7.483333333333333,\"employee\":\"Jelle ERAERTS\",\"date\":\"2023-03-20T23:00:00.000Z\",\"warehouseId\":7},{\"hoursWorked\":10.25,\"employee\":\"Jelle ERAERTS\",\"date\":\"2023-03-21T23:00:00.000Z\",\"warehouseId\":7},{\"hoursWorked\":10.08333333333333,\"employee\":\"Jelle ERAERTS\",\"date\":\"2023-03-22T23:00:00.000Z\",\"warehouseId\":7},{\"hoursWorked\":12.1,\"employee\":\"Jelle ERAERTS\",\"date\":\"2023-03-27T22:00:00.000Z\",\"warehouseId\":7},{\"hoursWorked\":5.166666666666667,\"employee\":\"Jelle ERAERTS\",\"date\":\"2023-03-28T22:00:00.000Z\",\"warehouseId\":7},{\"hoursWorked\":10.36666666666667,\"employee\":\"Jelle ERAERTS\",\"date\":\"2023-03-29T22:00:00.000Z\",\"warehouseId\":7},{\"hoursWorked\":2.116666666666667,\"employee\":\"Justine CORNET\",\"date\":\"2023-03-02T23:00:00.000Z\",\"warehouseId\":7},{\"hoursWorked\":3.3,\"employee\":\"Justine CORNET\",\"date\":\"2023-03-03T23:00:00.000Z\",\"warehouseId\":7},{\"hoursWorked\":4.45,\"employee\":\"Justine CORNET\",\"date\":\"2023-03-05T23:00:00.000Z\",\"warehouseId\":7},{\"hoursWorked\":3.35,\"employee\":\"Justine CORNET\",\"date\":\"2023-03-09T23:00:00.000Z\",\"warehouseId\":7},{\"hoursWorked\":4.6,\"employee\":\"Justine CORNET\",\"date\":\"2023-03-10T23:00:00.000Z\",\"warehouseId\":7},{\"hoursWorked\":4.233333333333333,\"employee\":\"Justine CORNET\",\"date\":\"2023-03-12T23:00:00.000Z\",\"warehouseId\":7},{\"hoursWorked\":3.983333333333333,\"employee\":\"Justine CORNET\",\"date\":\"2023-03-17T23:00:00.000Z\",\"warehouseId\":7},{\"hoursWorked\":3.333333333333333,\"employee\":\"Justine CORNET\",\"date\":\"2023-03-19T23:00:00.000Z\",\"warehouseId\":7},{\"hoursWorked\":4.216666666666667,\"employee\":\"Justine CORNET\",\"date\":\"2023-03-24T23:00:00.000Z\",\"warehouseId\":7},{\"hoursWorked\":3.2,\"employee\":\"Justine CORNET\",\"date\":\"2023-03-25T23:00:00.000Z\",\"warehouseId\":7},{\"hoursWorked\":3.4,\"employee\":\"Justine CORNET\",\"date\":\"2023-03-26T22:00:00.000Z\",\"warehouseId\":7},{\"hoursWorked\":5.75,\"employee\":\"Justine CORNET\",\"date\":\"2023-03-29T22:00:00.000Z\",\"warehouseId\":7},{\"hoursWorked\":4.466666666666667,\"employee\":\"Justine CORNET\",\"date\":\"2023-03-30T22:00:00.000Z\",\"warehouseId\":7},{\"hoursWorked\":3.166666666666667,\"employee\":\"Pauline POSOCCO\",\"date\":\"2023-03-06T23:00:00.000Z\",\"warehouseId\":7},{\"hoursWorked\":3.266666666666667,\"employee\":\"Pauline POSOCCO\",\"date\":\"2023-03-13T23:00:00.000Z\",\"warehouseId\":7},{\"hoursWorked\":3.083333333333333,\"employee\":\"Pauline POSOCCO\",\"date\":\"2023-03-15T23:00:00.000Z\",\"warehouseId\":7},{\"hoursWorked\":3.333333333333333,\"employee\":\"Pauline POSOCCO\",\"date\":\"2023-03-19T23:00:00.000Z\",\"warehouseId\":7},{\"hoursWorked\":3.25,\"employee\":\"Pauline POSOCCO\",\"date\":\"2023-03-20T23:00:00.000Z\",\"warehouseId\":7},{\"hoursWorked\":3,\"employee\":\"Pauline POSOCCO\",\"date\":\"2023-03-26T22:00:00.000Z\",\"warehouseId\":7}]\n",
      "shop Wemmel gross margins:\n",
      "{'total_hours': 548.2333333333335}\n",
      "config.ini file available... using that\n"
     ]
    },
    {
     "name": "stdout",
     "output_type": "stream",
     "text": [
      "200\n",
      "[{\"hoursWorked\":11.43333333333333,\"employee\":\"Khalil BOUMESHED\",\"date\":\"2023-03-04T23:00:00.000Z\",\"warehouseId\":12},{\"hoursWorked\":11.1,\"employee\":\"Khalil BOUMESHED\",\"date\":\"2023-03-10T23:00:00.000Z\",\"warehouseId\":12},{\"hoursWorked\":10.95,\"employee\":\"Khalil BOUMESHED\",\"date\":\"2023-03-11T23:00:00.000Z\",\"warehouseId\":12},{\"hoursWorked\":11.01666666666667,\"employee\":\"Khalil BOUMESHED\",\"date\":\"2023-03-14T23:00:00.000Z\",\"warehouseId\":12},{\"hoursWorked\":10.98333333333333,\"employee\":\"Khalil BOUMESHED\",\"date\":\"2023-03-15T23:00:00.000Z\",\"warehouseId\":12},{\"hoursWorked\":11.33333333333333,\"employee\":\"Khalil BOUMESHED\",\"date\":\"2023-03-16T23:00:00.000Z\",\"warehouseId\":12},{\"hoursWorked\":5.166666666666667,\"employee\":\"Khalil BOUMESHED\",\"date\":\"2023-03-18T23:00:00.000Z\",\"warehouseId\":12},{\"hoursWorked\":3,\"employee\":\"Khalil BOUMESHED\",\"date\":\"2023-03-26T22:00:00.000Z\",\"warehouseId\":12},{\"hoursWorked\":11.06666666666667,\"employee\":\"Bram DE KEYSER\",\"date\":\"2023-03-02T23:00:00.000Z\",\"warehouseId\":12},{\"hoursWorked\":11.16666666666667,\"employee\":\"Bram DE KEYSER\",\"date\":\"2023-03-03T23:00:00.000Z\",\"warehouseId\":12},{\"hoursWorked\":11.56666666666667,\"employee\":\"Bram DE KEYSER\",\"date\":\"2023-03-04T23:00:00.000Z\",\"warehouseId\":12},{\"hoursWorked\":11.45,\"employee\":\"Bram DE KEYSER\",\"date\":\"2023-03-05T23:00:00.000Z\",\"warehouseId\":12},{\"hoursWorked\":11.53333333333333,\"employee\":\"Bram DE KEYSER\",\"date\":\"2023-03-08T23:00:00.000Z\",\"warehouseId\":12},{\"hoursWorked\":11.03333333333333,\"employee\":\"Bram DE KEYSER\",\"date\":\"2023-03-09T23:00:00.000Z\",\"warehouseId\":12},{\"hoursWorked\":11.46666666666667,\"employee\":\"Bram DE KEYSER\",\"date\":\"2023-03-12T23:00:00.000Z\",\"warehouseId\":12},{\"hoursWorked\":11.76666666666667,\"employee\":\"Bram DE KEYSER\",\"date\":\"2023-03-13T23:00:00.000Z\",\"warehouseId\":12},{\"hoursWorked\":10.13333333333333,\"employee\":\"Bram DE KEYSER\",\"date\":\"2023-03-16T23:00:00.000Z\",\"warehouseId\":12},{\"hoursWorked\":11.83333333333333,\"employee\":\"Bram DE KEYSER\",\"date\":\"2023-03-17T23:00:00.000Z\",\"warehouseId\":12},{\"hoursWorked\":11.31666666666667,\"employee\":\"Bram DE KEYSER\",\"date\":\"2023-03-18T23:00:00.000Z\",\"warehouseId\":12},{\"hoursWorked\":11.73333333333333,\"employee\":\"Bram DE KEYSER\",\"date\":\"2023-03-19T23:00:00.000Z\",\"warehouseId\":12},{\"hoursWorked\":11.18333333333333,\"employee\":\"Bram DE KEYSER\",\"date\":\"2023-03-22T23:00:00.000Z\",\"warehouseId\":12},{\"hoursWorked\":10.46666666666667,\"employee\":\"Bram DE KEYSER\",\"date\":\"2023-03-23T23:00:00.000Z\",\"warehouseId\":12},{\"hoursWorked\":11.76666666666667,\"employee\":\"Bram DE KEYSER\",\"date\":\"2023-03-27T22:00:00.000Z\",\"warehouseId\":12},{\"hoursWorked\":11.43333333333333,\"employee\":\"Bram DE KEYSER\",\"date\":\"2023-03-30T22:00:00.000Z\",\"warehouseId\":12},{\"hoursWorked\":11.18333333333333,\"employee\":\"Marine JANSSENS\",\"date\":\"2023-03-01T23:00:00.000Z\",\"warehouseId\":12},{\"hoursWorked\":10.81666666666667,\"employee\":\"Marine JANSSENS\",\"date\":\"2023-03-06T23:00:00.000Z\",\"warehouseId\":12},{\"hoursWorked\":11.08333333333333,\"employee\":\"Marine JANSSENS\",\"date\":\"2023-03-07T23:00:00.000Z\",\"warehouseId\":12},{\"hoursWorked\":11.38333333333333,\"employee\":\"Marine JANSSENS\",\"date\":\"2023-03-08T23:00:00.000Z\",\"warehouseId\":12},{\"hoursWorked\":11.15,\"employee\":\"Marine JANSSENS\",\"date\":\"2023-03-10T23:00:00.000Z\",\"warehouseId\":12},{\"hoursWorked\":11.08333333333333,\"employee\":\"Marine JANSSENS\",\"date\":\"2023-03-11T23:00:00.000Z\",\"warehouseId\":12},{\"hoursWorked\":11.28333333333333,\"employee\":\"Marine JANSSENS\",\"date\":\"2023-03-13T23:00:00.000Z\",\"warehouseId\":12},{\"hoursWorked\":7.033333333333333,\"employee\":\"Marine JANSSENS\",\"date\":\"2023-03-14T23:00:00.000Z\",\"warehouseId\":12},{\"hoursWorked\":11.06666666666667,\"employee\":\"Marine JANSSENS\",\"date\":\"2023-03-15T23:00:00.000Z\",\"warehouseId\":12},{\"hoursWorked\":11.18333333333333,\"employee\":\"Marine JANSSENS\",\"date\":\"2023-03-20T23:00:00.000Z\",\"warehouseId\":12},{\"hoursWorked\":11.1,\"employee\":\"Marine JANSSENS\",\"date\":\"2023-03-21T23:00:00.000Z\",\"warehouseId\":12},{\"hoursWorked\":11.16666666666667,\"employee\":\"Marine JANSSENS\",\"date\":\"2023-03-24T23:00:00.000Z\",\"warehouseId\":12},{\"hoursWorked\":11.26666666666667,\"employee\":\"Marine JANSSENS\",\"date\":\"2023-03-25T23:00:00.000Z\",\"warehouseId\":12},{\"hoursWorked\":11.16666666666667,\"employee\":\"Marine JANSSENS\",\"date\":\"2023-03-27T22:00:00.000Z\",\"warehouseId\":12},{\"hoursWorked\":6.85,\"employee\":\"Marine JANSSENS\",\"date\":\"2023-03-28T22:00:00.000Z\",\"warehouseId\":12},{\"hoursWorked\":11.71666666666667,\"employee\":\"Marine JANSSENS\",\"date\":\"2023-03-29T22:00:00.000Z\",\"warehouseId\":12},{\"hoursWorked\":10.95,\"employee\":\"Fernando HERNANDEZ GUARDADO\",\"date\":\"2023-03-02T23:00:00.000Z\",\"warehouseId\":12},{\"hoursWorked\":10.98333333333333,\"employee\":\"Fernando HERNANDEZ GUARDADO\",\"date\":\"2023-03-03T23:00:00.000Z\",\"warehouseId\":12},{\"hoursWorked\":11.11666666666667,\"employee\":\"Fernando HERNANDEZ GUARDADO\",\"date\":\"2023-03-04T23:00:00.000Z\",\"warehouseId\":12},{\"hoursWorked\":10.86666666666667,\"employee\":\"Fernando HERNANDEZ GUARDADO\",\"date\":\"2023-03-06T23:00:00.000Z\",\"warehouseId\":12},{\"hoursWorked\":11.8,\"employee\":\"Fernando HERNANDEZ GUARDADO\",\"date\":\"2023-03-12T23:00:00.000Z\",\"warehouseId\":12},{\"hoursWorked\":3.95,\"employee\":\"Fernando HERNANDEZ GUARDADO\",\"date\":\"2023-03-14T23:00:00.000Z\",\"warehouseId\":12},{\"hoursWorked\":11.28333333333333,\"employee\":\"Fernando HERNANDEZ GUARDADO\",\"date\":\"2023-03-16T23:00:00.000Z\",\"warehouseId\":12},{\"hoursWorked\":11.53333333333333,\"employee\":\"Fernando HERNANDEZ GUARDADO\",\"date\":\"2023-03-17T23:00:00.000Z\",\"warehouseId\":12},{\"hoursWorked\":11.13333333333333,\"employee\":\"Fernando HERNANDEZ GUARDADO\",\"date\":\"2023-03-18T23:00:00.000Z\",\"warehouseId\":12},{\"hoursWorked\":10.95,\"employee\":\"Fernando HERNANDEZ GUARDADO\",\"date\":\"2023-03-20T23:00:00.000Z\",\"warehouseId\":12},{\"hoursWorked\":11.18333333333333,\"employee\":\"Fernando HERNANDEZ GUARDADO\",\"date\":\"2023-03-21T23:00:00.000Z\",\"warehouseId\":12},{\"hoursWorked\":10.71666666666667,\"employee\":\"Fernando HERNANDEZ GUARDADO\",\"date\":\"2023-03-22T23:00:00.000Z\",\"warehouseId\":12},{\"hoursWorked\":11.41666666666667,\"employee\":\"Fernando HERNANDEZ GUARDADO\",\"date\":\"2023-03-23T23:00:00.000Z\",\"warehouseId\":12},{\"hoursWorked\":11.55,\"employee\":\"Fernando HERNANDEZ GUARDADO\",\"date\":\"2023-03-26T22:00:00.000Z\",\"warehouseId\":12},{\"hoursWorked\":4.2,\"employee\":\"Fernando HERNANDEZ GUARDADO\",\"date\":\"2023-03-28T22:00:00.000Z\",\"warehouseId\":12},{\"hoursWorked\":11.18333333333333,\"employee\":\"Fernando HERNANDEZ GUARDADO\",\"date\":\"2023-03-30T22:00:00.000Z\",\"warehouseId\":12},{\"hoursWorked\":11.18333333333333,\"employee\":\"Paul GUERRERO\",\"date\":\"2023-03-01T23:00:00.000Z\",\"warehouseId\":12},{\"hoursWorked\":11.03333333333333,\"employee\":\"Paul GUERRERO\",\"date\":\"2023-03-02T23:00:00.000Z\",\"warehouseId\":12},{\"hoursWorked\":11.41666666666667,\"employee\":\"Paul GUERRERO\",\"date\":\"2023-03-05T23:00:00.000Z\",\"warehouseId\":12},{\"hoursWorked\":11.16666666666667,\"employee\":\"Paul GUERRERO\",\"date\":\"2023-03-07T23:00:00.000Z\",\"warehouseId\":12},{\"hoursWorked\":10.8,\"employee\":\"Paul GUERRERO\",\"date\":\"2023-03-09T23:00:00.000Z\",\"warehouseId\":12},{\"hoursWorked\":3.166666666666667,\"employee\":\"Paul GUERRERO\",\"date\":\"2023-03-10T23:00:00.000Z\",\"warehouseId\":12},{\"hoursWorked\":11.71666666666667,\"employee\":\"Paul GUERRERO\",\"date\":\"2023-03-19T23:00:00.000Z\",\"warehouseId\":12},{\"hoursWorked\":11.3,\"employee\":\"Paul GUERRERO\",\"date\":\"2023-03-23T23:00:00.000Z\",\"warehouseId\":12},{\"hoursWorked\":11.11666666666667,\"employee\":\"Paul GUERRERO\",\"date\":\"2023-03-24T23:00:00.000Z\",\"warehouseId\":12},{\"hoursWorked\":11.08333333333333,\"employee\":\"Paul GUERRERO\",\"date\":\"2023-03-25T23:00:00.000Z\",\"warehouseId\":12},{\"hoursWorked\":8.666666666666666,\"employee\":\"Paul GUERRERO\",\"date\":\"2023-03-26T22:00:00.000Z\",\"warehouseId\":12},{\"hoursWorked\":11.08333333333333,\"employee\":\"Paul GUERRERO\",\"date\":\"2023-03-28T22:00:00.000Z\",\"warehouseId\":12},{\"hoursWorked\":11.46666666666667,\"employee\":\"Paul GUERRERO\",\"date\":\"2023-03-29T22:00:00.000Z\",\"warehouseId\":12},{\"hoursWorked\":11.13333333333333,\"employee\":\"Fatou YARA\",\"date\":\"2023-03-03T23:00:00.000Z\",\"warehouseId\":12},{\"hoursWorked\":11.13333333333333,\"employee\":\"Fatou YARA\",\"date\":\"2023-03-10T23:00:00.000Z\",\"warehouseId\":12},{\"hoursWorked\":10.71666666666667,\"employee\":\"Fatou YARA\",\"date\":\"2023-03-11T23:00:00.000Z\",\"warehouseId\":12},{\"hoursWorked\":11.6,\"employee\":\"Fatou YARA\",\"date\":\"2023-03-17T23:00:00.000Z\",\"warehouseId\":12},{\"hoursWorked\":6.3,\"employee\":\"Fatou YARA\",\"date\":\"2023-03-18T23:00:00.000Z\",\"warehouseId\":12},{\"hoursWorked\":11,\"employee\":\"Fatou YARA\",\"date\":\"2023-03-25T23:00:00.000Z\",\"warehouseId\":12},{\"hoursWorked\":4.5,\"employee\":\"Johan VAN GUCHT\",\"date\":\"2023-03-30T22:00:00.000Z\",\"warehouseId\":12},{\"hoursWorked\":10.85,\"employee\":\"Benjamin MOENECLAEY\",\"date\":\"2023-03-09T23:00:00.000Z\",\"warehouseId\":12},{\"hoursWorked\":10.76666666666667,\"employee\":\"Benjamin MOENECLAEY\",\"date\":\"2023-03-24T23:00:00.000Z\",\"warehouseId\":12},{\"hoursWorked\":10.65,\"employee\":\"Benjamin MOENECLAEY\",\"date\":\"2023-03-30T22:00:00.000Z\",\"warehouseId\":12},{\"hoursWorked\":8.333333333333334,\"employee\":\"Cécile BOLSAIE\",\"date\":\"2023-03-26T22:00:00.000Z\",\"warehouseId\":12},{\"hoursWorked\":9.266666666666667,\"employee\":\"Cécile BOLSAIE\",\"date\":\"2023-03-27T22:00:00.000Z\",\"warehouseId\":12},{\"hoursWorked\":8.5,\"employee\":\"Cécile BOLSAIE\",\"date\":\"2023-03-28T22:00:00.000Z\",\"warehouseId\":12},{\"hoursWorked\":8.45,\"employee\":\"Cécile BOLSAIE\",\"date\":\"2023-03-29T22:00:00.000Z\",\"warehouseId\":12},{\"hoursWorked\":7.083333333333333,\"employee\":\"Cécile BOLSAIE\",\"date\":\"2023-03-30T22:00:00.000Z\",\"warehouseId\":12}]\n",
      "shop CHATELAIN gross margins:\n",
      "{'total_hours': 866.7333333333332}\n",
      "config.ini file available... using that\n"
     ]
    },
    {
     "name": "stdout",
     "output_type": "stream",
     "text": [
      "200\n",
      "[{\"hoursWorked\":13.5,\"employee\":\"Jelle ERAERTS\",\"date\":\"2023-03-02T23:00:00.000Z\",\"warehouseId\":36},{\"hoursWorked\":13.5,\"employee\":\"Jelle ERAERTS\",\"date\":\"2023-03-13T23:00:00.000Z\",\"warehouseId\":36},{\"hoursWorked\":13.58333333333333,\"employee\":\"Jelle ERAERTS\",\"date\":\"2023-03-19T23:00:00.000Z\",\"warehouseId\":36},{\"hoursWorked\":13.66666666666667,\"employee\":\"Jelle ERAERTS\",\"date\":\"2023-03-24T23:00:00.000Z\",\"warehouseId\":36},{\"hoursWorked\":9.5,\"employee\":\"Jelle ERAERTS\",\"date\":\"2023-03-25T23:00:00.000Z\",\"warehouseId\":36},{\"hoursWorked\":9.583333333333334,\"employee\":\"Jelle ERAERTS\",\"date\":\"2023-03-26T22:00:00.000Z\",\"warehouseId\":36},{\"hoursWorked\":13.91666666666667,\"employee\":\"Jelle ERAERTS\",\"date\":\"2023-03-30T22:00:00.000Z\",\"warehouseId\":36},{\"hoursWorked\":10.56666666666667,\"employee\":\"Alessandra CHIANALE\",\"date\":\"2023-03-01T23:00:00.000Z\",\"warehouseId\":36},{\"hoursWorked\":10.68333333333333,\"employee\":\"Alessandra CHIANALE\",\"date\":\"2023-03-02T23:00:00.000Z\",\"warehouseId\":36},{\"hoursWorked\":10.9,\"employee\":\"Alessandra CHIANALE\",\"date\":\"2023-03-05T23:00:00.000Z\",\"warehouseId\":36},{\"hoursWorked\":7.35,\"employee\":\"Alessandra CHIANALE\",\"date\":\"2023-03-08T23:00:00.000Z\",\"warehouseId\":36},{\"hoursWorked\":10.43333333333333,\"employee\":\"Alessandra CHIANALE\",\"date\":\"2023-03-09T23:00:00.000Z\",\"warehouseId\":36},{\"hoursWorked\":11.01666666666667,\"employee\":\"Alessandra CHIANALE\",\"date\":\"2023-03-10T23:00:00.000Z\",\"warehouseId\":36},{\"hoursWorked\":10.53333333333333,\"employee\":\"Alessandra CHIANALE\",\"date\":\"2023-03-11T23:00:00.000Z\",\"warehouseId\":36},{\"hoursWorked\":10.53333333333333,\"employee\":\"Alessandra CHIANALE\",\"date\":\"2023-03-12T23:00:00.000Z\",\"warehouseId\":36},{\"hoursWorked\":10.95,\"employee\":\"Alessandra CHIANALE\",\"date\":\"2023-03-14T23:00:00.000Z\",\"warehouseId\":36},{\"hoursWorked\":10.71666666666667,\"employee\":\"Alessandra CHIANALE\",\"date\":\"2023-03-15T23:00:00.000Z\",\"warehouseId\":36},{\"hoursWorked\":10.65,\"employee\":\"Alessandra CHIANALE\",\"date\":\"2023-03-16T23:00:00.000Z\",\"warehouseId\":36},{\"hoursWorked\":10.48333333333333,\"employee\":\"Alessandra CHIANALE\",\"date\":\"2023-03-19T23:00:00.000Z\",\"warehouseId\":36},{\"hoursWorked\":8.416666666666666,\"employee\":\"Alessandra CHIANALE\",\"date\":\"2023-03-23T23:00:00.000Z\",\"warehouseId\":36},{\"hoursWorked\":10.41666666666667,\"employee\":\"Alessandra CHIANALE\",\"date\":\"2023-03-24T23:00:00.000Z\",\"warehouseId\":36},{\"hoursWorked\":10.63333333333333,\"employee\":\"Alessandra CHIANALE\",\"date\":\"2023-03-25T23:00:00.000Z\",\"warehouseId\":36},{\"hoursWorked\":10.51666666666667,\"employee\":\"Alessandra CHIANALE\",\"date\":\"2023-03-26T22:00:00.000Z\",\"warehouseId\":36},{\"hoursWorked\":10.66666666666667,\"employee\":\"Alessandra CHIANALE\",\"date\":\"2023-03-28T22:00:00.000Z\",\"warehouseId\":36},{\"hoursWorked\":10.48333333333333,\"employee\":\"Alessandra CHIANALE\",\"date\":\"2023-03-29T22:00:00.000Z\",\"warehouseId\":36},{\"hoursWorked\":10.56666666666667,\"employee\":\"Alessandra CHIANALE\",\"date\":\"2023-03-30T22:00:00.000Z\",\"warehouseId\":36},{\"hoursWorked\":10.81666666666667,\"employee\":\"Olivier HEES\",\"date\":\"2023-03-03T23:00:00.000Z\",\"warehouseId\":36},{\"hoursWorked\":10.4,\"employee\":\"Olivier HEES\",\"date\":\"2023-03-04T23:00:00.000Z\",\"warehouseId\":36},{\"hoursWorked\":10.46666666666667,\"employee\":\"Olivier HEES\",\"date\":\"2023-03-06T23:00:00.000Z\",\"warehouseId\":36},{\"hoursWorked\":10.4,\"employee\":\"Olivier HEES\",\"date\":\"2023-03-07T23:00:00.000Z\",\"warehouseId\":36},{\"hoursWorked\":10.78333333333333,\"employee\":\"Olivier HEES\",\"date\":\"2023-03-08T23:00:00.000Z\",\"warehouseId\":36},{\"hoursWorked\":10.35,\"employee\":\"Olivier HEES\",\"date\":\"2023-03-09T23:00:00.000Z\",\"warehouseId\":36},{\"hoursWorked\":10.53333333333333,\"employee\":\"Olivier HEES\",\"date\":\"2023-03-12T23:00:00.000Z\",\"warehouseId\":36},{\"hoursWorked\":10.3,\"employee\":\"Olivier HEES\",\"date\":\"2023-03-13T23:00:00.000Z\",\"warehouseId\":36},{\"hoursWorked\":5.666666666666667,\"employee\":\"Olivier HEES\",\"date\":\"2023-03-16T23:00:00.000Z\",\"warehouseId\":36},{\"hoursWorked\":10.6,\"employee\":\"Olivier HEES\",\"date\":\"2023-03-17T23:00:00.000Z\",\"warehouseId\":36},{\"hoursWorked\":10.46666666666667,\"employee\":\"Olivier HEES\",\"date\":\"2023-03-18T23:00:00.000Z\",\"warehouseId\":36},{\"hoursWorked\":10.6,\"employee\":\"Olivier HEES\",\"date\":\"2023-03-20T23:00:00.000Z\",\"warehouseId\":36},{\"hoursWorked\":7.2,\"employee\":\"Olivier HEES\",\"date\":\"2023-03-21T23:00:00.000Z\",\"warehouseId\":36},{\"hoursWorked\":7.433333333333334,\"employee\":\"Olivier HEES\",\"date\":\"2023-03-22T23:00:00.000Z\",\"warehouseId\":36},{\"hoursWorked\":7,\"employee\":\"Olivier HEES\",\"date\":\"2023-03-23T23:00:00.000Z\",\"warehouseId\":36},{\"hoursWorked\":7.333333333333333,\"employee\":\"Olivier HEES\",\"date\":\"2023-03-26T22:00:00.000Z\",\"warehouseId\":36},{\"hoursWorked\":7.266666666666666,\"employee\":\"Olivier HEES\",\"date\":\"2023-03-27T22:00:00.000Z\",\"warehouseId\":36},{\"hoursWorked\":2.266666666666667,\"employee\":\"Olivier HEES\",\"date\":\"2023-03-30T22:00:00.000Z\",\"warehouseId\":36},{\"hoursWorked\":10.26666666666667,\"employee\":\"Hubert VAN STRIEN\",\"date\":\"2023-03-01T23:00:00.000Z\",\"warehouseId\":36},{\"hoursWorked\":10.43333333333333,\"employee\":\"Hubert VAN STRIEN\",\"date\":\"2023-03-03T23:00:00.000Z\",\"warehouseId\":36},{\"hoursWorked\":10.16666666666667,\"employee\":\"Hubert VAN STRIEN\",\"date\":\"2023-03-04T23:00:00.000Z\",\"warehouseId\":36},{\"hoursWorked\":10.08333333333333,\"employee\":\"Hubert VAN STRIEN\",\"date\":\"2023-03-06T23:00:00.000Z\",\"warehouseId\":36},{\"hoursWorked\":10.48333333333333,\"employee\":\"Hubert VAN STRIEN\",\"date\":\"2023-03-07T23:00:00.000Z\",\"warehouseId\":36},{\"hoursWorked\":10.3,\"employee\":\"Hubert VAN STRIEN\",\"date\":\"2023-03-08T23:00:00.000Z\",\"warehouseId\":36},{\"hoursWorked\":6.266666666666667,\"employee\":\"Hubert VAN STRIEN\",\"date\":\"2023-03-11T23:00:00.000Z\",\"warehouseId\":36},{\"hoursWorked\":10.6,\"employee\":\"Hubert VAN STRIEN\",\"date\":\"2023-03-14T23:00:00.000Z\",\"warehouseId\":36},{\"hoursWorked\":10.48333333333333,\"employee\":\"Hubert VAN STRIEN\",\"date\":\"2023-03-15T23:00:00.000Z\",\"warehouseId\":36},{\"hoursWorked\":10.2,\"employee\":\"Hubert VAN STRIEN\",\"date\":\"2023-03-17T23:00:00.000Z\",\"warehouseId\":36},{\"hoursWorked\":10.03333333333333,\"employee\":\"Hubert VAN STRIEN\",\"date\":\"2023-03-18T23:00:00.000Z\",\"warehouseId\":36},{\"hoursWorked\":10.36666666666667,\"employee\":\"Hubert VAN STRIEN\",\"date\":\"2023-03-20T23:00:00.000Z\",\"warehouseId\":36},{\"hoursWorked\":10.41666666666667,\"employee\":\"Hubert VAN STRIEN\",\"date\":\"2023-03-21T23:00:00.000Z\",\"warehouseId\":36},{\"hoursWorked\":10.51666666666667,\"employee\":\"Hubert VAN STRIEN\",\"date\":\"2023-03-22T23:00:00.000Z\",\"warehouseId\":36},{\"hoursWorked\":10.46666666666667,\"employee\":\"Hubert VAN STRIEN\",\"date\":\"2023-03-23T23:00:00.000Z\",\"warehouseId\":36},{\"hoursWorked\":2.466666666666667,\"employee\":\"Hubert VAN STRIEN\",\"date\":\"2023-03-25T23:00:00.000Z\",\"warehouseId\":36},{\"hoursWorked\":10.38333333333333,\"employee\":\"Hubert VAN STRIEN\",\"date\":\"2023-03-28T22:00:00.000Z\",\"warehouseId\":36},{\"hoursWorked\":10.36666666666667,\"employee\":\"Hubert VAN STRIEN\",\"date\":\"2023-03-29T22:00:00.000Z\",\"warehouseId\":36},{\"hoursWorked\":10.68333333333333,\"employee\":\"Kathy REGELBRUGGE\",\"date\":\"2023-03-05T23:00:00.000Z\",\"warehouseId\":36},{\"hoursWorked\":8.183333333333334,\"employee\":\"Kathy REGELBRUGGE\",\"date\":\"2023-03-09T23:00:00.000Z\",\"warehouseId\":36},{\"hoursWorked\":10.85,\"employee\":\"Kathy REGELBRUGGE\",\"date\":\"2023-03-10T23:00:00.000Z\",\"warehouseId\":36},{\"hoursWorked\":10.51666666666667,\"employee\":\"Kathy REGELBRUGGE\",\"date\":\"2023-03-16T23:00:00.000Z\",\"warehouseId\":36},{\"hoursWorked\":8.416666666666666,\"employee\":\"Kathy REGELBRUGGE\",\"date\":\"2023-03-17T23:00:00.000Z\",\"warehouseId\":36},{\"hoursWorked\":5.05,\"employee\":\"Kathy REGELBRUGGE\",\"date\":\"2023-03-21T23:00:00.000Z\",\"warehouseId\":36},{\"hoursWorked\":5.183333333333334,\"employee\":\"Kathy REGELBRUGGE\",\"date\":\"2023-03-22T23:00:00.000Z\",\"warehouseId\":36},{\"hoursWorked\":10.5,\"employee\":\"Kathy REGELBRUGGE\",\"date\":\"2023-03-27T22:00:00.000Z\",\"warehouseId\":36},{\"hoursWorked\":6.966666666666667,\"employee\":\"Mathis DENIS\",\"date\":\"2023-03-04T23:00:00.000Z\",\"warehouseId\":36},{\"hoursWorked\":7.9,\"employee\":\"Mathis DENIS\",\"date\":\"2023-03-11T23:00:00.000Z\",\"warehouseId\":36},{\"hoursWorked\":7.533333333333333,\"employee\":\"Mathis DENIS\",\"date\":\"2023-03-25T23:00:00.000Z\",\"warehouseId\":36}]\n",
      "shop OVERIJSE gross margins:\n",
      "{'total_hours': 709.7333333333331}\n",
      "config.ini file available... using that\n"
     ]
    },
    {
     "name": "stdout",
     "output_type": "stream",
     "text": [
      "200\n",
      "[{\"hoursWorked\":6.616666666666666,\"employee\":\"Anne LIPPENS\",\"date\":\"2023-03-14T23:00:00.000Z\",\"warehouseId\":39},{\"hoursWorked\":7.016666666666667,\"employee\":\"Anne LIPPENS\",\"date\":\"2023-03-28T22:00:00.000Z\",\"warehouseId\":39},{\"hoursWorked\":4.333333333333333,\"employee\":\"Michel WOUTERS\",\"date\":\"2023-03-01T23:00:00.000Z\",\"warehouseId\":39},{\"hoursWorked\":5.333333333333333,\"employee\":\"Michel WOUTERS\",\"date\":\"2023-03-02T23:00:00.000Z\",\"warehouseId\":39},{\"hoursWorked\":11.45,\"employee\":\"Michel WOUTERS\",\"date\":\"2023-03-03T23:00:00.000Z\",\"warehouseId\":39},{\"hoursWorked\":11.35,\"employee\":\"Michel WOUTERS\",\"date\":\"2023-03-04T23:00:00.000Z\",\"warehouseId\":39},{\"hoursWorked\":11.45,\"employee\":\"Michel WOUTERS\",\"date\":\"2023-03-07T23:00:00.000Z\",\"warehouseId\":39},{\"hoursWorked\":4.05,\"employee\":\"Michel WOUTERS\",\"date\":\"2023-03-08T23:00:00.000Z\",\"warehouseId\":39},{\"hoursWorked\":11.3,\"employee\":\"Michel WOUTERS\",\"date\":\"2023-03-09T23:00:00.000Z\",\"warehouseId\":39},{\"hoursWorked\":11.31666666666667,\"employee\":\"Michel WOUTERS\",\"date\":\"2023-03-10T23:00:00.000Z\",\"warehouseId\":39},{\"hoursWorked\":5.233333333333333,\"employee\":\"Michel WOUTERS\",\"date\":\"2023-03-12T23:00:00.000Z\",\"warehouseId\":39},{\"hoursWorked\":4.3,\"employee\":\"Michel WOUTERS\",\"date\":\"2023-03-13T23:00:00.000Z\",\"warehouseId\":39},{\"hoursWorked\":11.1,\"employee\":\"Michel WOUTERS\",\"date\":\"2023-03-14T23:00:00.000Z\",\"warehouseId\":39},{\"hoursWorked\":11.55,\"employee\":\"Michel WOUTERS\",\"date\":\"2023-03-17T23:00:00.000Z\",\"warehouseId\":39},{\"hoursWorked\":11.41666666666667,\"employee\":\"Michel WOUTERS\",\"date\":\"2023-03-18T23:00:00.000Z\",\"warehouseId\":39},{\"hoursWorked\":11.31666666666667,\"employee\":\"Michel WOUTERS\",\"date\":\"2023-03-20T23:00:00.000Z\",\"warehouseId\":39},{\"hoursWorked\":11.2,\"employee\":\"Michel WOUTERS\",\"date\":\"2023-03-21T23:00:00.000Z\",\"warehouseId\":39},{\"hoursWorked\":2.4,\"employee\":\"Michel WOUTERS\",\"date\":\"2023-03-22T23:00:00.000Z\",\"warehouseId\":39},{\"hoursWorked\":7.55,\"employee\":\"Michel WOUTERS\",\"date\":\"2023-03-23T23:00:00.000Z\",\"warehouseId\":39},{\"hoursWorked\":11.51666666666667,\"employee\":\"Michel WOUTERS\",\"date\":\"2023-03-24T23:00:00.000Z\",\"warehouseId\":39},{\"hoursWorked\":11.11666666666667,\"employee\":\"Michel WOUTERS\",\"date\":\"2023-03-28T22:00:00.000Z\",\"warehouseId\":39},{\"hoursWorked\":11.35,\"employee\":\"Michel WOUTERS\",\"date\":\"2023-03-30T22:00:00.000Z\",\"warehouseId\":39},{\"hoursWorked\":9.116666666666667,\"employee\":\"Carine VERCRAYE\",\"date\":\"2023-03-04T23:00:00.000Z\",\"warehouseId\":39},{\"hoursWorked\":7.583333333333333,\"employee\":\"Carine VERCRAYE\",\"date\":\"2023-03-29T22:00:00.000Z\",\"warehouseId\":39},{\"hoursWorked\":6.533333333333333,\"employee\":\"Johan VAN GUCHT\",\"date\":\"2023-03-01T23:00:00.000Z\",\"warehouseId\":39},{\"hoursWorked\":10.85,\"employee\":\"Johan VAN GUCHT\",\"date\":\"2023-03-02T23:00:00.000Z\",\"warehouseId\":39},{\"hoursWorked\":10,\"employee\":\"Johan VAN GUCHT\",\"date\":\"2023-03-05T23:00:00.000Z\",\"warehouseId\":39},{\"hoursWorked\":12,\"employee\":\"Johan VAN GUCHT\",\"date\":\"2023-03-06T23:00:00.000Z\",\"warehouseId\":39},{\"hoursWorked\":9.75,\"employee\":\"Johan VAN GUCHT\",\"date\":\"2023-03-08T23:00:00.000Z\",\"warehouseId\":39},{\"hoursWorked\":12.16666666666667,\"employee\":\"Johan VAN GUCHT\",\"date\":\"2023-03-11T23:00:00.000Z\",\"warehouseId\":39},{\"hoursWorked\":7.15,\"employee\":\"Johan VAN GUCHT\",\"date\":\"2023-03-12T23:00:00.000Z\",\"warehouseId\":39},{\"hoursWorked\":7,\"employee\":\"Johan VAN GUCHT\",\"date\":\"2023-03-13T23:00:00.000Z\",\"warehouseId\":39},{\"hoursWorked\":4.883333333333334,\"employee\":\"Johan VAN GUCHT\",\"date\":\"2023-03-14T23:00:00.000Z\",\"warehouseId\":39},{\"hoursWorked\":5.65,\"employee\":\"Johan VAN GUCHT\",\"date\":\"2023-03-15T23:00:00.000Z\",\"warehouseId\":39},{\"hoursWorked\":11,\"employee\":\"Johan VAN GUCHT\",\"date\":\"2023-03-16T23:00:00.000Z\",\"warehouseId\":39},{\"hoursWorked\":10,\"employee\":\"Johan VAN GUCHT\",\"date\":\"2023-03-19T23:00:00.000Z\",\"warehouseId\":39},{\"hoursWorked\":6.583333333333333,\"employee\":\"Johan VAN GUCHT\",\"date\":\"2023-03-21T23:00:00.000Z\",\"warehouseId\":39},{\"hoursWorked\":7.25,\"employee\":\"Johan VAN GUCHT\",\"date\":\"2023-03-22T23:00:00.000Z\",\"warehouseId\":39},{\"hoursWorked\":11.75,\"employee\":\"Johan VAN GUCHT\",\"date\":\"2023-03-23T23:00:00.000Z\",\"warehouseId\":39},{\"hoursWorked\":10.66666666666667,\"employee\":\"Johan VAN GUCHT\",\"date\":\"2023-03-25T23:00:00.000Z\",\"warehouseId\":39},{\"hoursWorked\":6.083333333333333,\"employee\":\"Johan VAN GUCHT\",\"date\":\"2023-03-26T22:00:00.000Z\",\"warehouseId\":39},{\"hoursWorked\":6.666666666666667,\"employee\":\"Johan VAN GUCHT\",\"date\":\"2023-03-27T22:00:00.000Z\",\"warehouseId\":39},{\"hoursWorked\":10.56666666666667,\"employee\":\"Johan VAN GUCHT\",\"date\":\"2023-03-29T22:00:00.000Z\",\"warehouseId\":39},{\"hoursWorked\":4.083333333333333,\"employee\":\"Sylvie DE MEYER\",\"date\":\"2023-03-05T23:00:00.000Z\",\"warehouseId\":39},{\"hoursWorked\":4.25,\"employee\":\"Sylvie DE MEYER\",\"date\":\"2023-03-06T23:00:00.000Z\",\"warehouseId\":39},{\"hoursWorked\":4.133333333333334,\"employee\":\"Sylvie DE MEYER\",\"date\":\"2023-03-07T23:00:00.000Z\",\"warehouseId\":39},{\"hoursWorked\":4.15,\"employee\":\"Sylvie DE MEYER\",\"date\":\"2023-03-13T23:00:00.000Z\",\"warehouseId\":39},{\"hoursWorked\":4.483333333333333,\"employee\":\"Sylvie DE MEYER\",\"date\":\"2023-03-14T23:00:00.000Z\",\"warehouseId\":39},{\"hoursWorked\":4.25,\"employee\":\"Sylvie DE MEYER\",\"date\":\"2023-03-15T23:00:00.000Z\",\"warehouseId\":39},{\"hoursWorked\":4.283333333333333,\"employee\":\"Sylvie DE MEYER\",\"date\":\"2023-03-26T22:00:00.000Z\",\"warehouseId\":39},{\"hoursWorked\":4.3,\"employee\":\"Sylvie DE MEYER\",\"date\":\"2023-03-27T22:00:00.000Z\",\"warehouseId\":39},{\"hoursWorked\":4.166666666666667,\"employee\":\"Sylvie DE MEYER\",\"date\":\"2023-03-28T22:00:00.000Z\",\"warehouseId\":39},{\"hoursWorked\":5.4,\"employee\":\"Roos VANDEKERCKHOVE\",\"date\":\"2023-03-01T23:00:00.000Z\",\"warehouseId\":39},{\"hoursWorked\":5.95,\"employee\":\"Roos VANDEKERCKHOVE\",\"date\":\"2023-03-02T23:00:00.000Z\",\"warehouseId\":39},{\"hoursWorked\":5.05,\"employee\":\"Roos VANDEKERCKHOVE\",\"date\":\"2023-03-03T23:00:00.000Z\",\"warehouseId\":39},{\"hoursWorked\":5.833333333333333,\"employee\":\"Roos VANDEKERCKHOVE\",\"date\":\"2023-03-05T23:00:00.000Z\",\"warehouseId\":39},{\"hoursWorked\":5.916666666666667,\"employee\":\"Roos VANDEKERCKHOVE\",\"date\":\"2023-03-06T23:00:00.000Z\",\"warehouseId\":39},{\"hoursWorked\":3.466666666666667,\"employee\":\"Roos VANDEKERCKHOVE\",\"date\":\"2023-03-07T23:00:00.000Z\",\"warehouseId\":39},{\"hoursWorked\":5.533333333333333,\"employee\":\"Roos VANDEKERCKHOVE\",\"date\":\"2023-03-08T23:00:00.000Z\",\"warehouseId\":39},{\"hoursWorked\":8.85,\"employee\":\"Roos VANDEKERCKHOVE\",\"date\":\"2023-03-09T23:00:00.000Z\",\"warehouseId\":39},{\"hoursWorked\":5.466666666666667,\"employee\":\"Roos VANDEKERCKHOVE\",\"date\":\"2023-03-12T23:00:00.000Z\",\"warehouseId\":39},{\"hoursWorked\":5.116666666666666,\"employee\":\"Roos VANDEKERCKHOVE\",\"date\":\"2023-03-13T23:00:00.000Z\",\"warehouseId\":39},{\"hoursWorked\":5.833333333333333,\"employee\":\"Roos VANDEKERCKHOVE\",\"date\":\"2023-03-14T23:00:00.000Z\",\"warehouseId\":39},{\"hoursWorked\":6.233333333333333,\"employee\":\"Roos VANDEKERCKHOVE\",\"date\":\"2023-03-15T23:00:00.000Z\",\"warehouseId\":39},{\"hoursWorked\":5.983333333333333,\"employee\":\"Roos VANDEKERCKHOVE\",\"date\":\"2023-03-16T23:00:00.000Z\",\"warehouseId\":39},{\"hoursWorked\":10,\"employee\":\"Roos VANDEKERCKHOVE\",\"date\":\"2023-03-19T23:00:00.000Z\",\"warehouseId\":39},{\"hoursWorked\":6.066666666666666,\"employee\":\"Roos VANDEKERCKHOVE\",\"date\":\"2023-03-20T23:00:00.000Z\",\"warehouseId\":39},{\"hoursWorked\":6.2,\"employee\":\"Roos VANDEKERCKHOVE\",\"date\":\"2023-03-21T23:00:00.000Z\",\"warehouseId\":39},{\"hoursWorked\":6.1,\"employee\":\"Roos VANDEKERCKHOVE\",\"date\":\"2023-03-22T23:00:00.000Z\",\"warehouseId\":39},{\"hoursWorked\":5.266666666666667,\"employee\":\"Roos VANDEKERCKHOVE\",\"date\":\"2023-03-23T23:00:00.000Z\",\"warehouseId\":39},{\"hoursWorked\":10.25,\"employee\":\"Roos VANDEKERCKHOVE\",\"date\":\"2023-03-26T22:00:00.000Z\",\"warehouseId\":39},{\"hoursWorked\":3.666666666666667,\"employee\":\"Roos VANDEKERCKHOVE\",\"date\":\"2023-03-27T22:00:00.000Z\",\"warehouseId\":39},{\"hoursWorked\":6.05,\"employee\":\"Roos VANDEKERCKHOVE\",\"date\":\"2023-03-28T22:00:00.000Z\",\"warehouseId\":39},{\"hoursWorked\":6.2,\"employee\":\"Roos VANDEKERCKHOVE\",\"date\":\"2023-03-29T22:00:00.000Z\",\"warehouseId\":39},{\"hoursWorked\":6.133333333333334,\"employee\":\"Roos VANDEKERCKHOVE\",\"date\":\"2023-03-30T22:00:00.000Z\",\"warehouseId\":39},{\"hoursWorked\":4.1,\"employee\":\"Britt JOORIS\",\"date\":\"2023-03-18T23:00:00.000Z\",\"warehouseId\":39},{\"hoursWorked\":4.183333333333334,\"employee\":\"Britt JOORIS\",\"date\":\"2023-03-25T23:00:00.000Z\",\"warehouseId\":39},{\"hoursWorked\":5.033333333333333,\"employee\":\"Jules DE WITTE\",\"date\":\"2023-03-03T23:00:00.000Z\",\"warehouseId\":39},{\"hoursWorked\":5.033333333333333,\"employee\":\"Jules DE WITTE\",\"date\":\"2023-03-10T23:00:00.000Z\",\"warehouseId\":39},{\"hoursWorked\":5.05,\"employee\":\"Alix VERSTRAETEN\",\"date\":\"2023-03-24T23:00:00.000Z\",\"warehouseId\":39},{\"hoursWorked\":3.566666666666667,\"employee\":\"Stefanie VERMEERSCH\",\"date\":\"2023-03-01T23:00:00.000Z\",\"warehouseId\":39},{\"hoursWorked\":5.866666666666666,\"employee\":\"Stefanie VERMEERSCH\",\"date\":\"2023-03-05T23:00:00.000Z\",\"warehouseId\":39},{\"hoursWorked\":4.083333333333333,\"employee\":\"Stefanie VERMEERSCH\",\"date\":\"2023-03-08T23:00:00.000Z\",\"warehouseId\":39},{\"hoursWorked\":5.566666666666666,\"employee\":\"Stefanie VERMEERSCH\",\"date\":\"2023-03-12T23:00:00.000Z\",\"warehouseId\":39},{\"hoursWorked\":1.65,\"employee\":\"Stefanie VERMEERSCH\",\"date\":\"2023-03-15T23:00:00.000Z\",\"warehouseId\":39},{\"hoursWorked\":1.833333333333333,\"employee\":\"Stefanie VERMEERSCH\",\"date\":\"2023-03-19T23:00:00.000Z\",\"warehouseId\":39},{\"hoursWorked\":4.133333333333334,\"employee\":\"Stefanie VERMEERSCH\",\"date\":\"2023-03-22T23:00:00.000Z\",\"warehouseId\":39},{\"hoursWorked\":4.516666666666667,\"employee\":\"Stefanie VERMEERSCH\",\"date\":\"2023-03-26T22:00:00.000Z\",\"warehouseId\":39},{\"hoursWorked\":6.15,\"employee\":\"Anna SCHEPENS\",\"date\":\"2023-03-03T23:00:00.000Z\",\"warehouseId\":39},{\"hoursWorked\":6.083333333333333,\"employee\":\"Anna SCHEPENS\",\"date\":\"2023-03-10T23:00:00.000Z\",\"warehouseId\":39},{\"hoursWorked\":6.016666666666667,\"employee\":\"Anna SCHEPENS\",\"date\":\"2023-03-17T23:00:00.000Z\",\"warehouseId\":39},{\"hoursWorked\":6.016666666666667,\"employee\":\"Anna SCHEPENS\",\"date\":\"2023-03-24T23:00:00.000Z\",\"warehouseId\":39},{\"hoursWorked\":5.233333333333333,\"employee\":\"Ella DE GRAEVE\",\"date\":\"2023-03-18T23:00:00.000Z\",\"warehouseId\":39},{\"hoursWorked\":5.1,\"employee\":\"Lies VERSTRAETEN\",\"date\":\"2023-03-17T23:00:00.000Z\",\"warehouseId\":39},{\"hoursWorked\":4.616666666666666,\"employee\":\"Lies VERSTRAETEN\",\"date\":\"2023-03-24T23:00:00.000Z\",\"warehouseId\":39},{\"hoursWorked\":10.58333333333333,\"employee\":\"Thomas MOT\",\"date\":\"2023-03-03T23:00:00.000Z\",\"warehouseId\":39},{\"hoursWorked\":6,\"employee\":\"Thomas MOT\",\"date\":\"2023-03-04T23:00:00.000Z\",\"warehouseId\":39},{\"hoursWorked\":5.75,\"employee\":\"Thomas MOT\",\"date\":\"2023-03-06T23:00:00.000Z\",\"warehouseId\":39},{\"hoursWorked\":6.8,\"employee\":\"Thomas MOT\",\"date\":\"2023-03-07T23:00:00.000Z\",\"warehouseId\":39},{\"hoursWorked\":7.016666666666667,\"employee\":\"Thomas MOT\",\"date\":\"2023-03-08T23:00:00.000Z\",\"warehouseId\":39},{\"hoursWorked\":11.25,\"employee\":\"Thomas MOT\",\"date\":\"2023-03-09T23:00:00.000Z\",\"warehouseId\":39},{\"hoursWorked\":7.183333333333334,\"employee\":\"Thomas MOT\",\"date\":\"2023-03-10T23:00:00.000Z\",\"warehouseId\":39},{\"hoursWorked\":3.5,\"employee\":\"Thomas MOT\",\"date\":\"2023-03-11T23:00:00.000Z\",\"warehouseId\":39},{\"hoursWorked\":6.333333333333333,\"employee\":\"Thomas MOT\",\"date\":\"2023-03-13T23:00:00.000Z\",\"warehouseId\":39},{\"hoursWorked\":7.75,\"employee\":\"Thomas MOT\",\"date\":\"2023-03-14T23:00:00.000Z\",\"warehouseId\":39},{\"hoursWorked\":10.76666666666667,\"employee\":\"Thomas MOT\",\"date\":\"2023-03-15T23:00:00.000Z\",\"warehouseId\":39},{\"hoursWorked\":11.18333333333333,\"employee\":\"Thomas MOT\",\"date\":\"2023-03-16T23:00:00.000Z\",\"warehouseId\":39},{\"hoursWorked\":5.05,\"employee\":\"Thomas MOT\",\"date\":\"2023-03-17T23:00:00.000Z\",\"warehouseId\":39},{\"hoursWorked\":10.18333333333333,\"employee\":\"Thomas MOT\",\"date\":\"2023-03-20T23:00:00.000Z\",\"warehouseId\":39},{\"hoursWorked\":7.716666666666667,\"employee\":\"Thomas MOT\",\"date\":\"2023-03-22T23:00:00.000Z\",\"warehouseId\":39},{\"hoursWorked\":11.28333333333333,\"employee\":\"Thomas MOT\",\"date\":\"2023-03-24T23:00:00.000Z\",\"warehouseId\":39},{\"hoursWorked\":7.383333333333334,\"employee\":\"Thomas MOT\",\"date\":\"2023-03-25T23:00:00.000Z\",\"warehouseId\":39},{\"hoursWorked\":9.266666666666667,\"employee\":\"Thomas MOT\",\"date\":\"2023-03-27T22:00:00.000Z\",\"warehouseId\":39},{\"hoursWorked\":6.5,\"employee\":\"Thomas MOT\",\"date\":\"2023-03-28T22:00:00.000Z\",\"warehouseId\":39},{\"hoursWorked\":7.2,\"employee\":\"Thomas MOT\",\"date\":\"2023-03-29T22:00:00.000Z\",\"warehouseId\":39},{\"hoursWorked\":5.75,\"employee\":\"Thomas MOT\",\"date\":\"2023-03-30T22:00:00.000Z\",\"warehouseId\":39},{\"hoursWorked\":6,\"employee\":\"Charlotte DE LANGE\",\"date\":\"2023-03-16T23:00:00.000Z\",\"warehouseId\":39},{\"hoursWorked\":6,\"employee\":\"Charlotte DE LANGE\",\"date\":\"2023-03-17T23:00:00.000Z\",\"warehouseId\":39},{\"hoursWorked\":5.25,\"employee\":\"Charlotte DE LANGE\",\"date\":\"2023-03-18T23:00:00.000Z\",\"warehouseId\":39},{\"hoursWorked\":4.166666666666667,\"employee\":\"Charlotte DE LANGE\",\"date\":\"2023-03-30T22:00:00.000Z\",\"warehouseId\":39},{\"hoursWorked\":5,\"employee\":\"Wout VERSTRAEYEN\",\"date\":\"2023-03-10T23:00:00.000Z\",\"warehouseId\":39},{\"hoursWorked\":6,\"employee\":\"Wout VERSTRAEYEN\",\"date\":\"2023-03-25T23:00:00.000Z\",\"warehouseId\":39},{\"hoursWorked\":4,\"employee\":\"Lisa DE BRUYKER CHABBA\",\"date\":\"2023-03-04T23:00:00.000Z\",\"warehouseId\":39},{\"hoursWorked\":5,\"employee\":\"Lisa DE BRUYKER CHABBA\",\"date\":\"2023-03-11T23:00:00.000Z\",\"warehouseId\":39}]\n",
      "shop LATEM gross margins:\n",
      "{'total_hours': 855.8833333333331}\n"
     ]
    }
   ],
   "source": [
    "def get_hours(month, shop_name):\n",
    "    total_hours = get_hours_worked_for_a_shop_in_a_month(core.get_shop_id(shop_name), month)\n",
    "    return {\n",
    "        \"total_hours\": total_hours\n",
    "    }\n",
    "\n",
    "def test():\n",
    "    shop_names = core.get_shop_names()\n",
    "    shop_stats = {}\n",
    "    for shop_name in shop_names:\n",
    "        gross_margin = get_hours(\"2023-03\", shop_name)\n",
    "        print('shop ' + shop_name + ' gross margins:')\n",
    "        print(gross_margin)\n",
    "        \n",
    "test()"
   ]
  },
  {
   "cell_type": "code",
   "execution_count": null,
   "id": "dc6b5db8",
   "metadata": {},
   "outputs": [],
   "source": [
    "\n",
    "FULLY_LOADED_COST_HOURS = 30 \n",
    "\n",
    "# month: 2023-02\n",
    "# returns the start and end day for a given month (format YYYY-MM-DD)\n",
    "def get_start_and_end_day_for_month(month):\n",
    "    days_in_month = get_days_in_month(month)\n",
    "    return days_in_month[0], days_in_month[-1]\n",
    "\n",
    "def get_gross_margin_for_month(month, shop_name):\n",
    "    start_date, end_date = get_start_and_end_day_for_month(month)\n",
    "    foodcosts = core.get_food_costs_for_period_for_shop_per_day(start_date, end_date, shop_name)\n",
    "    print('foodcosts ok')\n",
    "    foodcosts.index = foodcosts['date']\n",
    "    foodcosts = foodcosts.drop('date', axis=1)\n",
    "    sales = core.get_sales_for_period_for_shop_per_day(start_date, end_date, shop_name)\n",
    "    print('sales ok')\n",
    "    total_hours = get_hours_worked_for_a_shop_in_a_month(core.get_shop_id(shop_name), month)\n",
    "    print('total hours')\n",
    "    gross_margin = float(sales['total_sales'].sum()) - float(foodcosts['total'].sum()) - float(FULLY_LOADED_COST_HOURS) * total_hours\n",
    "    print('gross margin')\n",
    "    return {\n",
    "        \"gross_margin\": gross_margin,\n",
    "        \"total_hours\": total_hours,\n",
    "        \"total_sales\": sales['total_sales'].sum(),\n",
    "        \"total_foodcosts\": float(foodcosts['total'].sum()),\n",
    "        \"total_foodcosts_atelier\": float(foodcosts['atelier'].sum()),\n",
    "        \"total_foodcosts_supplier\": float(foodcosts['supplier'].sum()),\n",
    "    }"
   ]
  },
  {
   "cell_type": "code",
   "execution_count": null,
   "id": "85c8b344",
   "metadata": {},
   "outputs": [
    {
     "name": "stdout",
     "output_type": "stream",
     "text": [
      "config.ini file available... using that\n",
      "config.ini file available... using that\n",
      "foodcosts ok\n",
      "config.ini file available... using that\n",
      "sales ok\n",
      "config.ini file available... using that\n",
      "200\n",
      "[{\"hoursWorked\":7.55,\"employee\":\"Diana ARBELAEZ CORREA\",\"date\":\"2023-03-01T23:00:00.000Z\",\"warehouseId\":4},{\"hoursWorked\":8.033333333333333,\"employee\":\"Diana ARBELAEZ CORREA\",\"date\":\"2023-03-02T23:00:00.000Z\",\"warehouseId\":4},{\"hoursWorked\":0.3333333333333333,\"employee\":\"Diana ARBELAEZ CORREA\",\"date\":\"2023-03-03T23:00:00.000Z\",\"warehouseId\":4},{\"hoursWorked\":7.5,\"employee\":\"Diana ARBELAEZ CORREA\",\"date\":\"2023-03-05T23:00:00.000Z\",\"warehouseId\":4},{\"hoursWorked\":7.433333333333334,\"employee\":\"Diana ARBELAEZ CORREA\",\"date\":\"2023-03-06T23:00:00.000Z\",\"warehouseId\":4},{\"hoursWorked\":7.5,\"employee\":\"Diana ARBELAEZ CORREA\",\"date\":\"2023-03-07T23:00:00.000Z\",\"warehouseId\":4},{\"hoursWorked\":7.5,\"employee\":\"Diana ARBELAEZ CORREA\",\"date\":\"2023-03-08T23:00:00.000Z\",\"warehouseId\":4},{\"hoursWorked\":9.033333333333333,\"employee\":\"Diana ARBELAEZ CORREA\",\"date\":\"2023-03-09T23:00:00.000Z\",\"warehouseId\":4},{\"hoursWorked\":0.3333333333333333,\"employee\":\"Diana ARBELAEZ CORREA\",\"date\":\"2023-03-10T23:00:00.000Z\",\"warehouseId\":4},{\"hoursWorked\":7.683333333333334,\"employee\":\"Diana ARBELAEZ CORREA\",\"date\":\"2023-03-15T23:00:00.000Z\",\"warehouseId\":4},{\"hoursWorked\":9.133333333333333,\"employee\":\"Diana ARBELAEZ CORREA\",\"date\":\"2023-03-16T23:00:00.000Z\",\"warehouseId\":4},{\"hoursWorked\":0.3333333333333333,\"employee\":\"Diana ARBELAEZ CORREA\",\"date\":\"2023-03-17T23:00:00.000Z\",\"warehouseId\":4},{\"hoursWorked\":7.516666666666667,\"employee\":\"Diana ARBELAEZ CORREA\",\"date\":\"2023-03-19T23:00:00.000Z\",\"warehouseId\":4},{\"hoursWorked\":7.6,\"employee\":\"Diana ARBELAEZ CORREA\",\"date\":\"2023-03-20T23:00:00.000Z\",\"warehouseId\":4},{\"hoursWorked\":7.566666666666666,\"employee\":\"Diana ARBELAEZ CORREA\",\"date\":\"2023-03-21T23:00:00.000Z\",\"warehouseId\":4},{\"hoursWorked\":7.55,\"employee\":\"Diana ARBELAEZ CORREA\",\"date\":\"2023-03-22T23:00:00.000Z\",\"warehouseId\":4},{\"hoursWorked\":9.033333333333333,\"employee\":\"Diana ARBELAEZ CORREA\",\"date\":\"2023-03-23T23:00:00.000Z\",\"warehouseId\":4},{\"hoursWorked\":0.3333333333333333,\"employee\":\"Diana ARBELAEZ CORREA\",\"date\":\"2023-03-24T23:00:00.000Z\",\"warehouseId\":4},{\"hoursWorked\":7.633333333333334,\"employee\":\"Diana ARBELAEZ CORREA\",\"date\":\"2023-03-26T22:00:00.000Z\",\"warehouseId\":4},{\"hoursWorked\":7.616666666666666,\"employee\":\"Diana ARBELAEZ CORREA\",\"date\":\"2023-03-27T22:00:00.000Z\",\"warehouseId\":4},{\"hoursWorked\":7.666666666666667,\"employee\":\"Diana ARBELAEZ CORREA\",\"date\":\"2023-03-28T22:00:00.000Z\",\"warehouseId\":4},{\"hoursWorked\":7.533333333333333,\"employee\":\"Diana ARBELAEZ CORREA\",\"date\":\"2023-03-29T22:00:00.000Z\",\"warehouseId\":4},{\"hoursWorked\":9.2,\"employee\":\"Diana ARBELAEZ CORREA\",\"date\":\"2023-03-30T22:00:00.000Z\",\"warehouseId\":4},{\"hoursWorked\":7.766666666666667,\"employee\":\"Nadine DEBROUX\",\"date\":\"2023-03-01T23:00:00.000Z\",\"warehouseId\":4},{\"hoursWorked\":10.16666666666667,\"employee\":\"Nadine DEBROUX\",\"date\":\"2023-03-02T23:00:00.000Z\",\"warehouseId\":4},{\"hoursWorked\":10.1,\"employee\":\"Nadine DEBROUX\",\"date\":\"2023-03-05T23:00:00.000Z\",\"warehouseId\":4},{\"hoursWorked\":7.716666666666667,\"employee\":\"Nadine DEBROUX\",\"date\":\"2023-03-06T23:00:00.000Z\",\"warehouseId\":4},{\"hoursWorked\":9.75,\"employee\":\"Nadine DEBROUX\",\"date\":\"2023-03-07T23:00:00.000Z\",\"warehouseId\":4},{\"hoursWorked\":8.116666666666667,\"employee\":\"Nadine DEBROUX\",\"date\":\"2023-03-08T23:00:00.000Z\",\"warehouseId\":4},{\"hoursWorked\":10.4,\"employee\":\"Nadine DEBROUX\",\"date\":\"2023-03-09T23:00:00.000Z\",\"warehouseId\":4},{\"hoursWorked\":10.31666666666667,\"employee\":\"Nadine DEBROUX\",\"date\":\"2023-03-12T23:00:00.000Z\",\"warehouseId\":4},{\"hoursWorked\":9.95,\"employee\":\"Nadine DEBROUX\",\"date\":\"2023-03-13T23:00:00.000Z\",\"warehouseId\":4},{\"hoursWorked\":10.25,\"employee\":\"Nadine DEBROUX\",\"date\":\"2023-03-14T23:00:00.000Z\",\"warehouseId\":4},{\"hoursWorked\":7.7,\"employee\":\"Nadine DEBROUX\",\"date\":\"2023-03-15T23:00:00.000Z\",\"warehouseId\":4},{\"hoursWorked\":10.2,\"employee\":\"Nadine DEBROUX\",\"date\":\"2023-03-16T23:00:00.000Z\",\"warehouseId\":4},{\"hoursWorked\":10.08333333333333,\"employee\":\"Nadine DEBROUX\",\"date\":\"2023-03-19T23:00:00.000Z\",\"warehouseId\":4},{\"hoursWorked\":7.633333333333334,\"employee\":\"Nadine DEBROUX\",\"date\":\"2023-03-20T23:00:00.000Z\",\"warehouseId\":4},{\"hoursWorked\":10.15,\"employee\":\"Nadine DEBROUX\",\"date\":\"2023-03-21T23:00:00.000Z\",\"warehouseId\":4},{\"hoursWorked\":7.933333333333334,\"employee\":\"Nadine DEBROUX\",\"date\":\"2023-03-22T23:00:00.000Z\",\"warehouseId\":4},{\"hoursWorked\":10.23333333333333,\"employee\":\"Nadine DEBROUX\",\"date\":\"2023-03-23T23:00:00.000Z\",\"warehouseId\":4},{\"hoursWorked\":10.13333333333333,\"employee\":\"Nadine DEBROUX\",\"date\":\"2023-03-26T22:00:00.000Z\",\"warehouseId\":4},{\"hoursWorked\":7.55,\"employee\":\"Nadine DEBROUX\",\"date\":\"2023-03-27T22:00:00.000Z\",\"warehouseId\":4},{\"hoursWorked\":10.35,\"employee\":\"Nadine DEBROUX\",\"date\":\"2023-03-28T22:00:00.000Z\",\"warehouseId\":4},{\"hoursWorked\":7.583333333333333,\"employee\":\"Nadine DEBROUX\",\"date\":\"2023-03-29T22:00:00.000Z\",\"warehouseId\":4},{\"hoursWorked\":10.16666666666667,\"employee\":\"Nadine DEBROUX\",\"date\":\"2023-03-30T22:00:00.000Z\",\"warehouseId\":4},{\"hoursWorked\":2,\"employee\":\"Anne LIPPENS\",\"date\":\"2023-03-01T23:00:00.000Z\",\"warehouseId\":4},{\"hoursWorked\":0.75,\"employee\":\"Anne LIPPENS\",\"date\":\"2023-03-08T23:00:00.000Z\",\"warehouseId\":4},{\"hoursWorked\":10.53333333333333,\"employee\":\"Anne LIPPENS\",\"date\":\"2023-03-10T23:00:00.000Z\",\"warehouseId\":4},{\"hoursWorked\":10.55,\"employee\":\"Anne LIPPENS\",\"date\":\"2023-03-11T23:00:00.000Z\",\"warehouseId\":4},{\"hoursWorked\":11.36666666666667,\"employee\":\"Anne LIPPENS\",\"date\":\"2023-03-12T23:00:00.000Z\",\"warehouseId\":4},{\"hoursWorked\":10.46666666666667,\"employee\":\"Anne LIPPENS\",\"date\":\"2023-03-23T23:00:00.000Z\",\"warehouseId\":4},{\"hoursWorked\":10.4,\"employee\":\"Anne LIPPENS\",\"date\":\"2023-03-24T23:00:00.000Z\",\"warehouseId\":4},{\"hoursWorked\":10.18333333333333,\"employee\":\"Anne LIPPENS\",\"date\":\"2023-03-25T23:00:00.000Z\",\"warehouseId\":4},{\"hoursWorked\":10.4,\"employee\":\"Anne LIPPENS\",\"date\":\"2023-03-26T22:00:00.000Z\",\"warehouseId\":4},{\"hoursWorked\":1.25,\"employee\":\"Anne LIPPENS\",\"date\":\"2023-03-29T22:00:00.000Z\",\"warehouseId\":4},{\"hoursWorked\":10.15,\"employee\":\"Myriam VANDERHAEGEN\",\"date\":\"2023-03-03T23:00:00.000Z\",\"warehouseId\":4},{\"hoursWorked\":3.833333333333333,\"employee\":\"Myriam VANDERHAEGEN\",\"date\":\"2023-03-04T23:00:00.000Z\",\"warehouseId\":4},{\"hoursWorked\":5.066666666666666,\"employee\":\"Myriam VANDERHAEGEN\",\"date\":\"2023-03-05T23:00:00.000Z\",\"warehouseId\":4},{\"hoursWorked\":5.383333333333334,\"employee\":\"Myriam VANDERHAEGEN\",\"date\":\"2023-03-08T23:00:00.000Z\",\"warehouseId\":4},{\"hoursWorked\":5.15,\"employee\":\"Myriam VANDERHAEGEN\",\"date\":\"2023-03-15T23:00:00.000Z\",\"warehouseId\":4},{\"hoursWorked\":10.41666666666667,\"employee\":\"Myriam VANDERHAEGEN\",\"date\":\"2023-03-17T23:00:00.000Z\",\"warehouseId\":4},{\"hoursWorked\":5.35,\"employee\":\"Myriam VANDERHAEGEN\",\"date\":\"2023-03-18T23:00:00.000Z\",\"warehouseId\":4},{\"hoursWorked\":5.6,\"employee\":\"Myriam VANDERHAEGEN\",\"date\":\"2023-03-19T23:00:00.000Z\",\"warehouseId\":4},{\"hoursWorked\":10.15,\"employee\":\"Myriam VANDERHAEGEN\",\"date\":\"2023-03-21T23:00:00.000Z\",\"warehouseId\":4},{\"hoursWorked\":10.18333333333333,\"employee\":\"Myriam VANDERHAEGEN\",\"date\":\"2023-03-22T23:00:00.000Z\",\"warehouseId\":4},{\"hoursWorked\":6.133333333333334,\"employee\":\"Myriam VANDERHAEGEN\",\"date\":\"2023-03-29T22:00:00.000Z\",\"warehouseId\":4},{\"hoursWorked\":6.083333333333333,\"employee\":\"Armando APARICIO PEREZ\",\"date\":\"2023-03-01T23:00:00.000Z\",\"warehouseId\":4},{\"hoursWorked\":7.95,\"employee\":\"Armando APARICIO PEREZ\",\"date\":\"2023-03-02T23:00:00.000Z\",\"warehouseId\":4},{\"hoursWorked\":8.216666666666667,\"employee\":\"Armando APARICIO PEREZ\",\"date\":\"2023-03-03T23:00:00.000Z\",\"warehouseId\":4},{\"hoursWorked\":5.166666666666667,\"employee\":\"Armando APARICIO PEREZ\",\"date\":\"2023-03-06T23:00:00.000Z\",\"warehouseId\":4},{\"hoursWorked\":6.133333333333334,\"employee\":\"Armando APARICIO PEREZ\",\"date\":\"2023-03-07T23:00:00.000Z\",\"warehouseId\":4},{\"hoursWorked\":6.316666666666666,\"employee\":\"Armando APARICIO PEREZ\",\"date\":\"2023-03-08T23:00:00.000Z\",\"warehouseId\":4},{\"hoursWorked\":8.1,\"employee\":\"Armando APARICIO PEREZ\",\"date\":\"2023-03-09T23:00:00.000Z\",\"warehouseId\":4},{\"hoursWorked\":6.683333333333334,\"employee\":\"Armando APARICIO PEREZ\",\"date\":\"2023-03-10T23:00:00.000Z\",\"warehouseId\":4},{\"hoursWorked\":5.333333333333333,\"employee\":\"Armando APARICIO PEREZ\",\"date\":\"2023-03-13T23:00:00.000Z\",\"warehouseId\":4},{\"hoursWorked\":6.316666666666666,\"employee\":\"Armando APARICIO PEREZ\",\"date\":\"2023-03-14T23:00:00.000Z\",\"warehouseId\":4},{\"hoursWorked\":6.033333333333333,\"employee\":\"Armando APARICIO PEREZ\",\"date\":\"2023-03-15T23:00:00.000Z\",\"warehouseId\":4},{\"hoursWorked\":8.3,\"employee\":\"Armando APARICIO PEREZ\",\"date\":\"2023-03-16T23:00:00.000Z\",\"warehouseId\":4},{\"hoursWorked\":8.083333333333334,\"employee\":\"Armando APARICIO PEREZ\",\"date\":\"2023-03-17T23:00:00.000Z\",\"warehouseId\":4},{\"hoursWorked\":5.433333333333334,\"employee\":\"Armando APARICIO PEREZ\",\"date\":\"2023-03-20T23:00:00.000Z\",\"warehouseId\":4},{\"hoursWorked\":6.183333333333334,\"employee\":\"Armando APARICIO PEREZ\",\"date\":\"2023-03-21T23:00:00.000Z\",\"warehouseId\":4},{\"hoursWorked\":6.4,\"employee\":\"Armando APARICIO PEREZ\",\"date\":\"2023-03-22T23:00:00.000Z\",\"warehouseId\":4},{\"hoursWorked\":8.35,\"employee\":\"Armando APARICIO PEREZ\",\"date\":\"2023-03-23T23:00:00.000Z\",\"warehouseId\":4},{\"hoursWorked\":5.566666666666666,\"employee\":\"Armando APARICIO PEREZ\",\"date\":\"2023-03-27T22:00:00.000Z\",\"warehouseId\":4},{\"hoursWorked\":6.266666666666667,\"employee\":\"Armando APARICIO PEREZ\",\"date\":\"2023-03-28T22:00:00.000Z\",\"warehouseId\":4},{\"hoursWorked\":6.233333333333333,\"employee\":\"Armando APARICIO PEREZ\",\"date\":\"2023-03-29T22:00:00.000Z\",\"warehouseId\":4},{\"hoursWorked\":8.683333333333334,\"employee\":\"Armando APARICIO PEREZ\",\"date\":\"2023-03-30T22:00:00.000Z\",\"warehouseId\":4},{\"hoursWorked\":8.916666666666666,\"employee\":\"Esther ZHU\",\"date\":\"2023-03-03T23:00:00.000Z\",\"warehouseId\":4},{\"hoursWorked\":6.483333333333333,\"employee\":\"Esther ZHU\",\"date\":\"2023-03-04T23:00:00.000Z\",\"warehouseId\":4},{\"hoursWorked\":9.916666666666666,\"employee\":\"Esther ZHU\",\"date\":\"2023-03-10T23:00:00.000Z\",\"warehouseId\":4},{\"hoursWorked\":10,\"employee\":\"Esther ZHU\",\"date\":\"2023-03-11T23:00:00.000Z\",\"warehouseId\":4},{\"hoursWorked\":9.833333333333334,\"employee\":\"Esther ZHU\",\"date\":\"2023-03-17T23:00:00.000Z\",\"warehouseId\":4},{\"hoursWorked\":5.15,\"employee\":\"Esther ZHU\",\"date\":\"2023-03-18T23:00:00.000Z\",\"warehouseId\":4},{\"hoursWorked\":10.21666666666667,\"employee\":\"Esther ZHU\",\"date\":\"2023-03-24T23:00:00.000Z\",\"warehouseId\":4},{\"hoursWorked\":9.933333333333334,\"employee\":\"Esther ZHU\",\"date\":\"2023-03-25T23:00:00.000Z\",\"warehouseId\":4},{\"hoursWorked\":10.73333333333333,\"employee\":\"Charlotte SNEYERS\",\"date\":\"2023-03-01T23:00:00.000Z\",\"warehouseId\":4},{\"hoursWorked\":10.26666666666667,\"employee\":\"Charlotte SNEYERS\",\"date\":\"2023-03-02T23:00:00.000Z\",\"warehouseId\":4},{\"hoursWorked\":9.866666666666667,\"employee\":\"Charlotte SNEYERS\",\"date\":\"2023-03-06T23:00:00.000Z\",\"warehouseId\":4},{\"hoursWorked\":10.13333333333333,\"employee\":\"Charlotte SNEYERS\",\"date\":\"2023-03-07T23:00:00.000Z\",\"warehouseId\":4},{\"hoursWorked\":8.45,\"employee\":\"Charlotte SNEYERS\",\"date\":\"2023-03-08T23:00:00.000Z\",\"warehouseId\":4},{\"hoursWorked\":10.06666666666667,\"employee\":\"Charlotte SNEYERS\",\"date\":\"2023-03-13T23:00:00.000Z\",\"warehouseId\":4},{\"hoursWorked\":10.41666666666667,\"employee\":\"Charlotte SNEYERS\",\"date\":\"2023-03-14T23:00:00.000Z\",\"warehouseId\":4},{\"hoursWorked\":10.21666666666667,\"employee\":\"Charlotte SNEYERS\",\"date\":\"2023-03-16T23:00:00.000Z\",\"warehouseId\":4},{\"hoursWorked\":10.26666666666667,\"employee\":\"Charlotte SNEYERS\",\"date\":\"2023-03-27T22:00:00.000Z\",\"warehouseId\":4},{\"hoursWorked\":10.5,\"employee\":\"Charlotte SNEYERS\",\"date\":\"2023-03-28T22:00:00.000Z\",\"warehouseId\":4},{\"hoursWorked\":10.85,\"employee\":\"Charlotte SNEYERS\",\"date\":\"2023-03-29T22:00:00.000Z\",\"warehouseId\":4},{\"hoursWorked\":10.25,\"employee\":\"Charlotte SNEYERS\",\"date\":\"2023-03-30T22:00:00.000Z\",\"warehouseId\":4},{\"hoursWorked\":5.15,\"employee\":\"Luca BORGO\",\"date\":\"2023-03-05T23:00:00.000Z\",\"warehouseId\":4},{\"hoursWorked\":10.4,\"employee\":\"Luca BORGO\",\"date\":\"2023-03-09T23:00:00.000Z\",\"warehouseId\":4},{\"hoursWorked\":5.333333333333333,\"employee\":\"Luca BORGO\",\"date\":\"2023-03-19T23:00:00.000Z\",\"warehouseId\":4},{\"hoursWorked\":10.2,\"employee\":\"Luca BORGO\",\"date\":\"2023-03-20T23:00:00.000Z\",\"warehouseId\":4},{\"hoursWorked\":10.65,\"employee\":\"Maxime VANHAMME\",\"date\":\"2023-03-03T23:00:00.000Z\",\"warehouseId\":4},{\"hoursWorked\":10.26666666666667,\"employee\":\"Maxime VANHAMME\",\"date\":\"2023-03-04T23:00:00.000Z\",\"warehouseId\":4},{\"hoursWorked\":10.6,\"employee\":\"Maxime VANHAMME\",\"date\":\"2023-03-17T23:00:00.000Z\",\"warehouseId\":4},{\"hoursWorked\":10.3,\"employee\":\"Maxime VANHAMME\",\"date\":\"2023-03-18T23:00:00.000Z\",\"warehouseId\":4},{\"hoursWorked\":6.733333333333333,\"employee\":\"Ronny BERT\",\"date\":\"2023-03-04T23:00:00.000Z\",\"warehouseId\":4},{\"hoursWorked\":8.2,\"employee\":\"Ronny BERT\",\"date\":\"2023-03-10T23:00:00.000Z\",\"warehouseId\":4},{\"hoursWorked\":7.45,\"employee\":\"Ronny BERT\",\"date\":\"2023-03-11T23:00:00.000Z\",\"warehouseId\":4},{\"hoursWorked\":6.666666666666667,\"employee\":\"Ronny BERT\",\"date\":\"2023-03-18T23:00:00.000Z\",\"warehouseId\":4},{\"hoursWorked\":8.683333333333334,\"employee\":\"Ronny BERT\",\"date\":\"2023-03-24T23:00:00.000Z\",\"warehouseId\":4},{\"hoursWorked\":7.1,\"employee\":\"Ronny BERT\",\"date\":\"2023-03-25T23:00:00.000Z\",\"warehouseId\":4},{\"hoursWorked\":5.916666666666667,\"employee\":\"Guy MAWETE\",\"date\":\"2023-03-11T23:00:00.000Z\",\"warehouseId\":4},{\"hoursWorked\":5.616666666666666,\"employee\":\"Guy MAWETE\",\"date\":\"2023-03-18T23:00:00.000Z\",\"warehouseId\":4},{\"hoursWorked\":5.216666666666667,\"employee\":\"Guy MAWETE\",\"date\":\"2023-03-25T23:00:00.000Z\",\"warehouseId\":4},{\"hoursWorked\":8.133333333333333,\"employee\":\"Kris GALOPPIN\",\"date\":\"2023-03-08T23:00:00.000Z\",\"warehouseId\":4},{\"hoursWorked\":8.216666666666667,\"employee\":\"Kris GALOPPIN\",\"date\":\"2023-03-09T23:00:00.000Z\",\"warehouseId\":4},{\"hoursWorked\":10.25,\"employee\":\"Kris GALOPPIN\",\"date\":\"2023-03-10T23:00:00.000Z\",\"warehouseId\":4},{\"hoursWorked\":7.1,\"employee\":\"Kris GALOPPIN\",\"date\":\"2023-03-11T23:00:00.000Z\",\"warehouseId\":4},{\"hoursWorked\":10.03333333333333,\"employee\":\"Kris GALOPPIN\",\"date\":\"2023-03-12T23:00:00.000Z\",\"warehouseId\":4},{\"hoursWorked\":5.133333333333334,\"employee\":\"Kris GALOPPIN\",\"date\":\"2023-03-13T23:00:00.000Z\",\"warehouseId\":4},{\"hoursWorked\":10.2,\"employee\":\"Kris GALOPPIN\",\"date\":\"2023-03-16T23:00:00.000Z\",\"warehouseId\":4},{\"hoursWorked\":10.25,\"employee\":\"Kris GALOPPIN\",\"date\":\"2023-03-17T23:00:00.000Z\",\"warehouseId\":4},{\"hoursWorked\":8.266666666666667,\"employee\":\"Kris GALOPPIN\",\"date\":\"2023-03-18T23:00:00.000Z\",\"warehouseId\":4},{\"hoursWorked\":10.16666666666667,\"employee\":\"Kris GALOPPIN\",\"date\":\"2023-03-23T23:00:00.000Z\",\"warehouseId\":4},{\"hoursWorked\":10.28333333333333,\"employee\":\"Kris GALOPPIN\",\"date\":\"2023-03-24T23:00:00.000Z\",\"warehouseId\":4},{\"hoursWorked\":7.983333333333333,\"employee\":\"Kris GALOPPIN\",\"date\":\"2023-03-25T23:00:00.000Z\",\"warehouseId\":4},{\"hoursWorked\":10.08333333333333,\"employee\":\"Kris GALOPPIN\",\"date\":\"2023-03-26T22:00:00.000Z\",\"warehouseId\":4},{\"hoursWorked\":10.11666666666667,\"employee\":\"Kris GALOPPIN\",\"date\":\"2023-03-30T22:00:00.000Z\",\"warehouseId\":4}]\n",
      "total hours\n",
      "gross margin\n"
     ]
    },
    {
     "data": {
      "text/plain": [
       "{'gross_margin': 28703.468780000003,\n",
       " 'total_hours': 1106.1833333333332,\n",
       " 'total_sales': 135823.62878,\n",
       " 'total_foodcosts': 73934.66,\n",
       " 'total_foodcosts_atelier': 61721.6,\n",
       " 'total_foodcosts_supplier': 12213.06}"
      ]
     },
     "execution_count": null,
     "metadata": {},
     "output_type": "execute_result"
    }
   ],
   "source": [
    "get_gross_margin_for_month(\"2023-03\",\"Woluwe\")\n"
   ]
  },
  {
   "cell_type": "code",
   "execution_count": null,
   "id": "3590a0ae",
   "metadata": {},
   "outputs": [
    {
     "name": "stdout",
     "output_type": "stream",
     "text": [
      "config.ini file available... using that\n",
      "['La Hulpe', 'Fort Jaco', 'Woluwe', 'Tongres', 'Wemmel', 'CHATELAIN', 'OVERIJSE', 'LATEM']\n",
      "config.ini file available... using that\n",
      "config.ini file available... using that\n",
      "foodcosts ok\n",
      "config.ini file available... using that\n",
      "sales ok\n",
      "config.ini file available... using that\n",
      "200\n",
      "[{\"hoursWorked\":11.43333333333333,\"employee\":\"Khalil BOUMESHED\",\"date\":\"2023-03-04T23:00:00.000Z\",\"warehouseId\":12},{\"hoursWorked\":11.1,\"employee\":\"Khalil BOUMESHED\",\"date\":\"2023-03-10T23:00:00.000Z\",\"warehouseId\":12},{\"hoursWorked\":10.95,\"employee\":\"Khalil BOUMESHED\",\"date\":\"2023-03-11T23:00:00.000Z\",\"warehouseId\":12},{\"hoursWorked\":11.01666666666667,\"employee\":\"Khalil BOUMESHED\",\"date\":\"2023-03-14T23:00:00.000Z\",\"warehouseId\":12},{\"hoursWorked\":10.98333333333333,\"employee\":\"Khalil BOUMESHED\",\"date\":\"2023-03-15T23:00:00.000Z\",\"warehouseId\":12},{\"hoursWorked\":11.33333333333333,\"employee\":\"Khalil BOUMESHED\",\"date\":\"2023-03-16T23:00:00.000Z\",\"warehouseId\":12},{\"hoursWorked\":5.166666666666667,\"employee\":\"Khalil BOUMESHED\",\"date\":\"2023-03-18T23:00:00.000Z\",\"warehouseId\":12},{\"hoursWorked\":3,\"employee\":\"Khalil BOUMESHED\",\"date\":\"2023-03-26T22:00:00.000Z\",\"warehouseId\":12},{\"hoursWorked\":11.06666666666667,\"employee\":\"Bram DE KEYSER\",\"date\":\"2023-03-02T23:00:00.000Z\",\"warehouseId\":12},{\"hoursWorked\":11.16666666666667,\"employee\":\"Bram DE KEYSER\",\"date\":\"2023-03-03T23:00:00.000Z\",\"warehouseId\":12},{\"hoursWorked\":11.56666666666667,\"employee\":\"Bram DE KEYSER\",\"date\":\"2023-03-04T23:00:00.000Z\",\"warehouseId\":12},{\"hoursWorked\":11.45,\"employee\":\"Bram DE KEYSER\",\"date\":\"2023-03-05T23:00:00.000Z\",\"warehouseId\":12},{\"hoursWorked\":11.53333333333333,\"employee\":\"Bram DE KEYSER\",\"date\":\"2023-03-08T23:00:00.000Z\",\"warehouseId\":12},{\"hoursWorked\":11.03333333333333,\"employee\":\"Bram DE KEYSER\",\"date\":\"2023-03-09T23:00:00.000Z\",\"warehouseId\":12},{\"hoursWorked\":11.46666666666667,\"employee\":\"Bram DE KEYSER\",\"date\":\"2023-03-12T23:00:00.000Z\",\"warehouseId\":12},{\"hoursWorked\":11.76666666666667,\"employee\":\"Bram DE KEYSER\",\"date\":\"2023-03-13T23:00:00.000Z\",\"warehouseId\":12},{\"hoursWorked\":10.13333333333333,\"employee\":\"Bram DE KEYSER\",\"date\":\"2023-03-16T23:00:00.000Z\",\"warehouseId\":12},{\"hoursWorked\":11.83333333333333,\"employee\":\"Bram DE KEYSER\",\"date\":\"2023-03-17T23:00:00.000Z\",\"warehouseId\":12},{\"hoursWorked\":11.31666666666667,\"employee\":\"Bram DE KEYSER\",\"date\":\"2023-03-18T23:00:00.000Z\",\"warehouseId\":12},{\"hoursWorked\":11.73333333333333,\"employee\":\"Bram DE KEYSER\",\"date\":\"2023-03-19T23:00:00.000Z\",\"warehouseId\":12},{\"hoursWorked\":11.18333333333333,\"employee\":\"Bram DE KEYSER\",\"date\":\"2023-03-22T23:00:00.000Z\",\"warehouseId\":12},{\"hoursWorked\":10.46666666666667,\"employee\":\"Bram DE KEYSER\",\"date\":\"2023-03-23T23:00:00.000Z\",\"warehouseId\":12},{\"hoursWorked\":11.76666666666667,\"employee\":\"Bram DE KEYSER\",\"date\":\"2023-03-27T22:00:00.000Z\",\"warehouseId\":12},{\"hoursWorked\":11.43333333333333,\"employee\":\"Bram DE KEYSER\",\"date\":\"2023-03-30T22:00:00.000Z\",\"warehouseId\":12},{\"hoursWorked\":11.18333333333333,\"employee\":\"Marine JANSSENS\",\"date\":\"2023-03-01T23:00:00.000Z\",\"warehouseId\":12},{\"hoursWorked\":10.81666666666667,\"employee\":\"Marine JANSSENS\",\"date\":\"2023-03-06T23:00:00.000Z\",\"warehouseId\":12},{\"hoursWorked\":11.08333333333333,\"employee\":\"Marine JANSSENS\",\"date\":\"2023-03-07T23:00:00.000Z\",\"warehouseId\":12},{\"hoursWorked\":11.38333333333333,\"employee\":\"Marine JANSSENS\",\"date\":\"2023-03-08T23:00:00.000Z\",\"warehouseId\":12},{\"hoursWorked\":11.15,\"employee\":\"Marine JANSSENS\",\"date\":\"2023-03-10T23:00:00.000Z\",\"warehouseId\":12},{\"hoursWorked\":11.08333333333333,\"employee\":\"Marine JANSSENS\",\"date\":\"2023-03-11T23:00:00.000Z\",\"warehouseId\":12},{\"hoursWorked\":11.28333333333333,\"employee\":\"Marine JANSSENS\",\"date\":\"2023-03-13T23:00:00.000Z\",\"warehouseId\":12},{\"hoursWorked\":7.033333333333333,\"employee\":\"Marine JANSSENS\",\"date\":\"2023-03-14T23:00:00.000Z\",\"warehouseId\":12},{\"hoursWorked\":11.06666666666667,\"employee\":\"Marine JANSSENS\",\"date\":\"2023-03-15T23:00:00.000Z\",\"warehouseId\":12},{\"hoursWorked\":11.18333333333333,\"employee\":\"Marine JANSSENS\",\"date\":\"2023-03-20T23:00:00.000Z\",\"warehouseId\":12},{\"hoursWorked\":11.1,\"employee\":\"Marine JANSSENS\",\"date\":\"2023-03-21T23:00:00.000Z\",\"warehouseId\":12},{\"hoursWorked\":11.16666666666667,\"employee\":\"Marine JANSSENS\",\"date\":\"2023-03-24T23:00:00.000Z\",\"warehouseId\":12},{\"hoursWorked\":11.26666666666667,\"employee\":\"Marine JANSSENS\",\"date\":\"2023-03-25T23:00:00.000Z\",\"warehouseId\":12},{\"hoursWorked\":11.16666666666667,\"employee\":\"Marine JANSSENS\",\"date\":\"2023-03-27T22:00:00.000Z\",\"warehouseId\":12},{\"hoursWorked\":6.85,\"employee\":\"Marine JANSSENS\",\"date\":\"2023-03-28T22:00:00.000Z\",\"warehouseId\":12},{\"hoursWorked\":11.71666666666667,\"employee\":\"Marine JANSSENS\",\"date\":\"2023-03-29T22:00:00.000Z\",\"warehouseId\":12},{\"hoursWorked\":10.95,\"employee\":\"Fernando HERNANDEZ GUARDADO\",\"date\":\"2023-03-02T23:00:00.000Z\",\"warehouseId\":12},{\"hoursWorked\":10.98333333333333,\"employee\":\"Fernando HERNANDEZ GUARDADO\",\"date\":\"2023-03-03T23:00:00.000Z\",\"warehouseId\":12},{\"hoursWorked\":11.11666666666667,\"employee\":\"Fernando HERNANDEZ GUARDADO\",\"date\":\"2023-03-04T23:00:00.000Z\",\"warehouseId\":12},{\"hoursWorked\":10.86666666666667,\"employee\":\"Fernando HERNANDEZ GUARDADO\",\"date\":\"2023-03-06T23:00:00.000Z\",\"warehouseId\":12},{\"hoursWorked\":11.8,\"employee\":\"Fernando HERNANDEZ GUARDADO\",\"date\":\"2023-03-12T23:00:00.000Z\",\"warehouseId\":12},{\"hoursWorked\":3.95,\"employee\":\"Fernando HERNANDEZ GUARDADO\",\"date\":\"2023-03-14T23:00:00.000Z\",\"warehouseId\":12},{\"hoursWorked\":11.28333333333333,\"employee\":\"Fernando HERNANDEZ GUARDADO\",\"date\":\"2023-03-16T23:00:00.000Z\",\"warehouseId\":12},{\"hoursWorked\":11.53333333333333,\"employee\":\"Fernando HERNANDEZ GUARDADO\",\"date\":\"2023-03-17T23:00:00.000Z\",\"warehouseId\":12},{\"hoursWorked\":11.13333333333333,\"employee\":\"Fernando HERNANDEZ GUARDADO\",\"date\":\"2023-03-18T23:00:00.000Z\",\"warehouseId\":12},{\"hoursWorked\":10.95,\"employee\":\"Fernando HERNANDEZ GUARDADO\",\"date\":\"2023-03-20T23:00:00.000Z\",\"warehouseId\":12},{\"hoursWorked\":11.18333333333333,\"employee\":\"Fernando HERNANDEZ GUARDADO\",\"date\":\"2023-03-21T23:00:00.000Z\",\"warehouseId\":12},{\"hoursWorked\":10.71666666666667,\"employee\":\"Fernando HERNANDEZ GUARDADO\",\"date\":\"2023-03-22T23:00:00.000Z\",\"warehouseId\":12},{\"hoursWorked\":11.41666666666667,\"employee\":\"Fernando HERNANDEZ GUARDADO\",\"date\":\"2023-03-23T23:00:00.000Z\",\"warehouseId\":12},{\"hoursWorked\":11.55,\"employee\":\"Fernando HERNANDEZ GUARDADO\",\"date\":\"2023-03-26T22:00:00.000Z\",\"warehouseId\":12},{\"hoursWorked\":4.2,\"employee\":\"Fernando HERNANDEZ GUARDADO\",\"date\":\"2023-03-28T22:00:00.000Z\",\"warehouseId\":12},{\"hoursWorked\":11.18333333333333,\"employee\":\"Fernando HERNANDEZ GUARDADO\",\"date\":\"2023-03-30T22:00:00.000Z\",\"warehouseId\":12},{\"hoursWorked\":11.18333333333333,\"employee\":\"Paul GUERRERO\",\"date\":\"2023-03-01T23:00:00.000Z\",\"warehouseId\":12},{\"hoursWorked\":11.03333333333333,\"employee\":\"Paul GUERRERO\",\"date\":\"2023-03-02T23:00:00.000Z\",\"warehouseId\":12},{\"hoursWorked\":11.41666666666667,\"employee\":\"Paul GUERRERO\",\"date\":\"2023-03-05T23:00:00.000Z\",\"warehouseId\":12},{\"hoursWorked\":11.16666666666667,\"employee\":\"Paul GUERRERO\",\"date\":\"2023-03-07T23:00:00.000Z\",\"warehouseId\":12},{\"hoursWorked\":10.8,\"employee\":\"Paul GUERRERO\",\"date\":\"2023-03-09T23:00:00.000Z\",\"warehouseId\":12},{\"hoursWorked\":3.166666666666667,\"employee\":\"Paul GUERRERO\",\"date\":\"2023-03-10T23:00:00.000Z\",\"warehouseId\":12},{\"hoursWorked\":11.71666666666667,\"employee\":\"Paul GUERRERO\",\"date\":\"2023-03-19T23:00:00.000Z\",\"warehouseId\":12},{\"hoursWorked\":11.3,\"employee\":\"Paul GUERRERO\",\"date\":\"2023-03-23T23:00:00.000Z\",\"warehouseId\":12},{\"hoursWorked\":11.11666666666667,\"employee\":\"Paul GUERRERO\",\"date\":\"2023-03-24T23:00:00.000Z\",\"warehouseId\":12},{\"hoursWorked\":11.08333333333333,\"employee\":\"Paul GUERRERO\",\"date\":\"2023-03-25T23:00:00.000Z\",\"warehouseId\":12},{\"hoursWorked\":8.666666666666666,\"employee\":\"Paul GUERRERO\",\"date\":\"2023-03-26T22:00:00.000Z\",\"warehouseId\":12},{\"hoursWorked\":11.08333333333333,\"employee\":\"Paul GUERRERO\",\"date\":\"2023-03-28T22:00:00.000Z\",\"warehouseId\":12},{\"hoursWorked\":11.46666666666667,\"employee\":\"Paul GUERRERO\",\"date\":\"2023-03-29T22:00:00.000Z\",\"warehouseId\":12},{\"hoursWorked\":11.13333333333333,\"employee\":\"Fatou YARA\",\"date\":\"2023-03-03T23:00:00.000Z\",\"warehouseId\":12},{\"hoursWorked\":11.13333333333333,\"employee\":\"Fatou YARA\",\"date\":\"2023-03-10T23:00:00.000Z\",\"warehouseId\":12},{\"hoursWorked\":10.71666666666667,\"employee\":\"Fatou YARA\",\"date\":\"2023-03-11T23:00:00.000Z\",\"warehouseId\":12},{\"hoursWorked\":11.6,\"employee\":\"Fatou YARA\",\"date\":\"2023-03-17T23:00:00.000Z\",\"warehouseId\":12},{\"hoursWorked\":6.3,\"employee\":\"Fatou YARA\",\"date\":\"2023-03-18T23:00:00.000Z\",\"warehouseId\":12},{\"hoursWorked\":11,\"employee\":\"Fatou YARA\",\"date\":\"2023-03-25T23:00:00.000Z\",\"warehouseId\":12},{\"hoursWorked\":4.5,\"employee\":\"Johan VAN GUCHT\",\"date\":\"2023-03-30T22:00:00.000Z\",\"warehouseId\":12},{\"hoursWorked\":10.85,\"employee\":\"Benjamin MOENECLAEY\",\"date\":\"2023-03-09T23:00:00.000Z\",\"warehouseId\":12},{\"hoursWorked\":10.76666666666667,\"employee\":\"Benjamin MOENECLAEY\",\"date\":\"2023-03-24T23:00:00.000Z\",\"warehouseId\":12},{\"hoursWorked\":10.65,\"employee\":\"Benjamin MOENECLAEY\",\"date\":\"2023-03-30T22:00:00.000Z\",\"warehouseId\":12},{\"hoursWorked\":8.333333333333334,\"employee\":\"Cécile BOLSAIE\",\"date\":\"2023-03-26T22:00:00.000Z\",\"warehouseId\":12},{\"hoursWorked\":9.266666666666667,\"employee\":\"Cécile BOLSAIE\",\"date\":\"2023-03-27T22:00:00.000Z\",\"warehouseId\":12},{\"hoursWorked\":8.5,\"employee\":\"Cécile BOLSAIE\",\"date\":\"2023-03-28T22:00:00.000Z\",\"warehouseId\":12},{\"hoursWorked\":8.45,\"employee\":\"Cécile BOLSAIE\",\"date\":\"2023-03-29T22:00:00.000Z\",\"warehouseId\":12},{\"hoursWorked\":7.083333333333333,\"employee\":\"Cécile BOLSAIE\",\"date\":\"2023-03-30T22:00:00.000Z\",\"warehouseId\":12}]\n",
      "total hours\n",
      "gross margin\n"
     ]
    },
    {
     "data": {
      "text/plain": [
       "{'gross_margin': 30169.4785,\n",
       " 'total_hours': 866.7333333333332,\n",
       " 'total_sales': 126056.73849999999,\n",
       " 'total_foodcosts': 69885.26,\n",
       " 'total_foodcosts_atelier': 56964.86,\n",
       " 'total_foodcosts_supplier': 12920.4}"
      ]
     },
     "execution_count": null,
     "metadata": {},
     "output_type": "execute_result"
    }
   ],
   "source": [
    "print(core.get_shop_names())\n",
    "get_gross_margin_for_month(\"2023-03\", \"CHATELAIN\")"
   ]
  },
  {
   "cell_type": "code",
   "execution_count": null,
   "id": "8eccda1e",
   "metadata": {},
   "outputs": [
    {
     "name": "stdout",
     "output_type": "stream",
     "text": [
      "config.ini file available... using that\n",
      "config.ini file available... using that\n",
      "config.ini file available... using that\n",
      "foodcosts ok\n",
      "config.ini file available... using that\n",
      "sales ok\n",
      "config.ini file available... using that\n",
      "200\n",
      "[{\"hoursWorked\":3.683333333333333,\"employee\":\"Khalil BOUMESHED\",\"date\":\"2023-03-01T23:00:00.000Z\",\"warehouseId\":2},{\"hoursWorked\":3.783333333333333,\"employee\":\"Khalil BOUMESHED\",\"date\":\"2023-03-23T23:00:00.000Z\",\"warehouseId\":2},{\"hoursWorked\":10.65,\"employee\":\"Maxime VANHAMME\",\"date\":\"2023-03-02T23:00:00.000Z\",\"warehouseId\":2},{\"hoursWorked\":10.58333333333333,\"employee\":\"Maxime VANHAMME\",\"date\":\"2023-03-09T23:00:00.000Z\",\"warehouseId\":2},{\"hoursWorked\":10.53333333333333,\"employee\":\"Maxime VANHAMME\",\"date\":\"2023-03-10T23:00:00.000Z\",\"warehouseId\":2},{\"hoursWorked\":10.18333333333333,\"employee\":\"Maxime VANHAMME\",\"date\":\"2023-03-11T23:00:00.000Z\",\"warehouseId\":2},{\"hoursWorked\":10.38333333333333,\"employee\":\"Maxime VANHAMME\",\"date\":\"2023-03-16T23:00:00.000Z\",\"warehouseId\":2},{\"hoursWorked\":10.51666666666667,\"employee\":\"Maxime VANHAMME\",\"date\":\"2023-03-23T23:00:00.000Z\",\"warehouseId\":2},{\"hoursWorked\":10.65,\"employee\":\"Maxime VANHAMME\",\"date\":\"2023-03-24T23:00:00.000Z\",\"warehouseId\":2},{\"hoursWorked\":10.18333333333333,\"employee\":\"Maxime VANHAMME\",\"date\":\"2023-03-25T23:00:00.000Z\",\"warehouseId\":2},{\"hoursWorked\":10.18333333333333,\"employee\":\"Kevin BETTE\",\"date\":\"2023-03-03T23:00:00.000Z\",\"warehouseId\":2},{\"hoursWorked\":10.08333333333333,\"employee\":\"Kevin BETTE\",\"date\":\"2023-03-04T23:00:00.000Z\",\"warehouseId\":2},{\"hoursWorked\":10.58333333333333,\"employee\":\"Kevin BETTE\",\"date\":\"2023-03-05T23:00:00.000Z\",\"warehouseId\":2},{\"hoursWorked\":11.03333333333333,\"employee\":\"Kevin BETTE\",\"date\":\"2023-03-06T23:00:00.000Z\",\"warehouseId\":2},{\"hoursWorked\":10.28333333333333,\"employee\":\"Kevin BETTE\",\"date\":\"2023-03-07T23:00:00.000Z\",\"warehouseId\":2},{\"hoursWorked\":6.416666666666667,\"employee\":\"Kevin BETTE\",\"date\":\"2023-03-08T23:00:00.000Z\",\"warehouseId\":2},{\"hoursWorked\":10.53333333333333,\"employee\":\"Kevin BETTE\",\"date\":\"2023-03-13T23:00:00.000Z\",\"warehouseId\":2},{\"hoursWorked\":10.5,\"employee\":\"Kevin BETTE\",\"date\":\"2023-03-14T23:00:00.000Z\",\"warehouseId\":2},{\"hoursWorked\":10.5,\"employee\":\"Kevin BETTE\",\"date\":\"2023-03-15T23:00:00.000Z\",\"warehouseId\":2},{\"hoursWorked\":10.51666666666667,\"employee\":\"Kevin BETTE\",\"date\":\"2023-03-16T23:00:00.000Z\",\"warehouseId\":2},{\"hoursWorked\":10.91666666666667,\"employee\":\"Kevin BETTE\",\"date\":\"2023-03-17T23:00:00.000Z\",\"warehouseId\":2},{\"hoursWorked\":10.78333333333333,\"employee\":\"Kevin BETTE\",\"date\":\"2023-03-19T23:00:00.000Z\",\"warehouseId\":2},{\"hoursWorked\":10.75,\"employee\":\"Kevin BETTE\",\"date\":\"2023-03-20T23:00:00.000Z\",\"warehouseId\":2},{\"hoursWorked\":10.75,\"employee\":\"Kevin BETTE\",\"date\":\"2023-03-21T23:00:00.000Z\",\"warehouseId\":2},{\"hoursWorked\":10.73333333333333,\"employee\":\"Kevin BETTE\",\"date\":\"2023-03-22T23:00:00.000Z\",\"warehouseId\":2},{\"hoursWorked\":10.68333333333333,\"employee\":\"Kevin BETTE\",\"date\":\"2023-03-26T22:00:00.000Z\",\"warehouseId\":2},{\"hoursWorked\":10.53333333333333,\"employee\":\"Kevin BETTE\",\"date\":\"2023-03-27T22:00:00.000Z\",\"warehouseId\":2},{\"hoursWorked\":10.65,\"employee\":\"Kevin BETTE\",\"date\":\"2023-03-28T22:00:00.000Z\",\"warehouseId\":2},{\"hoursWorked\":7,\"employee\":\"Léa VAN DEN HOUTE\",\"date\":\"2023-03-04T23:00:00.000Z\",\"warehouseId\":2},{\"hoursWorked\":10,\"employee\":\"Léa VAN DEN HOUTE\",\"date\":\"2023-03-10T23:00:00.000Z\",\"warehouseId\":2},{\"hoursWorked\":3.716666666666667,\"employee\":\"Léa VAN DEN HOUTE\",\"date\":\"2023-03-15T23:00:00.000Z\",\"warehouseId\":2},{\"hoursWorked\":9.916666666666666,\"employee\":\"Léa VAN DEN HOUTE\",\"date\":\"2023-03-17T23:00:00.000Z\",\"warehouseId\":2},{\"hoursWorked\":4.916666666666667,\"employee\":\"Léa VAN DEN HOUTE\",\"date\":\"2023-03-20T23:00:00.000Z\",\"warehouseId\":2},{\"hoursWorked\":3.95,\"employee\":\"Léa VAN DEN HOUTE\",\"date\":\"2023-03-22T23:00:00.000Z\",\"warehouseId\":2},{\"hoursWorked\":10.01666666666667,\"employee\":\"Léa VAN DEN HOUTE\",\"date\":\"2023-03-24T23:00:00.000Z\",\"warehouseId\":2},{\"hoursWorked\":5.033333333333333,\"employee\":\"Léa VAN DEN HOUTE\",\"date\":\"2023-03-29T22:00:00.000Z\",\"warehouseId\":2},{\"hoursWorked\":10.96666666666667,\"employee\":\"Massimo OLIVO\",\"date\":\"2023-03-01T23:00:00.000Z\",\"warehouseId\":2},{\"hoursWorked\":7.95,\"employee\":\"Massimo OLIVO\",\"date\":\"2023-03-02T23:00:00.000Z\",\"warehouseId\":2},{\"hoursWorked\":7.1,\"employee\":\"Massimo OLIVO\",\"date\":\"2023-03-05T23:00:00.000Z\",\"warehouseId\":2},{\"hoursWorked\":6.25,\"employee\":\"Massimo OLIVO\",\"date\":\"2023-03-06T23:00:00.000Z\",\"warehouseId\":2},{\"hoursWorked\":5.5,\"employee\":\"Massimo OLIVO\",\"date\":\"2023-03-07T23:00:00.000Z\",\"warehouseId\":2},{\"hoursWorked\":10.83333333333333,\"employee\":\"Massimo OLIVO\",\"date\":\"2023-03-08T23:00:00.000Z\",\"warehouseId\":2},{\"hoursWorked\":10.58333333333333,\"employee\":\"Massimo OLIVO\",\"date\":\"2023-03-09T23:00:00.000Z\",\"warehouseId\":2},{\"hoursWorked\":11.38333333333333,\"employee\":\"Massimo OLIVO\",\"date\":\"2023-03-12T23:00:00.000Z\",\"warehouseId\":2},{\"hoursWorked\":6.733333333333333,\"employee\":\"Massimo OLIVO\",\"date\":\"2023-03-13T23:00:00.000Z\",\"warehouseId\":2},{\"hoursWorked\":6.466666666666667,\"employee\":\"Massimo OLIVO\",\"date\":\"2023-03-14T23:00:00.000Z\",\"warehouseId\":2},{\"hoursWorked\":10.75,\"employee\":\"Massimo OLIVO\",\"date\":\"2023-03-18T23:00:00.000Z\",\"warehouseId\":2},{\"hoursWorked\":6.666666666666667,\"employee\":\"Massimo OLIVO\",\"date\":\"2023-03-19T23:00:00.000Z\",\"warehouseId\":2},{\"hoursWorked\":6.433333333333334,\"employee\":\"Massimo OLIVO\",\"date\":\"2023-03-27T22:00:00.000Z\",\"warehouseId\":2},{\"hoursWorked\":7.416666666666667,\"employee\":\"Massimo OLIVO\",\"date\":\"2023-03-28T22:00:00.000Z\",\"warehouseId\":2},{\"hoursWorked\":11.3,\"employee\":\"Massimo OLIVO\",\"date\":\"2023-03-29T22:00:00.000Z\",\"warehouseId\":2},{\"hoursWorked\":10.78333333333333,\"employee\":\"Massimo OLIVO\",\"date\":\"2023-03-30T22:00:00.000Z\",\"warehouseId\":2},{\"hoursWorked\":10.05,\"employee\":\"Annabelle GATHY\",\"date\":\"2023-03-03T23:00:00.000Z\",\"warehouseId\":2},{\"hoursWorked\":10.06666666666667,\"employee\":\"Annabelle GATHY\",\"date\":\"2023-03-11T23:00:00.000Z\",\"warehouseId\":2},{\"hoursWorked\":7.4,\"employee\":\"Annabelle GATHY\",\"date\":\"2023-03-12T23:00:00.000Z\",\"warehouseId\":2},{\"hoursWorked\":10.08333333333333,\"employee\":\"Annabelle GATHY\",\"date\":\"2023-03-18T23:00:00.000Z\",\"warehouseId\":2},{\"hoursWorked\":4.616666666666666,\"employee\":\"Annabelle GATHY\",\"date\":\"2023-03-23T23:00:00.000Z\",\"warehouseId\":2},{\"hoursWorked\":10.13333333333333,\"employee\":\"Annabelle GATHY\",\"date\":\"2023-03-25T23:00:00.000Z\",\"warehouseId\":2},{\"hoursWorked\":6.433333333333334,\"employee\":\"Annabelle GATHY\",\"date\":\"2023-03-26T22:00:00.000Z\",\"warehouseId\":2}]\n",
      "total hours\n",
      "gross margin\n",
      "Shop La Hulpe gross margins:\n",
      "config.ini file available... using that\n",
      "config.ini file available... using that\n",
      "foodcosts ok\n",
      "config.ini file available... using that\n",
      "sales ok\n",
      "config.ini file available... using that\n",
      "200\n",
      "[{\"hoursWorked\":9.85,\"employee\":\"Armel KANDJEU\",\"date\":\"2023-03-23T23:00:00.000Z\",\"warehouseId\":3},{\"hoursWorked\":9.85,\"employee\":\"Armel KANDJEU\",\"date\":\"2023-03-24T23:00:00.000Z\",\"warehouseId\":3},{\"hoursWorked\":10.21666666666667,\"employee\":\"Khalil BOUMESHED\",\"date\":\"2023-03-09T23:00:00.000Z\",\"warehouseId\":3},{\"hoursWorked\":10.05,\"employee\":\"Khalil BOUMESHED\",\"date\":\"2023-03-19T23:00:00.000Z\",\"warehouseId\":3},{\"hoursWorked\":10.13333333333333,\"employee\":\"Luca BORGO\",\"date\":\"2023-03-08T23:00:00.000Z\",\"warehouseId\":3},{\"hoursWorked\":10.16666666666667,\"employee\":\"Luca BORGO\",\"date\":\"2023-03-10T23:00:00.000Z\",\"warehouseId\":3},{\"hoursWorked\":5.3,\"employee\":\"Luca BORGO\",\"date\":\"2023-03-11T23:00:00.000Z\",\"warehouseId\":3},{\"hoursWorked\":5.3,\"employee\":\"Luca BORGO\",\"date\":\"2023-03-18T23:00:00.000Z\",\"warehouseId\":3},{\"hoursWorked\":9.25,\"employee\":\"Luca BORGO\",\"date\":\"2023-03-24T23:00:00.000Z\",\"warehouseId\":3},{\"hoursWorked\":5.25,\"employee\":\"Luca BORGO\",\"date\":\"2023-03-25T23:00:00.000Z\",\"warehouseId\":3},{\"hoursWorked\":9.916666666666666,\"employee\":\"Luca BORGO\",\"date\":\"2023-03-26T22:00:00.000Z\",\"warehouseId\":3},{\"hoursWorked\":10.16666666666667,\"employee\":\"Vincenzo LO GATTO\",\"date\":\"2023-03-02T23:00:00.000Z\",\"warehouseId\":3},{\"hoursWorked\":10.16666666666667,\"employee\":\"Vincenzo LO GATTO\",\"date\":\"2023-03-05T23:00:00.000Z\",\"warehouseId\":3},{\"hoursWorked\":10.16666666666667,\"employee\":\"Vincenzo LO GATTO\",\"date\":\"2023-03-06T23:00:00.000Z\",\"warehouseId\":3},{\"hoursWorked\":10.08333333333333,\"employee\":\"Vincenzo LO GATTO\",\"date\":\"2023-03-10T23:00:00.000Z\",\"warehouseId\":3},{\"hoursWorked\":5.266666666666667,\"employee\":\"Vincenzo LO GATTO\",\"date\":\"2023-03-11T23:00:00.000Z\",\"warehouseId\":3},{\"hoursWorked\":10.16666666666667,\"employee\":\"Vincenzo LO GATTO\",\"date\":\"2023-03-12T23:00:00.000Z\",\"warehouseId\":3},{\"hoursWorked\":10.33333333333333,\"employee\":\"Vincenzo LO GATTO\",\"date\":\"2023-03-13T23:00:00.000Z\",\"warehouseId\":3},{\"hoursWorked\":10.08333333333333,\"employee\":\"Vincenzo LO GATTO\",\"date\":\"2023-03-16T23:00:00.000Z\",\"warehouseId\":3},{\"hoursWorked\":10.16666666666667,\"employee\":\"Vincenzo LO GATTO\",\"date\":\"2023-03-24T23:00:00.000Z\",\"warehouseId\":3},{\"hoursWorked\":5.25,\"employee\":\"Vincenzo LO GATTO\",\"date\":\"2023-03-25T23:00:00.000Z\",\"warehouseId\":3},{\"hoursWorked\":10.16666666666667,\"employee\":\"Vincenzo LO GATTO\",\"date\":\"2023-03-26T22:00:00.000Z\",\"warehouseId\":3},{\"hoursWorked\":10,\"employee\":\"Vincenzo LO GATTO\",\"date\":\"2023-03-27T22:00:00.000Z\",\"warehouseId\":3},{\"hoursWorked\":10.08333333333333,\"employee\":\"Vincenzo LO GATTO\",\"date\":\"2023-03-30T22:00:00.000Z\",\"warehouseId\":3},{\"hoursWorked\":10.41666666666667,\"employee\":\"Savina RAJANAH\",\"date\":\"2023-03-01T23:00:00.000Z\",\"warehouseId\":3},{\"hoursWorked\":7,\"employee\":\"Savina RAJANAH\",\"date\":\"2023-03-06T23:00:00.000Z\",\"warehouseId\":3},{\"hoursWorked\":7.116666666666666,\"employee\":\"Savina RAJANAH\",\"date\":\"2023-03-07T23:00:00.000Z\",\"warehouseId\":3},{\"hoursWorked\":9.75,\"employee\":\"Savina RAJANAH\",\"date\":\"2023-03-08T23:00:00.000Z\",\"warehouseId\":3},{\"hoursWorked\":9,\"employee\":\"Savina RAJANAH\",\"date\":\"2023-03-10T23:00:00.000Z\",\"warehouseId\":3},{\"hoursWorked\":5.35,\"employee\":\"Savina RAJANAH\",\"date\":\"2023-03-11T23:00:00.000Z\",\"warehouseId\":3},{\"hoursWorked\":7.066666666666666,\"employee\":\"Savina RAJANAH\",\"date\":\"2023-03-13T23:00:00.000Z\",\"warehouseId\":3},{\"hoursWorked\":7.083333333333333,\"employee\":\"Savina RAJANAH\",\"date\":\"2023-03-14T23:00:00.000Z\",\"warehouseId\":3},{\"hoursWorked\":10.08333333333333,\"employee\":\"Savina RAJANAH\",\"date\":\"2023-03-15T23:00:00.000Z\",\"warehouseId\":3},{\"hoursWorked\":10.15,\"employee\":\"Savina RAJANAH\",\"date\":\"2023-03-17T23:00:00.000Z\",\"warehouseId\":3},{\"hoursWorked\":10.46666666666667,\"employee\":\"Savina RAJANAH\",\"date\":\"2023-03-20T23:00:00.000Z\",\"warehouseId\":3},{\"hoursWorked\":5.616666666666666,\"employee\":\"Savina RAJANAH\",\"date\":\"2023-03-21T23:00:00.000Z\",\"warehouseId\":3},{\"hoursWorked\":10.26666666666667,\"employee\":\"Savina RAJANAH\",\"date\":\"2023-03-22T23:00:00.000Z\",\"warehouseId\":3},{\"hoursWorked\":10.16666666666667,\"employee\":\"Savina RAJANAH\",\"date\":\"2023-03-24T23:00:00.000Z\",\"warehouseId\":3},{\"hoursWorked\":5.25,\"employee\":\"Savina RAJANAH\",\"date\":\"2023-03-25T23:00:00.000Z\",\"warehouseId\":3},{\"hoursWorked\":10,\"employee\":\"Savina RAJANAH\",\"date\":\"2023-03-27T22:00:00.000Z\",\"warehouseId\":3},{\"hoursWorked\":10.45,\"employee\":\"Savina RAJANAH\",\"date\":\"2023-03-28T22:00:00.000Z\",\"warehouseId\":3},{\"hoursWorked\":10.18333333333333,\"employee\":\"Savina RAJANAH\",\"date\":\"2023-03-29T22:00:00.000Z\",\"warehouseId\":3},{\"hoursWorked\":10.21666666666667,\"employee\":\"Maximilien MICHIELS\",\"date\":\"2023-03-02T23:00:00.000Z\",\"warehouseId\":3},{\"hoursWorked\":10.41666666666667,\"employee\":\"Maximilien MICHIELS\",\"date\":\"2023-03-03T23:00:00.000Z\",\"warehouseId\":3},{\"hoursWorked\":5.583333333333333,\"employee\":\"Maximilien MICHIELS\",\"date\":\"2023-03-04T23:00:00.000Z\",\"warehouseId\":3},{\"hoursWorked\":10.25,\"employee\":\"Maximilien MICHIELS\",\"date\":\"2023-03-05T23:00:00.000Z\",\"warehouseId\":3},{\"hoursWorked\":10.25,\"employee\":\"Maximilien MICHIELS\",\"date\":\"2023-03-06T23:00:00.000Z\",\"warehouseId\":3},{\"hoursWorked\":10.5,\"employee\":\"Maximilien MICHIELS\",\"date\":\"2023-03-09T23:00:00.000Z\",\"warehouseId\":3},{\"hoursWorked\":10.16666666666667,\"employee\":\"Maximilien MICHIELS\",\"date\":\"2023-03-12T23:00:00.000Z\",\"warehouseId\":3},{\"hoursWorked\":10.83333333333333,\"employee\":\"Maximilien MICHIELS\",\"date\":\"2023-03-13T23:00:00.000Z\",\"warehouseId\":3},{\"hoursWorked\":10.25,\"employee\":\"Maximilien MICHIELS\",\"date\":\"2023-03-30T22:00:00.000Z\",\"warehouseId\":3},{\"hoursWorked\":5.1,\"employee\":\"Tito RODRIGUEZ AMAYA\",\"date\":\"2023-03-01T23:00:00.000Z\",\"warehouseId\":3},{\"hoursWorked\":10.05,\"employee\":\"Tito RODRIGUEZ AMAYA\",\"date\":\"2023-03-02T23:00:00.000Z\",\"warehouseId\":3},{\"hoursWorked\":10.23333333333333,\"employee\":\"Tito RODRIGUEZ AMAYA\",\"date\":\"2023-03-03T23:00:00.000Z\",\"warehouseId\":3},{\"hoursWorked\":5.266666666666667,\"employee\":\"Tito RODRIGUEZ AMAYA\",\"date\":\"2023-03-04T23:00:00.000Z\",\"warehouseId\":3},{\"hoursWorked\":9.916666666666666,\"employee\":\"Tito RODRIGUEZ AMAYA\",\"date\":\"2023-03-07T23:00:00.000Z\",\"warehouseId\":3},{\"hoursWorked\":5.25,\"employee\":\"Tito RODRIGUEZ AMAYA\",\"date\":\"2023-03-08T23:00:00.000Z\",\"warehouseId\":3},{\"hoursWorked\":6.466666666666667,\"employee\":\"Tito RODRIGUEZ AMAYA\",\"date\":\"2023-03-09T23:00:00.000Z\",\"warehouseId\":3},{\"hoursWorked\":9.916666666666666,\"employee\":\"Tito RODRIGUEZ AMAYA\",\"date\":\"2023-03-10T23:00:00.000Z\",\"warehouseId\":3},{\"hoursWorked\":5.166666666666667,\"employee\":\"Tito RODRIGUEZ AMAYA\",\"date\":\"2023-03-11T23:00:00.000Z\",\"warehouseId\":3},{\"hoursWorked\":10.13333333333333,\"employee\":\"Tito RODRIGUEZ AMAYA\",\"date\":\"2023-03-14T23:00:00.000Z\",\"warehouseId\":3},{\"hoursWorked\":5.166666666666667,\"employee\":\"Tito RODRIGUEZ AMAYA\",\"date\":\"2023-03-15T23:00:00.000Z\",\"warehouseId\":3},{\"hoursWorked\":10,\"employee\":\"Tito RODRIGUEZ AMAYA\",\"date\":\"2023-03-16T23:00:00.000Z\",\"warehouseId\":3},{\"hoursWorked\":10.16666666666667,\"employee\":\"Tito RODRIGUEZ AMAYA\",\"date\":\"2023-03-17T23:00:00.000Z\",\"warehouseId\":3},{\"hoursWorked\":5.333333333333333,\"employee\":\"Tito RODRIGUEZ AMAYA\",\"date\":\"2023-03-18T23:00:00.000Z\",\"warehouseId\":3},{\"hoursWorked\":10.16666666666667,\"employee\":\"Tito RODRIGUEZ AMAYA\",\"date\":\"2023-03-21T23:00:00.000Z\",\"warehouseId\":3},{\"hoursWorked\":5.033333333333333,\"employee\":\"Tito RODRIGUEZ AMAYA\",\"date\":\"2023-03-22T23:00:00.000Z\",\"warehouseId\":3},{\"hoursWorked\":10.1,\"employee\":\"Tito RODRIGUEZ AMAYA\",\"date\":\"2023-03-23T23:00:00.000Z\",\"warehouseId\":3},{\"hoursWorked\":10.28333333333333,\"employee\":\"Tito RODRIGUEZ AMAYA\",\"date\":\"2023-03-28T22:00:00.000Z\",\"warehouseId\":3},{\"hoursWorked\":7.016666666666667,\"employee\":\"Tito RODRIGUEZ AMAYA\",\"date\":\"2023-03-29T22:00:00.000Z\",\"warehouseId\":3},{\"hoursWorked\":10.16666666666667,\"employee\":\"Tito RODRIGUEZ AMAYA\",\"date\":\"2023-03-30T22:00:00.000Z\",\"warehouseId\":3},{\"hoursWorked\":6.416666666666667,\"employee\":\"Ana DE OLIVEIRA CARREIRA\",\"date\":\"2023-03-16T23:00:00.000Z\",\"warehouseId\":3},{\"hoursWorked\":5.95,\"employee\":\"Ana DE OLIVEIRA CARREIRA\",\"date\":\"2023-03-17T23:00:00.000Z\",\"warehouseId\":3},{\"hoursWorked\":9.983333333333333,\"employee\":\"Benjamin MOENECLAEY\",\"date\":\"2023-03-03T23:00:00.000Z\",\"warehouseId\":3},{\"hoursWorked\":5.4,\"employee\":\"Benjamin MOENECLAEY\",\"date\":\"2023-03-04T23:00:00.000Z\",\"warehouseId\":3},{\"hoursWorked\":7.366666666666666,\"employee\":\"Benjamin MOENECLAEY\",\"date\":\"2023-03-07T23:00:00.000Z\",\"warehouseId\":3},{\"hoursWorked\":10.1,\"employee\":\"Benjamin MOENECLAEY\",\"date\":\"2023-03-14T23:00:00.000Z\",\"warehouseId\":3},{\"hoursWorked\":9.933333333333334,\"employee\":\"Benjamin MOENECLAEY\",\"date\":\"2023-03-15T23:00:00.000Z\",\"warehouseId\":3},{\"hoursWorked\":9.433333333333334,\"employee\":\"Benjamin MOENECLAEY\",\"date\":\"2023-03-17T23:00:00.000Z\",\"warehouseId\":3},{\"hoursWorked\":5.316666666666666,\"employee\":\"Benjamin MOENECLAEY\",\"date\":\"2023-03-18T23:00:00.000Z\",\"warehouseId\":3},{\"hoursWorked\":9.933333333333334,\"employee\":\"Benjamin MOENECLAEY\",\"date\":\"2023-03-19T23:00:00.000Z\",\"warehouseId\":3},{\"hoursWorked\":10.18333333333333,\"employee\":\"Benjamin MOENECLAEY\",\"date\":\"2023-03-20T23:00:00.000Z\",\"warehouseId\":3},{\"hoursWorked\":9.95,\"employee\":\"Benjamin MOENECLAEY\",\"date\":\"2023-03-21T23:00:00.000Z\",\"warehouseId\":3},{\"hoursWorked\":9.8,\"employee\":\"Benjamin MOENECLAEY\",\"date\":\"2023-03-22T23:00:00.000Z\",\"warehouseId\":3},{\"hoursWorked\":9.8,\"employee\":\"Benjamin MOENECLAEY\",\"date\":\"2023-03-23T23:00:00.000Z\",\"warehouseId\":3},{\"hoursWorked\":10.26666666666667,\"employee\":\"Benjamin MOENECLAEY\",\"date\":\"2023-03-29T22:00:00.000Z\",\"warehouseId\":3},{\"hoursWorked\":10,\"employee\":\"Carlos AZUCINA RECINA\",\"date\":\"2023-03-01T23:00:00.000Z\",\"warehouseId\":3},{\"hoursWorked\":8.5,\"employee\":\"Carlos AZUCINA RECINA\",\"date\":\"2023-03-03T23:00:00.000Z\",\"warehouseId\":3},{\"hoursWorked\":5.416666666666667,\"employee\":\"Carlos AZUCINA RECINA\",\"date\":\"2023-03-04T23:00:00.000Z\",\"warehouseId\":3},{\"hoursWorked\":5.333333333333333,\"employee\":\"Carlos AZUCINA RECINA\",\"date\":\"2023-03-18T23:00:00.000Z\",\"warehouseId\":3},{\"hoursWorked\":4.75,\"employee\":\"Carlos AZUCINA RECINA\",\"date\":\"2023-03-25T23:00:00.000Z\",\"warehouseId\":3}]\n",
      "total hours\n",
      "gross margin\n",
      "Shop Fort Jaco gross margins:\n",
      "config.ini file available... using that\n"
     ]
    },
    {
     "name": "stdout",
     "output_type": "stream",
     "text": [
      "config.ini file available... using that\n",
      "foodcosts ok\n",
      "config.ini file available... using that\n",
      "sales ok\n",
      "config.ini file available... using that\n",
      "200\n",
      "[{\"hoursWorked\":7.55,\"employee\":\"Diana ARBELAEZ CORREA\",\"date\":\"2023-03-01T23:00:00.000Z\",\"warehouseId\":4},{\"hoursWorked\":8.033333333333333,\"employee\":\"Diana ARBELAEZ CORREA\",\"date\":\"2023-03-02T23:00:00.000Z\",\"warehouseId\":4},{\"hoursWorked\":0.3333333333333333,\"employee\":\"Diana ARBELAEZ CORREA\",\"date\":\"2023-03-03T23:00:00.000Z\",\"warehouseId\":4},{\"hoursWorked\":7.5,\"employee\":\"Diana ARBELAEZ CORREA\",\"date\":\"2023-03-05T23:00:00.000Z\",\"warehouseId\":4},{\"hoursWorked\":7.433333333333334,\"employee\":\"Diana ARBELAEZ CORREA\",\"date\":\"2023-03-06T23:00:00.000Z\",\"warehouseId\":4},{\"hoursWorked\":7.5,\"employee\":\"Diana ARBELAEZ CORREA\",\"date\":\"2023-03-07T23:00:00.000Z\",\"warehouseId\":4},{\"hoursWorked\":7.5,\"employee\":\"Diana ARBELAEZ CORREA\",\"date\":\"2023-03-08T23:00:00.000Z\",\"warehouseId\":4},{\"hoursWorked\":9.033333333333333,\"employee\":\"Diana ARBELAEZ CORREA\",\"date\":\"2023-03-09T23:00:00.000Z\",\"warehouseId\":4},{\"hoursWorked\":0.3333333333333333,\"employee\":\"Diana ARBELAEZ CORREA\",\"date\":\"2023-03-10T23:00:00.000Z\",\"warehouseId\":4},{\"hoursWorked\":7.683333333333334,\"employee\":\"Diana ARBELAEZ CORREA\",\"date\":\"2023-03-15T23:00:00.000Z\",\"warehouseId\":4},{\"hoursWorked\":9.133333333333333,\"employee\":\"Diana ARBELAEZ CORREA\",\"date\":\"2023-03-16T23:00:00.000Z\",\"warehouseId\":4},{\"hoursWorked\":0.3333333333333333,\"employee\":\"Diana ARBELAEZ CORREA\",\"date\":\"2023-03-17T23:00:00.000Z\",\"warehouseId\":4},{\"hoursWorked\":7.516666666666667,\"employee\":\"Diana ARBELAEZ CORREA\",\"date\":\"2023-03-19T23:00:00.000Z\",\"warehouseId\":4},{\"hoursWorked\":7.6,\"employee\":\"Diana ARBELAEZ CORREA\",\"date\":\"2023-03-20T23:00:00.000Z\",\"warehouseId\":4},{\"hoursWorked\":7.566666666666666,\"employee\":\"Diana ARBELAEZ CORREA\",\"date\":\"2023-03-21T23:00:00.000Z\",\"warehouseId\":4},{\"hoursWorked\":7.55,\"employee\":\"Diana ARBELAEZ CORREA\",\"date\":\"2023-03-22T23:00:00.000Z\",\"warehouseId\":4},{\"hoursWorked\":9.033333333333333,\"employee\":\"Diana ARBELAEZ CORREA\",\"date\":\"2023-03-23T23:00:00.000Z\",\"warehouseId\":4},{\"hoursWorked\":0.3333333333333333,\"employee\":\"Diana ARBELAEZ CORREA\",\"date\":\"2023-03-24T23:00:00.000Z\",\"warehouseId\":4},{\"hoursWorked\":7.633333333333334,\"employee\":\"Diana ARBELAEZ CORREA\",\"date\":\"2023-03-26T22:00:00.000Z\",\"warehouseId\":4},{\"hoursWorked\":7.616666666666666,\"employee\":\"Diana ARBELAEZ CORREA\",\"date\":\"2023-03-27T22:00:00.000Z\",\"warehouseId\":4},{\"hoursWorked\":7.666666666666667,\"employee\":\"Diana ARBELAEZ CORREA\",\"date\":\"2023-03-28T22:00:00.000Z\",\"warehouseId\":4},{\"hoursWorked\":7.533333333333333,\"employee\":\"Diana ARBELAEZ CORREA\",\"date\":\"2023-03-29T22:00:00.000Z\",\"warehouseId\":4},{\"hoursWorked\":9.2,\"employee\":\"Diana ARBELAEZ CORREA\",\"date\":\"2023-03-30T22:00:00.000Z\",\"warehouseId\":4},{\"hoursWorked\":7.766666666666667,\"employee\":\"Nadine DEBROUX\",\"date\":\"2023-03-01T23:00:00.000Z\",\"warehouseId\":4},{\"hoursWorked\":10.16666666666667,\"employee\":\"Nadine DEBROUX\",\"date\":\"2023-03-02T23:00:00.000Z\",\"warehouseId\":4},{\"hoursWorked\":10.1,\"employee\":\"Nadine DEBROUX\",\"date\":\"2023-03-05T23:00:00.000Z\",\"warehouseId\":4},{\"hoursWorked\":7.716666666666667,\"employee\":\"Nadine DEBROUX\",\"date\":\"2023-03-06T23:00:00.000Z\",\"warehouseId\":4},{\"hoursWorked\":9.75,\"employee\":\"Nadine DEBROUX\",\"date\":\"2023-03-07T23:00:00.000Z\",\"warehouseId\":4},{\"hoursWorked\":8.116666666666667,\"employee\":\"Nadine DEBROUX\",\"date\":\"2023-03-08T23:00:00.000Z\",\"warehouseId\":4},{\"hoursWorked\":10.4,\"employee\":\"Nadine DEBROUX\",\"date\":\"2023-03-09T23:00:00.000Z\",\"warehouseId\":4},{\"hoursWorked\":10.31666666666667,\"employee\":\"Nadine DEBROUX\",\"date\":\"2023-03-12T23:00:00.000Z\",\"warehouseId\":4},{\"hoursWorked\":9.95,\"employee\":\"Nadine DEBROUX\",\"date\":\"2023-03-13T23:00:00.000Z\",\"warehouseId\":4},{\"hoursWorked\":10.25,\"employee\":\"Nadine DEBROUX\",\"date\":\"2023-03-14T23:00:00.000Z\",\"warehouseId\":4},{\"hoursWorked\":7.7,\"employee\":\"Nadine DEBROUX\",\"date\":\"2023-03-15T23:00:00.000Z\",\"warehouseId\":4},{\"hoursWorked\":10.2,\"employee\":\"Nadine DEBROUX\",\"date\":\"2023-03-16T23:00:00.000Z\",\"warehouseId\":4},{\"hoursWorked\":10.08333333333333,\"employee\":\"Nadine DEBROUX\",\"date\":\"2023-03-19T23:00:00.000Z\",\"warehouseId\":4},{\"hoursWorked\":7.633333333333334,\"employee\":\"Nadine DEBROUX\",\"date\":\"2023-03-20T23:00:00.000Z\",\"warehouseId\":4},{\"hoursWorked\":10.15,\"employee\":\"Nadine DEBROUX\",\"date\":\"2023-03-21T23:00:00.000Z\",\"warehouseId\":4},{\"hoursWorked\":7.933333333333334,\"employee\":\"Nadine DEBROUX\",\"date\":\"2023-03-22T23:00:00.000Z\",\"warehouseId\":4},{\"hoursWorked\":10.23333333333333,\"employee\":\"Nadine DEBROUX\",\"date\":\"2023-03-23T23:00:00.000Z\",\"warehouseId\":4},{\"hoursWorked\":10.13333333333333,\"employee\":\"Nadine DEBROUX\",\"date\":\"2023-03-26T22:00:00.000Z\",\"warehouseId\":4},{\"hoursWorked\":7.55,\"employee\":\"Nadine DEBROUX\",\"date\":\"2023-03-27T22:00:00.000Z\",\"warehouseId\":4},{\"hoursWorked\":10.35,\"employee\":\"Nadine DEBROUX\",\"date\":\"2023-03-28T22:00:00.000Z\",\"warehouseId\":4},{\"hoursWorked\":7.583333333333333,\"employee\":\"Nadine DEBROUX\",\"date\":\"2023-03-29T22:00:00.000Z\",\"warehouseId\":4},{\"hoursWorked\":10.16666666666667,\"employee\":\"Nadine DEBROUX\",\"date\":\"2023-03-30T22:00:00.000Z\",\"warehouseId\":4},{\"hoursWorked\":2,\"employee\":\"Anne LIPPENS\",\"date\":\"2023-03-01T23:00:00.000Z\",\"warehouseId\":4},{\"hoursWorked\":0.75,\"employee\":\"Anne LIPPENS\",\"date\":\"2023-03-08T23:00:00.000Z\",\"warehouseId\":4},{\"hoursWorked\":10.53333333333333,\"employee\":\"Anne LIPPENS\",\"date\":\"2023-03-10T23:00:00.000Z\",\"warehouseId\":4},{\"hoursWorked\":10.55,\"employee\":\"Anne LIPPENS\",\"date\":\"2023-03-11T23:00:00.000Z\",\"warehouseId\":4},{\"hoursWorked\":11.36666666666667,\"employee\":\"Anne LIPPENS\",\"date\":\"2023-03-12T23:00:00.000Z\",\"warehouseId\":4},{\"hoursWorked\":10.46666666666667,\"employee\":\"Anne LIPPENS\",\"date\":\"2023-03-23T23:00:00.000Z\",\"warehouseId\":4},{\"hoursWorked\":10.4,\"employee\":\"Anne LIPPENS\",\"date\":\"2023-03-24T23:00:00.000Z\",\"warehouseId\":4},{\"hoursWorked\":10.18333333333333,\"employee\":\"Anne LIPPENS\",\"date\":\"2023-03-25T23:00:00.000Z\",\"warehouseId\":4},{\"hoursWorked\":10.4,\"employee\":\"Anne LIPPENS\",\"date\":\"2023-03-26T22:00:00.000Z\",\"warehouseId\":4},{\"hoursWorked\":1.25,\"employee\":\"Anne LIPPENS\",\"date\":\"2023-03-29T22:00:00.000Z\",\"warehouseId\":4},{\"hoursWorked\":10.15,\"employee\":\"Myriam VANDERHAEGEN\",\"date\":\"2023-03-03T23:00:00.000Z\",\"warehouseId\":4},{\"hoursWorked\":3.833333333333333,\"employee\":\"Myriam VANDERHAEGEN\",\"date\":\"2023-03-04T23:00:00.000Z\",\"warehouseId\":4},{\"hoursWorked\":5.066666666666666,\"employee\":\"Myriam VANDERHAEGEN\",\"date\":\"2023-03-05T23:00:00.000Z\",\"warehouseId\":4},{\"hoursWorked\":5.383333333333334,\"employee\":\"Myriam VANDERHAEGEN\",\"date\":\"2023-03-08T23:00:00.000Z\",\"warehouseId\":4},{\"hoursWorked\":5.15,\"employee\":\"Myriam VANDERHAEGEN\",\"date\":\"2023-03-15T23:00:00.000Z\",\"warehouseId\":4},{\"hoursWorked\":10.41666666666667,\"employee\":\"Myriam VANDERHAEGEN\",\"date\":\"2023-03-17T23:00:00.000Z\",\"warehouseId\":4},{\"hoursWorked\":5.35,\"employee\":\"Myriam VANDERHAEGEN\",\"date\":\"2023-03-18T23:00:00.000Z\",\"warehouseId\":4},{\"hoursWorked\":5.6,\"employee\":\"Myriam VANDERHAEGEN\",\"date\":\"2023-03-19T23:00:00.000Z\",\"warehouseId\":4},{\"hoursWorked\":10.15,\"employee\":\"Myriam VANDERHAEGEN\",\"date\":\"2023-03-21T23:00:00.000Z\",\"warehouseId\":4},{\"hoursWorked\":10.18333333333333,\"employee\":\"Myriam VANDERHAEGEN\",\"date\":\"2023-03-22T23:00:00.000Z\",\"warehouseId\":4},{\"hoursWorked\":6.133333333333334,\"employee\":\"Myriam VANDERHAEGEN\",\"date\":\"2023-03-29T22:00:00.000Z\",\"warehouseId\":4},{\"hoursWorked\":6.083333333333333,\"employee\":\"Armando APARICIO PEREZ\",\"date\":\"2023-03-01T23:00:00.000Z\",\"warehouseId\":4},{\"hoursWorked\":7.95,\"employee\":\"Armando APARICIO PEREZ\",\"date\":\"2023-03-02T23:00:00.000Z\",\"warehouseId\":4},{\"hoursWorked\":8.216666666666667,\"employee\":\"Armando APARICIO PEREZ\",\"date\":\"2023-03-03T23:00:00.000Z\",\"warehouseId\":4},{\"hoursWorked\":5.166666666666667,\"employee\":\"Armando APARICIO PEREZ\",\"date\":\"2023-03-06T23:00:00.000Z\",\"warehouseId\":4},{\"hoursWorked\":6.133333333333334,\"employee\":\"Armando APARICIO PEREZ\",\"date\":\"2023-03-07T23:00:00.000Z\",\"warehouseId\":4},{\"hoursWorked\":6.316666666666666,\"employee\":\"Armando APARICIO PEREZ\",\"date\":\"2023-03-08T23:00:00.000Z\",\"warehouseId\":4},{\"hoursWorked\":8.1,\"employee\":\"Armando APARICIO PEREZ\",\"date\":\"2023-03-09T23:00:00.000Z\",\"warehouseId\":4},{\"hoursWorked\":6.683333333333334,\"employee\":\"Armando APARICIO PEREZ\",\"date\":\"2023-03-10T23:00:00.000Z\",\"warehouseId\":4},{\"hoursWorked\":5.333333333333333,\"employee\":\"Armando APARICIO PEREZ\",\"date\":\"2023-03-13T23:00:00.000Z\",\"warehouseId\":4},{\"hoursWorked\":6.316666666666666,\"employee\":\"Armando APARICIO PEREZ\",\"date\":\"2023-03-14T23:00:00.000Z\",\"warehouseId\":4},{\"hoursWorked\":6.033333333333333,\"employee\":\"Armando APARICIO PEREZ\",\"date\":\"2023-03-15T23:00:00.000Z\",\"warehouseId\":4},{\"hoursWorked\":8.3,\"employee\":\"Armando APARICIO PEREZ\",\"date\":\"2023-03-16T23:00:00.000Z\",\"warehouseId\":4},{\"hoursWorked\":8.083333333333334,\"employee\":\"Armando APARICIO PEREZ\",\"date\":\"2023-03-17T23:00:00.000Z\",\"warehouseId\":4},{\"hoursWorked\":5.433333333333334,\"employee\":\"Armando APARICIO PEREZ\",\"date\":\"2023-03-20T23:00:00.000Z\",\"warehouseId\":4},{\"hoursWorked\":6.183333333333334,\"employee\":\"Armando APARICIO PEREZ\",\"date\":\"2023-03-21T23:00:00.000Z\",\"warehouseId\":4},{\"hoursWorked\":6.4,\"employee\":\"Armando APARICIO PEREZ\",\"date\":\"2023-03-22T23:00:00.000Z\",\"warehouseId\":4},{\"hoursWorked\":8.35,\"employee\":\"Armando APARICIO PEREZ\",\"date\":\"2023-03-23T23:00:00.000Z\",\"warehouseId\":4},{\"hoursWorked\":5.566666666666666,\"employee\":\"Armando APARICIO PEREZ\",\"date\":\"2023-03-27T22:00:00.000Z\",\"warehouseId\":4},{\"hoursWorked\":6.266666666666667,\"employee\":\"Armando APARICIO PEREZ\",\"date\":\"2023-03-28T22:00:00.000Z\",\"warehouseId\":4},{\"hoursWorked\":6.233333333333333,\"employee\":\"Armando APARICIO PEREZ\",\"date\":\"2023-03-29T22:00:00.000Z\",\"warehouseId\":4},{\"hoursWorked\":8.683333333333334,\"employee\":\"Armando APARICIO PEREZ\",\"date\":\"2023-03-30T22:00:00.000Z\",\"warehouseId\":4},{\"hoursWorked\":8.916666666666666,\"employee\":\"Esther ZHU\",\"date\":\"2023-03-03T23:00:00.000Z\",\"warehouseId\":4},{\"hoursWorked\":6.483333333333333,\"employee\":\"Esther ZHU\",\"date\":\"2023-03-04T23:00:00.000Z\",\"warehouseId\":4},{\"hoursWorked\":9.916666666666666,\"employee\":\"Esther ZHU\",\"date\":\"2023-03-10T23:00:00.000Z\",\"warehouseId\":4},{\"hoursWorked\":10,\"employee\":\"Esther ZHU\",\"date\":\"2023-03-11T23:00:00.000Z\",\"warehouseId\":4},{\"hoursWorked\":9.833333333333334,\"employee\":\"Esther ZHU\",\"date\":\"2023-03-17T23:00:00.000Z\",\"warehouseId\":4},{\"hoursWorked\":5.15,\"employee\":\"Esther ZHU\",\"date\":\"2023-03-18T23:00:00.000Z\",\"warehouseId\":4},{\"hoursWorked\":10.21666666666667,\"employee\":\"Esther ZHU\",\"date\":\"2023-03-24T23:00:00.000Z\",\"warehouseId\":4},{\"hoursWorked\":9.933333333333334,\"employee\":\"Esther ZHU\",\"date\":\"2023-03-25T23:00:00.000Z\",\"warehouseId\":4},{\"hoursWorked\":10.73333333333333,\"employee\":\"Charlotte SNEYERS\",\"date\":\"2023-03-01T23:00:00.000Z\",\"warehouseId\":4},{\"hoursWorked\":10.26666666666667,\"employee\":\"Charlotte SNEYERS\",\"date\":\"2023-03-02T23:00:00.000Z\",\"warehouseId\":4},{\"hoursWorked\":9.866666666666667,\"employee\":\"Charlotte SNEYERS\",\"date\":\"2023-03-06T23:00:00.000Z\",\"warehouseId\":4},{\"hoursWorked\":10.13333333333333,\"employee\":\"Charlotte SNEYERS\",\"date\":\"2023-03-07T23:00:00.000Z\",\"warehouseId\":4},{\"hoursWorked\":8.45,\"employee\":\"Charlotte SNEYERS\",\"date\":\"2023-03-08T23:00:00.000Z\",\"warehouseId\":4},{\"hoursWorked\":10.06666666666667,\"employee\":\"Charlotte SNEYERS\",\"date\":\"2023-03-13T23:00:00.000Z\",\"warehouseId\":4},{\"hoursWorked\":10.41666666666667,\"employee\":\"Charlotte SNEYERS\",\"date\":\"2023-03-14T23:00:00.000Z\",\"warehouseId\":4},{\"hoursWorked\":10.21666666666667,\"employee\":\"Charlotte SNEYERS\",\"date\":\"2023-03-16T23:00:00.000Z\",\"warehouseId\":4},{\"hoursWorked\":10.26666666666667,\"employee\":\"Charlotte SNEYERS\",\"date\":\"2023-03-27T22:00:00.000Z\",\"warehouseId\":4},{\"hoursWorked\":10.5,\"employee\":\"Charlotte SNEYERS\",\"date\":\"2023-03-28T22:00:00.000Z\",\"warehouseId\":4},{\"hoursWorked\":10.85,\"employee\":\"Charlotte SNEYERS\",\"date\":\"2023-03-29T22:00:00.000Z\",\"warehouseId\":4},{\"hoursWorked\":10.25,\"employee\":\"Charlotte SNEYERS\",\"date\":\"2023-03-30T22:00:00.000Z\",\"warehouseId\":4},{\"hoursWorked\":5.15,\"employee\":\"Luca BORGO\",\"date\":\"2023-03-05T23:00:00.000Z\",\"warehouseId\":4},{\"hoursWorked\":10.4,\"employee\":\"Luca BORGO\",\"date\":\"2023-03-09T23:00:00.000Z\",\"warehouseId\":4},{\"hoursWorked\":5.333333333333333,\"employee\":\"Luca BORGO\",\"date\":\"2023-03-19T23:00:00.000Z\",\"warehouseId\":4},{\"hoursWorked\":10.2,\"employee\":\"Luca BORGO\",\"date\":\"2023-03-20T23:00:00.000Z\",\"warehouseId\":4},{\"hoursWorked\":10.65,\"employee\":\"Maxime VANHAMME\",\"date\":\"2023-03-03T23:00:00.000Z\",\"warehouseId\":4},{\"hoursWorked\":10.26666666666667,\"employee\":\"Maxime VANHAMME\",\"date\":\"2023-03-04T23:00:00.000Z\",\"warehouseId\":4},{\"hoursWorked\":10.6,\"employee\":\"Maxime VANHAMME\",\"date\":\"2023-03-17T23:00:00.000Z\",\"warehouseId\":4},{\"hoursWorked\":10.3,\"employee\":\"Maxime VANHAMME\",\"date\":\"2023-03-18T23:00:00.000Z\",\"warehouseId\":4},{\"hoursWorked\":6.733333333333333,\"employee\":\"Ronny BERT\",\"date\":\"2023-03-04T23:00:00.000Z\",\"warehouseId\":4},{\"hoursWorked\":8.2,\"employee\":\"Ronny BERT\",\"date\":\"2023-03-10T23:00:00.000Z\",\"warehouseId\":4},{\"hoursWorked\":7.45,\"employee\":\"Ronny BERT\",\"date\":\"2023-03-11T23:00:00.000Z\",\"warehouseId\":4},{\"hoursWorked\":6.666666666666667,\"employee\":\"Ronny BERT\",\"date\":\"2023-03-18T23:00:00.000Z\",\"warehouseId\":4},{\"hoursWorked\":8.683333333333334,\"employee\":\"Ronny BERT\",\"date\":\"2023-03-24T23:00:00.000Z\",\"warehouseId\":4},{\"hoursWorked\":7.1,\"employee\":\"Ronny BERT\",\"date\":\"2023-03-25T23:00:00.000Z\",\"warehouseId\":4},{\"hoursWorked\":5.916666666666667,\"employee\":\"Guy MAWETE\",\"date\":\"2023-03-11T23:00:00.000Z\",\"warehouseId\":4},{\"hoursWorked\":5.616666666666666,\"employee\":\"Guy MAWETE\",\"date\":\"2023-03-18T23:00:00.000Z\",\"warehouseId\":4},{\"hoursWorked\":5.216666666666667,\"employee\":\"Guy MAWETE\",\"date\":\"2023-03-25T23:00:00.000Z\",\"warehouseId\":4},{\"hoursWorked\":8.133333333333333,\"employee\":\"Kris GALOPPIN\",\"date\":\"2023-03-08T23:00:00.000Z\",\"warehouseId\":4},{\"hoursWorked\":8.216666666666667,\"employee\":\"Kris GALOPPIN\",\"date\":\"2023-03-09T23:00:00.000Z\",\"warehouseId\":4},{\"hoursWorked\":10.25,\"employee\":\"Kris GALOPPIN\",\"date\":\"2023-03-10T23:00:00.000Z\",\"warehouseId\":4},{\"hoursWorked\":7.1,\"employee\":\"Kris GALOPPIN\",\"date\":\"2023-03-11T23:00:00.000Z\",\"warehouseId\":4},{\"hoursWorked\":10.03333333333333,\"employee\":\"Kris GALOPPIN\",\"date\":\"2023-03-12T23:00:00.000Z\",\"warehouseId\":4},{\"hoursWorked\":5.133333333333334,\"employee\":\"Kris GALOPPIN\",\"date\":\"2023-03-13T23:00:00.000Z\",\"warehouseId\":4},{\"hoursWorked\":10.2,\"employee\":\"Kris GALOPPIN\",\"date\":\"2023-03-16T23:00:00.000Z\",\"warehouseId\":4},{\"hoursWorked\":10.25,\"employee\":\"Kris GALOPPIN\",\"date\":\"2023-03-17T23:00:00.000Z\",\"warehouseId\":4},{\"hoursWorked\":8.266666666666667,\"employee\":\"Kris GALOPPIN\",\"date\":\"2023-03-18T23:00:00.000Z\",\"warehouseId\":4},{\"hoursWorked\":10.16666666666667,\"employee\":\"Kris GALOPPIN\",\"date\":\"2023-03-23T23:00:00.000Z\",\"warehouseId\":4},{\"hoursWorked\":10.28333333333333,\"employee\":\"Kris GALOPPIN\",\"date\":\"2023-03-24T23:00:00.000Z\",\"warehouseId\":4},{\"hoursWorked\":7.983333333333333,\"employee\":\"Kris GALOPPIN\",\"date\":\"2023-03-25T23:00:00.000Z\",\"warehouseId\":4},{\"hoursWorked\":10.08333333333333,\"employee\":\"Kris GALOPPIN\",\"date\":\"2023-03-26T22:00:00.000Z\",\"warehouseId\":4},{\"hoursWorked\":10.11666666666667,\"employee\":\"Kris GALOPPIN\",\"date\":\"2023-03-30T22:00:00.000Z\",\"warehouseId\":4}]\n",
      "total hours\n",
      "gross margin\n",
      "Shop Woluwe gross margins:\n",
      "config.ini file available... using that\n"
     ]
    },
    {
     "name": "stdout",
     "output_type": "stream",
     "text": [
      "config.ini file available... using that\n",
      "foodcosts ok\n",
      "config.ini file available... using that\n",
      "sales ok\n",
      "config.ini file available... using that\n",
      "400\n",
      "No match found for warehouse_id or tanda_location_id not set\n",
      "total hours\n",
      "gross margin\n",
      "Shop Tongres gross margins:\n",
      "config.ini file available... using that\n",
      "config.ini file available... using that\n",
      "foodcosts ok\n",
      "config.ini file available... using that\n",
      "sales ok\n",
      "config.ini file available... using that\n",
      "200\n",
      "[{\"hoursWorked\":5.45,\"employee\":\"Armel KANDJEU\",\"date\":\"2023-03-01T23:00:00.000Z\",\"warehouseId\":7},{\"hoursWorked\":4.216666666666667,\"employee\":\"Armel KANDJEU\",\"date\":\"2023-03-14T23:00:00.000Z\",\"warehouseId\":7},{\"hoursWorked\":10.65,\"employee\":\"Aubin KANDJEU\",\"date\":\"2023-03-02T23:00:00.000Z\",\"warehouseId\":7},{\"hoursWorked\":10.76666666666667,\"employee\":\"Aubin KANDJEU\",\"date\":\"2023-03-03T23:00:00.000Z\",\"warehouseId\":7},{\"hoursWorked\":3.65,\"employee\":\"Aubin KANDJEU\",\"date\":\"2023-03-04T23:00:00.000Z\",\"warehouseId\":7},{\"hoursWorked\":5.133333333333334,\"employee\":\"Aubin KANDJEU\",\"date\":\"2023-03-06T23:00:00.000Z\",\"warehouseId\":7},{\"hoursWorked\":5.55,\"employee\":\"Aubin KANDJEU\",\"date\":\"2023-03-09T23:00:00.000Z\",\"warehouseId\":7},{\"hoursWorked\":10.71666666666667,\"employee\":\"Aubin KANDJEU\",\"date\":\"2023-03-10T23:00:00.000Z\",\"warehouseId\":7},{\"hoursWorked\":6.783333333333333,\"employee\":\"Aubin KANDJEU\",\"date\":\"2023-03-11T23:00:00.000Z\",\"warehouseId\":7},{\"hoursWorked\":5.733333333333333,\"employee\":\"Aubin KANDJEU\",\"date\":\"2023-03-13T23:00:00.000Z\",\"warehouseId\":7},{\"hoursWorked\":8.633333333333333,\"employee\":\"Aubin KANDJEU\",\"date\":\"2023-03-15T23:00:00.000Z\",\"warehouseId\":7},{\"hoursWorked\":8.866666666666667,\"employee\":\"Aubin KANDJEU\",\"date\":\"2023-03-16T23:00:00.000Z\",\"warehouseId\":7},{\"hoursWorked\":8.7,\"employee\":\"Aubin KANDJEU\",\"date\":\"2023-03-17T23:00:00.000Z\",\"warehouseId\":7},{\"hoursWorked\":7.083333333333333,\"employee\":\"Aubin KANDJEU\",\"date\":\"2023-03-18T23:00:00.000Z\",\"warehouseId\":7},{\"hoursWorked\":6.133333333333334,\"employee\":\"Aubin KANDJEU\",\"date\":\"2023-03-20T23:00:00.000Z\",\"warehouseId\":7},{\"hoursWorked\":8.033333333333333,\"employee\":\"Aubin KANDJEU\",\"date\":\"2023-03-23T23:00:00.000Z\",\"warehouseId\":7},{\"hoursWorked\":10.73333333333333,\"employee\":\"Aubin KANDJEU\",\"date\":\"2023-03-24T23:00:00.000Z\",\"warehouseId\":7},{\"hoursWorked\":10.71666666666667,\"employee\":\"Aubin KANDJEU\",\"date\":\"2023-03-30T22:00:00.000Z\",\"warehouseId\":7},{\"hoursWorked\":3.95,\"employee\":\"Khalil BOUMESHED\",\"date\":\"2023-03-27T22:00:00.000Z\",\"warehouseId\":7},{\"hoursWorked\":11.73333333333333,\"employee\":\"Nicolas QUERTINMONT\",\"date\":\"2023-03-02T23:00:00.000Z\",\"warehouseId\":7},{\"hoursWorked\":11.16666666666667,\"employee\":\"Nicolas QUERTINMONT\",\"date\":\"2023-03-03T23:00:00.000Z\",\"warehouseId\":7},{\"hoursWorked\":7.333333333333333,\"employee\":\"Nicolas QUERTINMONT\",\"date\":\"2023-03-04T23:00:00.000Z\",\"warehouseId\":7},{\"hoursWorked\":11.98333333333333,\"employee\":\"Nicolas QUERTINMONT\",\"date\":\"2023-03-09T23:00:00.000Z\",\"warehouseId\":7},{\"hoursWorked\":11.28333333333333,\"employee\":\"Nicolas QUERTINMONT\",\"date\":\"2023-03-10T23:00:00.000Z\",\"warehouseId\":7},{\"hoursWorked\":11.13333333333333,\"employee\":\"Nicolas QUERTINMONT\",\"date\":\"2023-03-11T23:00:00.000Z\",\"warehouseId\":7},{\"hoursWorked\":11.83333333333333,\"employee\":\"Nicolas QUERTINMONT\",\"date\":\"2023-03-16T23:00:00.000Z\",\"warehouseId\":7},{\"hoursWorked\":11.3,\"employee\":\"Nicolas QUERTINMONT\",\"date\":\"2023-03-17T23:00:00.000Z\",\"warehouseId\":7},{\"hoursWorked\":11.18333333333333,\"employee\":\"Nicolas QUERTINMONT\",\"date\":\"2023-03-18T23:00:00.000Z\",\"warehouseId\":7},{\"hoursWorked\":11.85,\"employee\":\"Nicolas QUERTINMONT\",\"date\":\"2023-03-23T23:00:00.000Z\",\"warehouseId\":7},{\"hoursWorked\":11.4,\"employee\":\"Nicolas QUERTINMONT\",\"date\":\"2023-03-24T23:00:00.000Z\",\"warehouseId\":7},{\"hoursWorked\":11.1,\"employee\":\"Nicolas QUERTINMONT\",\"date\":\"2023-03-25T23:00:00.000Z\",\"warehouseId\":7},{\"hoursWorked\":10.06666666666667,\"employee\":\"Sanne DE LOOSE\",\"date\":\"2023-03-04T23:00:00.000Z\",\"warehouseId\":7},{\"hoursWorked\":10.43333333333333,\"employee\":\"Sanne DE LOOSE\",\"date\":\"2023-03-05T23:00:00.000Z\",\"warehouseId\":7},{\"hoursWorked\":7.4,\"employee\":\"Sanne DE LOOSE\",\"date\":\"2023-03-06T23:00:00.000Z\",\"warehouseId\":7},{\"hoursWorked\":10.15,\"employee\":\"Sanne DE LOOSE\",\"date\":\"2023-03-07T23:00:00.000Z\",\"warehouseId\":7},{\"hoursWorked\":5.216666666666667,\"employee\":\"Sanne DE LOOSE\",\"date\":\"2023-03-08T23:00:00.000Z\",\"warehouseId\":7},{\"hoursWorked\":10.46666666666667,\"employee\":\"Sanne DE LOOSE\",\"date\":\"2023-03-11T23:00:00.000Z\",\"warehouseId\":7},{\"hoursWorked\":10.48333333333333,\"employee\":\"Sanne DE LOOSE\",\"date\":\"2023-03-12T23:00:00.000Z\",\"warehouseId\":7},{\"hoursWorked\":7.416666666666667,\"employee\":\"Sanne DE LOOSE\",\"date\":\"2023-03-13T23:00:00.000Z\",\"warehouseId\":7},{\"hoursWorked\":10.33333333333333,\"employee\":\"Sanne DE LOOSE\",\"date\":\"2023-03-14T23:00:00.000Z\",\"warehouseId\":7},{\"hoursWorked\":6.7,\"employee\":\"Sanne DE LOOSE\",\"date\":\"2023-03-15T23:00:00.000Z\",\"warehouseId\":7},{\"hoursWorked\":5.466666666666667,\"employee\":\"Sanne DE LOOSE\",\"date\":\"2023-03-22T23:00:00.000Z\",\"warehouseId\":7},{\"hoursWorked\":10.15,\"employee\":\"Sanne DE LOOSE\",\"date\":\"2023-03-25T23:00:00.000Z\",\"warehouseId\":7},{\"hoursWorked\":7.416666666666667,\"employee\":\"Sanne DE LOOSE\",\"date\":\"2023-03-26T22:00:00.000Z\",\"warehouseId\":7},{\"hoursWorked\":0.95,\"employee\":\"Sanne DE LOOSE\",\"date\":\"2023-03-27T22:00:00.000Z\",\"warehouseId\":7},{\"hoursWorked\":10.21666666666667,\"employee\":\"Sanne DE LOOSE\",\"date\":\"2023-03-28T22:00:00.000Z\",\"warehouseId\":7},{\"hoursWorked\":10.4,\"employee\":\"Jelle ERAERTS\",\"date\":\"2023-03-01T23:00:00.000Z\",\"warehouseId\":7},{\"hoursWorked\":5.133333333333334,\"employee\":\"Jelle ERAERTS\",\"date\":\"2023-03-07T23:00:00.000Z\",\"warehouseId\":7},{\"hoursWorked\":10.08333333333333,\"employee\":\"Jelle ERAERTS\",\"date\":\"2023-03-08T23:00:00.000Z\",\"warehouseId\":7},{\"hoursWorked\":7.483333333333333,\"employee\":\"Jelle ERAERTS\",\"date\":\"2023-03-20T23:00:00.000Z\",\"warehouseId\":7},{\"hoursWorked\":10.25,\"employee\":\"Jelle ERAERTS\",\"date\":\"2023-03-21T23:00:00.000Z\",\"warehouseId\":7},{\"hoursWorked\":10.08333333333333,\"employee\":\"Jelle ERAERTS\",\"date\":\"2023-03-22T23:00:00.000Z\",\"warehouseId\":7},{\"hoursWorked\":12.1,\"employee\":\"Jelle ERAERTS\",\"date\":\"2023-03-27T22:00:00.000Z\",\"warehouseId\":7},{\"hoursWorked\":5.166666666666667,\"employee\":\"Jelle ERAERTS\",\"date\":\"2023-03-28T22:00:00.000Z\",\"warehouseId\":7},{\"hoursWorked\":10.36666666666667,\"employee\":\"Jelle ERAERTS\",\"date\":\"2023-03-29T22:00:00.000Z\",\"warehouseId\":7},{\"hoursWorked\":2.116666666666667,\"employee\":\"Justine CORNET\",\"date\":\"2023-03-02T23:00:00.000Z\",\"warehouseId\":7},{\"hoursWorked\":3.3,\"employee\":\"Justine CORNET\",\"date\":\"2023-03-03T23:00:00.000Z\",\"warehouseId\":7},{\"hoursWorked\":4.45,\"employee\":\"Justine CORNET\",\"date\":\"2023-03-05T23:00:00.000Z\",\"warehouseId\":7},{\"hoursWorked\":3.35,\"employee\":\"Justine CORNET\",\"date\":\"2023-03-09T23:00:00.000Z\",\"warehouseId\":7},{\"hoursWorked\":4.6,\"employee\":\"Justine CORNET\",\"date\":\"2023-03-10T23:00:00.000Z\",\"warehouseId\":7},{\"hoursWorked\":4.233333333333333,\"employee\":\"Justine CORNET\",\"date\":\"2023-03-12T23:00:00.000Z\",\"warehouseId\":7},{\"hoursWorked\":3.983333333333333,\"employee\":\"Justine CORNET\",\"date\":\"2023-03-17T23:00:00.000Z\",\"warehouseId\":7},{\"hoursWorked\":3.333333333333333,\"employee\":\"Justine CORNET\",\"date\":\"2023-03-19T23:00:00.000Z\",\"warehouseId\":7},{\"hoursWorked\":4.216666666666667,\"employee\":\"Justine CORNET\",\"date\":\"2023-03-24T23:00:00.000Z\",\"warehouseId\":7},{\"hoursWorked\":3.2,\"employee\":\"Justine CORNET\",\"date\":\"2023-03-25T23:00:00.000Z\",\"warehouseId\":7},{\"hoursWorked\":3.4,\"employee\":\"Justine CORNET\",\"date\":\"2023-03-26T22:00:00.000Z\",\"warehouseId\":7},{\"hoursWorked\":5.75,\"employee\":\"Justine CORNET\",\"date\":\"2023-03-29T22:00:00.000Z\",\"warehouseId\":7},{\"hoursWorked\":4.466666666666667,\"employee\":\"Justine CORNET\",\"date\":\"2023-03-30T22:00:00.000Z\",\"warehouseId\":7},{\"hoursWorked\":3.166666666666667,\"employee\":\"Pauline POSOCCO\",\"date\":\"2023-03-06T23:00:00.000Z\",\"warehouseId\":7},{\"hoursWorked\":3.266666666666667,\"employee\":\"Pauline POSOCCO\",\"date\":\"2023-03-13T23:00:00.000Z\",\"warehouseId\":7},{\"hoursWorked\":3.083333333333333,\"employee\":\"Pauline POSOCCO\",\"date\":\"2023-03-15T23:00:00.000Z\",\"warehouseId\":7},{\"hoursWorked\":3.333333333333333,\"employee\":\"Pauline POSOCCO\",\"date\":\"2023-03-19T23:00:00.000Z\",\"warehouseId\":7},{\"hoursWorked\":3.25,\"employee\":\"Pauline POSOCCO\",\"date\":\"2023-03-20T23:00:00.000Z\",\"warehouseId\":7},{\"hoursWorked\":3,\"employee\":\"Pauline POSOCCO\",\"date\":\"2023-03-26T22:00:00.000Z\",\"warehouseId\":7}]\n",
      "total hours\n",
      "gross margin\n",
      "Shop Wemmel gross margins:\n",
      "config.ini file available... using that\n"
     ]
    },
    {
     "name": "stdout",
     "output_type": "stream",
     "text": [
      "config.ini file available... using that\n",
      "foodcosts ok\n",
      "config.ini file available... using that\n",
      "sales ok\n",
      "config.ini file available... using that\n",
      "200\n",
      "[{\"hoursWorked\":11.43333333333333,\"employee\":\"Khalil BOUMESHED\",\"date\":\"2023-03-04T23:00:00.000Z\",\"warehouseId\":12},{\"hoursWorked\":11.1,\"employee\":\"Khalil BOUMESHED\",\"date\":\"2023-03-10T23:00:00.000Z\",\"warehouseId\":12},{\"hoursWorked\":10.95,\"employee\":\"Khalil BOUMESHED\",\"date\":\"2023-03-11T23:00:00.000Z\",\"warehouseId\":12},{\"hoursWorked\":11.01666666666667,\"employee\":\"Khalil BOUMESHED\",\"date\":\"2023-03-14T23:00:00.000Z\",\"warehouseId\":12},{\"hoursWorked\":10.98333333333333,\"employee\":\"Khalil BOUMESHED\",\"date\":\"2023-03-15T23:00:00.000Z\",\"warehouseId\":12},{\"hoursWorked\":11.33333333333333,\"employee\":\"Khalil BOUMESHED\",\"date\":\"2023-03-16T23:00:00.000Z\",\"warehouseId\":12},{\"hoursWorked\":5.166666666666667,\"employee\":\"Khalil BOUMESHED\",\"date\":\"2023-03-18T23:00:00.000Z\",\"warehouseId\":12},{\"hoursWorked\":3,\"employee\":\"Khalil BOUMESHED\",\"date\":\"2023-03-26T22:00:00.000Z\",\"warehouseId\":12},{\"hoursWorked\":11.06666666666667,\"employee\":\"Bram DE KEYSER\",\"date\":\"2023-03-02T23:00:00.000Z\",\"warehouseId\":12},{\"hoursWorked\":11.16666666666667,\"employee\":\"Bram DE KEYSER\",\"date\":\"2023-03-03T23:00:00.000Z\",\"warehouseId\":12},{\"hoursWorked\":11.56666666666667,\"employee\":\"Bram DE KEYSER\",\"date\":\"2023-03-04T23:00:00.000Z\",\"warehouseId\":12},{\"hoursWorked\":11.45,\"employee\":\"Bram DE KEYSER\",\"date\":\"2023-03-05T23:00:00.000Z\",\"warehouseId\":12},{\"hoursWorked\":11.53333333333333,\"employee\":\"Bram DE KEYSER\",\"date\":\"2023-03-08T23:00:00.000Z\",\"warehouseId\":12},{\"hoursWorked\":11.03333333333333,\"employee\":\"Bram DE KEYSER\",\"date\":\"2023-03-09T23:00:00.000Z\",\"warehouseId\":12},{\"hoursWorked\":11.46666666666667,\"employee\":\"Bram DE KEYSER\",\"date\":\"2023-03-12T23:00:00.000Z\",\"warehouseId\":12},{\"hoursWorked\":11.76666666666667,\"employee\":\"Bram DE KEYSER\",\"date\":\"2023-03-13T23:00:00.000Z\",\"warehouseId\":12},{\"hoursWorked\":10.13333333333333,\"employee\":\"Bram DE KEYSER\",\"date\":\"2023-03-16T23:00:00.000Z\",\"warehouseId\":12},{\"hoursWorked\":11.83333333333333,\"employee\":\"Bram DE KEYSER\",\"date\":\"2023-03-17T23:00:00.000Z\",\"warehouseId\":12},{\"hoursWorked\":11.31666666666667,\"employee\":\"Bram DE KEYSER\",\"date\":\"2023-03-18T23:00:00.000Z\",\"warehouseId\":12},{\"hoursWorked\":11.73333333333333,\"employee\":\"Bram DE KEYSER\",\"date\":\"2023-03-19T23:00:00.000Z\",\"warehouseId\":12},{\"hoursWorked\":11.18333333333333,\"employee\":\"Bram DE KEYSER\",\"date\":\"2023-03-22T23:00:00.000Z\",\"warehouseId\":12},{\"hoursWorked\":10.46666666666667,\"employee\":\"Bram DE KEYSER\",\"date\":\"2023-03-23T23:00:00.000Z\",\"warehouseId\":12},{\"hoursWorked\":11.76666666666667,\"employee\":\"Bram DE KEYSER\",\"date\":\"2023-03-27T22:00:00.000Z\",\"warehouseId\":12},{\"hoursWorked\":11.43333333333333,\"employee\":\"Bram DE KEYSER\",\"date\":\"2023-03-30T22:00:00.000Z\",\"warehouseId\":12},{\"hoursWorked\":11.18333333333333,\"employee\":\"Marine JANSSENS\",\"date\":\"2023-03-01T23:00:00.000Z\",\"warehouseId\":12},{\"hoursWorked\":10.81666666666667,\"employee\":\"Marine JANSSENS\",\"date\":\"2023-03-06T23:00:00.000Z\",\"warehouseId\":12},{\"hoursWorked\":11.08333333333333,\"employee\":\"Marine JANSSENS\",\"date\":\"2023-03-07T23:00:00.000Z\",\"warehouseId\":12},{\"hoursWorked\":11.38333333333333,\"employee\":\"Marine JANSSENS\",\"date\":\"2023-03-08T23:00:00.000Z\",\"warehouseId\":12},{\"hoursWorked\":11.15,\"employee\":\"Marine JANSSENS\",\"date\":\"2023-03-10T23:00:00.000Z\",\"warehouseId\":12},{\"hoursWorked\":11.08333333333333,\"employee\":\"Marine JANSSENS\",\"date\":\"2023-03-11T23:00:00.000Z\",\"warehouseId\":12},{\"hoursWorked\":11.28333333333333,\"employee\":\"Marine JANSSENS\",\"date\":\"2023-03-13T23:00:00.000Z\",\"warehouseId\":12},{\"hoursWorked\":7.033333333333333,\"employee\":\"Marine JANSSENS\",\"date\":\"2023-03-14T23:00:00.000Z\",\"warehouseId\":12},{\"hoursWorked\":11.06666666666667,\"employee\":\"Marine JANSSENS\",\"date\":\"2023-03-15T23:00:00.000Z\",\"warehouseId\":12},{\"hoursWorked\":11.18333333333333,\"employee\":\"Marine JANSSENS\",\"date\":\"2023-03-20T23:00:00.000Z\",\"warehouseId\":12},{\"hoursWorked\":11.1,\"employee\":\"Marine JANSSENS\",\"date\":\"2023-03-21T23:00:00.000Z\",\"warehouseId\":12},{\"hoursWorked\":11.16666666666667,\"employee\":\"Marine JANSSENS\",\"date\":\"2023-03-24T23:00:00.000Z\",\"warehouseId\":12},{\"hoursWorked\":11.26666666666667,\"employee\":\"Marine JANSSENS\",\"date\":\"2023-03-25T23:00:00.000Z\",\"warehouseId\":12},{\"hoursWorked\":11.16666666666667,\"employee\":\"Marine JANSSENS\",\"date\":\"2023-03-27T22:00:00.000Z\",\"warehouseId\":12},{\"hoursWorked\":6.85,\"employee\":\"Marine JANSSENS\",\"date\":\"2023-03-28T22:00:00.000Z\",\"warehouseId\":12},{\"hoursWorked\":11.71666666666667,\"employee\":\"Marine JANSSENS\",\"date\":\"2023-03-29T22:00:00.000Z\",\"warehouseId\":12},{\"hoursWorked\":10.95,\"employee\":\"Fernando HERNANDEZ GUARDADO\",\"date\":\"2023-03-02T23:00:00.000Z\",\"warehouseId\":12},{\"hoursWorked\":10.98333333333333,\"employee\":\"Fernando HERNANDEZ GUARDADO\",\"date\":\"2023-03-03T23:00:00.000Z\",\"warehouseId\":12},{\"hoursWorked\":11.11666666666667,\"employee\":\"Fernando HERNANDEZ GUARDADO\",\"date\":\"2023-03-04T23:00:00.000Z\",\"warehouseId\":12},{\"hoursWorked\":10.86666666666667,\"employee\":\"Fernando HERNANDEZ GUARDADO\",\"date\":\"2023-03-06T23:00:00.000Z\",\"warehouseId\":12},{\"hoursWorked\":11.8,\"employee\":\"Fernando HERNANDEZ GUARDADO\",\"date\":\"2023-03-12T23:00:00.000Z\",\"warehouseId\":12},{\"hoursWorked\":3.95,\"employee\":\"Fernando HERNANDEZ GUARDADO\",\"date\":\"2023-03-14T23:00:00.000Z\",\"warehouseId\":12},{\"hoursWorked\":11.28333333333333,\"employee\":\"Fernando HERNANDEZ GUARDADO\",\"date\":\"2023-03-16T23:00:00.000Z\",\"warehouseId\":12},{\"hoursWorked\":11.53333333333333,\"employee\":\"Fernando HERNANDEZ GUARDADO\",\"date\":\"2023-03-17T23:00:00.000Z\",\"warehouseId\":12},{\"hoursWorked\":11.13333333333333,\"employee\":\"Fernando HERNANDEZ GUARDADO\",\"date\":\"2023-03-18T23:00:00.000Z\",\"warehouseId\":12},{\"hoursWorked\":10.95,\"employee\":\"Fernando HERNANDEZ GUARDADO\",\"date\":\"2023-03-20T23:00:00.000Z\",\"warehouseId\":12},{\"hoursWorked\":11.18333333333333,\"employee\":\"Fernando HERNANDEZ GUARDADO\",\"date\":\"2023-03-21T23:00:00.000Z\",\"warehouseId\":12},{\"hoursWorked\":10.71666666666667,\"employee\":\"Fernando HERNANDEZ GUARDADO\",\"date\":\"2023-03-22T23:00:00.000Z\",\"warehouseId\":12},{\"hoursWorked\":11.41666666666667,\"employee\":\"Fernando HERNANDEZ GUARDADO\",\"date\":\"2023-03-23T23:00:00.000Z\",\"warehouseId\":12},{\"hoursWorked\":11.55,\"employee\":\"Fernando HERNANDEZ GUARDADO\",\"date\":\"2023-03-26T22:00:00.000Z\",\"warehouseId\":12},{\"hoursWorked\":4.2,\"employee\":\"Fernando HERNANDEZ GUARDADO\",\"date\":\"2023-03-28T22:00:00.000Z\",\"warehouseId\":12},{\"hoursWorked\":11.18333333333333,\"employee\":\"Fernando HERNANDEZ GUARDADO\",\"date\":\"2023-03-30T22:00:00.000Z\",\"warehouseId\":12},{\"hoursWorked\":11.18333333333333,\"employee\":\"Paul GUERRERO\",\"date\":\"2023-03-01T23:00:00.000Z\",\"warehouseId\":12},{\"hoursWorked\":11.03333333333333,\"employee\":\"Paul GUERRERO\",\"date\":\"2023-03-02T23:00:00.000Z\",\"warehouseId\":12},{\"hoursWorked\":11.41666666666667,\"employee\":\"Paul GUERRERO\",\"date\":\"2023-03-05T23:00:00.000Z\",\"warehouseId\":12},{\"hoursWorked\":11.16666666666667,\"employee\":\"Paul GUERRERO\",\"date\":\"2023-03-07T23:00:00.000Z\",\"warehouseId\":12},{\"hoursWorked\":10.8,\"employee\":\"Paul GUERRERO\",\"date\":\"2023-03-09T23:00:00.000Z\",\"warehouseId\":12},{\"hoursWorked\":3.166666666666667,\"employee\":\"Paul GUERRERO\",\"date\":\"2023-03-10T23:00:00.000Z\",\"warehouseId\":12},{\"hoursWorked\":11.71666666666667,\"employee\":\"Paul GUERRERO\",\"date\":\"2023-03-19T23:00:00.000Z\",\"warehouseId\":12},{\"hoursWorked\":11.3,\"employee\":\"Paul GUERRERO\",\"date\":\"2023-03-23T23:00:00.000Z\",\"warehouseId\":12},{\"hoursWorked\":11.11666666666667,\"employee\":\"Paul GUERRERO\",\"date\":\"2023-03-24T23:00:00.000Z\",\"warehouseId\":12},{\"hoursWorked\":11.08333333333333,\"employee\":\"Paul GUERRERO\",\"date\":\"2023-03-25T23:00:00.000Z\",\"warehouseId\":12},{\"hoursWorked\":8.666666666666666,\"employee\":\"Paul GUERRERO\",\"date\":\"2023-03-26T22:00:00.000Z\",\"warehouseId\":12},{\"hoursWorked\":11.08333333333333,\"employee\":\"Paul GUERRERO\",\"date\":\"2023-03-28T22:00:00.000Z\",\"warehouseId\":12},{\"hoursWorked\":11.46666666666667,\"employee\":\"Paul GUERRERO\",\"date\":\"2023-03-29T22:00:00.000Z\",\"warehouseId\":12},{\"hoursWorked\":11.13333333333333,\"employee\":\"Fatou YARA\",\"date\":\"2023-03-03T23:00:00.000Z\",\"warehouseId\":12},{\"hoursWorked\":11.13333333333333,\"employee\":\"Fatou YARA\",\"date\":\"2023-03-10T23:00:00.000Z\",\"warehouseId\":12},{\"hoursWorked\":10.71666666666667,\"employee\":\"Fatou YARA\",\"date\":\"2023-03-11T23:00:00.000Z\",\"warehouseId\":12},{\"hoursWorked\":11.6,\"employee\":\"Fatou YARA\",\"date\":\"2023-03-17T23:00:00.000Z\",\"warehouseId\":12},{\"hoursWorked\":6.3,\"employee\":\"Fatou YARA\",\"date\":\"2023-03-18T23:00:00.000Z\",\"warehouseId\":12},{\"hoursWorked\":11,\"employee\":\"Fatou YARA\",\"date\":\"2023-03-25T23:00:00.000Z\",\"warehouseId\":12},{\"hoursWorked\":4.5,\"employee\":\"Johan VAN GUCHT\",\"date\":\"2023-03-30T22:00:00.000Z\",\"warehouseId\":12},{\"hoursWorked\":10.85,\"employee\":\"Benjamin MOENECLAEY\",\"date\":\"2023-03-09T23:00:00.000Z\",\"warehouseId\":12},{\"hoursWorked\":10.76666666666667,\"employee\":\"Benjamin MOENECLAEY\",\"date\":\"2023-03-24T23:00:00.000Z\",\"warehouseId\":12},{\"hoursWorked\":10.65,\"employee\":\"Benjamin MOENECLAEY\",\"date\":\"2023-03-30T22:00:00.000Z\",\"warehouseId\":12},{\"hoursWorked\":8.333333333333334,\"employee\":\"Cécile BOLSAIE\",\"date\":\"2023-03-26T22:00:00.000Z\",\"warehouseId\":12},{\"hoursWorked\":9.266666666666667,\"employee\":\"Cécile BOLSAIE\",\"date\":\"2023-03-27T22:00:00.000Z\",\"warehouseId\":12},{\"hoursWorked\":8.5,\"employee\":\"Cécile BOLSAIE\",\"date\":\"2023-03-28T22:00:00.000Z\",\"warehouseId\":12},{\"hoursWorked\":8.45,\"employee\":\"Cécile BOLSAIE\",\"date\":\"2023-03-29T22:00:00.000Z\",\"warehouseId\":12},{\"hoursWorked\":7.083333333333333,\"employee\":\"Cécile BOLSAIE\",\"date\":\"2023-03-30T22:00:00.000Z\",\"warehouseId\":12}]\n",
      "total hours\n",
      "gross margin\n",
      "Shop CHATELAIN gross margins:\n",
      "config.ini file available... using that\n"
     ]
    },
    {
     "name": "stdout",
     "output_type": "stream",
     "text": [
      "config.ini file available... using that\n",
      "foodcosts ok\n",
      "config.ini file available... using that\n",
      "sales ok\n",
      "config.ini file available... using that\n",
      "200\n",
      "[{\"hoursWorked\":13.5,\"employee\":\"Jelle ERAERTS\",\"date\":\"2023-03-02T23:00:00.000Z\",\"warehouseId\":36},{\"hoursWorked\":13.5,\"employee\":\"Jelle ERAERTS\",\"date\":\"2023-03-13T23:00:00.000Z\",\"warehouseId\":36},{\"hoursWorked\":13.58333333333333,\"employee\":\"Jelle ERAERTS\",\"date\":\"2023-03-19T23:00:00.000Z\",\"warehouseId\":36},{\"hoursWorked\":13.66666666666667,\"employee\":\"Jelle ERAERTS\",\"date\":\"2023-03-24T23:00:00.000Z\",\"warehouseId\":36},{\"hoursWorked\":9.5,\"employee\":\"Jelle ERAERTS\",\"date\":\"2023-03-25T23:00:00.000Z\",\"warehouseId\":36},{\"hoursWorked\":9.583333333333334,\"employee\":\"Jelle ERAERTS\",\"date\":\"2023-03-26T22:00:00.000Z\",\"warehouseId\":36},{\"hoursWorked\":13.91666666666667,\"employee\":\"Jelle ERAERTS\",\"date\":\"2023-03-30T22:00:00.000Z\",\"warehouseId\":36},{\"hoursWorked\":10.56666666666667,\"employee\":\"Alessandra CHIANALE\",\"date\":\"2023-03-01T23:00:00.000Z\",\"warehouseId\":36},{\"hoursWorked\":10.68333333333333,\"employee\":\"Alessandra CHIANALE\",\"date\":\"2023-03-02T23:00:00.000Z\",\"warehouseId\":36},{\"hoursWorked\":10.9,\"employee\":\"Alessandra CHIANALE\",\"date\":\"2023-03-05T23:00:00.000Z\",\"warehouseId\":36},{\"hoursWorked\":7.35,\"employee\":\"Alessandra CHIANALE\",\"date\":\"2023-03-08T23:00:00.000Z\",\"warehouseId\":36},{\"hoursWorked\":10.43333333333333,\"employee\":\"Alessandra CHIANALE\",\"date\":\"2023-03-09T23:00:00.000Z\",\"warehouseId\":36},{\"hoursWorked\":11.01666666666667,\"employee\":\"Alessandra CHIANALE\",\"date\":\"2023-03-10T23:00:00.000Z\",\"warehouseId\":36},{\"hoursWorked\":10.53333333333333,\"employee\":\"Alessandra CHIANALE\",\"date\":\"2023-03-11T23:00:00.000Z\",\"warehouseId\":36},{\"hoursWorked\":10.53333333333333,\"employee\":\"Alessandra CHIANALE\",\"date\":\"2023-03-12T23:00:00.000Z\",\"warehouseId\":36},{\"hoursWorked\":10.95,\"employee\":\"Alessandra CHIANALE\",\"date\":\"2023-03-14T23:00:00.000Z\",\"warehouseId\":36},{\"hoursWorked\":10.71666666666667,\"employee\":\"Alessandra CHIANALE\",\"date\":\"2023-03-15T23:00:00.000Z\",\"warehouseId\":36},{\"hoursWorked\":10.65,\"employee\":\"Alessandra CHIANALE\",\"date\":\"2023-03-16T23:00:00.000Z\",\"warehouseId\":36},{\"hoursWorked\":10.48333333333333,\"employee\":\"Alessandra CHIANALE\",\"date\":\"2023-03-19T23:00:00.000Z\",\"warehouseId\":36},{\"hoursWorked\":8.416666666666666,\"employee\":\"Alessandra CHIANALE\",\"date\":\"2023-03-23T23:00:00.000Z\",\"warehouseId\":36},{\"hoursWorked\":10.41666666666667,\"employee\":\"Alessandra CHIANALE\",\"date\":\"2023-03-24T23:00:00.000Z\",\"warehouseId\":36},{\"hoursWorked\":10.63333333333333,\"employee\":\"Alessandra CHIANALE\",\"date\":\"2023-03-25T23:00:00.000Z\",\"warehouseId\":36},{\"hoursWorked\":10.51666666666667,\"employee\":\"Alessandra CHIANALE\",\"date\":\"2023-03-26T22:00:00.000Z\",\"warehouseId\":36},{\"hoursWorked\":10.66666666666667,\"employee\":\"Alessandra CHIANALE\",\"date\":\"2023-03-28T22:00:00.000Z\",\"warehouseId\":36},{\"hoursWorked\":10.48333333333333,\"employee\":\"Alessandra CHIANALE\",\"date\":\"2023-03-29T22:00:00.000Z\",\"warehouseId\":36},{\"hoursWorked\":10.56666666666667,\"employee\":\"Alessandra CHIANALE\",\"date\":\"2023-03-30T22:00:00.000Z\",\"warehouseId\":36},{\"hoursWorked\":10.81666666666667,\"employee\":\"Olivier HEES\",\"date\":\"2023-03-03T23:00:00.000Z\",\"warehouseId\":36},{\"hoursWorked\":10.4,\"employee\":\"Olivier HEES\",\"date\":\"2023-03-04T23:00:00.000Z\",\"warehouseId\":36},{\"hoursWorked\":10.46666666666667,\"employee\":\"Olivier HEES\",\"date\":\"2023-03-06T23:00:00.000Z\",\"warehouseId\":36},{\"hoursWorked\":10.4,\"employee\":\"Olivier HEES\",\"date\":\"2023-03-07T23:00:00.000Z\",\"warehouseId\":36},{\"hoursWorked\":10.78333333333333,\"employee\":\"Olivier HEES\",\"date\":\"2023-03-08T23:00:00.000Z\",\"warehouseId\":36},{\"hoursWorked\":10.35,\"employee\":\"Olivier HEES\",\"date\":\"2023-03-09T23:00:00.000Z\",\"warehouseId\":36},{\"hoursWorked\":10.53333333333333,\"employee\":\"Olivier HEES\",\"date\":\"2023-03-12T23:00:00.000Z\",\"warehouseId\":36},{\"hoursWorked\":10.3,\"employee\":\"Olivier HEES\",\"date\":\"2023-03-13T23:00:00.000Z\",\"warehouseId\":36},{\"hoursWorked\":5.666666666666667,\"employee\":\"Olivier HEES\",\"date\":\"2023-03-16T23:00:00.000Z\",\"warehouseId\":36},{\"hoursWorked\":10.6,\"employee\":\"Olivier HEES\",\"date\":\"2023-03-17T23:00:00.000Z\",\"warehouseId\":36},{\"hoursWorked\":10.46666666666667,\"employee\":\"Olivier HEES\",\"date\":\"2023-03-18T23:00:00.000Z\",\"warehouseId\":36},{\"hoursWorked\":10.6,\"employee\":\"Olivier HEES\",\"date\":\"2023-03-20T23:00:00.000Z\",\"warehouseId\":36},{\"hoursWorked\":7.2,\"employee\":\"Olivier HEES\",\"date\":\"2023-03-21T23:00:00.000Z\",\"warehouseId\":36},{\"hoursWorked\":7.433333333333334,\"employee\":\"Olivier HEES\",\"date\":\"2023-03-22T23:00:00.000Z\",\"warehouseId\":36},{\"hoursWorked\":7,\"employee\":\"Olivier HEES\",\"date\":\"2023-03-23T23:00:00.000Z\",\"warehouseId\":36},{\"hoursWorked\":7.333333333333333,\"employee\":\"Olivier HEES\",\"date\":\"2023-03-26T22:00:00.000Z\",\"warehouseId\":36},{\"hoursWorked\":7.266666666666666,\"employee\":\"Olivier HEES\",\"date\":\"2023-03-27T22:00:00.000Z\",\"warehouseId\":36},{\"hoursWorked\":2.266666666666667,\"employee\":\"Olivier HEES\",\"date\":\"2023-03-30T22:00:00.000Z\",\"warehouseId\":36},{\"hoursWorked\":10.26666666666667,\"employee\":\"Hubert VAN STRIEN\",\"date\":\"2023-03-01T23:00:00.000Z\",\"warehouseId\":36},{\"hoursWorked\":10.43333333333333,\"employee\":\"Hubert VAN STRIEN\",\"date\":\"2023-03-03T23:00:00.000Z\",\"warehouseId\":36},{\"hoursWorked\":10.16666666666667,\"employee\":\"Hubert VAN STRIEN\",\"date\":\"2023-03-04T23:00:00.000Z\",\"warehouseId\":36},{\"hoursWorked\":10.08333333333333,\"employee\":\"Hubert VAN STRIEN\",\"date\":\"2023-03-06T23:00:00.000Z\",\"warehouseId\":36},{\"hoursWorked\":10.48333333333333,\"employee\":\"Hubert VAN STRIEN\",\"date\":\"2023-03-07T23:00:00.000Z\",\"warehouseId\":36},{\"hoursWorked\":10.3,\"employee\":\"Hubert VAN STRIEN\",\"date\":\"2023-03-08T23:00:00.000Z\",\"warehouseId\":36},{\"hoursWorked\":6.266666666666667,\"employee\":\"Hubert VAN STRIEN\",\"date\":\"2023-03-11T23:00:00.000Z\",\"warehouseId\":36},{\"hoursWorked\":10.6,\"employee\":\"Hubert VAN STRIEN\",\"date\":\"2023-03-14T23:00:00.000Z\",\"warehouseId\":36},{\"hoursWorked\":10.48333333333333,\"employee\":\"Hubert VAN STRIEN\",\"date\":\"2023-03-15T23:00:00.000Z\",\"warehouseId\":36},{\"hoursWorked\":10.2,\"employee\":\"Hubert VAN STRIEN\",\"date\":\"2023-03-17T23:00:00.000Z\",\"warehouseId\":36},{\"hoursWorked\":10.03333333333333,\"employee\":\"Hubert VAN STRIEN\",\"date\":\"2023-03-18T23:00:00.000Z\",\"warehouseId\":36},{\"hoursWorked\":10.36666666666667,\"employee\":\"Hubert VAN STRIEN\",\"date\":\"2023-03-20T23:00:00.000Z\",\"warehouseId\":36},{\"hoursWorked\":10.41666666666667,\"employee\":\"Hubert VAN STRIEN\",\"date\":\"2023-03-21T23:00:00.000Z\",\"warehouseId\":36},{\"hoursWorked\":10.51666666666667,\"employee\":\"Hubert VAN STRIEN\",\"date\":\"2023-03-22T23:00:00.000Z\",\"warehouseId\":36},{\"hoursWorked\":10.46666666666667,\"employee\":\"Hubert VAN STRIEN\",\"date\":\"2023-03-23T23:00:00.000Z\",\"warehouseId\":36},{\"hoursWorked\":2.466666666666667,\"employee\":\"Hubert VAN STRIEN\",\"date\":\"2023-03-25T23:00:00.000Z\",\"warehouseId\":36},{\"hoursWorked\":10.38333333333333,\"employee\":\"Hubert VAN STRIEN\",\"date\":\"2023-03-28T22:00:00.000Z\",\"warehouseId\":36},{\"hoursWorked\":10.36666666666667,\"employee\":\"Hubert VAN STRIEN\",\"date\":\"2023-03-29T22:00:00.000Z\",\"warehouseId\":36},{\"hoursWorked\":10.68333333333333,\"employee\":\"Kathy REGELBRUGGE\",\"date\":\"2023-03-05T23:00:00.000Z\",\"warehouseId\":36},{\"hoursWorked\":8.183333333333334,\"employee\":\"Kathy REGELBRUGGE\",\"date\":\"2023-03-09T23:00:00.000Z\",\"warehouseId\":36},{\"hoursWorked\":10.85,\"employee\":\"Kathy REGELBRUGGE\",\"date\":\"2023-03-10T23:00:00.000Z\",\"warehouseId\":36},{\"hoursWorked\":10.51666666666667,\"employee\":\"Kathy REGELBRUGGE\",\"date\":\"2023-03-16T23:00:00.000Z\",\"warehouseId\":36},{\"hoursWorked\":8.416666666666666,\"employee\":\"Kathy REGELBRUGGE\",\"date\":\"2023-03-17T23:00:00.000Z\",\"warehouseId\":36},{\"hoursWorked\":5.05,\"employee\":\"Kathy REGELBRUGGE\",\"date\":\"2023-03-21T23:00:00.000Z\",\"warehouseId\":36},{\"hoursWorked\":5.183333333333334,\"employee\":\"Kathy REGELBRUGGE\",\"date\":\"2023-03-22T23:00:00.000Z\",\"warehouseId\":36},{\"hoursWorked\":10.5,\"employee\":\"Kathy REGELBRUGGE\",\"date\":\"2023-03-27T22:00:00.000Z\",\"warehouseId\":36},{\"hoursWorked\":6.966666666666667,\"employee\":\"Mathis DENIS\",\"date\":\"2023-03-04T23:00:00.000Z\",\"warehouseId\":36},{\"hoursWorked\":7.9,\"employee\":\"Mathis DENIS\",\"date\":\"2023-03-11T23:00:00.000Z\",\"warehouseId\":36},{\"hoursWorked\":7.533333333333333,\"employee\":\"Mathis DENIS\",\"date\":\"2023-03-25T23:00:00.000Z\",\"warehouseId\":36}]\n",
      "total hours\n",
      "gross margin\n",
      "Shop OVERIJSE gross margins:\n",
      "config.ini file available... using that\n"
     ]
    },
    {
     "name": "stdout",
     "output_type": "stream",
     "text": [
      "config.ini file available... using that\n",
      "foodcosts ok\n",
      "config.ini file available... using that\n",
      "sales ok\n",
      "config.ini file available... using that\n",
      "200\n",
      "[{\"hoursWorked\":6.616666666666666,\"employee\":\"Anne LIPPENS\",\"date\":\"2023-03-14T23:00:00.000Z\",\"warehouseId\":39},{\"hoursWorked\":7.016666666666667,\"employee\":\"Anne LIPPENS\",\"date\":\"2023-03-28T22:00:00.000Z\",\"warehouseId\":39},{\"hoursWorked\":4.333333333333333,\"employee\":\"Michel WOUTERS\",\"date\":\"2023-03-01T23:00:00.000Z\",\"warehouseId\":39},{\"hoursWorked\":5.333333333333333,\"employee\":\"Michel WOUTERS\",\"date\":\"2023-03-02T23:00:00.000Z\",\"warehouseId\":39},{\"hoursWorked\":11.45,\"employee\":\"Michel WOUTERS\",\"date\":\"2023-03-03T23:00:00.000Z\",\"warehouseId\":39},{\"hoursWorked\":11.35,\"employee\":\"Michel WOUTERS\",\"date\":\"2023-03-04T23:00:00.000Z\",\"warehouseId\":39},{\"hoursWorked\":11.45,\"employee\":\"Michel WOUTERS\",\"date\":\"2023-03-07T23:00:00.000Z\",\"warehouseId\":39},{\"hoursWorked\":4.05,\"employee\":\"Michel WOUTERS\",\"date\":\"2023-03-08T23:00:00.000Z\",\"warehouseId\":39},{\"hoursWorked\":11.3,\"employee\":\"Michel WOUTERS\",\"date\":\"2023-03-09T23:00:00.000Z\",\"warehouseId\":39},{\"hoursWorked\":11.31666666666667,\"employee\":\"Michel WOUTERS\",\"date\":\"2023-03-10T23:00:00.000Z\",\"warehouseId\":39},{\"hoursWorked\":5.233333333333333,\"employee\":\"Michel WOUTERS\",\"date\":\"2023-03-12T23:00:00.000Z\",\"warehouseId\":39},{\"hoursWorked\":4.3,\"employee\":\"Michel WOUTERS\",\"date\":\"2023-03-13T23:00:00.000Z\",\"warehouseId\":39},{\"hoursWorked\":11.1,\"employee\":\"Michel WOUTERS\",\"date\":\"2023-03-14T23:00:00.000Z\",\"warehouseId\":39},{\"hoursWorked\":11.55,\"employee\":\"Michel WOUTERS\",\"date\":\"2023-03-17T23:00:00.000Z\",\"warehouseId\":39},{\"hoursWorked\":11.41666666666667,\"employee\":\"Michel WOUTERS\",\"date\":\"2023-03-18T23:00:00.000Z\",\"warehouseId\":39},{\"hoursWorked\":11.31666666666667,\"employee\":\"Michel WOUTERS\",\"date\":\"2023-03-20T23:00:00.000Z\",\"warehouseId\":39},{\"hoursWorked\":11.2,\"employee\":\"Michel WOUTERS\",\"date\":\"2023-03-21T23:00:00.000Z\",\"warehouseId\":39},{\"hoursWorked\":2.4,\"employee\":\"Michel WOUTERS\",\"date\":\"2023-03-22T23:00:00.000Z\",\"warehouseId\":39},{\"hoursWorked\":7.55,\"employee\":\"Michel WOUTERS\",\"date\":\"2023-03-23T23:00:00.000Z\",\"warehouseId\":39},{\"hoursWorked\":11.51666666666667,\"employee\":\"Michel WOUTERS\",\"date\":\"2023-03-24T23:00:00.000Z\",\"warehouseId\":39},{\"hoursWorked\":11.11666666666667,\"employee\":\"Michel WOUTERS\",\"date\":\"2023-03-28T22:00:00.000Z\",\"warehouseId\":39},{\"hoursWorked\":11.35,\"employee\":\"Michel WOUTERS\",\"date\":\"2023-03-30T22:00:00.000Z\",\"warehouseId\":39},{\"hoursWorked\":9.116666666666667,\"employee\":\"Carine VERCRAYE\",\"date\":\"2023-03-04T23:00:00.000Z\",\"warehouseId\":39},{\"hoursWorked\":7.583333333333333,\"employee\":\"Carine VERCRAYE\",\"date\":\"2023-03-29T22:00:00.000Z\",\"warehouseId\":39},{\"hoursWorked\":6.533333333333333,\"employee\":\"Johan VAN GUCHT\",\"date\":\"2023-03-01T23:00:00.000Z\",\"warehouseId\":39},{\"hoursWorked\":10.85,\"employee\":\"Johan VAN GUCHT\",\"date\":\"2023-03-02T23:00:00.000Z\",\"warehouseId\":39},{\"hoursWorked\":10,\"employee\":\"Johan VAN GUCHT\",\"date\":\"2023-03-05T23:00:00.000Z\",\"warehouseId\":39},{\"hoursWorked\":12,\"employee\":\"Johan VAN GUCHT\",\"date\":\"2023-03-06T23:00:00.000Z\",\"warehouseId\":39},{\"hoursWorked\":9.75,\"employee\":\"Johan VAN GUCHT\",\"date\":\"2023-03-08T23:00:00.000Z\",\"warehouseId\":39},{\"hoursWorked\":12.16666666666667,\"employee\":\"Johan VAN GUCHT\",\"date\":\"2023-03-11T23:00:00.000Z\",\"warehouseId\":39},{\"hoursWorked\":7.15,\"employee\":\"Johan VAN GUCHT\",\"date\":\"2023-03-12T23:00:00.000Z\",\"warehouseId\":39},{\"hoursWorked\":7,\"employee\":\"Johan VAN GUCHT\",\"date\":\"2023-03-13T23:00:00.000Z\",\"warehouseId\":39},{\"hoursWorked\":4.883333333333334,\"employee\":\"Johan VAN GUCHT\",\"date\":\"2023-03-14T23:00:00.000Z\",\"warehouseId\":39},{\"hoursWorked\":5.65,\"employee\":\"Johan VAN GUCHT\",\"date\":\"2023-03-15T23:00:00.000Z\",\"warehouseId\":39},{\"hoursWorked\":11,\"employee\":\"Johan VAN GUCHT\",\"date\":\"2023-03-16T23:00:00.000Z\",\"warehouseId\":39},{\"hoursWorked\":10,\"employee\":\"Johan VAN GUCHT\",\"date\":\"2023-03-19T23:00:00.000Z\",\"warehouseId\":39},{\"hoursWorked\":6.583333333333333,\"employee\":\"Johan VAN GUCHT\",\"date\":\"2023-03-21T23:00:00.000Z\",\"warehouseId\":39},{\"hoursWorked\":7.25,\"employee\":\"Johan VAN GUCHT\",\"date\":\"2023-03-22T23:00:00.000Z\",\"warehouseId\":39},{\"hoursWorked\":11.75,\"employee\":\"Johan VAN GUCHT\",\"date\":\"2023-03-23T23:00:00.000Z\",\"warehouseId\":39},{\"hoursWorked\":10.66666666666667,\"employee\":\"Johan VAN GUCHT\",\"date\":\"2023-03-25T23:00:00.000Z\",\"warehouseId\":39},{\"hoursWorked\":6.083333333333333,\"employee\":\"Johan VAN GUCHT\",\"date\":\"2023-03-26T22:00:00.000Z\",\"warehouseId\":39},{\"hoursWorked\":6.666666666666667,\"employee\":\"Johan VAN GUCHT\",\"date\":\"2023-03-27T22:00:00.000Z\",\"warehouseId\":39},{\"hoursWorked\":10.56666666666667,\"employee\":\"Johan VAN GUCHT\",\"date\":\"2023-03-29T22:00:00.000Z\",\"warehouseId\":39},{\"hoursWorked\":4.083333333333333,\"employee\":\"Sylvie DE MEYER\",\"date\":\"2023-03-05T23:00:00.000Z\",\"warehouseId\":39},{\"hoursWorked\":4.25,\"employee\":\"Sylvie DE MEYER\",\"date\":\"2023-03-06T23:00:00.000Z\",\"warehouseId\":39},{\"hoursWorked\":4.133333333333334,\"employee\":\"Sylvie DE MEYER\",\"date\":\"2023-03-07T23:00:00.000Z\",\"warehouseId\":39},{\"hoursWorked\":4.15,\"employee\":\"Sylvie DE MEYER\",\"date\":\"2023-03-13T23:00:00.000Z\",\"warehouseId\":39},{\"hoursWorked\":4.483333333333333,\"employee\":\"Sylvie DE MEYER\",\"date\":\"2023-03-14T23:00:00.000Z\",\"warehouseId\":39},{\"hoursWorked\":4.25,\"employee\":\"Sylvie DE MEYER\",\"date\":\"2023-03-15T23:00:00.000Z\",\"warehouseId\":39},{\"hoursWorked\":4.283333333333333,\"employee\":\"Sylvie DE MEYER\",\"date\":\"2023-03-26T22:00:00.000Z\",\"warehouseId\":39},{\"hoursWorked\":4.3,\"employee\":\"Sylvie DE MEYER\",\"date\":\"2023-03-27T22:00:00.000Z\",\"warehouseId\":39},{\"hoursWorked\":4.166666666666667,\"employee\":\"Sylvie DE MEYER\",\"date\":\"2023-03-28T22:00:00.000Z\",\"warehouseId\":39},{\"hoursWorked\":5.4,\"employee\":\"Roos VANDEKERCKHOVE\",\"date\":\"2023-03-01T23:00:00.000Z\",\"warehouseId\":39},{\"hoursWorked\":5.95,\"employee\":\"Roos VANDEKERCKHOVE\",\"date\":\"2023-03-02T23:00:00.000Z\",\"warehouseId\":39},{\"hoursWorked\":5.05,\"employee\":\"Roos VANDEKERCKHOVE\",\"date\":\"2023-03-03T23:00:00.000Z\",\"warehouseId\":39},{\"hoursWorked\":5.833333333333333,\"employee\":\"Roos VANDEKERCKHOVE\",\"date\":\"2023-03-05T23:00:00.000Z\",\"warehouseId\":39},{\"hoursWorked\":5.916666666666667,\"employee\":\"Roos VANDEKERCKHOVE\",\"date\":\"2023-03-06T23:00:00.000Z\",\"warehouseId\":39},{\"hoursWorked\":3.466666666666667,\"employee\":\"Roos VANDEKERCKHOVE\",\"date\":\"2023-03-07T23:00:00.000Z\",\"warehouseId\":39},{\"hoursWorked\":5.533333333333333,\"employee\":\"Roos VANDEKERCKHOVE\",\"date\":\"2023-03-08T23:00:00.000Z\",\"warehouseId\":39},{\"hoursWorked\":8.85,\"employee\":\"Roos VANDEKERCKHOVE\",\"date\":\"2023-03-09T23:00:00.000Z\",\"warehouseId\":39},{\"hoursWorked\":5.466666666666667,\"employee\":\"Roos VANDEKERCKHOVE\",\"date\":\"2023-03-12T23:00:00.000Z\",\"warehouseId\":39},{\"hoursWorked\":5.116666666666666,\"employee\":\"Roos VANDEKERCKHOVE\",\"date\":\"2023-03-13T23:00:00.000Z\",\"warehouseId\":39},{\"hoursWorked\":5.833333333333333,\"employee\":\"Roos VANDEKERCKHOVE\",\"date\":\"2023-03-14T23:00:00.000Z\",\"warehouseId\":39},{\"hoursWorked\":6.233333333333333,\"employee\":\"Roos VANDEKERCKHOVE\",\"date\":\"2023-03-15T23:00:00.000Z\",\"warehouseId\":39},{\"hoursWorked\":5.983333333333333,\"employee\":\"Roos VANDEKERCKHOVE\",\"date\":\"2023-03-16T23:00:00.000Z\",\"warehouseId\":39},{\"hoursWorked\":10,\"employee\":\"Roos VANDEKERCKHOVE\",\"date\":\"2023-03-19T23:00:00.000Z\",\"warehouseId\":39},{\"hoursWorked\":6.066666666666666,\"employee\":\"Roos VANDEKERCKHOVE\",\"date\":\"2023-03-20T23:00:00.000Z\",\"warehouseId\":39},{\"hoursWorked\":6.2,\"employee\":\"Roos VANDEKERCKHOVE\",\"date\":\"2023-03-21T23:00:00.000Z\",\"warehouseId\":39},{\"hoursWorked\":6.1,\"employee\":\"Roos VANDEKERCKHOVE\",\"date\":\"2023-03-22T23:00:00.000Z\",\"warehouseId\":39},{\"hoursWorked\":5.266666666666667,\"employee\":\"Roos VANDEKERCKHOVE\",\"date\":\"2023-03-23T23:00:00.000Z\",\"warehouseId\":39},{\"hoursWorked\":10.25,\"employee\":\"Roos VANDEKERCKHOVE\",\"date\":\"2023-03-26T22:00:00.000Z\",\"warehouseId\":39},{\"hoursWorked\":3.666666666666667,\"employee\":\"Roos VANDEKERCKHOVE\",\"date\":\"2023-03-27T22:00:00.000Z\",\"warehouseId\":39},{\"hoursWorked\":6.05,\"employee\":\"Roos VANDEKERCKHOVE\",\"date\":\"2023-03-28T22:00:00.000Z\",\"warehouseId\":39},{\"hoursWorked\":6.2,\"employee\":\"Roos VANDEKERCKHOVE\",\"date\":\"2023-03-29T22:00:00.000Z\",\"warehouseId\":39},{\"hoursWorked\":6.133333333333334,\"employee\":\"Roos VANDEKERCKHOVE\",\"date\":\"2023-03-30T22:00:00.000Z\",\"warehouseId\":39},{\"hoursWorked\":4.1,\"employee\":\"Britt JOORIS\",\"date\":\"2023-03-18T23:00:00.000Z\",\"warehouseId\":39},{\"hoursWorked\":4.183333333333334,\"employee\":\"Britt JOORIS\",\"date\":\"2023-03-25T23:00:00.000Z\",\"warehouseId\":39},{\"hoursWorked\":5.033333333333333,\"employee\":\"Jules DE WITTE\",\"date\":\"2023-03-03T23:00:00.000Z\",\"warehouseId\":39},{\"hoursWorked\":5.033333333333333,\"employee\":\"Jules DE WITTE\",\"date\":\"2023-03-10T23:00:00.000Z\",\"warehouseId\":39},{\"hoursWorked\":5.05,\"employee\":\"Alix VERSTRAETEN\",\"date\":\"2023-03-24T23:00:00.000Z\",\"warehouseId\":39},{\"hoursWorked\":3.566666666666667,\"employee\":\"Stefanie VERMEERSCH\",\"date\":\"2023-03-01T23:00:00.000Z\",\"warehouseId\":39},{\"hoursWorked\":5.866666666666666,\"employee\":\"Stefanie VERMEERSCH\",\"date\":\"2023-03-05T23:00:00.000Z\",\"warehouseId\":39},{\"hoursWorked\":4.083333333333333,\"employee\":\"Stefanie VERMEERSCH\",\"date\":\"2023-03-08T23:00:00.000Z\",\"warehouseId\":39},{\"hoursWorked\":5.566666666666666,\"employee\":\"Stefanie VERMEERSCH\",\"date\":\"2023-03-12T23:00:00.000Z\",\"warehouseId\":39},{\"hoursWorked\":1.65,\"employee\":\"Stefanie VERMEERSCH\",\"date\":\"2023-03-15T23:00:00.000Z\",\"warehouseId\":39},{\"hoursWorked\":1.833333333333333,\"employee\":\"Stefanie VERMEERSCH\",\"date\":\"2023-03-19T23:00:00.000Z\",\"warehouseId\":39},{\"hoursWorked\":4.133333333333334,\"employee\":\"Stefanie VERMEERSCH\",\"date\":\"2023-03-22T23:00:00.000Z\",\"warehouseId\":39},{\"hoursWorked\":4.516666666666667,\"employee\":\"Stefanie VERMEERSCH\",\"date\":\"2023-03-26T22:00:00.000Z\",\"warehouseId\":39},{\"hoursWorked\":6.15,\"employee\":\"Anna SCHEPENS\",\"date\":\"2023-03-03T23:00:00.000Z\",\"warehouseId\":39},{\"hoursWorked\":6.083333333333333,\"employee\":\"Anna SCHEPENS\",\"date\":\"2023-03-10T23:00:00.000Z\",\"warehouseId\":39},{\"hoursWorked\":6.016666666666667,\"employee\":\"Anna SCHEPENS\",\"date\":\"2023-03-17T23:00:00.000Z\",\"warehouseId\":39},{\"hoursWorked\":6.016666666666667,\"employee\":\"Anna SCHEPENS\",\"date\":\"2023-03-24T23:00:00.000Z\",\"warehouseId\":39},{\"hoursWorked\":5.233333333333333,\"employee\":\"Ella DE GRAEVE\",\"date\":\"2023-03-18T23:00:00.000Z\",\"warehouseId\":39},{\"hoursWorked\":5.1,\"employee\":\"Lies VERSTRAETEN\",\"date\":\"2023-03-17T23:00:00.000Z\",\"warehouseId\":39},{\"hoursWorked\":4.616666666666666,\"employee\":\"Lies VERSTRAETEN\",\"date\":\"2023-03-24T23:00:00.000Z\",\"warehouseId\":39},{\"hoursWorked\":10.58333333333333,\"employee\":\"Thomas MOT\",\"date\":\"2023-03-03T23:00:00.000Z\",\"warehouseId\":39},{\"hoursWorked\":6,\"employee\":\"Thomas MOT\",\"date\":\"2023-03-04T23:00:00.000Z\",\"warehouseId\":39},{\"hoursWorked\":5.75,\"employee\":\"Thomas MOT\",\"date\":\"2023-03-06T23:00:00.000Z\",\"warehouseId\":39},{\"hoursWorked\":6.8,\"employee\":\"Thomas MOT\",\"date\":\"2023-03-07T23:00:00.000Z\",\"warehouseId\":39},{\"hoursWorked\":7.016666666666667,\"employee\":\"Thomas MOT\",\"date\":\"2023-03-08T23:00:00.000Z\",\"warehouseId\":39},{\"hoursWorked\":11.25,\"employee\":\"Thomas MOT\",\"date\":\"2023-03-09T23:00:00.000Z\",\"warehouseId\":39},{\"hoursWorked\":7.183333333333334,\"employee\":\"Thomas MOT\",\"date\":\"2023-03-10T23:00:00.000Z\",\"warehouseId\":39},{\"hoursWorked\":3.5,\"employee\":\"Thomas MOT\",\"date\":\"2023-03-11T23:00:00.000Z\",\"warehouseId\":39},{\"hoursWorked\":6.333333333333333,\"employee\":\"Thomas MOT\",\"date\":\"2023-03-13T23:00:00.000Z\",\"warehouseId\":39},{\"hoursWorked\":7.75,\"employee\":\"Thomas MOT\",\"date\":\"2023-03-14T23:00:00.000Z\",\"warehouseId\":39},{\"hoursWorked\":10.76666666666667,\"employee\":\"Thomas MOT\",\"date\":\"2023-03-15T23:00:00.000Z\",\"warehouseId\":39},{\"hoursWorked\":11.18333333333333,\"employee\":\"Thomas MOT\",\"date\":\"2023-03-16T23:00:00.000Z\",\"warehouseId\":39},{\"hoursWorked\":5.05,\"employee\":\"Thomas MOT\",\"date\":\"2023-03-17T23:00:00.000Z\",\"warehouseId\":39},{\"hoursWorked\":10.18333333333333,\"employee\":\"Thomas MOT\",\"date\":\"2023-03-20T23:00:00.000Z\",\"warehouseId\":39},{\"hoursWorked\":7.716666666666667,\"employee\":\"Thomas MOT\",\"date\":\"2023-03-22T23:00:00.000Z\",\"warehouseId\":39},{\"hoursWorked\":11.28333333333333,\"employee\":\"Thomas MOT\",\"date\":\"2023-03-24T23:00:00.000Z\",\"warehouseId\":39},{\"hoursWorked\":7.383333333333334,\"employee\":\"Thomas MOT\",\"date\":\"2023-03-25T23:00:00.000Z\",\"warehouseId\":39},{\"hoursWorked\":9.266666666666667,\"employee\":\"Thomas MOT\",\"date\":\"2023-03-27T22:00:00.000Z\",\"warehouseId\":39},{\"hoursWorked\":6.5,\"employee\":\"Thomas MOT\",\"date\":\"2023-03-28T22:00:00.000Z\",\"warehouseId\":39},{\"hoursWorked\":7.2,\"employee\":\"Thomas MOT\",\"date\":\"2023-03-29T22:00:00.000Z\",\"warehouseId\":39},{\"hoursWorked\":5.75,\"employee\":\"Thomas MOT\",\"date\":\"2023-03-30T22:00:00.000Z\",\"warehouseId\":39},{\"hoursWorked\":6,\"employee\":\"Charlotte DE LANGE\",\"date\":\"2023-03-16T23:00:00.000Z\",\"warehouseId\":39},{\"hoursWorked\":6,\"employee\":\"Charlotte DE LANGE\",\"date\":\"2023-03-17T23:00:00.000Z\",\"warehouseId\":39},{\"hoursWorked\":5.25,\"employee\":\"Charlotte DE LANGE\",\"date\":\"2023-03-18T23:00:00.000Z\",\"warehouseId\":39},{\"hoursWorked\":4.166666666666667,\"employee\":\"Charlotte DE LANGE\",\"date\":\"2023-03-30T22:00:00.000Z\",\"warehouseId\":39},{\"hoursWorked\":5,\"employee\":\"Wout VERSTRAEYEN\",\"date\":\"2023-03-10T23:00:00.000Z\",\"warehouseId\":39},{\"hoursWorked\":6,\"employee\":\"Wout VERSTRAEYEN\",\"date\":\"2023-03-25T23:00:00.000Z\",\"warehouseId\":39},{\"hoursWorked\":4,\"employee\":\"Lisa DE BRUYKER CHABBA\",\"date\":\"2023-03-04T23:00:00.000Z\",\"warehouseId\":39},{\"hoursWorked\":5,\"employee\":\"Lisa DE BRUYKER CHABBA\",\"date\":\"2023-03-11T23:00:00.000Z\",\"warehouseId\":39}]\n",
      "total hours\n",
      "gross margin\n",
      "Shop LATEM gross margins:\n"
     ]
    }
   ],
   "source": [
    "shop_names = core.get_shop_names()\n",
    "shop_stats = {}\n",
    "for shop_name in shop_names:\n",
    "    gross_margin = get_gross_margin_for_month(\"2023-03\", shop_name)\n",
    "    print('Shop ' + shop_name + ' gross margins:')\n",
    "    shop_stats[shop_name] = gross_margin"
   ]
  },
  {
   "cell_type": "code",
   "execution_count": null,
   "id": "7dc2e2b1",
   "metadata": {},
   "outputs": [
    {
     "data": {
      "text/html": [
       "<div>\n",
       "<style scoped>\n",
       "    .dataframe tbody tr th:only-of-type {\n",
       "        vertical-align: middle;\n",
       "    }\n",
       "\n",
       "    .dataframe tbody tr th {\n",
       "        vertical-align: top;\n",
       "    }\n",
       "\n",
       "    .dataframe thead th {\n",
       "        text-align: right;\n",
       "    }\n",
       "</style>\n",
       "<table border=\"1\" class=\"dataframe\">\n",
       "  <thead>\n",
       "    <tr style=\"text-align: right;\">\n",
       "      <th></th>\n",
       "      <th>gross_margin</th>\n",
       "      <th>total_hours</th>\n",
       "      <th>total_sales</th>\n",
       "      <th>total_foodcosts</th>\n",
       "      <th>total_foodcosts_atelier</th>\n",
       "      <th>total_foodcosts_supplier</th>\n",
       "    </tr>\n",
       "  </thead>\n",
       "  <tbody>\n",
       "    <tr>\n",
       "      <th>La Hulpe</th>\n",
       "      <td>11302.20</td>\n",
       "      <td>528.03</td>\n",
       "      <td>68805.60</td>\n",
       "      <td>41662.40</td>\n",
       "      <td>34281.65</td>\n",
       "      <td>7380.75</td>\n",
       "    </tr>\n",
       "    <tr>\n",
       "      <th>Fort Jaco</th>\n",
       "      <td>29742.55</td>\n",
       "      <td>786.03</td>\n",
       "      <td>115598.02</td>\n",
       "      <td>62274.47</td>\n",
       "      <td>48670.34</td>\n",
       "      <td>13604.13</td>\n",
       "    </tr>\n",
       "    <tr>\n",
       "      <th>Woluwe</th>\n",
       "      <td>28703.47</td>\n",
       "      <td>1106.18</td>\n",
       "      <td>135823.63</td>\n",
       "      <td>73934.66</td>\n",
       "      <td>61721.60</td>\n",
       "      <td>12213.06</td>\n",
       "    </tr>\n",
       "    <tr>\n",
       "      <th>Tongres</th>\n",
       "      <td>-14555.83</td>\n",
       "      <td>0.00</td>\n",
       "      <td>96901.45</td>\n",
       "      <td>111457.28</td>\n",
       "      <td>108300.61</td>\n",
       "      <td>3156.67</td>\n",
       "    </tr>\n",
       "    <tr>\n",
       "      <th>Wemmel</th>\n",
       "      <td>8448.25</td>\n",
       "      <td>548.23</td>\n",
       "      <td>63945.14</td>\n",
       "      <td>39049.89</td>\n",
       "      <td>32920.36</td>\n",
       "      <td>6129.53</td>\n",
       "    </tr>\n",
       "    <tr>\n",
       "      <th>CHATELAIN</th>\n",
       "      <td>30169.48</td>\n",
       "      <td>866.73</td>\n",
       "      <td>126056.74</td>\n",
       "      <td>69885.26</td>\n",
       "      <td>56964.86</td>\n",
       "      <td>12920.40</td>\n",
       "    </tr>\n",
       "    <tr>\n",
       "      <th>OVERIJSE</th>\n",
       "      <td>-2460.15</td>\n",
       "      <td>709.73</td>\n",
       "      <td>60874.05</td>\n",
       "      <td>42042.20</td>\n",
       "      <td>34244.76</td>\n",
       "      <td>7797.44</td>\n",
       "    </tr>\n",
       "    <tr>\n",
       "      <th>LATEM</th>\n",
       "      <td>-1654.66</td>\n",
       "      <td>855.88</td>\n",
       "      <td>72003.99</td>\n",
       "      <td>47982.15</td>\n",
       "      <td>40084.04</td>\n",
       "      <td>7898.11</td>\n",
       "    </tr>\n",
       "  </tbody>\n",
       "</table>\n",
       "</div>"
      ],
      "text/plain": [
       "           gross_margin  total_hours  total_sales  total_foodcosts  \\\n",
       "La Hulpe       11302.20       528.03     68805.60         41662.40   \n",
       "Fort Jaco      29742.55       786.03    115598.02         62274.47   \n",
       "Woluwe         28703.47      1106.18    135823.63         73934.66   \n",
       "Tongres       -14555.83         0.00     96901.45        111457.28   \n",
       "Wemmel          8448.25       548.23     63945.14         39049.89   \n",
       "CHATELAIN      30169.48       866.73    126056.74         69885.26   \n",
       "OVERIJSE       -2460.15       709.73     60874.05         42042.20   \n",
       "LATEM          -1654.66       855.88     72003.99         47982.15   \n",
       "\n",
       "           total_foodcosts_atelier  total_foodcosts_supplier  \n",
       "La Hulpe                  34281.65                   7380.75  \n",
       "Fort Jaco                 48670.34                  13604.13  \n",
       "Woluwe                    61721.60                  12213.06  \n",
       "Tongres                  108300.61                   3156.67  \n",
       "Wemmel                    32920.36                   6129.53  \n",
       "CHATELAIN                 56964.86                  12920.40  \n",
       "OVERIJSE                  34244.76                   7797.44  \n",
       "LATEM                     40084.04                   7898.11  "
      ]
     },
     "metadata": {},
     "output_type": "display_data"
    }
   ],
   "source": [
    "df = pd.DataFrame.from_dict(shop_stats, orient='index').round(2)"
   ]
  },
  {
   "cell_type": "code",
   "execution_count": null,
   "id": "871edfe9",
   "metadata": {},
   "outputs": [
    {
     "ename": "NameError",
     "evalue": "name 'df' is not defined",
     "output_type": "error",
     "traceback": [
      "\u001b[0;31m---------------------------------------------------------------------------\u001b[0m",
      "\u001b[0;31mNameError\u001b[0m                                 Traceback (most recent call last)",
      "\u001b[0;32m<ipython-input-38-58cec4ec4b82>\u001b[0m in \u001b[0;36m<module>\u001b[0;34m\u001b[0m\n\u001b[0;32m----> 1\u001b[0;31m \u001b[0mdisplay\u001b[0m\u001b[0;34m(\u001b[0m\u001b[0;34m[\u001b[0m\u001b[0mn\u001b[0m \u001b[0;32mfor\u001b[0m \u001b[0mn\u001b[0m \u001b[0;32min\u001b[0m \u001b[0mdf\u001b[0m\u001b[0;34m.\u001b[0m\u001b[0mindex\u001b[0m\u001b[0;34m]\u001b[0m\u001b[0;34m)\u001b[0m\u001b[0;34m\u001b[0m\u001b[0;34m\u001b[0m\u001b[0m\n\u001b[0m\u001b[1;32m      2\u001b[0m \u001b[0;31m# download the dataframe as a csv file\u001b[0m\u001b[0;34m\u001b[0m\u001b[0;34m\u001b[0m\u001b[0;34m\u001b[0m\u001b[0m\n\u001b[1;32m      3\u001b[0m \u001b[0mdf\u001b[0m\u001b[0;34m.\u001b[0m\u001b[0mto_csv\u001b[0m\u001b[0;34m(\u001b[0m\u001b[0;34m'gross_margin.csv'\u001b[0m\u001b[0;34m)\u001b[0m\u001b[0;34m\u001b[0m\u001b[0;34m\u001b[0m\u001b[0m\n",
      "\u001b[0;31mNameError\u001b[0m: name 'df' is not defined"
     ]
    }
   ],
   "source": [
    "display([n for n in df.index])\n",
    "# download the dataframe as a csv file\n",
    "df.to_csv('gross_margin.csv')"
   ]
  },
  {
   "cell_type": "code",
   "execution_count": null,
   "id": "4357f71c",
   "metadata": {},
   "outputs": [],
   "source": [
    "df['gross_margin_pct'] = (df['gross_margin'] / df['total_sales'] * 100).round(0)"
   ]
  },
  {
   "cell_type": "code",
   "execution_count": null,
   "id": "ad40a982",
   "metadata": {},
   "outputs": [
    {
     "data": {
      "text/html": [
       "<div>\n",
       "<style scoped>\n",
       "    .dataframe tbody tr th:only-of-type {\n",
       "        vertical-align: middle;\n",
       "    }\n",
       "\n",
       "    .dataframe tbody tr th {\n",
       "        vertical-align: top;\n",
       "    }\n",
       "\n",
       "    .dataframe thead th {\n",
       "        text-align: right;\n",
       "    }\n",
       "</style>\n",
       "<table border=\"1\" class=\"dataframe\">\n",
       "  <thead>\n",
       "    <tr style=\"text-align: right;\">\n",
       "      <th></th>\n",
       "      <th>foodcosts_atelier_pct</th>\n",
       "      <th>foodcosts_supplier_pct</th>\n",
       "    </tr>\n",
       "  </thead>\n",
       "  <tbody>\n",
       "    <tr>\n",
       "      <th>Fort Jaco</th>\n",
       "      <td>42.0</td>\n",
       "      <td>12.0</td>\n",
       "    </tr>\n",
       "    <tr>\n",
       "      <th>CHATELAIN</th>\n",
       "      <td>45.0</td>\n",
       "      <td>10.0</td>\n",
       "    </tr>\n",
       "    <tr>\n",
       "      <th>Woluwe</th>\n",
       "      <td>45.0</td>\n",
       "      <td>9.0</td>\n",
       "    </tr>\n",
       "    <tr>\n",
       "      <th>La Hulpe</th>\n",
       "      <td>50.0</td>\n",
       "      <td>11.0</td>\n",
       "    </tr>\n",
       "    <tr>\n",
       "      <th>Wemmel</th>\n",
       "      <td>51.0</td>\n",
       "      <td>10.0</td>\n",
       "    </tr>\n",
       "    <tr>\n",
       "      <th>LATEM</th>\n",
       "      <td>56.0</td>\n",
       "      <td>11.0</td>\n",
       "    </tr>\n",
       "    <tr>\n",
       "      <th>OVERIJSE</th>\n",
       "      <td>56.0</td>\n",
       "      <td>13.0</td>\n",
       "    </tr>\n",
       "  </tbody>\n",
       "</table>\n",
       "</div>"
      ],
      "text/plain": [
       "           foodcosts_atelier_pct  foodcosts_supplier_pct\n",
       "Fort Jaco                   42.0                    12.0\n",
       "CHATELAIN                   45.0                    10.0\n",
       "Woluwe                      45.0                     9.0\n",
       "La Hulpe                    50.0                    11.0\n",
       "Wemmel                      51.0                    10.0\n",
       "LATEM                       56.0                    11.0\n",
       "OVERIJSE                    56.0                    13.0"
      ]
     },
     "metadata": {},
     "output_type": "display_data"
    }
   ],
   "source": [
    "df_pct = df.copy()\n",
    "df_pct['gross_margin_pct'] = (df['gross_margin'] / df['total_sales'] * 100).round(0)\n",
    "# create a dataframe with the gross margin percentage, % of foodcosts atelier and % of foodcosts supplier\n",
    "df_pct['foodcosts_atelier_pct'] = (df_pct['total_foodcosts_atelier'] / df_pct['total_sales'] * 100).round(0)\n",
    "df_pct['foodcosts_supplier_pct'] = (df_pct['total_foodcosts_supplier'] / df_pct['total_sales'] * 100).round(0)\n",
    "df_pct['wage_cost_pct'] = (df_pct['total_hours'] * FULLY_LOADED_COST_HOURS / df_pct['total_sales'] * 100).round(0)\n",
    "\n",
    "df_pct = df_pct[['gross_margin_pct', 'foodcosts_atelier_pct', 'foodcosts_supplier_pct', 'wage_cost_pct']]\n",
    "# remove Tongres as it is a franchisee\n",
    "df_pct = df_pct.drop('Tongres')\n",
    "# sort by gross margin percentage\n",
    "df_pct = df_pct.sort_values(by=['gross_margin_pct'], ascending=False)\n",
    "# show all columns except gross_margin_pct and wage_cost_pct\n",
    "\n",
    "display(df_pct[['foodcosts_atelier_pct', 'foodcosts_supplier_pct']])"
   ]
  },
  {
   "cell_type": "code",
   "execution_count": null,
   "id": "0b1bce94",
   "metadata": {},
   "outputs": [
    {
     "name": "stdout",
     "output_type": "stream",
     "text": [
      "|           |   gross_margin_pct |   foodcosts_atelier_pct |   foodcosts_supplier_pct |   wage_cost_pct |\n",
      "|:----------|-------------------:|------------------------:|-------------------------:|----------------:|\n",
      "| Fort Jaco |                 26 |                      42 |                       12 |              20 |\n",
      "| CHATELAIN |                 24 |                      45 |                       10 |              21 |\n",
      "| Woluwe    |                 21 |                      45 |                        9 |              24 |\n",
      "| La Hulpe  |                 16 |                      50 |                       11 |              23 |\n",
      "| Wemmel    |                 13 |                      51 |                       10 |              26 |\n",
      "| LATEM     |                 -2 |                      56 |                       11 |              36 |\n",
      "| OVERIJSE  |                 -4 |                      56 |                       13 |              35 |\n"
     ]
    }
   ],
   "source": [
    "# create markdown table\n",
    "print(df_pct.to_markdown())"
   ]
  },
  {
   "cell_type": "code",
   "execution_count": null,
   "id": "a7c6ded3",
   "metadata": {},
   "outputs": [
    {
     "name": "stdout",
     "output_type": "stream",
     "text": [
      "config.ini file available... using that\n",
      "config.ini file available... using that\n",
      "config.ini file available... using that\n",
      "config.ini file available... using that\n",
      "200\n",
      "200\n",
      "200\n",
      "200\n",
      "200\n",
      "200\n",
      "200\n",
      "200\n",
      "200\n",
      "200\n",
      "200\n",
      "200\n",
      "200\n",
      "200\n",
      "200\n",
      "200\n",
      "200\n",
      "200\n",
      "200\n",
      "200\n",
      "200\n",
      "200\n",
      "200\n",
      "200\n",
      "200\n",
      "200\n",
      "200\n",
      "200\n"
     ]
    },
    {
     "data": {
      "text/plain": [
       "{'gross_margin': -3866.1100000000006,\n",
       " 'total_hours': 301.8,\n",
       " 'total_sales': 8256.74,\n",
       " 'total_foodcosts': 3068.85}"
      ]
     },
     "execution_count": null,
     "metadata": {},
     "output_type": "execute_result"
    }
   ],
   "source": [
    "get_gross_margin_for_month(\"2023-02-01\", \"2023-02-28\", 'PAVLOVA BAR ANVERS')"
   ]
  },
  {
   "cell_type": "code",
   "execution_count": null,
   "id": "3c0eca3a",
   "metadata": {},
   "outputs": [],
   "source": [
    "pavlova = {'gross_margin': -2357.1100000000006,\n",
    " 'total_hours': 301.8,\n",
    " 'total_sales': 8256.74,\n",
    " 'total_foodcosts': 3068.85}"
   ]
  },
  {
   "cell_type": "code",
   "execution_count": null,
   "id": "3e6a130d",
   "metadata": {},
   "outputs": [],
   "source": []
  },
  {
   "cell_type": "code",
   "execution_count": null,
   "id": "212fab4b",
   "metadata": {},
   "outputs": [
    {
     "name": "stdout",
     "output_type": "stream",
     "text": [
      "config.ini file available... using that\n"
     ]
    }
   ],
   "source": []
  }
 ],
 "metadata": {
  "kernelspec": {
   "display_name": "python3",
   "language": "python",
   "name": "python3"
  }
 },
 "nbformat": 4,
 "nbformat_minor": 5
}
