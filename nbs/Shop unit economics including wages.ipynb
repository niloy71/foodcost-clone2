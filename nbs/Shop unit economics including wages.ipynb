{
 "cells": [
  {
   "cell_type": "code",
   "execution_count": 15,
   "id": "3a11b912",
   "metadata": {},
   "outputs": [],
   "source": [
    "import sys\n",
    "sys.path.append(\"..\")\n",
    "import foodcosts.core as core\n",
    "import requests\n",
    "import json\n",
    "import calendar\n",
    "import pandas as pd\n",
    "from datetime import date"
   ]
  },
  {
   "cell_type": "code",
   "execution_count": 2,
   "id": "074ce41b",
   "metadata": {},
   "outputs": [],
   "source": [
    "# fetch hours worked for a shop\n",
    "# use the API formation.fthek.be/api/hours_worked with body\n",
    "# {\n",
    "#\t\"warehouse_id\": 2,\n",
    "#\t\"yyyy_mm_dd\": \"2023-03-15\"\n",
    "# }\n",
    "def get_hours_worked_for_a_shop_for_a_day(warehouse_id, yyyy_mm_dd):\n",
    "    url = \"https://formation.fthek.be/api/hours_worked\"\n",
    "    body = {\n",
    "        \"warehouse_id\": warehouse_id,\n",
    "        \"yyyy_mm_dd\": yyyy_mm_dd\n",
    "    }\n",
    "    response = requests.get(url, json=body)\n",
    "    print(response.status_code)\n",
    "    if response.status_code == 200:\n",
    "        return response.json()\n",
    "    else:\n",
    "        return None\n",
    "\n",
    "def get_hours_worked_for_a_shop_for_a_month_per_employee(warehouse_id, yyyy_mm):\n",
    "    url = \"https://formation.fthek.be/api/hours_worked/month\"\n",
    "    body = {\n",
    "        \"warehouse_id\": warehouse_id,\n",
    "        \"yyyy_mm\": yyyy_mm\n",
    "    }\n",
    "    response = requests.get(url, json=body)\n",
    "    print(response.status_code)\n",
    "    if response.status_code == 200:\n",
    "        return response.json()\n",
    "    else:\n",
    "        return None"
   ]
  },
  {
   "cell_type": "code",
   "execution_count": null,
   "id": "3045b853",
   "metadata": {},
   "outputs": [],
   "source": []
  },
  {
   "cell_type": "code",
   "execution_count": 3,
   "id": "224cae60",
   "metadata": {},
   "outputs": [
    {
     "name": "stdout",
     "output_type": "stream",
     "text": [
      "config.ini file available... using that\n",
      "200\n",
      "[{'id': 2628104, 'name': 'Kevin BETTE ', 'hours': 10.5}, {'id': 2786566, 'name': 'Massimo OLIVO ', 'hours': 6.466666666666667}]\n"
     ]
    }
   ],
   "source": [
    "# call the API for a shop and a day\n",
    "# return the hours worked\n",
    "answer = get_hours_worked_for_a_shop_for_a_day(core.get_shop_id('La Hulpe'), \"2023-03-15\")\n",
    "print(answer)"
   ]
  },
  {
   "cell_type": "code",
   "execution_count": 4,
   "id": "60fc38af",
   "metadata": {},
   "outputs": [],
   "source": [
    "# sums the hours worked for a shop\n",
    "# input: [{'hours': 10.5, 'name': 'Kevin BETTE ', 'id': 2628104}, {'hours': 6.466666666666667, 'name': 'Massimo OLIVO ', 'id': 2786566}]\n",
    "\n",
    "def sum_hours_worked_for_a_shop_and_day(warehouse_id, yyyy_mm_dd):\n",
    "    hours_worked = get_hours_worked_for_a_shop_for_a_day(warehouse_id, yyyy_mm_dd)\n",
    "    if hours_worked is None:\n",
    "        return 0\n",
    "    else:\n",
    "        return sum([h['hours'] for h in hours_worked])"
   ]
  },
  {
   "cell_type": "code",
   "execution_count": 5,
   "id": "4f7f6363",
   "metadata": {},
   "outputs": [
    {
     "name": "stdout",
     "output_type": "stream",
     "text": [
      "config.ini file available... using that\n",
      "200\n"
     ]
    },
    {
     "data": {
      "text/plain": [
       "14.55"
      ]
     },
     "execution_count": 5,
     "metadata": {},
     "output_type": "execute_result"
    }
   ],
   "source": [
    "# example\n",
    "sum_hours_worked_for_a_shop_and_day(core.get_shop_id('Wemmel'), \"2023-03-15\")"
   ]
  },
  {
   "cell_type": "code",
   "execution_count": 6,
   "id": "31bfb26d",
   "metadata": {},
   "outputs": [
    {
     "data": {
      "text/plain": [
       "['2023-03-01',\n",
       " '2023-03-02',\n",
       " '2023-03-03',\n",
       " '2023-03-04',\n",
       " '2023-03-05',\n",
       " '2023-03-06',\n",
       " '2023-03-07',\n",
       " '2023-03-08',\n",
       " '2023-03-09',\n",
       " '2023-03-10',\n",
       " '2023-03-11',\n",
       " '2023-03-12',\n",
       " '2023-03-13',\n",
       " '2023-03-14',\n",
       " '2023-03-15']"
      ]
     },
     "execution_count": 6,
     "metadata": {},
     "output_type": "execute_result"
    }
   ],
   "source": [
    "# returns a list of days in format yyyy-mm-dd for a given month\n",
    "# input: 2023-03\n",
    "def get_days_in_month(yyyy_mm):\n",
    "    # Split the input string into year and month\n",
    "    year, month = map(int, yyyy_mm.split('-'))\n",
    "\n",
    "    # Get the number of days in the given month and year\n",
    "    num_days = calendar.monthrange(year, month)[1]\n",
    "\n",
    "    # Generate a list of days in the given month and year\n",
    "    days = [date(year, month, day).strftime(\"%Y-%m-%d\") for day in range(1, num_days + 1)]\n",
    "\n",
    "    return days\n",
    "\n",
    "# returns the list of strings (format YYYY-MM-DD) in a period (start and end dates included)\n",
    "# start and end are in format YYYY-MM-DD\n",
    "def get_days_in_period(start,end):\n",
    "    start = date.fromisoformat(start)\n",
    "    end = date.fromisoformat(end)\n",
    "    delta = end - start\n",
    "    dates = [start + pd.DateOffset(days=i) for i in range(delta.days + 1)]\n",
    "    return [d.strftime(\"%Y-%m-%d\") for d in dates]\n",
    "\n",
    "#example\n",
    "get_days_in_period(\"2023-03-01\", \"2023-03-15\")"
   ]
  },
  {
   "cell_type": "code",
   "execution_count": 7,
   "id": "9392dda0",
   "metadata": {},
   "outputs": [
    {
     "name": "stdout",
     "output_type": "stream",
     "text": [
      "['2023-02-01', '2023-02-02', '2023-02-03', '2023-02-04', '2023-02-05', '2023-02-06', '2023-02-07', '2023-02-08', '2023-02-09', '2023-02-10', '2023-02-11', '2023-02-12', '2023-02-13', '2023-02-14', '2023-02-15', '2023-02-16', '2023-02-17', '2023-02-18', '2023-02-19', '2023-02-20', '2023-02-21', '2023-02-22', '2023-02-23', '2023-02-24', '2023-02-25', '2023-02-26', '2023-02-27', '2023-02-28']\n"
     ]
    }
   ],
   "source": [
    "# Example usage:\n",
    "month = \"2023-02\"\n",
    "days_in_month = get_days_in_month(month)\n",
    "print(days_in_month)    \n",
    "\n"
   ]
  },
  {
   "cell_type": "code",
   "execution_count": 8,
   "id": "329c892d",
   "metadata": {},
   "outputs": [],
   "source": [
    "# returns the total hours worked for a shop in a given month\n",
    "# input: 2023-03\n",
    "def get_hours_worked_for_a_shop_in_a_month(warehouse_id, yyyy_mm):\n",
    "    hours_worked = get_hours_worked_for_a_shop_for_a_month_per_employee(warehouse_id, yyyy_mm)\n",
    "    if hours_worked is None:\n",
    "        return 0\n",
    "    return sum([e['hours'] for e in hours_worked])\n",
    "\n",
    "def get_hours_worked_for_a_shop_in_a_period(warehouse_id, start, end):\n",
    "    days_to_consider = get_days_in_period(start, end)\n",
    "    hours_worked = [get_hours_worked_for_a_shop_for_a_day(warehouse_id, day) for day in days_to_consider]\n",
    "    return sum([e['hours'] for e in hours_worked])"
   ]
  },
  {
   "cell_type": "code",
   "execution_count": 9,
   "id": "4f61c9cf",
   "metadata": {},
   "outputs": [
    {
     "name": "stdout",
     "output_type": "stream",
     "text": [
      "config.ini file available... using that\n",
      "200\n",
      "485.9000000000001\n"
     ]
    }
   ],
   "source": [
    "# example\n",
    "hours_worked_in_la_hulpe = get_hours_worked_for_a_shop_in_a_month(core.get_shop_id('La Hulpe'), \"2023-02\")\n",
    "print(hours_worked_in_la_hulpe)"
   ]
  },
  {
   "cell_type": "code",
   "execution_count": 10,
   "id": "d77241be",
   "metadata": {},
   "outputs": [
    {
     "name": "stdout",
     "output_type": "stream",
     "text": [
      "config.ini file available... using that\n"
     ]
    }
   ],
   "source": [
    "la_hulpe = core.get_sales_for_period_for_shop_per_day(\"2023-02-01\", \"2023-02-28\", \"La Hulpe\")"
   ]
  },
  {
   "cell_type": "code",
   "execution_count": 11,
   "id": "31f64c61",
   "metadata": {},
   "outputs": [
    {
     "name": "stderr",
     "output_type": "stream",
     "text": [
      "/var/folders/3s/8thx9yjd15l2g2jfkpzcxpzw0000gn/T/ipykernel_5780/1374674745.py:2: FutureWarning: The default value of numeric_only in DataFrame.sum is deprecated. In a future version, it will default to False. In addition, specifying 'numeric_only=None' is deprecated. Select only valid columns or specify the value of numeric_only to silence this warning.\n",
      "  la_hulpe.sum()['total_sales']\n"
     ]
    },
    {
     "data": {
      "text/plain": [
       "66249.88284"
      ]
     },
     "execution_count": 11,
     "metadata": {},
     "output_type": "execute_result"
    }
   ],
   "source": [
    "# sum the total sales for a shop\n",
    "la_hulpe.sum()['total_sales']"
   ]
  },
  {
   "cell_type": "code",
   "execution_count": 84,
   "id": "db21a2de",
   "metadata": {},
   "outputs": [
    {
     "name": "stdout",
     "output_type": "stream",
     "text": [
      "config.ini file available... using that\n"
     ]
    },
    {
     "data": {
      "text/plain": [
       "['La Hulpe',\n",
       " 'Fort Jaco',\n",
       " 'Woluwe',\n",
       " 'Tongres',\n",
       " 'Wemmel',\n",
       " 'CHATELAIN',\n",
       " 'OVERIJSE',\n",
       " 'LATEM']"
      ]
     },
     "execution_count": 84,
     "metadata": {},
     "output_type": "execute_result"
    }
   ],
   "source": [
    "core.get_shop_names()"
   ]
  },
  {
   "cell_type": "code",
   "execution_count": 85,
   "id": "7db7f00c",
   "metadata": {},
   "outputs": [
    {
     "name": "stdout",
     "output_type": "stream",
     "text": [
      "config.ini file available... using that\n",
      "config.ini file available... using that\n"
     ]
    }
   ],
   "source": [
    "foodcosts = core.get_food_costs_for_period_for_shop_per_day(\"2023-02-01\", \"2023-02-28\", \"La Hulpe\")"
   ]
  },
  {
   "cell_type": "code",
   "execution_count": 86,
   "id": "98cbc580",
   "metadata": {},
   "outputs": [],
   "source": [
    "foodcosts.index = foodcosts['date']\n",
    "foodcosts = foodcosts.drop('date', axis=1)"
   ]
  },
  {
   "cell_type": "code",
   "execution_count": 87,
   "id": "e2af70a3",
   "metadata": {},
   "outputs": [
    {
     "data": {
      "text/html": [
       "<div>\n",
       "<style scoped>\n",
       "    .dataframe tbody tr th:only-of-type {\n",
       "        vertical-align: middle;\n",
       "    }\n",
       "\n",
       "    .dataframe tbody tr th {\n",
       "        vertical-align: top;\n",
       "    }\n",
       "\n",
       "    .dataframe thead th {\n",
       "        text-align: right;\n",
       "    }\n",
       "</style>\n",
       "<table border=\"1\" class=\"dataframe\">\n",
       "  <thead>\n",
       "    <tr style=\"text-align: right;\">\n",
       "      <th></th>\n",
       "      <th>atelier</th>\n",
       "      <th>supplier</th>\n",
       "      <th>total</th>\n",
       "    </tr>\n",
       "    <tr>\n",
       "      <th>date</th>\n",
       "      <th></th>\n",
       "      <th></th>\n",
       "      <th></th>\n",
       "    </tr>\n",
       "  </thead>\n",
       "  <tbody>\n",
       "    <tr>\n",
       "      <th>2023-02-01</th>\n",
       "      <td>521.51</td>\n",
       "      <td>363.44</td>\n",
       "      <td>884.95</td>\n",
       "    </tr>\n",
       "    <tr>\n",
       "      <th>2023-02-02</th>\n",
       "      <td>1019.11</td>\n",
       "      <td>289.97</td>\n",
       "      <td>1309.08</td>\n",
       "    </tr>\n",
       "    <tr>\n",
       "      <th>2023-02-03</th>\n",
       "      <td>1244.03</td>\n",
       "      <td>567.64</td>\n",
       "      <td>1811.67</td>\n",
       "    </tr>\n",
       "    <tr>\n",
       "      <th>2023-02-04</th>\n",
       "      <td>1514.06</td>\n",
       "      <td>0</td>\n",
       "      <td>1514.06</td>\n",
       "    </tr>\n",
       "    <tr>\n",
       "      <th>2023-02-05</th>\n",
       "      <td>1810.74</td>\n",
       "      <td>0</td>\n",
       "      <td>1810.74</td>\n",
       "    </tr>\n",
       "    <tr>\n",
       "      <th>2023-02-06</th>\n",
       "      <td>1034.98</td>\n",
       "      <td>306.07</td>\n",
       "      <td>1341.05</td>\n",
       "    </tr>\n",
       "    <tr>\n",
       "      <th>2023-02-07</th>\n",
       "      <td>1167.42</td>\n",
       "      <td>216.49</td>\n",
       "      <td>1383.91</td>\n",
       "    </tr>\n",
       "    <tr>\n",
       "      <th>2023-02-08</th>\n",
       "      <td>603.62</td>\n",
       "      <td>414.54</td>\n",
       "      <td>1018.16</td>\n",
       "    </tr>\n",
       "    <tr>\n",
       "      <th>2023-02-09</th>\n",
       "      <td>1894.81</td>\n",
       "      <td>303.90</td>\n",
       "      <td>2198.71</td>\n",
       "    </tr>\n",
       "    <tr>\n",
       "      <th>2023-02-10</th>\n",
       "      <td>1057.54</td>\n",
       "      <td>334.20</td>\n",
       "      <td>1391.74</td>\n",
       "    </tr>\n",
       "    <tr>\n",
       "      <th>2023-02-11</th>\n",
       "      <td>814.10</td>\n",
       "      <td>0</td>\n",
       "      <td>814.10</td>\n",
       "    </tr>\n",
       "    <tr>\n",
       "      <th>2023-02-12</th>\n",
       "      <td>2209.62</td>\n",
       "      <td>0</td>\n",
       "      <td>2209.62</td>\n",
       "    </tr>\n",
       "    <tr>\n",
       "      <th>2023-02-13</th>\n",
       "      <td>321.12</td>\n",
       "      <td>975.70</td>\n",
       "      <td>1296.82</td>\n",
       "    </tr>\n",
       "    <tr>\n",
       "      <th>2023-02-14</th>\n",
       "      <td>2011.11</td>\n",
       "      <td>323.37</td>\n",
       "      <td>2334.48</td>\n",
       "    </tr>\n",
       "    <tr>\n",
       "      <th>2023-02-15</th>\n",
       "      <td>630.69</td>\n",
       "      <td>115.03</td>\n",
       "      <td>745.72</td>\n",
       "    </tr>\n",
       "    <tr>\n",
       "      <th>2023-02-16</th>\n",
       "      <td>1332.40</td>\n",
       "      <td>127.52</td>\n",
       "      <td>1459.92</td>\n",
       "    </tr>\n",
       "    <tr>\n",
       "      <th>2023-02-17</th>\n",
       "      <td>1313.14</td>\n",
       "      <td>383.03</td>\n",
       "      <td>1696.17</td>\n",
       "    </tr>\n",
       "    <tr>\n",
       "      <th>2023-02-18</th>\n",
       "      <td>637.55</td>\n",
       "      <td>0</td>\n",
       "      <td>637.55</td>\n",
       "    </tr>\n",
       "    <tr>\n",
       "      <th>2023-02-19</th>\n",
       "      <td>2131.71</td>\n",
       "      <td>100.61</td>\n",
       "      <td>2232.32</td>\n",
       "    </tr>\n",
       "    <tr>\n",
       "      <th>2023-02-20</th>\n",
       "      <td>292.98</td>\n",
       "      <td>291.83</td>\n",
       "      <td>584.81</td>\n",
       "    </tr>\n",
       "    <tr>\n",
       "      <th>2023-02-21</th>\n",
       "      <td>2560.01</td>\n",
       "      <td>411.74</td>\n",
       "      <td>2971.75</td>\n",
       "    </tr>\n",
       "    <tr>\n",
       "      <th>2023-02-22</th>\n",
       "      <td>1048.51</td>\n",
       "      <td>127.56</td>\n",
       "      <td>1176.07</td>\n",
       "    </tr>\n",
       "    <tr>\n",
       "      <th>2023-02-23</th>\n",
       "      <td>1593.92</td>\n",
       "      <td>476.99</td>\n",
       "      <td>2070.91</td>\n",
       "    </tr>\n",
       "    <tr>\n",
       "      <th>2023-02-24</th>\n",
       "      <td>1129.05</td>\n",
       "      <td>279.36</td>\n",
       "      <td>1408.41</td>\n",
       "    </tr>\n",
       "    <tr>\n",
       "      <th>2023-02-25</th>\n",
       "      <td>837.11</td>\n",
       "      <td>0</td>\n",
       "      <td>837.11</td>\n",
       "    </tr>\n",
       "    <tr>\n",
       "      <th>2023-02-26</th>\n",
       "      <td>2181.23</td>\n",
       "      <td>0</td>\n",
       "      <td>2181.23</td>\n",
       "    </tr>\n",
       "    <tr>\n",
       "      <th>2023-02-27</th>\n",
       "      <td>842.36</td>\n",
       "      <td>380.00</td>\n",
       "      <td>1222.36</td>\n",
       "    </tr>\n",
       "    <tr>\n",
       "      <th>2023-02-28</th>\n",
       "      <td>1291.01</td>\n",
       "      <td>0</td>\n",
       "      <td>1291.01</td>\n",
       "    </tr>\n",
       "  </tbody>\n",
       "</table>\n",
       "</div>"
      ],
      "text/plain": [
       "            atelier supplier    total\n",
       "date                                 \n",
       "2023-02-01   521.51   363.44   884.95\n",
       "2023-02-02  1019.11   289.97  1309.08\n",
       "2023-02-03  1244.03   567.64  1811.67\n",
       "2023-02-04  1514.06        0  1514.06\n",
       "2023-02-05  1810.74        0  1810.74\n",
       "2023-02-06  1034.98   306.07  1341.05\n",
       "2023-02-07  1167.42   216.49  1383.91\n",
       "2023-02-08   603.62   414.54  1018.16\n",
       "2023-02-09  1894.81   303.90  2198.71\n",
       "2023-02-10  1057.54   334.20  1391.74\n",
       "2023-02-11   814.10        0   814.10\n",
       "2023-02-12  2209.62        0  2209.62\n",
       "2023-02-13   321.12   975.70  1296.82\n",
       "2023-02-14  2011.11   323.37  2334.48\n",
       "2023-02-15   630.69   115.03   745.72\n",
       "2023-02-16  1332.40   127.52  1459.92\n",
       "2023-02-17  1313.14   383.03  1696.17\n",
       "2023-02-18   637.55        0   637.55\n",
       "2023-02-19  2131.71   100.61  2232.32\n",
       "2023-02-20   292.98   291.83   584.81\n",
       "2023-02-21  2560.01   411.74  2971.75\n",
       "2023-02-22  1048.51   127.56  1176.07\n",
       "2023-02-23  1593.92   476.99  2070.91\n",
       "2023-02-24  1129.05   279.36  1408.41\n",
       "2023-02-25   837.11        0   837.11\n",
       "2023-02-26  2181.23        0  2181.23\n",
       "2023-02-27   842.36   380.00  1222.36\n",
       "2023-02-28  1291.01        0  1291.01"
      ]
     },
     "execution_count": 87,
     "metadata": {},
     "output_type": "execute_result"
    }
   ],
   "source": [
    "foodcosts"
   ]
  },
  {
   "cell_type": "code",
   "execution_count": 88,
   "id": "6b4be3f6",
   "metadata": {},
   "outputs": [
    {
     "data": {
      "text/plain": [
       "atelier     35045.44\n",
       "supplier     6788.99\n",
       "total       41834.43\n",
       "dtype: float64"
      ]
     },
     "execution_count": 88,
     "metadata": {},
     "output_type": "execute_result"
    }
   ],
   "source": [
    "foodcosts.sum()"
   ]
  },
  {
   "cell_type": "code",
   "execution_count": 73,
   "id": "dc6b5db8",
   "metadata": {},
   "outputs": [],
   "source": [
    "\n",
    "FULLY_LOADED_COST_HOURS = 30 \n",
    "\n",
    "# month: 2023-02\n",
    "# returns the start and end day for a given month (format YYYY-MM-DD)\n",
    "def get_start_and_end_day_for_month(month):\n",
    "    days_in_month = get_days_in_month(month)\n",
    "    return days_in_month[0], days_in_month[-1]\n",
    "\n",
    "def get_gross_margin_for_month(month, shop_name):\n",
    "    start_date, end_date = get_start_and_end_day_for_month(month)\n",
    "    foodcosts = core.get_food_costs_for_period_for_shop_per_day(start_date, end_date, shop_name)\n",
    "    foodcosts.index = foodcosts['date']\n",
    "    foodcosts = foodcosts.drop('date', axis=1)\n",
    "    sales = core.get_sales_for_period_for_shop_per_day(start_date, end_date, shop_name)\n",
    "    total_hours = get_hours_worked_for_a_shop_in_a_month(core.get_shop_id(shop_name), month)\n",
    "    gross_margin = sales.sum()['total_sales'] - foodcosts.sum()['total'] - FULLY_LOADED_COST_HOURS * total_hours\n",
    "    return {\n",
    "        \"gross_margin\": gross_margin,\n",
    "        \"total_hours\": total_hours,\n",
    "        \"total_sales\": sales.sum()['total_sales'],\n",
    "        \"total_foodcosts\": foodcosts.sum()['total'],\n",
    "        \"total_foodcosts_atelier\": foodcosts.sum()['atelier'],\n",
    "        \"total_foodcosts_supplier\": foodcosts.sum()['supplier'],\n",
    "    }"
   ]
  },
  {
   "cell_type": "code",
   "execution_count": 89,
   "id": "85c8b344",
   "metadata": {},
   "outputs": [
    {
     "name": "stdout",
     "output_type": "stream",
     "text": [
      "config.ini file available... using that\n",
      "config.ini file available... using that\n",
      "config.ini file available... using that\n",
      "config.ini file available... using that\n",
      "200\n"
     ]
    },
    {
     "data": {
      "text/plain": [
       "{'gross_margin': 11988.725779999999,\n",
       " 'total_hours': 492.80000000000007,\n",
       " 'total_sales': 63413.04578,\n",
       " 'total_foodcosts': 36640.32,\n",
       " 'total_foodcosts_atelier': 30272.61,\n",
       " 'total_foodcosts_supplier': 6367.71}"
      ]
     },
     "execution_count": 89,
     "metadata": {},
     "output_type": "execute_result"
    }
   ],
   "source": [
    "get_gross_margin_for_month(\"2023-02\",\"Wemmel\")\n"
   ]
  },
  {
   "cell_type": "code",
   "execution_count": 90,
   "id": "8eccda1e",
   "metadata": {},
   "outputs": [
    {
     "name": "stdout",
     "output_type": "stream",
     "text": [
      "config.ini file available... using that\n",
      "config.ini file available... using that\n",
      "config.ini file available... using that\n",
      "config.ini file available... using that\n",
      "config.ini file available... using that\n",
      "200\n",
      "shop La Hulpe gross margins:\n",
      "{'gross_margin': 9838.452840000002, 'total_hours': 485.9000000000001, 'total_sales': 66249.88284, 'total_foodcosts': 41834.43, 'total_foodcosts_atelier': 35045.44, 'total_foodcosts_supplier': 6788.99}\n",
      "config.ini file available... using that\n",
      "config.ini file available... using that\n",
      "config.ini file available... using that\n",
      "config.ini file available... using that\n",
      "200\n",
      "shop Fort Jaco gross margins:\n",
      "{'gross_margin': 17723.038160000007, 'total_hours': 682.7833333333334, 'total_sales': 93298.64816000001, 'total_foodcosts': 55092.11, 'total_foodcosts_atelier': 45062.28, 'total_foodcosts_supplier': 10029.83}\n",
      "config.ini file available... using that\n",
      "config.ini file available... using that\n",
      "config.ini file available... using that\n",
      "config.ini file available... using that\n",
      "200\n",
      "shop Woluwe gross margins:\n",
      "{'gross_margin': 31943.659859999992, 'total_hours': 895.1333333333333, 'total_sales': 122830.83986, 'total_foodcosts': 64033.18, 'total_foodcosts_atelier': 54410.09, 'total_foodcosts_supplier': 9623.09}\n",
      "config.ini file available... using that\n",
      "config.ini file available... using that\n",
      "config.ini file available... using that\n",
      "config.ini file available... using that\n",
      "500\n",
      "shop Tongres gross margins:\n",
      "{'gross_margin': 238.70504000000074, 'total_hours': 0, 'total_sales': 86848.05504, 'total_foodcosts': 86609.35, 'total_foodcosts_atelier': 84294.87, 'total_foodcosts_supplier': 2314.48}\n",
      "config.ini file available... using that\n",
      "config.ini file available... using that\n",
      "config.ini file available... using that\n",
      "config.ini file available... using that\n",
      "200\n",
      "shop Wemmel gross margins:\n",
      "{'gross_margin': 11988.725779999999, 'total_hours': 492.80000000000007, 'total_sales': 63413.04578, 'total_foodcosts': 36640.32, 'total_foodcosts_atelier': 30272.61, 'total_foodcosts_supplier': 6367.71}\n",
      "config.ini file available... using that\n",
      "config.ini file available... using that\n",
      "config.ini file available... using that\n",
      "config.ini file available... using that\n",
      "200\n",
      "shop CHATELAIN gross margins:\n",
      "{'gross_margin': 27820.0835, 'total_hours': 724.2, 'total_sales': 104944.5935, 'total_foodcosts': 55398.51, 'total_foodcosts_atelier': 45822.49, 'total_foodcosts_supplier': 9576.02}\n",
      "config.ini file available... using that\n",
      "config.ini file available... using that\n",
      "config.ini file available... using that\n",
      "config.ini file available... using that\n",
      "200\n",
      "shop OVERIJSE gross margins:\n",
      "{'gross_margin': -4840.650419999998, 'total_hours': 656.2, 'total_sales': 54266.58958, 'total_foodcosts': 39421.24, 'total_foodcosts_atelier': 32689.35, 'total_foodcosts_supplier': 6731.89}\n",
      "config.ini file available... using that\n",
      "config.ini file available... using that\n",
      "config.ini file available... using that\n",
      "config.ini file available... using that\n",
      "200\n",
      "shop LATEM gross margins:\n",
      "{'gross_margin': 4909.245800000001, 'total_hours': 695.1333333333334, 'total_sales': 71673.5558, 'total_foodcosts': 45910.31, 'total_foodcosts_atelier': 37727.61, 'total_foodcosts_supplier': 8182.7}\n"
     ]
    }
   ],
   "source": [
    "shop_names = core.get_shop_names()\n",
    "shop_stats = {}\n",
    "for shop_name in shop_names:\n",
    "    gross_margin = get_gross_margin_for_month(\"2023-02\", shop_name)\n",
    "    print('shop ' + shop_name + ' gross margins:')\n",
    "    print(gross_margin)\n",
    "    shop_stats[shop_name] = gross_margin"
   ]
  },
  {
   "cell_type": "code",
   "execution_count": 91,
   "id": "7dc2e2b1",
   "metadata": {},
   "outputs": [
    {
     "data": {
      "text/html": [
       "<div>\n",
       "<style scoped>\n",
       "    .dataframe tbody tr th:only-of-type {\n",
       "        vertical-align: middle;\n",
       "    }\n",
       "\n",
       "    .dataframe tbody tr th {\n",
       "        vertical-align: top;\n",
       "    }\n",
       "\n",
       "    .dataframe thead th {\n",
       "        text-align: right;\n",
       "    }\n",
       "</style>\n",
       "<table border=\"1\" class=\"dataframe\">\n",
       "  <thead>\n",
       "    <tr style=\"text-align: right;\">\n",
       "      <th></th>\n",
       "      <th>gross_margin</th>\n",
       "      <th>total_hours</th>\n",
       "      <th>total_sales</th>\n",
       "      <th>total_foodcosts</th>\n",
       "      <th>total_foodcosts_atelier</th>\n",
       "      <th>total_foodcosts_supplier</th>\n",
       "    </tr>\n",
       "  </thead>\n",
       "  <tbody>\n",
       "    <tr>\n",
       "      <th>La Hulpe</th>\n",
       "      <td>9838.45</td>\n",
       "      <td>485.90</td>\n",
       "      <td>66249.88</td>\n",
       "      <td>41834.43</td>\n",
       "      <td>35045.44</td>\n",
       "      <td>6788.99</td>\n",
       "    </tr>\n",
       "    <tr>\n",
       "      <th>Fort Jaco</th>\n",
       "      <td>17723.04</td>\n",
       "      <td>682.78</td>\n",
       "      <td>93298.65</td>\n",
       "      <td>55092.11</td>\n",
       "      <td>45062.28</td>\n",
       "      <td>10029.83</td>\n",
       "    </tr>\n",
       "    <tr>\n",
       "      <th>Woluwe</th>\n",
       "      <td>31943.66</td>\n",
       "      <td>895.13</td>\n",
       "      <td>122830.84</td>\n",
       "      <td>64033.18</td>\n",
       "      <td>54410.09</td>\n",
       "      <td>9623.09</td>\n",
       "    </tr>\n",
       "    <tr>\n",
       "      <th>Tongres</th>\n",
       "      <td>238.71</td>\n",
       "      <td>0.00</td>\n",
       "      <td>86848.06</td>\n",
       "      <td>86609.35</td>\n",
       "      <td>84294.87</td>\n",
       "      <td>2314.48</td>\n",
       "    </tr>\n",
       "    <tr>\n",
       "      <th>Wemmel</th>\n",
       "      <td>11988.73</td>\n",
       "      <td>492.80</td>\n",
       "      <td>63413.05</td>\n",
       "      <td>36640.32</td>\n",
       "      <td>30272.61</td>\n",
       "      <td>6367.71</td>\n",
       "    </tr>\n",
       "    <tr>\n",
       "      <th>CHATELAIN</th>\n",
       "      <td>27820.08</td>\n",
       "      <td>724.20</td>\n",
       "      <td>104944.59</td>\n",
       "      <td>55398.51</td>\n",
       "      <td>45822.49</td>\n",
       "      <td>9576.02</td>\n",
       "    </tr>\n",
       "    <tr>\n",
       "      <th>OVERIJSE</th>\n",
       "      <td>-4840.65</td>\n",
       "      <td>656.20</td>\n",
       "      <td>54266.59</td>\n",
       "      <td>39421.24</td>\n",
       "      <td>32689.35</td>\n",
       "      <td>6731.89</td>\n",
       "    </tr>\n",
       "    <tr>\n",
       "      <th>LATEM</th>\n",
       "      <td>4909.25</td>\n",
       "      <td>695.13</td>\n",
       "      <td>71673.56</td>\n",
       "      <td>45910.31</td>\n",
       "      <td>37727.61</td>\n",
       "      <td>8182.70</td>\n",
       "    </tr>\n",
       "  </tbody>\n",
       "</table>\n",
       "</div>"
      ],
      "text/plain": [
       "           gross_margin  total_hours  total_sales  total_foodcosts  \\\n",
       "La Hulpe        9838.45       485.90     66249.88         41834.43   \n",
       "Fort Jaco      17723.04       682.78     93298.65         55092.11   \n",
       "Woluwe         31943.66       895.13    122830.84         64033.18   \n",
       "Tongres          238.71         0.00     86848.06         86609.35   \n",
       "Wemmel         11988.73       492.80     63413.05         36640.32   \n",
       "CHATELAIN      27820.08       724.20    104944.59         55398.51   \n",
       "OVERIJSE       -4840.65       656.20     54266.59         39421.24   \n",
       "LATEM           4909.25       695.13     71673.56         45910.31   \n",
       "\n",
       "           total_foodcosts_atelier  total_foodcosts_supplier  \n",
       "La Hulpe                  35045.44                   6788.99  \n",
       "Fort Jaco                 45062.28                  10029.83  \n",
       "Woluwe                    54410.09                   9623.09  \n",
       "Tongres                   84294.87                   2314.48  \n",
       "Wemmel                    30272.61                   6367.71  \n",
       "CHATELAIN                 45822.49                   9576.02  \n",
       "OVERIJSE                  32689.35                   6731.89  \n",
       "LATEM                     37727.61                   8182.70  "
      ]
     },
     "metadata": {},
     "output_type": "display_data"
    }
   ],
   "source": [
    "df = pd.DataFrame.from_dict(shop_stats, orient='index').round(2)\n",
    "display(df)"
   ]
  },
  {
   "cell_type": "code",
   "execution_count": 92,
   "id": "f0e7c080",
   "metadata": {},
   "outputs": [],
   "source": [
    "# recalculate gross margin based on 30 EUR per hour instead of 25 EUR just using df\n",
    "df['gross_margin'] = df['total_sales'] - df['total_foodcosts'] - df['total_hours'] * 30"
   ]
  },
  {
   "cell_type": "code",
   "execution_count": 93,
   "id": "4357f71c",
   "metadata": {},
   "outputs": [],
   "source": [
    "df['gross_margin_pct'] = (df['gross_margin'] / df['total_sales'] * 100).round(0)"
   ]
  },
  {
   "cell_type": "code",
   "execution_count": 118,
   "id": "ad40a982",
   "metadata": {},
   "outputs": [
    {
     "data": {
      "text/html": [
       "<div>\n",
       "<style scoped>\n",
       "    .dataframe tbody tr th:only-of-type {\n",
       "        vertical-align: middle;\n",
       "    }\n",
       "\n",
       "    .dataframe tbody tr th {\n",
       "        vertical-align: top;\n",
       "    }\n",
       "\n",
       "    .dataframe thead th {\n",
       "        text-align: right;\n",
       "    }\n",
       "</style>\n",
       "<table border=\"1\" class=\"dataframe\">\n",
       "  <thead>\n",
       "    <tr style=\"text-align: right;\">\n",
       "      <th></th>\n",
       "      <th>foodcosts_atelier_pct</th>\n",
       "      <th>foodcosts_supplier_pct</th>\n",
       "    </tr>\n",
       "  </thead>\n",
       "  <tbody>\n",
       "    <tr>\n",
       "      <th>CHATELAIN</th>\n",
       "      <td>44.0</td>\n",
       "      <td>9.0</td>\n",
       "    </tr>\n",
       "    <tr>\n",
       "      <th>Woluwe</th>\n",
       "      <td>44.0</td>\n",
       "      <td>8.0</td>\n",
       "    </tr>\n",
       "    <tr>\n",
       "      <th>Fort Jaco</th>\n",
       "      <td>48.0</td>\n",
       "      <td>11.0</td>\n",
       "    </tr>\n",
       "    <tr>\n",
       "      <th>Wemmel</th>\n",
       "      <td>48.0</td>\n",
       "      <td>10.0</td>\n",
       "    </tr>\n",
       "    <tr>\n",
       "      <th>La Hulpe</th>\n",
       "      <td>53.0</td>\n",
       "      <td>10.0</td>\n",
       "    </tr>\n",
       "    <tr>\n",
       "      <th>LATEM</th>\n",
       "      <td>53.0</td>\n",
       "      <td>11.0</td>\n",
       "    </tr>\n",
       "    <tr>\n",
       "      <th>OVERIJSE</th>\n",
       "      <td>60.0</td>\n",
       "      <td>12.0</td>\n",
       "    </tr>\n",
       "  </tbody>\n",
       "</table>\n",
       "</div>"
      ],
      "text/plain": [
       "           foodcosts_atelier_pct  foodcosts_supplier_pct\n",
       "CHATELAIN                   44.0                     9.0\n",
       "Woluwe                      44.0                     8.0\n",
       "Fort Jaco                   48.0                    11.0\n",
       "Wemmel                      48.0                    10.0\n",
       "La Hulpe                    53.0                    10.0\n",
       "LATEM                       53.0                    11.0\n",
       "OVERIJSE                    60.0                    12.0"
      ]
     },
     "metadata": {},
     "output_type": "display_data"
    }
   ],
   "source": [
    "df_pct = df.copy()\n",
    "df_pct['gross_margin_pct'] = (df['gross_margin'] / df['total_sales'] * 100).round(0)\n",
    "# create a dataframe with the gross margin percentage, % of foodcosts atelier and % of foodcosts supplier\n",
    "df_pct['foodcosts_atelier_pct'] = (df_pct['total_foodcosts_atelier'] / df_pct['total_sales'] * 100).round(0)\n",
    "df_pct['foodcosts_supplier_pct'] = (df_pct['total_foodcosts_supplier'] / df_pct['total_sales'] * 100).round(0)\n",
    "df_pct['wage_cost_pct'] = (df_pct['total_hours'] * FULLY_LOADED_COST_HOURS / df_pct['total_sales'] * 100).round(0)\n",
    "\n",
    "df_pct = df_pct[['gross_margin_pct', 'foodcosts_atelier_pct', 'foodcosts_supplier_pct', 'wage_cost_pct']]\n",
    "# remove Tongres as it is a franchisee\n",
    "df_pct = df_pct.drop('Tongres')\n",
    "# sort by gross margin percentage\n",
    "df_pct = df_pct.sort_values(by=['gross_margin_pct'], ascending=False)\n",
    "# show all columns except gross_margin_pct and wage_cost_pct\n",
    "\n",
    "display(df_pct[['foodcosts_atelier_pct', 'foodcosts_supplier_pct']])"
   ]
  },
  {
   "cell_type": "code",
   "execution_count": 117,
   "id": "0b1bce94",
   "metadata": {},
   "outputs": [
    {
     "name": "stdout",
     "output_type": "stream",
     "text": [
      "|           |   gross_margin_pct |   foodcosts_atelier_pct |   foodcosts_supplier_pct |   wage_cost_pct |\n",
      "|:----------|-------------------:|------------------------:|-------------------------:|----------------:|\n",
      "| CHATELAIN |                 27 |                      44 |                        9 |              21 |\n",
      "| Woluwe    |                 26 |                      44 |                        8 |              22 |\n",
      "| Fort Jaco |                 19 |                      48 |                       11 |              22 |\n",
      "| Wemmel    |                 19 |                      48 |                       10 |              23 |\n",
      "| La Hulpe  |                 15 |                      53 |                       10 |              22 |\n",
      "| LATEM     |                  7 |                      53 |                       11 |              29 |\n",
      "| OVERIJSE  |                 -9 |                      60 |                       12 |              36 |\n"
     ]
    }
   ],
   "source": [
    "# create markdown table\n",
    "print(df_pct.to_markdown())"
   ]
  },
  {
   "cell_type": "code",
   "execution_count": 116,
   "id": "3a21e72c",
   "metadata": {},
   "outputs": [
    {
     "name": "stdout",
     "output_type": "stream",
     "text": [
      "Collecting tabulate\n",
      "  Downloading tabulate-0.9.0-py3-none-any.whl (35 kB)\n",
      "Installing collected packages: tabulate\n",
      "Successfully installed tabulate-0.9.0\n"
     ]
    }
   ],
   "source": [
    "!pip install tabulate"
   ]
  },
  {
   "cell_type": "code",
   "execution_count": null,
   "id": "a981e739",
   "metadata": {},
   "outputs": [],
   "source": []
  },
  {
   "cell_type": "code",
   "execution_count": null,
   "id": "a73d00af",
   "metadata": {},
   "outputs": [],
   "source": []
  },
  {
   "cell_type": "code",
   "execution_count": 23,
   "id": "a7c6ded3",
   "metadata": {},
   "outputs": [
    {
     "name": "stdout",
     "output_type": "stream",
     "text": [
      "config.ini file available... using that\n",
      "config.ini file available... using that\n",
      "config.ini file available... using that\n",
      "config.ini file available... using that\n",
      "200\n",
      "200\n",
      "200\n",
      "200\n",
      "200\n",
      "200\n",
      "200\n",
      "200\n",
      "200\n",
      "200\n",
      "200\n",
      "200\n",
      "200\n",
      "200\n",
      "200\n",
      "200\n",
      "200\n",
      "200\n",
      "200\n",
      "200\n",
      "200\n",
      "200\n",
      "200\n",
      "200\n",
      "200\n",
      "200\n",
      "200\n",
      "200\n"
     ]
    },
    {
     "data": {
      "text/plain": [
       "{'gross_margin': -3866.1100000000006,\n",
       " 'total_hours': 301.8,\n",
       " 'total_sales': 8256.74,\n",
       " 'total_foodcosts': 3068.85}"
      ]
     },
     "execution_count": 23,
     "metadata": {},
     "output_type": "execute_result"
    }
   ],
   "source": [
    "get_gross_margin_for_month(\"2023-02-01\", \"2023-02-28\", 'PAVLOVA BAR ANVERS')"
   ]
  },
  {
   "cell_type": "code",
   "execution_count": 27,
   "id": "3c0eca3a",
   "metadata": {},
   "outputs": [],
   "source": [
    "pavlova = {'gross_margin': -2357.1100000000006,\n",
    " 'total_hours': 301.8,\n",
    " 'total_sales': 8256.74,\n",
    " 'total_foodcosts': 3068.85}"
   ]
  },
  {
   "cell_type": "code",
   "execution_count": null,
   "id": "3e6a130d",
   "metadata": {},
   "outputs": [],
   "source": []
  },
  {
   "cell_type": "code",
   "execution_count": 13,
   "id": "212fab4b",
   "metadata": {},
   "outputs": [
    {
     "name": "stdout",
     "output_type": "stream",
     "text": [
      "config.ini file available... using that\n"
     ]
    }
   ],
   "source": []
  }
 ],
 "metadata": {
  "kernelspec": {
   "display_name": "Python 3 (ipykernel)",
   "language": "python",
   "name": "python3"
  },
  "language_info": {
   "codemirror_mode": {
    "name": "ipython",
    "version": 3
   },
   "file_extension": ".py",
   "mimetype": "text/x-python",
   "name": "python",
   "nbconvert_exporter": "python",
   "pygments_lexer": "ipython3",
   "version": "3.8.5"
  },
  "vscode": {
   "interpreter": {
    "hash": "7871963561cfaad4ef5ec16a286fe15767a2646c2c95ea7ad09ec496a8b46b54"
   }
  }
 },
 "nbformat": 4,
 "nbformat_minor": 5
}
