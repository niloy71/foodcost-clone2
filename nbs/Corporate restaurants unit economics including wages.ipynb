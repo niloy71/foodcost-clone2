{
 "cells": [
  {
   "cell_type": "code",
   "execution_count": 2,
   "id": "3a11b912",
   "metadata": {},
   "outputs": [],
   "source": [
    "import sys\n",
    "sys.path.append(\"..\")\n",
    "import foodcosts.core as core\n",
    "import requests\n",
    "import json\n",
    "import calendar\n",
    "import pandas as pd\n",
    "from datetime import date"
   ]
  },
  {
   "cell_type": "code",
   "execution_count": 3,
   "id": "0761612a",
   "metadata": {},
   "outputs": [
    {
     "name": "stdout",
     "output_type": "stream",
     "text": [
      "config.ini file available... using that\n"
     ]
    },
    {
     "data": {
      "text/plain": [
       "['R.E. ALLEN & OVERY',\n",
       " 'R.E. LHOIST CORBAIS',\n",
       " 'R.E. ZAVENTEM',\n",
       " 'R.E. CEFIC',\n",
       " 'R.E ALOST',\n",
       " 'R.E LHOIST NIVELLES',\n",
       " 'R.E LHOIST LIMELETTE',\n",
       " 'BOTANIC TOWER',\n",
       " 'R.E ENGIE',\n",
       " 'R.E THE HIVE',\n",
       " 'R.E EUROCONTROL',\n",
       " 'R.E LIGHTHOUSE',\n",
       " 'Immogra Park7',\n",
       " 'R.E. JanDeNul',\n",
       " 'ARAMIS',\n",
       " 'R.E. GLAVERBEL',\n",
       " 'R.E WPP']"
      ]
     },
     "execution_count": 3,
     "metadata": {},
     "output_type": "execute_result"
    }
   ],
   "source": [
    "core.get_corporate_restaurants()"
   ]
  },
  {
   "cell_type": "code",
   "execution_count": 4,
   "id": "074ce41b",
   "metadata": {},
   "outputs": [],
   "source": [
    "# fetch hours worked for a shop\n",
    "# use the API formation.fthek.be/api/hours_worked with body\n",
    "# {\n",
    "#\t\"warehouse_id\": 2,\n",
    "#\t\"yyyy_mm_dd\": \"2023-03-15\"\n",
    "# }\n",
    "def get_hours_worked_for_a_shop_for_a_day(warehouse_id, yyyy_mm_dd):\n",
    "#   url = \"https://formation.fthek.be/api/hours_worked\"\n",
    "    url = \"http://localhost:3000/api/hours_worked/day\"\n",
    "    body = {\n",
    "        \"warehouse_id\": warehouse_id,\n",
    "        \"yyyy_mm_dd\": yyyy_mm_dd\n",
    "    }\n",
    "    response = requests.get(url, json=body)\n",
    "    print(response.status_code)\n",
    "    if response.status_code == 200:\n",
    "        return response.json()\n",
    "    else:\n",
    "        return None\n",
    "\n",
    "def get_hours_worked_for_a_shop_for_a_month_per_employee(warehouse_id, yyyy_mm):\n",
    "#     url = \"https://formation.fthek.be/api/hours_worked/month\"\n",
    "    url = \"http://localhost:3000/api/hours_worked/month\"\n",
    "    body = {\n",
    "        \"warehouse_id\": warehouse_id,\n",
    "        \"yyyy_mm\": yyyy_mm\n",
    "    }\n",
    "    response = requests.get(url, json=body)\n",
    "    if response.status_code == 200:\n",
    "        return response.json()\n",
    "    else:\n",
    "        print(response.status_code)\n",
    "        print(response)\n",
    "        return None"
   ]
  },
  {
   "cell_type": "code",
   "execution_count": 5,
   "id": "224cae60",
   "metadata": {},
   "outputs": [
    {
     "name": "stdout",
     "output_type": "stream",
     "text": [
      "config.ini file available... using that\n",
      "200\n",
      "[{'id': 2628124, 'name': 'Hans MANGELSCHOTS ', 'hours': 8.55}, {'id': 2849653, 'name': 'Bart PIRON ', 'hours': 8}, {'id': 3038011, 'name': 'Carla DE COCK', 'hours': 3.8333333333333335}]\n"
     ]
    }
   ],
   "source": [
    "# call the API for a shop and a day\n",
    "# return the hours worked\n",
    "answer = get_hours_worked_for_a_shop_for_a_day(core.get_corporate_restaurant_id('R.E ALOST'), \"2023-03-15\")\n",
    "print(answer)"
   ]
  },
  {
   "cell_type": "code",
   "execution_count": 6,
   "id": "60fc38af",
   "metadata": {},
   "outputs": [],
   "source": [
    "# sums the hours worked for a shop\n",
    "# input: [{'hours': 10.5, 'name': 'Kevin BETTE ', 'id': 2628104}, {'hours': 6.466666666666667, 'name': 'Massimo OLIVO ', 'id': 2786566}]\n",
    "\n",
    "def sum_hours_worked_for_a_shop_and_day(warehouse_id, yyyy_mm_dd):\n",
    "    hours_worked = get_hours_worked_for_a_shop_for_a_day(warehouse_id, yyyy_mm_dd)\n",
    "    if hours_worked is None:\n",
    "        return 0\n",
    "    else:\n",
    "        return sum([h['hours'] for h in hours_worked])"
   ]
  },
  {
   "cell_type": "code",
   "execution_count": 7,
   "id": "4f7f6363",
   "metadata": {},
   "outputs": [
    {
     "name": "stdout",
     "output_type": "stream",
     "text": [
      "config.ini file available... using that\n",
      "200\n"
     ]
    },
    {
     "data": {
      "text/plain": [
       "20.383333333333333"
      ]
     },
     "execution_count": 7,
     "metadata": {},
     "output_type": "execute_result"
    }
   ],
   "source": [
    "# example\n",
    "sum_hours_worked_for_a_shop_and_day(core.get_corporate_restaurant_id('R.E ALOST'), \"2023-03-15\")"
   ]
  },
  {
   "cell_type": "code",
   "execution_count": 8,
   "id": "31bfb26d",
   "metadata": {},
   "outputs": [
    {
     "data": {
      "text/plain": [
       "['2023-03-01', '2023-03-02', '2023-03-03', '2023-03-04']"
      ]
     },
     "execution_count": 8,
     "metadata": {},
     "output_type": "execute_result"
    }
   ],
   "source": [
    "# returns a list of days in format yyyy-mm-dd for a given month\n",
    "# input: 2023-03\n",
    "def get_days_in_month(yyyy_mm):\n",
    "    # Split the input string into year and month\n",
    "    year, month = map(int, yyyy_mm.split('-'))\n",
    "\n",
    "    # Get the number of days in the given month and year\n",
    "    num_days = calendar.monthrange(year, month)[1]\n",
    "\n",
    "    # Generate a list of days in the given month and year\n",
    "    days = [date(year, month, day).strftime(\"%Y-%m-%d\") for day in range(1, num_days + 1)]\n",
    "\n",
    "    return days\n",
    "\n",
    "# returns the list of strings (format YYYY-MM-DD) in a period (start and end dates included)\n",
    "# start and end are in format YYYY-MM-DD\n",
    "def get_days_in_period(start,end):\n",
    "    start = date.fromisoformat(start)\n",
    "    end = date.fromisoformat(end)\n",
    "    delta = end - start\n",
    "    dates = [start + pd.DateOffset(days=i) for i in range(delta.days + 1)]\n",
    "    return [d.strftime(\"%Y-%m-%d\") for d in dates]\n",
    "\n",
    "#example\n",
    "get_days_in_period(\"2023-03-01\", \"2023-03-04\")"
   ]
  },
  {
   "cell_type": "code",
   "execution_count": 9,
   "id": "9392dda0",
   "metadata": {},
   "outputs": [
    {
     "name": "stdout",
     "output_type": "stream",
     "text": [
      "['2023-02-01', '2023-02-02', '2023-02-03', '2023-02-04', '2023-02-05', '2023-02-06', '2023-02-07', '2023-02-08', '2023-02-09', '2023-02-10', '2023-02-11', '2023-02-12', '2023-02-13', '2023-02-14', '2023-02-15', '2023-02-16', '2023-02-17', '2023-02-18', '2023-02-19', '2023-02-20', '2023-02-21', '2023-02-22', '2023-02-23', '2023-02-24', '2023-02-25', '2023-02-26', '2023-02-27', '2023-02-28']\n"
     ]
    }
   ],
   "source": [
    "# Example usage:\n",
    "month = \"2023-02\"\n",
    "days_in_month = get_days_in_month(month)\n",
    "print(days_in_month)    \n",
    "\n"
   ]
  },
  {
   "cell_type": "code",
   "execution_count": 10,
   "id": "3a1b6a81",
   "metadata": {},
   "outputs": [],
   "source": [
    "# returns the total hours worked for a shop in a given month\n",
    "# input: 2023-03\n",
    "def get_hours_worked_for_a_shop_in_a_month(warehouse_id, yyyy_mm):\n",
    "    hours_worked = get_hours_worked_for_a_shop_for_a_month_per_employee(warehouse_id, yyyy_mm)\n",
    "    if hours_worked is None:\n",
    "        return 0\n",
    "    return sum([e['hours'] for e in hours_worked])"
   ]
  },
  {
   "cell_type": "code",
   "execution_count": 11,
   "id": "4f61c9cf",
   "metadata": {},
   "outputs": [
    {
     "name": "stdout",
     "output_type": "stream",
     "text": [
      "config.ini file available... using that\n",
      "587.0666666666666\n"
     ]
    }
   ],
   "source": [
    "# example\n",
    "hours_worked_in_alost = get_hours_worked_for_a_shop_in_a_month(core.get_corporate_restaurant_id('R.E ALOST'), \"2023-02\")\n",
    "print(hours_worked_in_alost)"
   ]
  },
  {
   "cell_type": "code",
   "execution_count": 12,
   "id": "329c892d",
   "metadata": {},
   "outputs": [],
   "source": [
    "def get_hours_worked_for_a_shop_in_a_period(warehouse_id, start, end):\n",
    "    days_to_consider = get_days_in_period(start, end)\n",
    "    hours_worked = [get_hours_worked_for_a_shop_for_a_day(warehouse_id, day) for day in days_to_consider]\n",
    "    return sum([e['hours'] for e in hours_worked])"
   ]
  },
  {
   "cell_type": "code",
   "execution_count": 13,
   "id": "d77241be",
   "metadata": {},
   "outputs": [
    {
     "name": "stdout",
     "output_type": "stream",
     "text": [
      "config.ini file available... using that\n"
     ]
    }
   ],
   "source": [
    "# alost = core.get_sales_for_period_for_shop_per_day(\"2023-02-01\", \"2023-02-28\", \"R.E ALOST\")\n",
    "alost = core.get_sales_for_period_for_corporate_restaurant_per_day(\"2023-02-01\", \"2023-02-28\", \"R.E ALOST\")"
   ]
  },
  {
   "cell_type": "code",
   "execution_count": 14,
   "id": "31f64c61",
   "metadata": {},
   "outputs": [
    {
     "data": {
      "text/plain": [
       "57214.99726"
      ]
     },
     "execution_count": 14,
     "metadata": {},
     "output_type": "execute_result"
    }
   ],
   "source": [
    "# sum the total sales for a shop\n",
    "alost['total_sales'].sum()"
   ]
  },
  {
   "cell_type": "code",
   "execution_count": 15,
   "id": "db21a2de",
   "metadata": {},
   "outputs": [
    {
     "name": "stdout",
     "output_type": "stream",
     "text": [
      "config.ini file available... using that\n"
     ]
    },
    {
     "data": {
      "text/plain": [
       "['R.E. ALLEN & OVERY',\n",
       " 'R.E. LHOIST CORBAIS',\n",
       " 'R.E. ZAVENTEM',\n",
       " 'R.E. CEFIC',\n",
       " 'R.E ALOST',\n",
       " 'R.E LHOIST NIVELLES',\n",
       " 'R.E LHOIST LIMELETTE',\n",
       " 'BOTANIC TOWER',\n",
       " 'R.E ENGIE',\n",
       " 'R.E THE HIVE',\n",
       " 'R.E EUROCONTROL',\n",
       " 'R.E LIGHTHOUSE',\n",
       " 'Immogra Park7',\n",
       " 'R.E. JanDeNul',\n",
       " 'ARAMIS',\n",
       " 'R.E. GLAVERBEL',\n",
       " 'R.E WPP']"
      ]
     },
     "execution_count": 15,
     "metadata": {},
     "output_type": "execute_result"
    }
   ],
   "source": [
    "core.get_corporate_restaurants()"
   ]
  },
  {
   "cell_type": "code",
   "execution_count": 17,
   "id": "7db7f00c",
   "metadata": {
    "scrolled": true
   },
   "outputs": [
    {
     "name": "stdout",
     "output_type": "stream",
     "text": [
      "config.ini file available... using that\n",
      "config.ini file available... using that\n"
     ]
    }
   ],
   "source": [
    "# foodcosts = core.get_food_costs_for_period_for_shop_per_day(\"2023-02-01\", \"2023-02-28\", \"La Hulpe\")\n",
    "foodcosts = core.get_food_costs_for_period_for_resto_per_day(\"2023-02-01\", \"2023-02-28\", \"R.E ALOST\")"
   ]
  },
  {
   "cell_type": "code",
   "execution_count": 18,
   "id": "98cbc580",
   "metadata": {},
   "outputs": [],
   "source": [
    "foodcosts.index = foodcosts['date']\n",
    "foodcosts = foodcosts.drop('date', axis=1)"
   ]
  },
  {
   "cell_type": "code",
   "execution_count": 19,
   "id": "e2af70a3",
   "metadata": {},
   "outputs": [
    {
     "data": {
      "text/html": [
       "<div>\n",
       "<style scoped>\n",
       "    .dataframe tbody tr th:only-of-type {\n",
       "        vertical-align: middle;\n",
       "    }\n",
       "\n",
       "    .dataframe tbody tr th {\n",
       "        vertical-align: top;\n",
       "    }\n",
       "\n",
       "    .dataframe thead th {\n",
       "        text-align: right;\n",
       "    }\n",
       "</style>\n",
       "<table border=\"1\" class=\"dataframe\">\n",
       "  <thead>\n",
       "    <tr style=\"text-align: right;\">\n",
       "      <th></th>\n",
       "      <th>atelier</th>\n",
       "      <th>supplier</th>\n",
       "      <th>total</th>\n",
       "    </tr>\n",
       "    <tr>\n",
       "      <th>date</th>\n",
       "      <th></th>\n",
       "      <th></th>\n",
       "      <th></th>\n",
       "    </tr>\n",
       "  </thead>\n",
       "  <tbody>\n",
       "    <tr>\n",
       "      <th>2023-02-01</th>\n",
       "      <td>0</td>\n",
       "      <td>181.09</td>\n",
       "      <td>181.09</td>\n",
       "    </tr>\n",
       "    <tr>\n",
       "      <th>2023-02-02</th>\n",
       "      <td>0</td>\n",
       "      <td>1478.15</td>\n",
       "      <td>1478.15</td>\n",
       "    </tr>\n",
       "    <tr>\n",
       "      <th>2023-02-03</th>\n",
       "      <td>118.42</td>\n",
       "      <td>196.51</td>\n",
       "      <td>314.93</td>\n",
       "    </tr>\n",
       "    <tr>\n",
       "      <th>2023-02-04</th>\n",
       "      <td>0</td>\n",
       "      <td>0</td>\n",
       "      <td>0</td>\n",
       "    </tr>\n",
       "    <tr>\n",
       "      <th>2023-02-05</th>\n",
       "      <td>0</td>\n",
       "      <td>0</td>\n",
       "      <td>0</td>\n",
       "    </tr>\n",
       "    <tr>\n",
       "      <th>2023-02-06</th>\n",
       "      <td>0</td>\n",
       "      <td>166.25</td>\n",
       "      <td>166.25</td>\n",
       "    </tr>\n",
       "    <tr>\n",
       "      <th>2023-02-07</th>\n",
       "      <td>25.65</td>\n",
       "      <td>1231.45</td>\n",
       "      <td>1257.10</td>\n",
       "    </tr>\n",
       "    <tr>\n",
       "      <th>2023-02-08</th>\n",
       "      <td>0</td>\n",
       "      <td>1727.81</td>\n",
       "      <td>1727.81</td>\n",
       "    </tr>\n",
       "    <tr>\n",
       "      <th>2023-02-09</th>\n",
       "      <td>0</td>\n",
       "      <td>0</td>\n",
       "      <td>0</td>\n",
       "    </tr>\n",
       "    <tr>\n",
       "      <th>2023-02-10</th>\n",
       "      <td>326.82</td>\n",
       "      <td>212.32</td>\n",
       "      <td>539.14</td>\n",
       "    </tr>\n",
       "    <tr>\n",
       "      <th>2023-02-11</th>\n",
       "      <td>0</td>\n",
       "      <td>0</td>\n",
       "      <td>0</td>\n",
       "    </tr>\n",
       "    <tr>\n",
       "      <th>2023-02-12</th>\n",
       "      <td>0</td>\n",
       "      <td>0</td>\n",
       "      <td>0</td>\n",
       "    </tr>\n",
       "    <tr>\n",
       "      <th>2023-02-13</th>\n",
       "      <td>0</td>\n",
       "      <td>1149.34</td>\n",
       "      <td>1149.34</td>\n",
       "    </tr>\n",
       "    <tr>\n",
       "      <th>2023-02-14</th>\n",
       "      <td>420.82</td>\n",
       "      <td>208.77</td>\n",
       "      <td>629.59</td>\n",
       "    </tr>\n",
       "    <tr>\n",
       "      <th>2023-02-15</th>\n",
       "      <td>0</td>\n",
       "      <td>651.83</td>\n",
       "      <td>651.83</td>\n",
       "    </tr>\n",
       "    <tr>\n",
       "      <th>2023-02-16</th>\n",
       "      <td>0</td>\n",
       "      <td>1316.98</td>\n",
       "      <td>1316.98</td>\n",
       "    </tr>\n",
       "    <tr>\n",
       "      <th>2023-02-17</th>\n",
       "      <td>0</td>\n",
       "      <td>217.57</td>\n",
       "      <td>217.57</td>\n",
       "    </tr>\n",
       "    <tr>\n",
       "      <th>2023-02-18</th>\n",
       "      <td>0</td>\n",
       "      <td>0</td>\n",
       "      <td>0</td>\n",
       "    </tr>\n",
       "    <tr>\n",
       "      <th>2023-02-19</th>\n",
       "      <td>0</td>\n",
       "      <td>0</td>\n",
       "      <td>0</td>\n",
       "    </tr>\n",
       "    <tr>\n",
       "      <th>2023-02-20</th>\n",
       "      <td>0</td>\n",
       "      <td>946.11</td>\n",
       "      <td>946.11</td>\n",
       "    </tr>\n",
       "    <tr>\n",
       "      <th>2023-02-21</th>\n",
       "      <td>0</td>\n",
       "      <td>211.60</td>\n",
       "      <td>211.60</td>\n",
       "    </tr>\n",
       "    <tr>\n",
       "      <th>2023-02-22</th>\n",
       "      <td>0</td>\n",
       "      <td>876.62</td>\n",
       "      <td>876.62</td>\n",
       "    </tr>\n",
       "    <tr>\n",
       "      <th>2023-02-23</th>\n",
       "      <td>0</td>\n",
       "      <td>925.79</td>\n",
       "      <td>925.79</td>\n",
       "    </tr>\n",
       "    <tr>\n",
       "      <th>2023-02-24</th>\n",
       "      <td>179.93</td>\n",
       "      <td>184.64</td>\n",
       "      <td>364.57</td>\n",
       "    </tr>\n",
       "    <tr>\n",
       "      <th>2023-02-25</th>\n",
       "      <td>0</td>\n",
       "      <td>0</td>\n",
       "      <td>0</td>\n",
       "    </tr>\n",
       "    <tr>\n",
       "      <th>2023-02-26</th>\n",
       "      <td>0</td>\n",
       "      <td>0</td>\n",
       "      <td>0</td>\n",
       "    </tr>\n",
       "    <tr>\n",
       "      <th>2023-02-27</th>\n",
       "      <td>200.38</td>\n",
       "      <td>178.13</td>\n",
       "      <td>378.51</td>\n",
       "    </tr>\n",
       "    <tr>\n",
       "      <th>2023-02-28</th>\n",
       "      <td>57.21</td>\n",
       "      <td>0</td>\n",
       "      <td>57.21</td>\n",
       "    </tr>\n",
       "  </tbody>\n",
       "</table>\n",
       "</div>"
      ],
      "text/plain": [
       "           atelier supplier    total\n",
       "date                                \n",
       "2023-02-01       0   181.09   181.09\n",
       "2023-02-02       0  1478.15  1478.15\n",
       "2023-02-03  118.42   196.51   314.93\n",
       "2023-02-04       0        0        0\n",
       "2023-02-05       0        0        0\n",
       "2023-02-06       0   166.25   166.25\n",
       "2023-02-07   25.65  1231.45  1257.10\n",
       "2023-02-08       0  1727.81  1727.81\n",
       "2023-02-09       0        0        0\n",
       "2023-02-10  326.82   212.32   539.14\n",
       "2023-02-11       0        0        0\n",
       "2023-02-12       0        0        0\n",
       "2023-02-13       0  1149.34  1149.34\n",
       "2023-02-14  420.82   208.77   629.59\n",
       "2023-02-15       0   651.83   651.83\n",
       "2023-02-16       0  1316.98  1316.98\n",
       "2023-02-17       0   217.57   217.57\n",
       "2023-02-18       0        0        0\n",
       "2023-02-19       0        0        0\n",
       "2023-02-20       0   946.11   946.11\n",
       "2023-02-21       0   211.60   211.60\n",
       "2023-02-22       0   876.62   876.62\n",
       "2023-02-23       0   925.79   925.79\n",
       "2023-02-24  179.93   184.64   364.57\n",
       "2023-02-25       0        0        0\n",
       "2023-02-26       0        0        0\n",
       "2023-02-27  200.38   178.13   378.51\n",
       "2023-02-28   57.21        0    57.21"
      ]
     },
     "execution_count": 19,
     "metadata": {},
     "output_type": "execute_result"
    }
   ],
   "source": [
    "foodcosts"
   ]
  },
  {
   "cell_type": "code",
   "execution_count": 20,
   "id": "6b4be3f6",
   "metadata": {},
   "outputs": [
    {
     "data": {
      "text/plain": [
       "atelier      1329.23\n",
       "supplier    12060.96\n",
       "total       13390.19\n",
       "dtype: object"
      ]
     },
     "execution_count": 20,
     "metadata": {},
     "output_type": "execute_result"
    }
   ],
   "source": [
    "foodcosts.sum()"
   ]
  },
  {
   "cell_type": "code",
   "execution_count": 37,
   "id": "dc6b5db8",
   "metadata": {},
   "outputs": [],
   "source": [
    "FULLY_LOADED_COST_HOURS = 30 \n",
    "\n",
    "# month: 2023-02\n",
    "# returns the start and end day for a given month (format YYYY-MM-DD)\n",
    "def get_start_and_end_day_for_month(month):\n",
    "    days_in_month = get_days_in_month(month)\n",
    "    return days_in_month[0], days_in_month[-1]\n",
    "\n",
    "def get_gross_margin_for_month(month, shop_name):\n",
    "    start_date, end_date = get_start_and_end_day_for_month(month)\n",
    "    foodcosts = core.get_food_costs_for_period_for_resto_per_day(start_date, end_date, shop_name)\n",
    "    foodcosts.index = foodcosts['date']\n",
    "    foodcosts = foodcosts.drop('date', axis=1)\n",
    "    sales = core.get_sales_for_period_for_corporate_restaurant_per_day(start_date, end_date, shop_name)\n",
    "    total_hours = get_hours_worked_for_a_shop_in_a_month(core.get_corporate_restaurant_id(shop_name), month)\n",
    "    total_sales = sales['total_sales'].sum()\n",
    "    total_foodcosts = foodcosts['total'].sum()\n",
    "    gross_margin = float(total_sales) - float(total_foodcosts) - FULLY_LOADED_COST_HOURS * total_hours\n",
    "    return {\n",
    "        \"gross_margin\": gross_margin,\n",
    "        \"total_hours\": total_hours,\n",
    "        \"total_sales\": sales['total_sales'].sum(),\n",
    "        \"total_foodcosts\": foodcosts['total'].sum(),\n",
    "        \"total_foodcosts_atelier\": foodcosts['atelier'].sum(),\n",
    "        \"total_foodcosts_supplier\": foodcosts['supplier'].sum(),\n",
    "    }"
   ]
  },
  {
   "cell_type": "code",
   "execution_count": 38,
   "id": "85c8b344",
   "metadata": {},
   "outputs": [
    {
     "name": "stdout",
     "output_type": "stream",
     "text": [
      "config.ini file available... using that\n",
      "config.ini file available... using that\n",
      "config.ini file available... using that\n",
      "config.ini file available... using that\n"
     ]
    },
    {
     "data": {
      "text/plain": [
       "{'gross_margin': 26212.807259999994,\n",
       " 'total_hours': 587.0666666666666,\n",
       " 'total_sales': 57214.99726,\n",
       " 'total_foodcosts': Decimal('13390.19'),\n",
       " 'total_foodcosts_atelier': Decimal('1329.23'),\n",
       " 'total_foodcosts_supplier': Decimal('12060.96')}"
      ]
     },
     "execution_count": 38,
     "metadata": {},
     "output_type": "execute_result"
    }
   ],
   "source": [
    "get_gross_margin_for_month(\"2023-02\",\"R.E ALOST\")\n"
   ]
  },
  {
   "cell_type": "code",
   "execution_count": 70,
   "id": "8eccda1e",
   "metadata": {},
   "outputs": [
    {
     "name": "stdout",
     "output_type": "stream",
     "text": [
      "config.ini file available... using that\n",
      "config.ini file available... using that\n",
      "config.ini file available... using that\n",
      "config.ini file available... using that\n",
      "shop R.E. GLAVERBEL gross margins:\n",
      "{'gross_margin': 11600.679549999993, 'total_hours': 574.8833333333334, 'total_sales': 51884.33955, 'total_foodcosts': Decimal('23037.16'), 'total_foodcosts_atelier': Decimal('12083.48'), 'total_foodcosts_supplier': Decimal('10953.68')}\n"
     ]
    }
   ],
   "source": [
    "# shop_names = core.get_corporate_restaurants()\n",
    "shop_names = ['R.E. GLAVERBEL']\n",
    "# shop_stats = {}\n",
    "for shop_name in shop_names:\n",
    "    gross_margin = get_gross_margin_for_month(\"2023-02\", shop_name)\n",
    "    print('shop ' + shop_name + ' gross margins:')\n",
    "    print(gross_margin)\n",
    "    shop_stats[shop_name] = gross_margin"
   ]
  },
  {
   "cell_type": "code",
   "execution_count": 71,
   "id": "7dc2e2b1",
   "metadata": {
    "scrolled": true
   },
   "outputs": [],
   "source": [
    "df = pd.DataFrame.from_dict(shop_stats, orient='index').round(2)"
   ]
  },
  {
   "cell_type": "code",
   "execution_count": 72,
   "id": "fc5e10ce",
   "metadata": {},
   "outputs": [
    {
     "data": {
      "text/html": [
       "<div>\n",
       "<style scoped>\n",
       "    .dataframe tbody tr th:only-of-type {\n",
       "        vertical-align: middle;\n",
       "    }\n",
       "\n",
       "    .dataframe tbody tr th {\n",
       "        vertical-align: top;\n",
       "    }\n",
       "\n",
       "    .dataframe thead th {\n",
       "        text-align: right;\n",
       "    }\n",
       "</style>\n",
       "<table border=\"1\" class=\"dataframe\">\n",
       "  <thead>\n",
       "    <tr style=\"text-align: right;\">\n",
       "      <th></th>\n",
       "      <th>gross_margin</th>\n",
       "      <th>total_hours</th>\n",
       "      <th>total_sales</th>\n",
       "      <th>total_foodcosts</th>\n",
       "      <th>total_foodcosts_atelier</th>\n",
       "      <th>total_foodcosts_supplier</th>\n",
       "    </tr>\n",
       "  </thead>\n",
       "  <tbody>\n",
       "    <tr>\n",
       "      <th>R.E. CEFIC</th>\n",
       "      <td>-15857.62</td>\n",
       "      <td>289.80</td>\n",
       "      <td>8953.16</td>\n",
       "      <td>16116.78</td>\n",
       "      <td>12477.63</td>\n",
       "      <td>3639.15</td>\n",
       "    </tr>\n",
       "    <tr>\n",
       "      <th>R.E LHOIST LIMELETTE</th>\n",
       "      <td>-15176.90</td>\n",
       "      <td>202.12</td>\n",
       "      <td>3683.35</td>\n",
       "      <td>12796.75</td>\n",
       "      <td>11673.59</td>\n",
       "      <td>1123.16</td>\n",
       "    </tr>\n",
       "    <tr>\n",
       "      <th>R.E. LHOIST CORBAIS</th>\n",
       "      <td>-14390.05</td>\n",
       "      <td>244.17</td>\n",
       "      <td>5241.16</td>\n",
       "      <td>12306.21</td>\n",
       "      <td>10633.40</td>\n",
       "      <td>1672.81</td>\n",
       "    </tr>\n",
       "    <tr>\n",
       "      <th>R.E. ALLEN &amp; OVERY</th>\n",
       "      <td>-8521.20</td>\n",
       "      <td>303.78</td>\n",
       "      <td>5894.24</td>\n",
       "      <td>5301.94</td>\n",
       "      <td>3583.22</td>\n",
       "      <td>1718.72</td>\n",
       "    </tr>\n",
       "    <tr>\n",
       "      <th>R.E LHOIST NIVELLES</th>\n",
       "      <td>-7921.36</td>\n",
       "      <td>133.40</td>\n",
       "      <td>1848.87</td>\n",
       "      <td>5768.23</td>\n",
       "      <td>5184.39</td>\n",
       "      <td>583.84</td>\n",
       "    </tr>\n",
       "    <tr>\n",
       "      <th>Immogra Park7</th>\n",
       "      <td>-6233.23</td>\n",
       "      <td>142.10</td>\n",
       "      <td>5491.49</td>\n",
       "      <td>7461.72</td>\n",
       "      <td>6824.70</td>\n",
       "      <td>637.02</td>\n",
       "    </tr>\n",
       "    <tr>\n",
       "      <th>ARAMIS</th>\n",
       "      <td>-2278.40</td>\n",
       "      <td>112.08</td>\n",
       "      <td>9658.66</td>\n",
       "      <td>8574.56</td>\n",
       "      <td>7591.45</td>\n",
       "      <td>983.11</td>\n",
       "    </tr>\n",
       "    <tr>\n",
       "      <th>R.E WPP</th>\n",
       "      <td>-813.88</td>\n",
       "      <td>143.82</td>\n",
       "      <td>7606.11</td>\n",
       "      <td>4105.49</td>\n",
       "      <td>2976.95</td>\n",
       "      <td>1128.54</td>\n",
       "    </tr>\n",
       "    <tr>\n",
       "      <th>R.E LIGHTHOUSE</th>\n",
       "      <td>1405.38</td>\n",
       "      <td>126.18</td>\n",
       "      <td>9685.41</td>\n",
       "      <td>4494.53</td>\n",
       "      <td>2779.05</td>\n",
       "      <td>1715.48</td>\n",
       "    </tr>\n",
       "    <tr>\n",
       "      <th>R.E. JanDeNul</th>\n",
       "      <td>5011.77</td>\n",
       "      <td>0.00</td>\n",
       "      <td>10261.40</td>\n",
       "      <td>5249.63</td>\n",
       "      <td>5249.63</td>\n",
       "      <td>0</td>\n",
       "    </tr>\n",
       "    <tr>\n",
       "      <th>R.E THE HIVE</th>\n",
       "      <td>5465.70</td>\n",
       "      <td>317.20</td>\n",
       "      <td>26614.97</td>\n",
       "      <td>11633.27</td>\n",
       "      <td>4699.20</td>\n",
       "      <td>6934.07</td>\n",
       "    </tr>\n",
       "    <tr>\n",
       "      <th>BOTANIC TOWER</th>\n",
       "      <td>5997.42</td>\n",
       "      <td>276.25</td>\n",
       "      <td>24891.81</td>\n",
       "      <td>10606.89</td>\n",
       "      <td>2850.73</td>\n",
       "      <td>7756.16</td>\n",
       "    </tr>\n",
       "    <tr>\n",
       "      <th>R.E. GLAVERBEL</th>\n",
       "      <td>11600.68</td>\n",
       "      <td>574.88</td>\n",
       "      <td>51884.34</td>\n",
       "      <td>23037.16</td>\n",
       "      <td>12083.48</td>\n",
       "      <td>10953.68</td>\n",
       "    </tr>\n",
       "    <tr>\n",
       "      <th>R.E ENGIE</th>\n",
       "      <td>14152.01</td>\n",
       "      <td>787.30</td>\n",
       "      <td>75133.51</td>\n",
       "      <td>37362.50</td>\n",
       "      <td>20214.37</td>\n",
       "      <td>17148.13</td>\n",
       "    </tr>\n",
       "    <tr>\n",
       "      <th>R.E EUROCONTROL</th>\n",
       "      <td>19779.01</td>\n",
       "      <td>382.88</td>\n",
       "      <td>52460.44</td>\n",
       "      <td>21194.93</td>\n",
       "      <td>13441.45</td>\n",
       "      <td>7753.48</td>\n",
       "    </tr>\n",
       "    <tr>\n",
       "      <th>R.E. ZAVENTEM</th>\n",
       "      <td>21645.35</td>\n",
       "      <td>765.75</td>\n",
       "      <td>61359.38</td>\n",
       "      <td>16741.53</td>\n",
       "      <td>5426.79</td>\n",
       "      <td>11314.74</td>\n",
       "    </tr>\n",
       "    <tr>\n",
       "      <th>R.E ALOST</th>\n",
       "      <td>26212.81</td>\n",
       "      <td>587.07</td>\n",
       "      <td>57215.00</td>\n",
       "      <td>13390.19</td>\n",
       "      <td>1329.23</td>\n",
       "      <td>12060.96</td>\n",
       "    </tr>\n",
       "  </tbody>\n",
       "</table>\n",
       "</div>"
      ],
      "text/plain": [
       "                      gross_margin  total_hours  total_sales total_foodcosts  \\\n",
       "R.E. CEFIC               -15857.62       289.80      8953.16        16116.78   \n",
       "R.E LHOIST LIMELETTE     -15176.90       202.12      3683.35        12796.75   \n",
       "R.E. LHOIST CORBAIS      -14390.05       244.17      5241.16        12306.21   \n",
       "R.E. ALLEN & OVERY        -8521.20       303.78      5894.24         5301.94   \n",
       "R.E LHOIST NIVELLES       -7921.36       133.40      1848.87         5768.23   \n",
       "Immogra Park7             -6233.23       142.10      5491.49         7461.72   \n",
       "ARAMIS                    -2278.40       112.08      9658.66         8574.56   \n",
       "R.E WPP                    -813.88       143.82      7606.11         4105.49   \n",
       "R.E LIGHTHOUSE             1405.38       126.18      9685.41         4494.53   \n",
       "R.E. JanDeNul              5011.77         0.00     10261.40         5249.63   \n",
       "R.E THE HIVE               5465.70       317.20     26614.97        11633.27   \n",
       "BOTANIC TOWER              5997.42       276.25     24891.81        10606.89   \n",
       "R.E. GLAVERBEL            11600.68       574.88     51884.34        23037.16   \n",
       "R.E ENGIE                 14152.01       787.30     75133.51        37362.50   \n",
       "R.E EUROCONTROL           19779.01       382.88     52460.44        21194.93   \n",
       "R.E. ZAVENTEM             21645.35       765.75     61359.38        16741.53   \n",
       "R.E ALOST                 26212.81       587.07     57215.00        13390.19   \n",
       "\n",
       "                     total_foodcosts_atelier total_foodcosts_supplier  \n",
       "R.E. CEFIC                          12477.63                  3639.15  \n",
       "R.E LHOIST LIMELETTE                11673.59                  1123.16  \n",
       "R.E. LHOIST CORBAIS                 10633.40                  1672.81  \n",
       "R.E. ALLEN & OVERY                   3583.22                  1718.72  \n",
       "R.E LHOIST NIVELLES                  5184.39                   583.84  \n",
       "Immogra Park7                        6824.70                   637.02  \n",
       "ARAMIS                               7591.45                   983.11  \n",
       "R.E WPP                              2976.95                  1128.54  \n",
       "R.E LIGHTHOUSE                       2779.05                  1715.48  \n",
       "R.E. JanDeNul                        5249.63                        0  \n",
       "R.E THE HIVE                         4699.20                  6934.07  \n",
       "BOTANIC TOWER                        2850.73                  7756.16  \n",
       "R.E. GLAVERBEL                      12083.48                 10953.68  \n",
       "R.E ENGIE                           20214.37                 17148.13  \n",
       "R.E EUROCONTROL                     13441.45                  7753.48  \n",
       "R.E. ZAVENTEM                        5426.79                 11314.74  \n",
       "R.E ALOST                            1329.23                 12060.96  "
      ]
     },
     "metadata": {},
     "output_type": "display_data"
    }
   ],
   "source": [
    "display(df.sort_values('gross_margin'))"
   ]
  },
  {
   "cell_type": "code",
   "execution_count": 74,
   "id": "4357f71c",
   "metadata": {},
   "outputs": [],
   "source": [
    "df['gross_margin_pct'] = (df['gross_margin'] / df['total_sales'] * 100).round(0)"
   ]
  },
  {
   "cell_type": "code",
   "execution_count": 75,
   "id": "d4ad9140",
   "metadata": {},
   "outputs": [],
   "source": [
    "# convert decimal to float\n",
    "df['total_foodcosts_atelier'] = df['total_foodcosts_atelier'].astype(float)\n",
    "df['total_foodcosts_supplier'] = df['total_foodcosts_supplier'].astype(float)"
   ]
  },
  {
   "cell_type": "code",
   "execution_count": 76,
   "id": "ad40a982",
   "metadata": {},
   "outputs": [
    {
     "data": {
      "text/html": [
       "<div>\n",
       "<style scoped>\n",
       "    .dataframe tbody tr th:only-of-type {\n",
       "        vertical-align: middle;\n",
       "    }\n",
       "\n",
       "    .dataframe tbody tr th {\n",
       "        vertical-align: top;\n",
       "    }\n",
       "\n",
       "    .dataframe thead th {\n",
       "        text-align: right;\n",
       "    }\n",
       "</style>\n",
       "<table border=\"1\" class=\"dataframe\">\n",
       "  <thead>\n",
       "    <tr style=\"text-align: right;\">\n",
       "      <th></th>\n",
       "      <th>gross_margin_pct</th>\n",
       "      <th>foodcosts_atelier_pct</th>\n",
       "      <th>foodcosts_supplier_pct</th>\n",
       "      <th>wage_cost_pct</th>\n",
       "    </tr>\n",
       "  </thead>\n",
       "  <tbody>\n",
       "    <tr>\n",
       "      <th>R.E. JanDeNul</th>\n",
       "      <td>49.0</td>\n",
       "      <td>51.0</td>\n",
       "      <td>0.0</td>\n",
       "      <td>0.0</td>\n",
       "    </tr>\n",
       "    <tr>\n",
       "      <th>R.E ALOST</th>\n",
       "      <td>46.0</td>\n",
       "      <td>2.0</td>\n",
       "      <td>21.0</td>\n",
       "      <td>31.0</td>\n",
       "    </tr>\n",
       "    <tr>\n",
       "      <th>R.E EUROCONTROL</th>\n",
       "      <td>38.0</td>\n",
       "      <td>26.0</td>\n",
       "      <td>15.0</td>\n",
       "      <td>22.0</td>\n",
       "    </tr>\n",
       "    <tr>\n",
       "      <th>R.E. ZAVENTEM</th>\n",
       "      <td>35.0</td>\n",
       "      <td>9.0</td>\n",
       "      <td>18.0</td>\n",
       "      <td>37.0</td>\n",
       "    </tr>\n",
       "    <tr>\n",
       "      <th>BOTANIC TOWER</th>\n",
       "      <td>24.0</td>\n",
       "      <td>11.0</td>\n",
       "      <td>31.0</td>\n",
       "      <td>33.0</td>\n",
       "    </tr>\n",
       "    <tr>\n",
       "      <th>R.E. GLAVERBEL</th>\n",
       "      <td>22.0</td>\n",
       "      <td>23.0</td>\n",
       "      <td>21.0</td>\n",
       "      <td>33.0</td>\n",
       "    </tr>\n",
       "    <tr>\n",
       "      <th>R.E THE HIVE</th>\n",
       "      <td>21.0</td>\n",
       "      <td>18.0</td>\n",
       "      <td>26.0</td>\n",
       "      <td>36.0</td>\n",
       "    </tr>\n",
       "    <tr>\n",
       "      <th>R.E ENGIE</th>\n",
       "      <td>19.0</td>\n",
       "      <td>27.0</td>\n",
       "      <td>23.0</td>\n",
       "      <td>31.0</td>\n",
       "    </tr>\n",
       "    <tr>\n",
       "      <th>R.E LIGHTHOUSE</th>\n",
       "      <td>15.0</td>\n",
       "      <td>29.0</td>\n",
       "      <td>18.0</td>\n",
       "      <td>39.0</td>\n",
       "    </tr>\n",
       "    <tr>\n",
       "      <th>R.E WPP</th>\n",
       "      <td>-11.0</td>\n",
       "      <td>39.0</td>\n",
       "      <td>15.0</td>\n",
       "      <td>57.0</td>\n",
       "    </tr>\n",
       "    <tr>\n",
       "      <th>ARAMIS</th>\n",
       "      <td>-24.0</td>\n",
       "      <td>79.0</td>\n",
       "      <td>10.0</td>\n",
       "      <td>35.0</td>\n",
       "    </tr>\n",
       "    <tr>\n",
       "      <th>Immogra Park7</th>\n",
       "      <td>-114.0</td>\n",
       "      <td>124.0</td>\n",
       "      <td>12.0</td>\n",
       "      <td>78.0</td>\n",
       "    </tr>\n",
       "    <tr>\n",
       "      <th>R.E. ALLEN &amp; OVERY</th>\n",
       "      <td>-145.0</td>\n",
       "      <td>61.0</td>\n",
       "      <td>29.0</td>\n",
       "      <td>155.0</td>\n",
       "    </tr>\n",
       "    <tr>\n",
       "      <th>R.E. CEFIC</th>\n",
       "      <td>-177.0</td>\n",
       "      <td>139.0</td>\n",
       "      <td>41.0</td>\n",
       "      <td>97.0</td>\n",
       "    </tr>\n",
       "    <tr>\n",
       "      <th>R.E. LHOIST CORBAIS</th>\n",
       "      <td>-275.0</td>\n",
       "      <td>203.0</td>\n",
       "      <td>32.0</td>\n",
       "      <td>140.0</td>\n",
       "    </tr>\n",
       "    <tr>\n",
       "      <th>R.E LHOIST LIMELETTE</th>\n",
       "      <td>-412.0</td>\n",
       "      <td>317.0</td>\n",
       "      <td>30.0</td>\n",
       "      <td>165.0</td>\n",
       "    </tr>\n",
       "    <tr>\n",
       "      <th>R.E LHOIST NIVELLES</th>\n",
       "      <td>-428.0</td>\n",
       "      <td>280.0</td>\n",
       "      <td>32.0</td>\n",
       "      <td>216.0</td>\n",
       "    </tr>\n",
       "  </tbody>\n",
       "</table>\n",
       "</div>"
      ],
      "text/plain": [
       "                      gross_margin_pct  foodcosts_atelier_pct  \\\n",
       "R.E. JanDeNul                     49.0                   51.0   \n",
       "R.E ALOST                         46.0                    2.0   \n",
       "R.E EUROCONTROL                   38.0                   26.0   \n",
       "R.E. ZAVENTEM                     35.0                    9.0   \n",
       "BOTANIC TOWER                     24.0                   11.0   \n",
       "R.E. GLAVERBEL                    22.0                   23.0   \n",
       "R.E THE HIVE                      21.0                   18.0   \n",
       "R.E ENGIE                         19.0                   27.0   \n",
       "R.E LIGHTHOUSE                    15.0                   29.0   \n",
       "R.E WPP                          -11.0                   39.0   \n",
       "ARAMIS                           -24.0                   79.0   \n",
       "Immogra Park7                   -114.0                  124.0   \n",
       "R.E. ALLEN & OVERY              -145.0                   61.0   \n",
       "R.E. CEFIC                      -177.0                  139.0   \n",
       "R.E. LHOIST CORBAIS             -275.0                  203.0   \n",
       "R.E LHOIST LIMELETTE            -412.0                  317.0   \n",
       "R.E LHOIST NIVELLES             -428.0                  280.0   \n",
       "\n",
       "                      foodcosts_supplier_pct  wage_cost_pct  \n",
       "R.E. JanDeNul                            0.0            0.0  \n",
       "R.E ALOST                               21.0           31.0  \n",
       "R.E EUROCONTROL                         15.0           22.0  \n",
       "R.E. ZAVENTEM                           18.0           37.0  \n",
       "BOTANIC TOWER                           31.0           33.0  \n",
       "R.E. GLAVERBEL                          21.0           33.0  \n",
       "R.E THE HIVE                            26.0           36.0  \n",
       "R.E ENGIE                               23.0           31.0  \n",
       "R.E LIGHTHOUSE                          18.0           39.0  \n",
       "R.E WPP                                 15.0           57.0  \n",
       "ARAMIS                                  10.0           35.0  \n",
       "Immogra Park7                           12.0           78.0  \n",
       "R.E. ALLEN & OVERY                      29.0          155.0  \n",
       "R.E. CEFIC                              41.0           97.0  \n",
       "R.E. LHOIST CORBAIS                     32.0          140.0  \n",
       "R.E LHOIST LIMELETTE                    30.0          165.0  \n",
       "R.E LHOIST NIVELLES                     32.0          216.0  "
      ]
     },
     "metadata": {},
     "output_type": "display_data"
    }
   ],
   "source": [
    "df_pct = df.copy()\n",
    "df_pct['gross_margin_pct'] = (df['gross_margin'] / df['total_sales'] * 100).round(0)\n",
    "# create a dataframe with the gross margin percentage, % of foodcosts atelier and % of foodcosts supplier\n",
    "df_pct['foodcosts_atelier_pct'] = (df_pct['total_foodcosts_atelier'] / df_pct['total_sales'] * 100).round(0)\n",
    "df_pct['foodcosts_supplier_pct'] = (df_pct['total_foodcosts_supplier'] / df_pct['total_sales'] * 100).round(0)\n",
    "df_pct['wage_cost_pct'] = (df_pct['total_hours'] * FULLY_LOADED_COST_HOURS / df_pct['total_sales'] * 100).round(0)\n",
    "\n",
    "df_pct = df_pct[['gross_margin_pct', 'foodcosts_atelier_pct', 'foodcosts_supplier_pct', 'wage_cost_pct']]\n",
    "# sort by gross margin percentage\n",
    "df_pct = df_pct.sort_values(by=['gross_margin_pct'], ascending=False)\n",
    "# show all columns except gross_margin_pct and wage_cost_pct\n",
    "\n",
    "# display(df_pct[['foodcosts_atelier_pct', 'foodcosts_supplier_pct']])\n",
    "display(df_pct)"
   ]
  },
  {
   "cell_type": "code",
   "execution_count": 77,
   "id": "3a21e72c",
   "metadata": {
    "scrolled": true
   },
   "outputs": [
    {
     "name": "stdout",
     "output_type": "stream",
     "text": [
      "\u001b[33mDEPRECATION: Configuring installation scheme with distutils config files is deprecated and will no longer work in the near future. If you are using a Homebrew or Linuxbrew Python, please see discussion at https://github.com/Homebrew/homebrew-core/issues/76621\u001b[0m\u001b[33m\n",
      "\u001b[0mCollecting tabulate\n",
      "  Using cached tabulate-0.9.0-py3-none-any.whl (35 kB)\n",
      "Installing collected packages: tabulate\n",
      "\u001b[33m  DEPRECATION: Configuring installation scheme with distutils config files is deprecated and will no longer work in the near future. If you are using a Homebrew or Linuxbrew Python, please see discussion at https://github.com/Homebrew/homebrew-core/issues/76621\u001b[0m\u001b[33m\n",
      "\u001b[0m\u001b[33mDEPRECATION: Configuring installation scheme with distutils config files is deprecated and will no longer work in the near future. If you are using a Homebrew or Linuxbrew Python, please see discussion at https://github.com/Homebrew/homebrew-core/issues/76621\u001b[0m\u001b[33m\n",
      "\u001b[0mSuccessfully installed tabulate-0.9.0\n",
      "\n",
      "\u001b[1m[\u001b[0m\u001b[34;49mnotice\u001b[0m\u001b[1;39;49m]\u001b[0m\u001b[39;49m A new release of pip available: \u001b[0m\u001b[31;49m22.3.1\u001b[0m\u001b[39;49m -> \u001b[0m\u001b[32;49m23.0.1\u001b[0m\n",
      "\u001b[1m[\u001b[0m\u001b[34;49mnotice\u001b[0m\u001b[1;39;49m]\u001b[0m\u001b[39;49m To update, run: \u001b[0m\u001b[32;49mpython3.9 -m pip install --upgrade pip\u001b[0m\n"
     ]
    }
   ],
   "source": [
    "!pip install tabulate"
   ]
  },
  {
   "cell_type": "code",
   "execution_count": 78,
   "id": "0b1bce94",
   "metadata": {},
   "outputs": [
    {
     "name": "stdout",
     "output_type": "stream",
     "text": [
      "|                      |   gross_margin_pct |   foodcosts_atelier_pct |   foodcosts_supplier_pct |   wage_cost_pct |\n",
      "|:---------------------|-------------------:|------------------------:|-------------------------:|----------------:|\n",
      "| R.E. JanDeNul        |                 49 |                      51 |                        0 |               0 |\n",
      "| R.E ALOST            |                 46 |                       2 |                       21 |              31 |\n",
      "| R.E EUROCONTROL      |                 38 |                      26 |                       15 |              22 |\n",
      "| R.E. ZAVENTEM        |                 35 |                       9 |                       18 |              37 |\n",
      "| BOTANIC TOWER        |                 24 |                      11 |                       31 |              33 |\n",
      "| R.E. GLAVERBEL       |                 22 |                      23 |                       21 |              33 |\n",
      "| R.E THE HIVE         |                 21 |                      18 |                       26 |              36 |\n",
      "| R.E ENGIE            |                 19 |                      27 |                       23 |              31 |\n",
      "| R.E LIGHTHOUSE       |                 15 |                      29 |                       18 |              39 |\n",
      "| R.E WPP              |                -11 |                      39 |                       15 |              57 |\n",
      "| ARAMIS               |                -24 |                      79 |                       10 |              35 |\n",
      "| Immogra Park7        |               -114 |                     124 |                       12 |              78 |\n",
      "| R.E. ALLEN & OVERY   |               -145 |                      61 |                       29 |             155 |\n",
      "| R.E. CEFIC           |               -177 |                     139 |                       41 |              97 |\n",
      "| R.E. LHOIST CORBAIS  |               -275 |                     203 |                       32 |             140 |\n",
      "| R.E LHOIST LIMELETTE |               -412 |                     317 |                       30 |             165 |\n",
      "| R.E LHOIST NIVELLES  |               -428 |                     280 |                       32 |             216 |\n"
     ]
    }
   ],
   "source": [
    "# create markdown table\n",
    "print(df_pct.to_markdown())"
   ]
  },
  {
   "cell_type": "code",
   "execution_count": null,
   "id": "a981e739",
   "metadata": {},
   "outputs": [],
   "source": []
  },
  {
   "cell_type": "code",
   "execution_count": null,
   "id": "a73d00af",
   "metadata": {},
   "outputs": [],
   "source": []
  },
  {
   "cell_type": "code",
   "execution_count": 23,
   "id": "a7c6ded3",
   "metadata": {},
   "outputs": [
    {
     "name": "stdout",
     "output_type": "stream",
     "text": [
      "config.ini file available... using that\n",
      "config.ini file available... using that\n",
      "config.ini file available... using that\n",
      "config.ini file available... using that\n",
      "200\n",
      "200\n",
      "200\n",
      "200\n",
      "200\n",
      "200\n",
      "200\n",
      "200\n",
      "200\n",
      "200\n",
      "200\n",
      "200\n",
      "200\n",
      "200\n",
      "200\n",
      "200\n",
      "200\n",
      "200\n",
      "200\n",
      "200\n",
      "200\n",
      "200\n",
      "200\n",
      "200\n",
      "200\n",
      "200\n",
      "200\n",
      "200\n"
     ]
    },
    {
     "data": {
      "text/plain": [
       "{'gross_margin': -3866.1100000000006,\n",
       " 'total_hours': 301.8,\n",
       " 'total_sales': 8256.74,\n",
       " 'total_foodcosts': 3068.85}"
      ]
     },
     "execution_count": 23,
     "metadata": {},
     "output_type": "execute_result"
    }
   ],
   "source": [
    "get_gross_margin_for_month(\"2023-02-01\", \"2023-02-28\", 'PAVLOVA BAR ANVERS')"
   ]
  },
  {
   "cell_type": "code",
   "execution_count": 27,
   "id": "3c0eca3a",
   "metadata": {},
   "outputs": [],
   "source": [
    "pavlova = {'gross_margin': -2357.1100000000006,\n",
    " 'total_hours': 301.8,\n",
    " 'total_sales': 8256.74,\n",
    " 'total_foodcosts': 3068.85}"
   ]
  },
  {
   "cell_type": "code",
   "execution_count": null,
   "id": "212fab4b",
   "metadata": {},
   "outputs": [],
   "source": []
  }
 ],
 "metadata": {
  "kernelspec": {
   "display_name": "Python 3 (ipykernel)",
   "language": "python",
   "name": "python3"
  },
  "language_info": {
   "codemirror_mode": {
    "name": "ipython",
    "version": 3
   },
   "file_extension": ".py",
   "mimetype": "text/x-python",
   "name": "python",
   "nbconvert_exporter": "python",
   "pygments_lexer": "ipython3",
   "version": "3.9.16"
  },
  "vscode": {
   "interpreter": {
    "hash": "7871963561cfaad4ef5ec16a286fe15767a2646c2c95ea7ad09ec496a8b46b54"
   }
  }
 },
 "nbformat": 4,
 "nbformat_minor": 5
}
