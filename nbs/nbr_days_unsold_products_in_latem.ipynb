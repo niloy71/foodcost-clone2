{
 "cells": [
  {
   "cell_type": "code",
   "execution_count": 2,
   "id": "b450e7ff",
   "metadata": {},
   "outputs": [],
   "source": [
    "#| export\n",
    "import pandas as pd\n",
    "import foodcosts.core as core\n",
    "import datetime"
   ]
  },
  {
   "cell_type": "code",
   "execution_count": 3,
   "id": "4087f557",
   "metadata": {},
   "outputs": [],
   "source": [
    "#| default_exp latem"
   ]
  },
  {
   "cell_type": "code",
   "execution_count": 4,
   "id": "499cd215",
   "metadata": {},
   "outputs": [
    {
     "data": {
      "text/plain": [
       "['La Hulpe',\n",
       " 'Fort Jaco',\n",
       " 'Woluwe',\n",
       " 'Tongres',\n",
       " 'Wemmel',\n",
       " 'CHATELAIN',\n",
       " 'OVERIJSE',\n",
       " 'LATEM']"
      ]
     },
     "execution_count": 4,
     "metadata": {},
     "output_type": "execute_result"
    }
   ],
   "source": [
    "core.get_shop_names()"
   ]
  },
  {
   "cell_type": "code",
   "execution_count": 38,
   "id": "d62c7869",
   "metadata": {},
   "outputs": [],
   "source": [
    "id_chocolate_mouse_85gr = 51176\n",
    "chocolate_mousses = [\n",
    "    19772,\n",
    "    id_chocolate_mouse_85gr\n",
    "]\n"
   ]
  },
  {
   "cell_type": "code",
   "execution_count": 39,
   "id": "d9a85ebb",
   "metadata": {},
   "outputs": [],
   "source": [
    "date_range = pd.date_range(\n",
    "    datetime.datetime.strptime('2022-10-12', '%Y-%m-%d').date(),\n",
    "    datetime.datetime.strptime('2022-10-13', '%Y-%m-%d').date()\n",
    ")"
   ]
  },
  {
   "cell_type": "code",
   "execution_count": 40,
   "id": "7c6024af",
   "metadata": {},
   "outputs": [
    {
     "data": {
      "text/plain": [
       "DatetimeIndex(['2022-10-12', '2022-10-13'], dtype='datetime64[ns]', freq='D')"
      ]
     },
     "execution_count": 40,
     "metadata": {},
     "output_type": "execute_result"
    }
   ],
   "source": [
    "date_range"
   ]
  },
  {
   "cell_type": "code",
   "execution_count": 41,
   "id": "f4322c1f",
   "metadata": {},
   "outputs": [],
   "source": [
    "def missing_sales(start_date, end_date, df):\n",
    "    date_range = pd.date_range(\n",
    "        datetime.datetime.strptime(start_date, '%Y-%m-%d').date() if isinstance(start_date, str) else start_date,\n",
    "        datetime.datetime.strptime(end_date, '%Y-%m-%d').date() if isinstance(end_date, str) else end_date\n",
    "    )\n",
    "    df_dates = list(set(df.index))\n",
    "    missing_dates = [d for d in date_range if d.date() not in df_dates]\n",
    "    return [str(d) for d in missing_dates]"
   ]
  },
  {
   "cell_type": "code",
   "execution_count": 46,
   "id": "aa3462e5",
   "metadata": {},
   "outputs": [
    {
     "name": "stdout",
     "output_type": "stream",
     "text": [
      "8\n",
      "8\n"
     ]
    }
   ],
   "source": [
    "def nbr_days_product_not_sold_this_month(product_id, shop_name):\n",
    "    today = datetime.date.today()\n",
    "    first_day = datetime.date(today.year, today.month, 1)\n",
    "    \n",
    "    chocolate_mouse = core.get_sales_by_day(\n",
    "        first_day.strftime('%Y-%m-%d'), \n",
    "        today.strftime('%Y-%m-%d'), \n",
    "        [shop_name], \n",
    "        product_id\n",
    "    )\n",
    "\n",
    "    chocolate_mouse_df = pd.DataFrame(\n",
    "        chocolate_mouse,\n",
    "        columns=['shop','date','product','qty_sold','rev']\n",
    "    )\n",
    "    chocolate_mouse_df.fillna(value=0, inplace=True)\n",
    "    chocolate_mouse_df.set_index('date', inplace=True)\n",
    "    \n",
    "    return missing_sales(\n",
    "        first_day,\n",
    "        today,\n",
    "        chocolate_mouse_df.loc[ chocolate_mouse_df['shop'] == shop_name]\n",
    "    )\n",
    "\n",
    "LATEM = nbr_days_product_not_sold_this_month(\n",
    "    product_id=id_chocolate_mouse_85gr,\n",
    "    shop_name='LATEM'\n",
    ")    \n",
    "\n",
    "WOLUWE = nbr_days_product_not_sold_this_month(\n",
    "    product_id=id_chocolate_mouse_85gr,\n",
    "    shop_name='Woluwe'\n",
    ")\n",
    "\n",
    "print(len(LATEM))\n",
    "print(len(WOLUWE))"
   ]
  },
  {
   "cell_type": "code",
   "execution_count": 15,
   "id": "7c3f590e",
   "metadata": {},
   "outputs": [],
   "source": [
    "def get_list_of_products_sold_for_given_date_and_shop(date, shop):\n",
    "    pass"
   ]
  },
  {
   "cell_type": "code",
   "execution_count": 35,
   "id": "cb831bf1",
   "metadata": {},
   "outputs": [],
   "source": [
    "def get_products_sold_for_a_shop(start_date, end_date, shop_name):\n",
    "    # Construct the SQL query\n",
    "    query = f\"\"\"\n",
    "        SELECT \n",
    "               v_shop.name AS shop_name, \n",
    "               DATE(v_pos_order.created_at) AS day, \n",
    "               v_product.id as product_id,\n",
    "               v_product.name AS product_name, \n",
    "               SUM(v_pos_order_line.quantity) AS units_sold, \n",
    "               SUM(v_pos_order_line.quantity * v_product.price) AS total_sales\n",
    "        FROM v_pos_order_line\n",
    "        LEFT JOIN v_product ON v_product.id = v_pos_order_line.product_id\n",
    "        LEFT JOIN v_pos_order ON v_pos_order.id = v_pos_order_line.order_id\n",
    "        LEFT JOIN v_pos_session ON v_pos_session.id = v_pos_order.session_id\n",
    "        LEFT JOIN v_pos ON v_pos.id = v_pos_session.pos_id\n",
    "        LEFT JOIN v_shop ON v_shop.id = v_pos.shop_id\n",
    "        WHERE v_pos_order.created_at BETWEEN '{start_date}' AND '{end_date}'\n",
    "          AND v_shop.name IN ('{shop_name}')\n",
    "        GROUP BY v_shop.id, v_shop.name, day, v_product.id, v_product.name\n",
    "        ORDER BY v_shop.name, day ASC;\n",
    "    \"\"\"\n",
    "    return pd.DataFrame(\n",
    "        [row for row in core.make_sql_query(query)], \n",
    "        columns = ['shop_name','day','product_id','product_name','units_sold','total_sales']\n",
    "    )"
   ]
  },
  {
   "cell_type": "code",
   "execution_count": 36,
   "id": "495cca30",
   "metadata": {},
   "outputs": [],
   "source": [
    "prods_sold = get_products_sold_for_a_shop(datetime.datetime.now() - datetime.timedelta(days=1), datetime.datetime.now(), 'Woluwe')"
   ]
  },
  {
   "cell_type": "code",
   "execution_count": 48,
   "id": "ab607601",
   "metadata": {},
   "outputs": [],
   "source": [
    "pd.set_option('display.max_rows', None)"
   ]
  },
  {
   "cell_type": "code",
   "execution_count": 49,
   "id": "f343a328",
   "metadata": {},
   "outputs": [
    {
     "data": {
      "text/html": [
       "<div>\n",
       "<style scoped>\n",
       "    .dataframe tbody tr th:only-of-type {\n",
       "        vertical-align: middle;\n",
       "    }\n",
       "\n",
       "    .dataframe tbody tr th {\n",
       "        vertical-align: top;\n",
       "    }\n",
       "\n",
       "    .dataframe thead th {\n",
       "        text-align: right;\n",
       "    }\n",
       "</style>\n",
       "<table border=\"1\" class=\"dataframe\">\n",
       "  <thead>\n",
       "    <tr style=\"text-align: right;\">\n",
       "      <th></th>\n",
       "      <th>shop_name</th>\n",
       "      <th>day</th>\n",
       "      <th>product_id</th>\n",
       "      <th>product_name</th>\n",
       "      <th>units_sold</th>\n",
       "      <th>total_sales</th>\n",
       "    </tr>\n",
       "  </thead>\n",
       "  <tbody>\n",
       "    <tr>\n",
       "      <th>35</th>\n",
       "      <td>Woluwe</td>\n",
       "      <td>2023-02-16</td>\n",
       "      <td>19723</td>\n",
       "      <td>TARTE MOELLEUX CHOCOLAT PORTION</td>\n",
       "      <td>1.000</td>\n",
       "      <td>4.55000</td>\n",
       "    </tr>\n",
       "    <tr>\n",
       "      <th>89</th>\n",
       "      <td>Woluwe</td>\n",
       "      <td>2023-02-16</td>\n",
       "      <td>49406</td>\n",
       "      <td>MELOCAKES ARTISANAL AU CHOCOLAT NOIR</td>\n",
       "      <td>1.000</td>\n",
       "      <td>7.3500000</td>\n",
       "    </tr>\n",
       "    <tr>\n",
       "      <th>97</th>\n",
       "      <td>Woluwe</td>\n",
       "      <td>2023-02-16</td>\n",
       "      <td>51176</td>\n",
       "      <td>MERVEILLEUX AU CHOCOLAT 110G</td>\n",
       "      <td>2.000</td>\n",
       "      <td>7.60000</td>\n",
       "    </tr>\n",
       "  </tbody>\n",
       "</table>\n",
       "</div>"
      ],
      "text/plain": [
       "   shop_name         day  product_id                           product_name  \\\n",
       "35    Woluwe  2023-02-16       19723        TARTE MOELLEUX CHOCOLAT PORTION   \n",
       "89    Woluwe  2023-02-16       49406  MELOCAKES ARTISANAL AU CHOCOLAT NOIR    \n",
       "97    Woluwe  2023-02-16       51176           MERVEILLEUX AU CHOCOLAT 110G   \n",
       "\n",
       "   units_sold total_sales  \n",
       "35      1.000     4.55000  \n",
       "89      1.000   7.3500000  \n",
       "97      2.000     7.60000  "
      ]
     },
     "metadata": {},
     "output_type": "display_data"
    }
   ],
   "source": [
    "# chocolate_prods = prods_sold[prods_sold['product'].str.contains(r'chocolate', case=False)]\n",
    "display(\n",
    "#     prods_sold.loc(prods_sold['product_name'])\n",
    "    prods_sold[prods_sold['product_name'].str.contains(r'choc', case=False)]\n",
    ")"
   ]
  },
  {
   "cell_type": "code",
   "execution_count": null,
   "id": "42c67e8b",
   "metadata": {},
   "outputs": [],
   "source": []
  }
 ],
 "metadata": {
  "kernelspec": {
   "display_name": "Python 3 (ipykernel)",
   "language": "python",
   "name": "python3"
  },
  "language_info": {
   "codemirror_mode": {
    "name": "ipython",
    "version": 3
   },
   "file_extension": ".py",
   "mimetype": "text/x-python",
   "name": "python",
   "nbconvert_exporter": "python",
   "pygments_lexer": "ipython3",
   "version": "3.9.9"
  }
 },
 "nbformat": 4,
 "nbformat_minor": 5
}
