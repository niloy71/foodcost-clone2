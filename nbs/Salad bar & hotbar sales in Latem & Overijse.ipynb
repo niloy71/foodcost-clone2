{
 "cells": [
  {
   "cell_type": "markdown",
   "id": "0bb26d0f",
   "metadata": {},
   "source": [
    "# what is selling the best salad bar or hotbar in Latem?"
   ]
  },
  {
   "cell_type": "code",
   "execution_count": 5,
   "id": "9dd38ce6",
   "metadata": {},
   "outputs": [],
   "source": [
    "import foodcosts.core as core"
   ]
  },
  {
   "cell_type": "code",
   "execution_count": 19,
   "id": "fdb42798",
   "metadata": {},
   "outputs": [
    {
     "name": "stdout",
     "output_type": "stream",
     "text": [
      "config.ini file available... using that\n"
     ]
    },
    {
     "data": {
      "text/plain": [
       "['La Hulpe',\n",
       " 'Fort Jaco',\n",
       " 'Woluwe',\n",
       " 'Tongres',\n",
       " 'Wemmel',\n",
       " 'CHATELAIN',\n",
       " 'OVERIJSE',\n",
       " 'LATEM']"
      ]
     },
     "execution_count": 19,
     "metadata": {},
     "output_type": "execute_result"
    }
   ],
   "source": [
    "core.get_shop_names()"
   ]
  },
  {
   "cell_type": "code",
   "execution_count": 22,
   "id": "b26cef84",
   "metadata": {},
   "outputs": [
    {
     "name": "stdout",
     "output_type": "stream",
     "text": [
      "hello\n"
     ]
    }
   ],
   "source": [
    "print('hello')"
   ]
  },
  {
   "cell_type": "code",
   "execution_count": null,
   "id": "c8149273",
   "metadata": {},
   "outputs": [],
   "source": []
  },
  {
   "cell_type": "code",
   "execution_count": 7,
   "id": "d71c8a85",
   "metadata": {},
   "outputs": [
    {
     "name": "stdout",
     "output_type": "stream",
     "text": [
      "config.ini file available... using that\n"
     ]
    }
   ],
   "source": [
    "prods_sold_latem = core.get_products_sold_for_a_shop('01-01-2022','01-04-2023', )"
   ]
  },
  {
   "cell_type": "code",
   "execution_count": 12,
   "id": "c74599d2",
   "metadata": {},
   "outputs": [
    {
     "data": {
      "text/plain": [
       "[]"
      ]
     },
     "metadata": {},
     "output_type": "display_data"
    }
   ],
   "source": [
    "display(prods_sold_latem)"
   ]
  },
  {
   "cell_type": "code",
   "execution_count": null,
   "id": "7f4eaa3f",
   "metadata": {},
   "outputs": [],
   "source": []
  },
  {
   "cell_type": "code",
   "execution_count": null,
   "id": "defdf1e4",
   "metadata": {},
   "outputs": [],
   "source": []
  },
  {
   "cell_type": "code",
   "execution_count": null,
   "id": "3f229473",
   "metadata": {},
   "outputs": [],
   "source": []
  },
  {
   "cell_type": "code",
   "execution_count": null,
   "id": "6f7a8e09",
   "metadata": {},
   "outputs": [],
   "source": []
  },
  {
   "cell_type": "code",
   "execution_count": null,
   "id": "2499b476",
   "metadata": {},
   "outputs": [],
   "source": []
  },
  {
   "cell_type": "code",
   "execution_count": null,
   "id": "db17d9f6",
   "metadata": {},
   "outputs": [],
   "source": []
  },
  {
   "cell_type": "code",
   "execution_count": null,
   "id": "6ea278f7",
   "metadata": {},
   "outputs": [],
   "source": []
  }
 ],
 "metadata": {
  "kernelspec": {
   "display_name": "Python 3 (ipykernel)",
   "language": "python",
   "name": "python3"
  },
  "language_info": {
   "codemirror_mode": {
    "name": "ipython",
    "version": 3
   },
   "file_extension": ".py",
   "mimetype": "text/x-python",
   "name": "python",
   "nbconvert_exporter": "python",
   "pygments_lexer": "ipython3",
   "version": "3.9.16"
  }
 },
 "nbformat": 4,
 "nbformat_minor": 5
}
